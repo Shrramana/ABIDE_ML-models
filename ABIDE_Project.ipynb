{
  "cells": [
    {
      "cell_type": "markdown",
      "source": [
        "Georgia Tech CSE7850 Machine Learning in Computational Biology Spring 2024"
      ],
      "metadata": {
        "id": "orTV9cH9MX8B"
      }
    },
    {
      "cell_type": "markdown",
      "source": [
        "Group 21 Members: Kyle Peters, Sophia Imhof, Shrramana Ganesh Sudhakar, Dan H Nguyen"
      ],
      "metadata": {
        "id": "QrKNl1_LMkDF"
      }
    },
    {
      "cell_type": "code",
      "execution_count": null,
      "metadata": {
        "colab": {
          "base_uri": "https://localhost:8080/"
        },
        "id": "nbb-0bl9KhHx",
        "outputId": "f920117a-ab42-4750-ed93-12eb3f4b70c3"
      },
      "outputs": [
        {
          "output_type": "stream",
          "name": "stdout",
          "text": [
            "\u001b[33mWARNING: Skipping tensorflow as it is not installed.\u001b[0m\u001b[33m\n",
            "\u001b[0mRequirement already satisfied: nilearn in /usr/local/lib/python3.10/dist-packages (0.10.4)\n",
            "Requirement already satisfied: joblib>=1.0.0 in /usr/local/lib/python3.10/dist-packages (from nilearn) (1.4.0)\n",
            "Requirement already satisfied: lxml in /usr/local/lib/python3.10/dist-packages (from nilearn) (4.9.4)\n",
            "Requirement already satisfied: nibabel>=4.0.0 in /usr/local/lib/python3.10/dist-packages (from nilearn) (4.0.2)\n",
            "Requirement already satisfied: numpy>=1.19.0 in /usr/local/lib/python3.10/dist-packages (from nilearn) (1.23.4)\n",
            "Requirement already satisfied: packaging in /usr/local/lib/python3.10/dist-packages (from nilearn) (24.0)\n",
            "Requirement already satisfied: pandas>=1.1.5 in /usr/local/lib/python3.10/dist-packages (from nilearn) (2.0.3)\n",
            "Requirement already satisfied: requests>=2.25.0 in /usr/local/lib/python3.10/dist-packages (from nilearn) (2.31.0)\n",
            "Requirement already satisfied: scikit-learn>=1.0.0 in /usr/local/lib/python3.10/dist-packages (from nilearn) (1.2.2)\n",
            "Requirement already satisfied: scipy>=1.8.0 in /usr/local/lib/python3.10/dist-packages (from nilearn) (1.11.4)\n",
            "Requirement already satisfied: setuptools in /usr/local/lib/python3.10/dist-packages (from nibabel>=4.0.0->nilearn) (67.7.2)\n",
            "Requirement already satisfied: python-dateutil>=2.8.2 in /usr/local/lib/python3.10/dist-packages (from pandas>=1.1.5->nilearn) (2.8.2)\n",
            "Requirement already satisfied: pytz>=2020.1 in /usr/local/lib/python3.10/dist-packages (from pandas>=1.1.5->nilearn) (2023.4)\n",
            "Requirement already satisfied: tzdata>=2022.1 in /usr/local/lib/python3.10/dist-packages (from pandas>=1.1.5->nilearn) (2024.1)\n",
            "Requirement already satisfied: charset-normalizer<4,>=2 in /usr/local/lib/python3.10/dist-packages (from requests>=2.25.0->nilearn) (3.3.2)\n",
            "Requirement already satisfied: idna<4,>=2.5 in /usr/local/lib/python3.10/dist-packages (from requests>=2.25.0->nilearn) (3.7)\n",
            "Requirement already satisfied: urllib3<3,>=1.21.1 in /usr/local/lib/python3.10/dist-packages (from requests>=2.25.0->nilearn) (2.0.7)\n",
            "Requirement already satisfied: certifi>=2017.4.17 in /usr/local/lib/python3.10/dist-packages (from requests>=2.25.0->nilearn) (2024.2.2)\n",
            "Requirement already satisfied: threadpoolctl>=2.0.0 in /usr/local/lib/python3.10/dist-packages (from scikit-learn>=1.0.0->nilearn) (3.4.0)\n",
            "Requirement already satisfied: six>=1.5 in /usr/local/lib/python3.10/dist-packages (from python-dateutil>=2.8.2->pandas>=1.1.5->nilearn) (1.16.0)\n",
            "Requirement already satisfied: deepdish in /usr/local/lib/python3.10/dist-packages (0.3.7)\n",
            "Requirement already satisfied: numpy in /usr/local/lib/python3.10/dist-packages (from deepdish) (1.23.4)\n",
            "Requirement already satisfied: scipy in /usr/local/lib/python3.10/dist-packages (from deepdish) (1.11.4)\n",
            "Requirement already satisfied: tables in /usr/local/lib/python3.10/dist-packages (from deepdish) (3.8.0)\n",
            "Requirement already satisfied: cython>=0.29.21 in /usr/local/lib/python3.10/dist-packages (from tables->deepdish) (3.0.10)\n",
            "Requirement already satisfied: numexpr>=2.6.2 in /usr/local/lib/python3.10/dist-packages (from tables->deepdish) (2.10.0)\n",
            "Requirement already satisfied: blosc2~=2.0.0 in /usr/local/lib/python3.10/dist-packages (from tables->deepdish) (2.0.0)\n",
            "Requirement already satisfied: packaging in /usr/local/lib/python3.10/dist-packages (from tables->deepdish) (24.0)\n",
            "Requirement already satisfied: py-cpuinfo in /usr/local/lib/python3.10/dist-packages (from tables->deepdish) (9.0.0)\n",
            "Requirement already satisfied: msgpack in /usr/local/lib/python3.10/dist-packages (from blosc2~=2.0.0->tables->deepdish) (1.0.8)\n",
            "Requirement already satisfied: torch_geometric==2.4.0 in /usr/local/lib/python3.10/dist-packages (2.4.0)\n",
            "Requirement already satisfied: tqdm in /usr/local/lib/python3.10/dist-packages (from torch_geometric==2.4.0) (4.66.2)\n",
            "Requirement already satisfied: numpy in /usr/local/lib/python3.10/dist-packages (from torch_geometric==2.4.0) (1.23.4)\n",
            "Requirement already satisfied: scipy in /usr/local/lib/python3.10/dist-packages (from torch_geometric==2.4.0) (1.11.4)\n",
            "Requirement already satisfied: jinja2 in /usr/local/lib/python3.10/dist-packages (from torch_geometric==2.4.0) (3.1.3)\n",
            "Requirement already satisfied: requests in /usr/local/lib/python3.10/dist-packages (from torch_geometric==2.4.0) (2.31.0)\n",
            "Requirement already satisfied: pyparsing in /usr/local/lib/python3.10/dist-packages (from torch_geometric==2.4.0) (3.1.2)\n",
            "Requirement already satisfied: scikit-learn in /usr/local/lib/python3.10/dist-packages (from torch_geometric==2.4.0) (1.2.2)\n",
            "Requirement already satisfied: psutil>=5.8.0 in /usr/local/lib/python3.10/dist-packages (from torch_geometric==2.4.0) (5.9.5)\n",
            "Requirement already satisfied: MarkupSafe>=2.0 in /usr/local/lib/python3.10/dist-packages (from jinja2->torch_geometric==2.4.0) (2.1.5)\n",
            "Requirement already satisfied: charset-normalizer<4,>=2 in /usr/local/lib/python3.10/dist-packages (from requests->torch_geometric==2.4.0) (3.3.2)\n",
            "Requirement already satisfied: idna<4,>=2.5 in /usr/local/lib/python3.10/dist-packages (from requests->torch_geometric==2.4.0) (3.7)\n",
            "Requirement already satisfied: urllib3<3,>=1.21.1 in /usr/local/lib/python3.10/dist-packages (from requests->torch_geometric==2.4.0) (2.0.7)\n",
            "Requirement already satisfied: certifi>=2017.4.17 in /usr/local/lib/python3.10/dist-packages (from requests->torch_geometric==2.4.0) (2024.2.2)\n",
            "Requirement already satisfied: joblib>=1.1.1 in /usr/local/lib/python3.10/dist-packages (from scikit-learn->torch_geometric==2.4.0) (1.4.0)\n",
            "Requirement already satisfied: threadpoolctl>=2.0.0 in /usr/local/lib/python3.10/dist-packages (from scikit-learn->torch_geometric==2.4.0) (3.4.0)\n",
            "Looking in links: https://data.pyg.org/whl/torch-2.1.0+cu121.html\n",
            "Requirement already satisfied: torch_scatter in /usr/local/lib/python3.10/dist-packages (2.1.2+pt21cu121)\n",
            "Requirement already satisfied: torch_sparse in /usr/local/lib/python3.10/dist-packages (0.6.18+pt21cu121)\n",
            "Requirement already satisfied: scipy in /usr/local/lib/python3.10/dist-packages (from torch_sparse) (1.11.4)\n",
            "Requirement already satisfied: numpy<1.28.0,>=1.21.6 in /usr/local/lib/python3.10/dist-packages (from scipy->torch_sparse) (1.23.4)\n",
            "Requirement already satisfied: numpy==1.23.4 in /usr/local/lib/python3.10/dist-packages (1.23.4)\n",
            "Requirement already satisfied: neptune in /usr/local/lib/python3.10/dist-packages (1.10.2)\n",
            "Requirement already satisfied: GitPython>=2.0.8 in /usr/local/lib/python3.10/dist-packages (from neptune) (3.1.43)\n",
            "Requirement already satisfied: Pillow>=1.1.6 in /usr/local/lib/python3.10/dist-packages (from neptune) (9.4.0)\n",
            "Requirement already satisfied: PyJWT in /usr/lib/python3/dist-packages (from neptune) (2.3.0)\n",
            "Requirement already satisfied: boto3>=1.28.0 in /usr/local/lib/python3.10/dist-packages (from neptune) (1.34.93)\n",
            "Requirement already satisfied: bravado<12.0.0,>=11.0.0 in /usr/local/lib/python3.10/dist-packages (from neptune) (11.0.3)\n",
            "Requirement already satisfied: click>=7.0 in /usr/local/lib/python3.10/dist-packages (from neptune) (8.1.7)\n",
            "Requirement already satisfied: future>=0.17.1 in /usr/local/lib/python3.10/dist-packages (from neptune) (0.18.3)\n",
            "Requirement already satisfied: oauthlib>=2.1.0 in /usr/local/lib/python3.10/dist-packages (from neptune) (3.2.2)\n",
            "Requirement already satisfied: packaging in /usr/local/lib/python3.10/dist-packages (from neptune) (24.0)\n",
            "Requirement already satisfied: pandas in /usr/local/lib/python3.10/dist-packages (from neptune) (2.0.3)\n",
            "Requirement already satisfied: psutil in /usr/local/lib/python3.10/dist-packages (from neptune) (5.9.5)\n",
            "Requirement already satisfied: requests>=2.20.0 in /usr/local/lib/python3.10/dist-packages (from neptune) (2.31.0)\n",
            "Requirement already satisfied: requests-oauthlib>=1.0.0 in /usr/local/lib/python3.10/dist-packages (from neptune) (1.3.1)\n",
            "Requirement already satisfied: six>=1.12.0 in /usr/local/lib/python3.10/dist-packages (from neptune) (1.16.0)\n",
            "Requirement already satisfied: swagger-spec-validator>=2.7.4 in /usr/local/lib/python3.10/dist-packages (from neptune) (3.0.3)\n",
            "Requirement already satisfied: typing-extensions>=3.10.0 in /usr/local/lib/python3.10/dist-packages (from neptune) (4.11.0)\n",
            "Requirement already satisfied: urllib3 in /usr/local/lib/python3.10/dist-packages (from neptune) (2.0.7)\n",
            "Requirement already satisfied: websocket-client!=1.0.0,>=0.35.0 in /usr/local/lib/python3.10/dist-packages (from neptune) (1.7.0)\n",
            "Requirement already satisfied: botocore<1.35.0,>=1.34.93 in /usr/local/lib/python3.10/dist-packages (from boto3>=1.28.0->neptune) (1.34.93)\n",
            "Requirement already satisfied: jmespath<2.0.0,>=0.7.1 in /usr/local/lib/python3.10/dist-packages (from boto3>=1.28.0->neptune) (1.0.1)\n",
            "Requirement already satisfied: s3transfer<0.11.0,>=0.10.0 in /usr/local/lib/python3.10/dist-packages (from boto3>=1.28.0->neptune) (0.10.1)\n",
            "Requirement already satisfied: bravado-core>=5.16.1 in /usr/local/lib/python3.10/dist-packages (from bravado<12.0.0,>=11.0.0->neptune) (6.1.1)\n",
            "Requirement already satisfied: msgpack in /usr/local/lib/python3.10/dist-packages (from bravado<12.0.0,>=11.0.0->neptune) (1.0.8)\n",
            "Requirement already satisfied: python-dateutil in /usr/local/lib/python3.10/dist-packages (from bravado<12.0.0,>=11.0.0->neptune) (2.8.2)\n",
            "Requirement already satisfied: pyyaml in /usr/local/lib/python3.10/dist-packages (from bravado<12.0.0,>=11.0.0->neptune) (6.0.1)\n",
            "Requirement already satisfied: simplejson in /usr/local/lib/python3.10/dist-packages (from bravado<12.0.0,>=11.0.0->neptune) (3.19.2)\n",
            "Requirement already satisfied: monotonic in /usr/local/lib/python3.10/dist-packages (from bravado<12.0.0,>=11.0.0->neptune) (1.6)\n",
            "Requirement already satisfied: gitdb<5,>=4.0.1 in /usr/local/lib/python3.10/dist-packages (from GitPython>=2.0.8->neptune) (4.0.11)\n",
            "Requirement already satisfied: charset-normalizer<4,>=2 in /usr/local/lib/python3.10/dist-packages (from requests>=2.20.0->neptune) (3.3.2)\n",
            "Requirement already satisfied: idna<4,>=2.5 in /usr/local/lib/python3.10/dist-packages (from requests>=2.20.0->neptune) (3.7)\n",
            "Requirement already satisfied: certifi>=2017.4.17 in /usr/local/lib/python3.10/dist-packages (from requests>=2.20.0->neptune) (2024.2.2)\n",
            "Requirement already satisfied: jsonschema in /usr/local/lib/python3.10/dist-packages (from swagger-spec-validator>=2.7.4->neptune) (4.19.2)\n",
            "Requirement already satisfied: pytz>=2020.1 in /usr/local/lib/python3.10/dist-packages (from pandas->neptune) (2023.4)\n",
            "Requirement already satisfied: tzdata>=2022.1 in /usr/local/lib/python3.10/dist-packages (from pandas->neptune) (2024.1)\n",
            "Requirement already satisfied: numpy>=1.21.0 in /usr/local/lib/python3.10/dist-packages (from pandas->neptune) (1.23.4)\n",
            "Requirement already satisfied: jsonref in /usr/local/lib/python3.10/dist-packages (from bravado-core>=5.16.1->bravado<12.0.0,>=11.0.0->neptune) (1.1.0)\n",
            "Requirement already satisfied: smmap<6,>=3.0.1 in /usr/local/lib/python3.10/dist-packages (from gitdb<5,>=4.0.1->GitPython>=2.0.8->neptune) (5.0.1)\n",
            "Requirement already satisfied: attrs>=22.2.0 in /usr/local/lib/python3.10/dist-packages (from jsonschema->swagger-spec-validator>=2.7.4->neptune) (23.2.0)\n",
            "Requirement already satisfied: jsonschema-specifications>=2023.03.6 in /usr/local/lib/python3.10/dist-packages (from jsonschema->swagger-spec-validator>=2.7.4->neptune) (2023.12.1)\n",
            "Requirement already satisfied: referencing>=0.28.4 in /usr/local/lib/python3.10/dist-packages (from jsonschema->swagger-spec-validator>=2.7.4->neptune) (0.34.0)\n",
            "Requirement already satisfied: rpds-py>=0.7.1 in /usr/local/lib/python3.10/dist-packages (from jsonschema->swagger-spec-validator>=2.7.4->neptune) (0.18.0)\n",
            "Requirement already satisfied: fqdn in /usr/local/lib/python3.10/dist-packages (from jsonschema->swagger-spec-validator>=2.7.4->neptune) (1.5.1)\n",
            "Requirement already satisfied: isoduration in /usr/local/lib/python3.10/dist-packages (from jsonschema->swagger-spec-validator>=2.7.4->neptune) (20.11.0)\n",
            "Requirement already satisfied: jsonpointer>1.13 in /usr/local/lib/python3.10/dist-packages (from jsonschema->swagger-spec-validator>=2.7.4->neptune) (2.4)\n",
            "Requirement already satisfied: rfc3339-validator in /usr/local/lib/python3.10/dist-packages (from jsonschema->swagger-spec-validator>=2.7.4->neptune) (0.1.4)\n",
            "Requirement already satisfied: rfc3986-validator>0.1.0 in /usr/local/lib/python3.10/dist-packages (from jsonschema->swagger-spec-validator>=2.7.4->neptune) (0.1.1)\n",
            "Requirement already satisfied: uri-template in /usr/local/lib/python3.10/dist-packages (from jsonschema->swagger-spec-validator>=2.7.4->neptune) (1.3.0)\n",
            "Requirement already satisfied: webcolors>=1.11 in /usr/local/lib/python3.10/dist-packages (from jsonschema->swagger-spec-validator>=2.7.4->neptune) (1.13)\n",
            "Requirement already satisfied: arrow>=0.15.0 in /usr/local/lib/python3.10/dist-packages (from isoduration->jsonschema->swagger-spec-validator>=2.7.4->neptune) (1.3.0)\n",
            "Requirement already satisfied: types-python-dateutil>=2.8.10 in /usr/local/lib/python3.10/dist-packages (from arrow>=0.15.0->isoduration->jsonschema->swagger-spec-validator>=2.7.4->neptune) (2.9.0.20240316)\n"
          ]
        }
      ],
      "source": [
        "!pip uninstall tensorflow\n",
        "!pip install nilearn\n",
        "!pip install deepdish\n",
        "!pip install torch_geometric==2.4.0\n",
        "!pip install torch_scatter torch_sparse -f https://data.pyg.org/whl/torch-2.1.0+cu121.html\n",
        "!pip install numpy==1.23.4\n",
        "!pip install neptune"
      ]
    },
    {
      "cell_type": "code",
      "execution_count": null,
      "metadata": {
        "colab": {
          "base_uri": "https://localhost:8080/"
        },
        "id": "EtObTf2FMR7x",
        "outputId": "7feb630e-33f7-4caf-a396-3b258996a825"
      },
      "outputs": [
        {
          "output_type": "stream",
          "name": "stdout",
          "text": [
            "Collecting BrainGB\n",
            "  Downloading BrainGB-1.0.4-py3-none-any.whl (18 kB)\n",
            "Requirement already satisfied: numpy>=1.19.5 in /usr/local/lib/python3.10/dist-packages (from BrainGB) (1.23.4)\n",
            "Requirement already satisfied: torch>=1.10.2 in /usr/local/lib/python3.10/dist-packages (from BrainGB) (2.2.1+cu121)\n",
            "Requirement already satisfied: scikit-learn>=0.24.2 in /usr/local/lib/python3.10/dist-packages (from BrainGB) (1.2.2)\n",
            "Requirement already satisfied: networkx>=2.5.1 in /usr/local/lib/python3.10/dist-packages (from BrainGB) (3.3)\n",
            "Collecting node2vec>=0.4.3 (from BrainGB)\n",
            "  Downloading node2vec-0.4.6-py3-none-any.whl (7.0 kB)\n",
            "Requirement already satisfied: scipy in /usr/local/lib/python3.10/dist-packages (from BrainGB) (1.11.4)\n",
            "Requirement already satisfied: torch-geometric in /usr/local/lib/python3.10/dist-packages (from BrainGB) (2.4.0)\n",
            "Requirement already satisfied: torch-scatter in /usr/local/lib/python3.10/dist-packages (from BrainGB) (2.1.2+pt21cu121)\n",
            "Requirement already satisfied: torch-sparse in /usr/local/lib/python3.10/dist-packages (from BrainGB) (0.6.18+pt21cu121)\n",
            "Requirement already satisfied: gensim<5.0.0,>=4.1.2 in /usr/local/lib/python3.10/dist-packages (from node2vec>=0.4.3->BrainGB) (4.3.2)\n",
            "Requirement already satisfied: joblib<2.0.0,>=1.1.0 in /usr/local/lib/python3.10/dist-packages (from node2vec>=0.4.3->BrainGB) (1.4.0)\n",
            "Collecting networkx>=2.5.1 (from BrainGB)\n",
            "  Downloading networkx-2.8.8-py3-none-any.whl (2.0 MB)\n",
            "\u001b[2K     \u001b[90m━━━━━━━━━━━━━━━━━━━━━━━━━━━━━━━━━━━━━━━━\u001b[0m \u001b[32m2.0/2.0 MB\u001b[0m \u001b[31m9.4 MB/s\u001b[0m eta \u001b[36m0:00:00\u001b[0m\n",
            "\u001b[?25hRequirement already satisfied: tqdm<5.0.0,>=4.55.1 in /usr/local/lib/python3.10/dist-packages (from node2vec>=0.4.3->BrainGB) (4.66.2)\n",
            "Requirement already satisfied: threadpoolctl>=2.0.0 in /usr/local/lib/python3.10/dist-packages (from scikit-learn>=0.24.2->BrainGB) (3.4.0)\n",
            "Requirement already satisfied: filelock in /usr/local/lib/python3.10/dist-packages (from torch>=1.10.2->BrainGB) (3.13.4)\n",
            "Requirement already satisfied: typing-extensions>=4.8.0 in /usr/local/lib/python3.10/dist-packages (from torch>=1.10.2->BrainGB) (4.11.0)\n",
            "Requirement already satisfied: sympy in /usr/local/lib/python3.10/dist-packages (from torch>=1.10.2->BrainGB) (1.12)\n",
            "Requirement already satisfied: jinja2 in /usr/local/lib/python3.10/dist-packages (from torch>=1.10.2->BrainGB) (3.1.3)\n",
            "Requirement already satisfied: fsspec in /usr/local/lib/python3.10/dist-packages (from torch>=1.10.2->BrainGB) (2023.6.0)\n",
            "Collecting nvidia-cuda-nvrtc-cu12==12.1.105 (from torch>=1.10.2->BrainGB)\n",
            "  Using cached nvidia_cuda_nvrtc_cu12-12.1.105-py3-none-manylinux1_x86_64.whl (23.7 MB)\n",
            "Collecting nvidia-cuda-runtime-cu12==12.1.105 (from torch>=1.10.2->BrainGB)\n",
            "  Using cached nvidia_cuda_runtime_cu12-12.1.105-py3-none-manylinux1_x86_64.whl (823 kB)\n",
            "Collecting nvidia-cuda-cupti-cu12==12.1.105 (from torch>=1.10.2->BrainGB)\n",
            "  Using cached nvidia_cuda_cupti_cu12-12.1.105-py3-none-manylinux1_x86_64.whl (14.1 MB)\n",
            "Collecting nvidia-cudnn-cu12==8.9.2.26 (from torch>=1.10.2->BrainGB)\n",
            "  Using cached nvidia_cudnn_cu12-8.9.2.26-py3-none-manylinux1_x86_64.whl (731.7 MB)\n",
            "Collecting nvidia-cublas-cu12==12.1.3.1 (from torch>=1.10.2->BrainGB)\n",
            "  Using cached nvidia_cublas_cu12-12.1.3.1-py3-none-manylinux1_x86_64.whl (410.6 MB)\n",
            "Collecting nvidia-cufft-cu12==11.0.2.54 (from torch>=1.10.2->BrainGB)\n",
            "  Using cached nvidia_cufft_cu12-11.0.2.54-py3-none-manylinux1_x86_64.whl (121.6 MB)\n",
            "Collecting nvidia-curand-cu12==10.3.2.106 (from torch>=1.10.2->BrainGB)\n",
            "  Using cached nvidia_curand_cu12-10.3.2.106-py3-none-manylinux1_x86_64.whl (56.5 MB)\n",
            "Collecting nvidia-cusolver-cu12==11.4.5.107 (from torch>=1.10.2->BrainGB)\n",
            "  Using cached nvidia_cusolver_cu12-11.4.5.107-py3-none-manylinux1_x86_64.whl (124.2 MB)\n",
            "Collecting nvidia-cusparse-cu12==12.1.0.106 (from torch>=1.10.2->BrainGB)\n",
            "  Using cached nvidia_cusparse_cu12-12.1.0.106-py3-none-manylinux1_x86_64.whl (196.0 MB)\n",
            "Collecting nvidia-nccl-cu12==2.19.3 (from torch>=1.10.2->BrainGB)\n",
            "  Using cached nvidia_nccl_cu12-2.19.3-py3-none-manylinux1_x86_64.whl (166.0 MB)\n",
            "Collecting nvidia-nvtx-cu12==12.1.105 (from torch>=1.10.2->BrainGB)\n",
            "  Using cached nvidia_nvtx_cu12-12.1.105-py3-none-manylinux1_x86_64.whl (99 kB)\n",
            "Requirement already satisfied: triton==2.2.0 in /usr/local/lib/python3.10/dist-packages (from torch>=1.10.2->BrainGB) (2.2.0)\n",
            "Collecting nvidia-nvjitlink-cu12 (from nvidia-cusolver-cu12==11.4.5.107->torch>=1.10.2->BrainGB)\n",
            "  Using cached nvidia_nvjitlink_cu12-12.4.127-py3-none-manylinux2014_x86_64.whl (21.1 MB)\n",
            "Requirement already satisfied: requests in /usr/local/lib/python3.10/dist-packages (from torch-geometric->BrainGB) (2.31.0)\n",
            "Requirement already satisfied: pyparsing in /usr/local/lib/python3.10/dist-packages (from torch-geometric->BrainGB) (3.1.2)\n",
            "Requirement already satisfied: psutil>=5.8.0 in /usr/local/lib/python3.10/dist-packages (from torch-geometric->BrainGB) (5.9.5)\n",
            "Requirement already satisfied: smart-open>=1.8.1 in /usr/local/lib/python3.10/dist-packages (from gensim<5.0.0,>=4.1.2->node2vec>=0.4.3->BrainGB) (6.4.0)\n",
            "Requirement already satisfied: MarkupSafe>=2.0 in /usr/local/lib/python3.10/dist-packages (from jinja2->torch>=1.10.2->BrainGB) (2.1.5)\n",
            "Requirement already satisfied: charset-normalizer<4,>=2 in /usr/local/lib/python3.10/dist-packages (from requests->torch-geometric->BrainGB) (3.3.2)\n",
            "Requirement already satisfied: idna<4,>=2.5 in /usr/local/lib/python3.10/dist-packages (from requests->torch-geometric->BrainGB) (3.7)\n",
            "Requirement already satisfied: urllib3<3,>=1.21.1 in /usr/local/lib/python3.10/dist-packages (from requests->torch-geometric->BrainGB) (2.0.7)\n",
            "Requirement already satisfied: certifi>=2017.4.17 in /usr/local/lib/python3.10/dist-packages (from requests->torch-geometric->BrainGB) (2024.2.2)\n",
            "Requirement already satisfied: mpmath>=0.19 in /usr/local/lib/python3.10/dist-packages (from sympy->torch>=1.10.2->BrainGB) (1.3.0)\n",
            "Installing collected packages: nvidia-nvtx-cu12, nvidia-nvjitlink-cu12, nvidia-nccl-cu12, nvidia-curand-cu12, nvidia-cufft-cu12, nvidia-cuda-runtime-cu12, nvidia-cuda-nvrtc-cu12, nvidia-cuda-cupti-cu12, nvidia-cublas-cu12, networkx, nvidia-cusparse-cu12, nvidia-cudnn-cu12, nvidia-cusolver-cu12, node2vec, BrainGB\n",
            "  Attempting uninstall: networkx\n",
            "    Found existing installation: networkx 3.3\n",
            "    Uninstalling networkx-3.3:\n",
            "      Successfully uninstalled networkx-3.3\n",
            "Successfully installed BrainGB-1.0.4 networkx-2.8.8 node2vec-0.4.6 nvidia-cublas-cu12-12.1.3.1 nvidia-cuda-cupti-cu12-12.1.105 nvidia-cuda-nvrtc-cu12-12.1.105 nvidia-cuda-runtime-cu12-12.1.105 nvidia-cudnn-cu12-8.9.2.26 nvidia-cufft-cu12-11.0.2.54 nvidia-curand-cu12-10.3.2.106 nvidia-cusolver-cu12-11.4.5.107 nvidia-cusparse-cu12-12.1.0.106 nvidia-nccl-cu12-2.19.3 nvidia-nvjitlink-cu12-12.4.127 nvidia-nvtx-cu12-12.1.105\n"
          ]
        }
      ],
      "source": [
        "!pip install BrainGB"
      ]
    },
    {
      "cell_type": "code",
      "source": [
        "from google.colab import userdata\n",
        "import neptune\n",
        "import os\n",
        "import warnings\n",
        "import glob\n",
        "import csv\n",
        "import numpy as np\n",
        "import scipy.io as sio\n",
        "from nilearn import connectome\n",
        "import pandas as pd\n",
        "from scipy.spatial import distance\n",
        "from scipy import signal\n",
        "from sklearn.compose import ColumnTransformer\n",
        "from sklearn.preprocessing import Normalizer\n",
        "from sklearn.preprocessing import OrdinalEncoder\n",
        "from sklearn.preprocessing import OneHotEncoder\n",
        "from sklearn.preprocessing import StandardScaler\n",
        "import networkx as nx\n",
        "import numpy as np\n",
        "from tqdm import tqdm\n",
        "\n",
        "from torch.utils.data import Dataset, DataLoader\n",
        "import torch_geometric\n",
        "from sklearn.model_selection import StratifiedKFold\n",
        "from torch_geometric.typing import Adj, OptTensor, SparseTensor\n",
        "from tqdm import tqdm\n",
        "import enum\n",
        "from torch import Tensor\n",
        "from torch import nn\n",
        "import torch\n",
        "from sklearn.model_selection import train_test_split\n",
        "warnings.filterwarnings(\"ignore\")\n"
      ],
      "metadata": {
        "colab": {
          "base_uri": "https://localhost:8080/"
        },
        "id": "d7OaVRYIk45R",
        "outputId": "d3e8caa1-6deb-4984-ad0f-b000929b279c"
      },
      "execution_count": null,
      "outputs": [
        {
          "output_type": "stream",
          "name": "stderr",
          "text": [
            "/usr/local/lib/python3.10/dist-packages/torch_geometric/typing.py:63: UserWarning: An issue occurred while importing 'torch-scatter'. Disabling its usage. Stacktrace: /usr/local/lib/python3.10/dist-packages/torch_scatter/_version_cuda.so: undefined symbol: _ZN3c1017RegisterOperatorsD1Ev\n",
            "  warnings.warn(f\"An issue occurred while importing 'torch-scatter'. \"\n",
            "/usr/local/lib/python3.10/dist-packages/torch_geometric/typing.py:101: UserWarning: An issue occurred while importing 'torch-sparse'. Disabling its usage. Stacktrace: /usr/local/lib/python3.10/dist-packages/torch_sparse/_version_cuda.so: undefined symbol: _ZN3c1017RegisterOperatorsD1Ev\n",
            "  warnings.warn(f\"An issue occurred while importing 'torch-sparse'. \"\n"
          ]
        }
      ]
    },
    {
      "cell_type": "code",
      "source": [
        "from google.colab import drive\n",
        "drive.mount('/content/drive')"
      ],
      "metadata": {
        "colab": {
          "base_uri": "https://localhost:8080/"
        },
        "id": "zLkgHPSplF_y",
        "outputId": "33be48bd-96c2-4f9f-a9cb-d67859b2813d"
      },
      "execution_count": null,
      "outputs": [
        {
          "output_type": "stream",
          "name": "stdout",
          "text": [
            "Mounted at /content/drive\n"
          ]
        }
      ]
    },
    {
      "cell_type": "markdown",
      "metadata": {
        "id": "5fUYHbjSRcOe"
      },
      "source": [
        "# **Create Dataset**\n",
        "Creating, processing, and loadding the ABIDE dataset were Adapted from https://github.com/HennyJie/BrainGB"
      ]
    },
    {
      "cell_type": "code",
      "execution_count": null,
      "metadata": {
        "id": "5Oj2bBzGT_6w"
      },
      "outputs": [],
      "source": [
        "root_path = \"/content/drive/MyDrive/comp_bio/\"\n",
        "\n",
        "warnings.filterwarnings(\"ignore\")\n",
        "# Input data variables\n",
        "class Reader:\n",
        "\n",
        "    def __init__(self, root_path, id_file_path=None) -> None:\n",
        "\n",
        "        root_folder = root_path\n",
        "        self.data_folder = os.path.join(root_folder, 'ABIDE_pcp/cpac/filt_noglobal')\n",
        "        self.phenotype = os.path.join(root_folder, 'ABIDE_pcp/Phenotypic_V1_0b_preprocessed1.csv')\n",
        "        self.id_file = id_file_path\n",
        "\n",
        "\n",
        "    def fetch_filenames(self, subject_IDs, file_type, atlas):\n",
        "        \"\"\"\n",
        "            subject_list : list of short subject IDs in string format\n",
        "            file_type    : must be one of the available file types\n",
        "            filemapping  : resulting file name format\n",
        "        returns:\n",
        "            filenames    : list of filetypes (same length as subject_list)\n",
        "        \"\"\"\n",
        "\n",
        "        filemapping = {'func_preproc': '_func_preproc.nii.gz',\n",
        "                    'rois_' + atlas: '_rois_' + atlas + '.1D'}\n",
        "        # The list to be filled\n",
        "        filenames = []\n",
        "\n",
        "        # Fill list with requested file paths\n",
        "        for i in range(len(subject_IDs)):\n",
        "            os.chdir(self.data_folder)\n",
        "            find_files = glob.glob('*' + subject_IDs[i] + filemapping[file_type])\n",
        "            if len(find_files) > 0:\n",
        "                filenames.append(find_files[0])\n",
        "            else:\n",
        "                if os.path.isdir(self.data_folder + '/' + subject_IDs[i]):\n",
        "                    os.chdir(self.data_folder + '/' + subject_IDs[i])\n",
        "                    filenames.append(glob.glob('*' + subject_IDs[i] + filemapping[file_type])[0])\n",
        "                else:\n",
        "                    filenames.append('N/A')\n",
        "        return filenames\n",
        "\n",
        "\n",
        "    # Get timeseries arrays for list of subjects\n",
        "    def get_timeseries(self, subject_list, atlas_name, silence=False):\n",
        "        \"\"\"\n",
        "            subject_list : list of short subject IDs in string format\n",
        "            atlas_name   : the atlas based on which the timeseries are generated e.g. aal, cc200\n",
        "        returns:\n",
        "            time_series  : list of timeseries arrays, each of shape (timepoints x regions)\n",
        "        \"\"\"\n",
        "\n",
        "        timeseries = []\n",
        "        for i in range(len(subject_list)):\n",
        "            subject_folder = os.path.join(self.data_folder, subject_list[i])\n",
        "            ro_file = [f for f in os.listdir(subject_folder) if f.endswith('_rois_' + atlas_name + '.1D')]\n",
        "            fl = os.path.join(subject_folder, ro_file[0])\n",
        "            if silence != True:\n",
        "                print(\"Reading timeseries file %s\" % fl)\n",
        "            timeseries.append(np.loadtxt(fl, skiprows=0))\n",
        "\n",
        "        return timeseries\n",
        "\n",
        "\n",
        "    #  compute connectivity matrices\n",
        "    def subject_connectivity(self, timeseries, subjects, atlas_name, kind, iter_no='', seed=1234,\n",
        "                            n_subjects='', save=True, save_path=None):\n",
        "        \"\"\"\n",
        "            timeseries   : timeseries table for subject (timepoints x regions)\n",
        "            subjects     : subject IDs\n",
        "            atlas_name   : name of the parcellation atlas used\n",
        "            kind         : the kind of connectivity to be used, e.g. lasso, partial correlation, correlation\n",
        "            iter_no      : tangent connectivity iteration number for cross validation evaluation\n",
        "            save         : save the connectivity matrix to a file\n",
        "            save_path    : specify path to save the matrix if different from subject folder\n",
        "        returns:\n",
        "            connectivity : connectivity matrix (regions x regions)\n",
        "        \"\"\"\n",
        "\n",
        "        if kind in ['TPE', 'TE', 'correlation','partial correlation']:\n",
        "            if kind not in ['TPE', 'TE']:\n",
        "                conn_measure = connectome.ConnectivityMeasure(kind=kind)\n",
        "                connectivity = conn_measure.fit_transform(timeseries)\n",
        "            else:\n",
        "                if kind == 'TPE':\n",
        "                    conn_measure = connectome.ConnectivityMeasure(kind='correlation')\n",
        "                    conn_mat = conn_measure.fit_transform(timeseries)\n",
        "                    conn_measure = connectome.ConnectivityMeasure(kind='tangent')\n",
        "                    connectivity_fit = conn_measure.fit(conn_mat)\n",
        "                    connectivity = connectivity_fit.transform(conn_mat)\n",
        "                else:\n",
        "                    conn_measure = connectome.ConnectivityMeasure(kind='tangent')\n",
        "                    connectivity_fit = conn_measure.fit(timeseries)\n",
        "                    connectivity = connectivity_fit.transform(timeseries)\n",
        "\n",
        "        if save:\n",
        "            if not save_path:\n",
        "                save_path = self.data_folder\n",
        "            if kind not in ['TPE', 'TE']:\n",
        "                for i, subj_id in enumerate(subjects):\n",
        "                    subject_file = os.path.join(save_path, subj_id,\n",
        "                                                subj_id + '_' + atlas_name + '_' + kind.replace(' ', '_') + '.mat')\n",
        "                    sio.savemat(subject_file, {'connectivity': connectivity[i]})\n",
        "                return connectivity\n",
        "            else:\n",
        "                for i, subj_id in enumerate(subjects):\n",
        "                    subject_file = os.path.join(save_path, subj_id,\n",
        "                                                subj_id + '_' + atlas_name + '_' + kind.replace(' ', '_') + '_' + str(\n",
        "                                                    iter_no) + '_' + str(seed) + '_' + validation_ext + str(\n",
        "                                                    n_subjects) + '.mat')\n",
        "                    sio.savemat(subject_file, {'connectivity': connectivity[i]})\n",
        "                return connectivity_fit\n",
        "\n",
        "\n",
        "    # Get the list of subject IDs\n",
        "\n",
        "    def get_ids(self, num_subjects=None):\n",
        "        \"\"\"\n",
        "        return:\n",
        "            subject_IDs    : list of all subject IDs\n",
        "        \"\"\"\n",
        "\n",
        "        subject_IDs = np.genfromtxt(self.id_file, dtype=str)\n",
        "\n",
        "        if num_subjects is not None:\n",
        "            subject_IDs = subject_IDs[:num_subjects]\n",
        "\n",
        "        return subject_IDs\n",
        "\n",
        "\n",
        "    # Get phenotype values for a list of subjects\n",
        "    def get_subject_score(self, subject_list, score):\n",
        "        scores_dict = {}\n",
        "\n",
        "        with open(self.phenotype) as csv_file:\n",
        "            reader = csv.DictReader(csv_file)\n",
        "            for row in reader:\n",
        "                if row['SUB_ID'] in subject_list:\n",
        "                    if score == 'HANDEDNESS_CATEGORY':\n",
        "                        if (row[score].strip() == '-9999') or (row[score].strip() == ''):\n",
        "                            scores_dict[row['SUB_ID']] = 'R'\n",
        "                        elif row[score] == 'Mixed':\n",
        "                            scores_dict[row['SUB_ID']] = 'Ambi'\n",
        "                        elif row[score] == 'L->R':\n",
        "                            scores_dict[row['SUB_ID']] = 'Ambi'\n",
        "                        else:\n",
        "                            scores_dict[row['SUB_ID']] = row[score]\n",
        "                    elif (score == 'FIQ' or score == 'PIQ' or score == 'VIQ'):\n",
        "                        if (row[score].strip() == '-9999') or (row[score].strip() == ''):\n",
        "                            scores_dict[row['SUB_ID']] = 100\n",
        "                        else:\n",
        "                            scores_dict[row['SUB_ID']] = float(row[score])\n",
        "\n",
        "                    else:\n",
        "                        scores_dict[row['SUB_ID']] = row[score]\n",
        "\n",
        "        return scores_dict\n",
        "\n",
        "\n",
        "    # preprocess phenotypes. Categorical -> ordinal representation\n",
        "    @staticmethod\n",
        "    def preprocess_phenotypes(pheno_ft, params):\n",
        "        if params['model'] == 'MIDA':\n",
        "            ct = ColumnTransformer([(\"ordinal\", OrdinalEncoder(), [0, 1, 2])], remainder='passthrough')\n",
        "        else:\n",
        "            ct = ColumnTransformer([(\"ordinal\", OrdinalEncoder(), [0, 1, 2, 3])], remainder='passthrough')\n",
        "\n",
        "        pheno_ft = ct.fit_transform(pheno_ft)\n",
        "        pheno_ft = pheno_ft.astype('float32')\n",
        "\n",
        "        return (pheno_ft)\n",
        "\n",
        "\n",
        "    # create phenotype feature vector to concatenate with fmri feature vectors\n",
        "    @staticmethod\n",
        "    def phenotype_ft_vector(pheno_ft, num_subjects, params):\n",
        "        gender = pheno_ft[:, 0]\n",
        "        if params['model'] == 'MIDA':\n",
        "            eye = pheno_ft[:, 0]\n",
        "            hand = pheno_ft[:, 2]\n",
        "            age = pheno_ft[:, 3]\n",
        "            fiq = pheno_ft[:, 4]\n",
        "        else:\n",
        "            eye = pheno_ft[:, 2]\n",
        "            hand = pheno_ft[:, 3]\n",
        "            age = pheno_ft[:, 4]\n",
        "            fiq = pheno_ft[:, 5]\n",
        "\n",
        "        phenotype_ft = np.zeros((num_subjects, 4))\n",
        "        phenotype_ft_eye = np.zeros((num_subjects, 2))\n",
        "        phenotype_ft_hand = np.zeros((num_subjects, 3))\n",
        "\n",
        "        for i in range(num_subjects):\n",
        "            phenotype_ft[i, int(gender[i])] = 1\n",
        "            phenotype_ft[i, -2] = age[i]\n",
        "            phenotype_ft[i, -1] = fiq[i]\n",
        "            phenotype_ft_eye[i, int(eye[i])] = 1\n",
        "            phenotype_ft_hand[i, int(hand[i])] = 1\n",
        "\n",
        "        if params['model'] == 'MIDA':\n",
        "            phenotype_ft = np.concatenate([phenotype_ft, phenotype_ft_hand], axis=1)\n",
        "        else:\n",
        "            phenotype_ft = np.concatenate([phenotype_ft, phenotype_ft_hand, phenotype_ft_eye], axis=1)\n",
        "\n",
        "        return phenotype_ft\n",
        "\n",
        "\n",
        "    # Load precomputed fMRI connectivity networks\n",
        "    def get_networks(self, subject_list, kind, iter_no='', seed=1234, n_subjects='', atlas_name=\"aal\",\n",
        "                    variable='connectivity'):\n",
        "        \"\"\"\n",
        "            subject_list : list of subject IDs\n",
        "            kind         : the kind of connectivity to be used, e.g. lasso, partial correlation, correlation\n",
        "            atlas_name   : name of the parcellation atlas used\n",
        "            variable     : variable name in the .mat file that has been used to save the precomputed networks\n",
        "        return:\n",
        "            matrix      : feature matrix of connectivity networks (num_subjects x network_size)\n",
        "        \"\"\"\n",
        "\n",
        "        all_networks = []\n",
        "        for subject in subject_list:\n",
        "            if len(kind.split()) == 2:\n",
        "                kind = '_'.join(kind.split())\n",
        "            fl = os.path.join(self.data_folder, subject,\n",
        "                                subject + \"_\" + atlas_name + \"_\" + kind.replace(' ', '_') + \".mat\")\n",
        "\n",
        "\n",
        "            matrix = sio.loadmat(fl)[variable]\n",
        "            all_networks.append(matrix)\n",
        "\n",
        "        if kind in ['TE', 'TPE']:\n",
        "            norm_networks = [mat for mat in all_networks]\n",
        "        else:\n",
        "            norm_networks = [np.arctanh(mat) for mat in all_networks]\n",
        "\n",
        "        networks = np.stack(norm_networks)\n",
        "\n",
        "        return networks\n",
        "\n",
        "\n",
        "class KeyDotDict(dict):\n",
        "    def __getattr__(self, key):\n",
        "        try:\n",
        "            return self[key]\n",
        "        except KeyError as e:\n",
        "            raise AttributeError(e)\n",
        "\n",
        "    def __setattr__(self, key, value):\n",
        "        self[key] = value"
      ]
    },
    {
      "cell_type": "markdown",
      "metadata": {
        "id": "3wCVSY6XVtx8"
      },
      "source": [
        "# Load Data"
      ]
    },
    {
      "cell_type": "code",
      "execution_count": null,
      "metadata": {
        "colab": {
          "base_uri": "https://localhost:8080/"
        },
        "id": "5qRPK7TARezV",
        "outputId": "27cd2517-5e1b-4ae2-fee1-362735e056dd"
      },
      "outputs": [
        {
          "output_type": "stream",
          "name": "stdout",
          "text": [
            "Reading timeseries file /content/drive/MyDrive/comp_bio/ABIDE_pcp/ABIDE_pcp/cpac/filt_noglobal/50128/Olin_0050128_rois_cc200.1D\n",
            "Reading timeseries file /content/drive/MyDrive/comp_bio/ABIDE_pcp/ABIDE_pcp/cpac/filt_noglobal/51203/UCLA_1_0051203_rois_cc200.1D\n",
            "Reading timeseries file /content/drive/MyDrive/comp_bio/ABIDE_pcp/ABIDE_pcp/cpac/filt_noglobal/50325/UM_1_0050325_rois_cc200.1D\n",
            "Reading timeseries file /content/drive/MyDrive/comp_bio/ABIDE_pcp/ABIDE_pcp/cpac/filt_noglobal/50117/Olin_0050117_rois_cc200.1D\n",
            "Reading timeseries file /content/drive/MyDrive/comp_bio/ABIDE_pcp/ABIDE_pcp/cpac/filt_noglobal/50573/Yale_0050573_rois_cc200.1D\n",
            "Reading timeseries file /content/drive/MyDrive/comp_bio/ABIDE_pcp/ABIDE_pcp/cpac/filt_noglobal/50741/Leuven_2_0050741_rois_cc200.1D\n",
            "Reading timeseries file /content/drive/MyDrive/comp_bio/ABIDE_pcp/ABIDE_pcp/cpac/filt_noglobal/50779/KKI_0050779_rois_cc200.1D\n",
            "Reading timeseries file /content/drive/MyDrive/comp_bio/ABIDE_pcp/ABIDE_pcp/cpac/filt_noglobal/51009/NYU_0051009_rois_cc200.1D\n",
            "Reading timeseries file /content/drive/MyDrive/comp_bio/ABIDE_pcp/ABIDE_pcp/cpac/filt_noglobal/50746/Leuven_2_0050746_rois_cc200.1D\n",
            "Reading timeseries file /content/drive/MyDrive/comp_bio/ABIDE_pcp/ABIDE_pcp/cpac/filt_noglobal/50574/Yale_0050574_rois_cc200.1D\n",
            "Reading timeseries file /content/drive/MyDrive/comp_bio/ABIDE_pcp/ABIDE_pcp/cpac/filt_noglobal/50110/Olin_0050110_rois_cc200.1D\n",
            "Reading timeseries file /content/drive/MyDrive/comp_bio/ABIDE_pcp/ABIDE_pcp/cpac/filt_noglobal/50322/UM_1_0050322_rois_cc200.1D\n",
            "Reading timeseries file /content/drive/MyDrive/comp_bio/ABIDE_pcp/ABIDE_pcp/cpac/filt_noglobal/51036/NYU_0051036_rois_cc200.1D\n",
            "Reading timeseries file /content/drive/MyDrive/comp_bio/ABIDE_pcp/ABIDE_pcp/cpac/filt_noglobal/51204/UCLA_1_0051204_rois_cc200.1D\n",
            "Reading timeseries file /content/drive/MyDrive/comp_bio/ABIDE_pcp/ABIDE_pcp/cpac/filt_noglobal/50119/Olin_0050119_rois_cc200.1D\n",
            "Reading timeseries file /content/drive/MyDrive/comp_bio/ABIDE_pcp/ABIDE_pcp/cpac/filt_noglobal/50126/Olin_0050126_rois_cc200.1D\n",
            "Reading timeseries file /content/drive/MyDrive/comp_bio/ABIDE_pcp/ABIDE_pcp/cpac/filt_noglobal/50314/UM_1_0050314_rois_cc200.1D\n",
            "Reading timeseries file /content/drive/MyDrive/comp_bio/ABIDE_pcp/ABIDE_pcp/cpac/filt_noglobal/51490/Caltech_0051490_rois_cc200.1D\n",
            "Reading timeseries file /content/drive/MyDrive/comp_bio/ABIDE_pcp/ABIDE_pcp/cpac/filt_noglobal/50784/KKI_0050784_rois_cc200.1D\n",
            "Reading timeseries file /content/drive/MyDrive/comp_bio/ABIDE_pcp/ABIDE_pcp/cpac/filt_noglobal/51464/Caltech_0051464_rois_cc200.1D\n",
            "Reading timeseries file /content/drive/MyDrive/comp_bio/ABIDE_pcp/ABIDE_pcp/cpac/filt_noglobal/51000/NYU_0051000_rois_cc200.1D\n",
            "Reading timeseries file /content/drive/MyDrive/comp_bio/ABIDE_pcp/ABIDE_pcp/cpac/filt_noglobal/51038/NYU_0051038_rois_cc200.1D\n",
            "Reading timeseries file /content/drive/MyDrive/comp_bio/ABIDE_pcp/ABIDE_pcp/cpac/filt_noglobal/50748/Leuven_2_0050748_rois_cc200.1D\n",
            "Reading timeseries file /content/drive/MyDrive/comp_bio/ABIDE_pcp/ABIDE_pcp/cpac/filt_noglobal/51235/UCLA_1_0051235_rois_cc200.1D\n",
            "Reading timeseries file /content/drive/MyDrive/comp_bio/ABIDE_pcp/ABIDE_pcp/cpac/filt_noglobal/51007/NYU_0051007_rois_cc200.1D\n",
            "Reading timeseries file /content/drive/MyDrive/comp_bio/ABIDE_pcp/ABIDE_pcp/cpac/filt_noglobal/51463/Caltech_0051463_rois_cc200.1D\n",
            "Reading timeseries file /content/drive/MyDrive/comp_bio/ABIDE_pcp/ABIDE_pcp/cpac/filt_noglobal/50783/KKI_0050783_rois_cc200.1D\n",
            "Reading timeseries file /content/drive/MyDrive/comp_bio/ABIDE_pcp/ABIDE_pcp/cpac/filt_noglobal/50777/KKI_0050777_rois_cc200.1D\n",
            "Reading timeseries file /content/drive/MyDrive/comp_bio/ABIDE_pcp/ABIDE_pcp/cpac/filt_noglobal/50313/UM_1_0050313_rois_cc200.1D\n",
            "Reading timeseries file /content/drive/MyDrive/comp_bio/ABIDE_pcp/ABIDE_pcp/cpac/filt_noglobal/50121/Olin_0050121_rois_cc200.1D\n",
            "Reading timeseries file /content/drive/MyDrive/comp_bio/ABIDE_pcp/ABIDE_pcp/cpac/filt_noglobal/51053/NYU_0051053_rois_cc200.1D\n",
            "Reading timeseries file /content/drive/MyDrive/comp_bio/ABIDE_pcp/ABIDE_pcp/cpac/filt_noglobal/51261/UCLA_1_0051261_rois_cc200.1D\n",
            "Reading timeseries file /content/drive/MyDrive/comp_bio/ABIDE_pcp/ABIDE_pcp/cpac/filt_noglobal/50723/Leuven_2_0050723_rois_cc200.1D\n",
            "Reading timeseries file /content/drive/MyDrive/comp_bio/ABIDE_pcp/ABIDE_pcp/cpac/filt_noglobal/50511/USM_0050511_rois_cc200.1D\n",
            "Reading timeseries file /content/drive/MyDrive/comp_bio/ABIDE_pcp/ABIDE_pcp/cpac/filt_noglobal/51295/UCLA_2_0051295_rois_cc200.1D\n",
            "Reading timeseries file /content/drive/MyDrive/comp_bio/ABIDE_pcp/ABIDE_pcp/cpac/filt_noglobal/50347/UM_1_0050347_rois_cc200.1D\n",
            "Reading timeseries file /content/drive/MyDrive/comp_bio/ABIDE_pcp/ABIDE_pcp/cpac/filt_noglobal/50982/NYU_0050982_rois_cc200.1D\n",
            "Reading timeseries file /content/drive/MyDrive/comp_bio/ABIDE_pcp/ABIDE_pcp/cpac/filt_noglobal/50976/NYU_0050976_rois_cc200.1D\n",
            "Reading timeseries file /content/drive/MyDrive/comp_bio/ABIDE_pcp/ABIDE_pcp/cpac/filt_noglobal/51098/NYU_0051098_rois_cc200.1D\n",
            "Reading timeseries file /content/drive/MyDrive/comp_bio/ABIDE_pcp/ABIDE_pcp/cpac/filt_noglobal/51292/UCLA_2_0051292_rois_cc200.1D\n",
            "Reading timeseries file /content/drive/MyDrive/comp_bio/ABIDE_pcp/ABIDE_pcp/cpac/filt_noglobal/50340/UM_1_0050340_rois_cc200.1D\n",
            "Reading timeseries file /content/drive/MyDrive/comp_bio/ABIDE_pcp/ABIDE_pcp/cpac/filt_noglobal/50516/USM_0050516_rois_cc200.1D\n",
            "Reading timeseries file /content/drive/MyDrive/comp_bio/ABIDE_pcp/ABIDE_pcp/cpac/filt_noglobal/50724/Leuven_2_0050724_rois_cc200.1D\n",
            "Reading timeseries file /content/drive/MyDrive/comp_bio/ABIDE_pcp/ABIDE_pcp/cpac/filt_noglobal/51266/UCLA_1_0051266_rois_cc200.1D\n",
            "Reading timeseries file /content/drive/MyDrive/comp_bio/ABIDE_pcp/ABIDE_pcp/cpac/filt_noglobal/51054/NYU_0051054_rois_cc200.1D\n",
            "Reading timeseries file /content/drive/MyDrive/comp_bio/ABIDE_pcp/ABIDE_pcp/cpac/filt_noglobal/50186/SDSU_0050186_rois_cc200.1D\n",
            "Reading timeseries file /content/drive/MyDrive/comp_bio/ABIDE_pcp/ABIDE_pcp/cpac/filt_noglobal/50529/USM_0050529_rois_cc200.1D\n",
            "Reading timeseries file /content/drive/MyDrive/comp_bio/ABIDE_pcp/ABIDE_pcp/cpac/filt_noglobal/50985/NYU_0050985_rois_cc200.1D\n",
            "Reading timeseries file /content/drive/MyDrive/comp_bio/ABIDE_pcp/ABIDE_pcp/cpac/filt_noglobal/50520/USM_0050520_rois_cc200.1D\n",
            "Reading timeseries file /content/drive/MyDrive/comp_bio/ABIDE_pcp/ABIDE_pcp/cpac/filt_noglobal/50376/UM_1_0050376_rois_cc200.1D\n",
            "Reading timeseries file /content/drive/MyDrive/comp_bio/ABIDE_pcp/ABIDE_pcp/cpac/filt_noglobal/50978/NYU_0050978_rois_cc200.1D\n",
            "Reading timeseries file /content/drive/MyDrive/comp_bio/ABIDE_pcp/ABIDE_pcp/cpac/filt_noglobal/50144/OHSU_0050144_rois_cc200.1D\n",
            "Reading timeseries file /content/drive/MyDrive/comp_bio/ABIDE_pcp/ABIDE_pcp/cpac/filt_noglobal/51096/NYU_0051096_rois_cc200.1D\n",
            "Reading timeseries file /content/drive/MyDrive/comp_bio/ABIDE_pcp/ABIDE_pcp/cpac/filt_noglobal/50382/UM_2_0050382_rois_cc200.1D\n",
            "Reading timeseries file /content/drive/MyDrive/comp_bio/ABIDE_pcp/ABIDE_pcp/cpac/filt_noglobal/51250/UCLA_1_0051250_rois_cc200.1D\n",
            "Reading timeseries file /content/drive/MyDrive/comp_bio/ABIDE_pcp/ABIDE_pcp/cpac/filt_noglobal/51062/NYU_0051062_rois_cc200.1D\n",
            "Reading timeseries file /content/drive/MyDrive/comp_bio/ABIDE_pcp/ABIDE_pcp/cpac/filt_noglobal/50349/UM_1_0050349_rois_cc200.1D\n",
            "Reading timeseries file /content/drive/MyDrive/comp_bio/ABIDE_pcp/ABIDE_pcp/cpac/filt_noglobal/51065/NYU_0051065_rois_cc200.1D\n",
            "Reading timeseries file /content/drive/MyDrive/comp_bio/ABIDE_pcp/ABIDE_pcp/cpac/filt_noglobal/50385/UM_2_0050385_rois_cc200.1D\n",
            "Reading timeseries file /content/drive/MyDrive/comp_bio/ABIDE_pcp/ABIDE_pcp/cpac/filt_noglobal/51257/UCLA_1_0051257_rois_cc200.1D\n",
            "Reading timeseries file /content/drive/MyDrive/comp_bio/ABIDE_pcp/ABIDE_pcp/cpac/filt_noglobal/50143/OHSU_0050143_rois_cc200.1D\n",
            "Reading timeseries file /content/drive/MyDrive/comp_bio/ABIDE_pcp/ABIDE_pcp/cpac/filt_noglobal/51091/NYU_0051091_rois_cc200.1D\n",
            "Reading timeseries file /content/drive/MyDrive/comp_bio/ABIDE_pcp/ABIDE_pcp/cpac/filt_noglobal/50371/UM_1_0050371_rois_cc200.1D\n",
            "Reading timeseries file /content/drive/MyDrive/comp_bio/ABIDE_pcp/ABIDE_pcp/cpac/filt_noglobal/50527/USM_0050527_rois_cc200.1D\n",
            "Reading timeseries file /content/drive/MyDrive/comp_bio/ABIDE_pcp/ABIDE_pcp/cpac/filt_noglobal/51268/UCLA_1_0051268_rois_cc200.1D\n",
            "Reading timeseries file /content/drive/MyDrive/comp_bio/ABIDE_pcp/ABIDE_pcp/cpac/filt_noglobal/50188/SDSU_0050188_rois_cc200.1D\n",
            "Reading timeseries file /content/drive/MyDrive/comp_bio/ABIDE_pcp/ABIDE_pcp/cpac/filt_noglobal/50518/USM_0050518_rois_cc200.1D\n",
            "Reading timeseries file /content/drive/MyDrive/comp_bio/ABIDE_pcp/ABIDE_pcp/cpac/filt_noglobal/50749/Leuven_2_0050749_rois_cc200.1D\n",
            "Reading timeseries file /content/drive/MyDrive/comp_bio/ABIDE_pcp/ABIDE_pcp/cpac/filt_noglobal/51039/NYU_0051039_rois_cc200.1D\n",
            "Reading timeseries file /content/drive/MyDrive/comp_bio/ABIDE_pcp/ABIDE_pcp/cpac/filt_noglobal/50776/KKI_0050776_rois_cc200.1D\n",
            "Reading timeseries file /content/drive/MyDrive/comp_bio/ABIDE_pcp/ABIDE_pcp/cpac/filt_noglobal/50120/Olin_0050120_rois_cc200.1D\n",
            "Reading timeseries file /content/drive/MyDrive/comp_bio/ABIDE_pcp/ABIDE_pcp/cpac/filt_noglobal/50312/UM_1_0050312_rois_cc200.1D\n",
            "Reading timeseries file /content/drive/MyDrive/comp_bio/ABIDE_pcp/ABIDE_pcp/cpac/filt_noglobal/51006/NYU_0051006_rois_cc200.1D\n",
            "Reading timeseries file /content/drive/MyDrive/comp_bio/ABIDE_pcp/ABIDE_pcp/cpac/filt_noglobal/51234/UCLA_1_0051234_rois_cc200.1D\n",
            "Reading timeseries file /content/drive/MyDrive/comp_bio/ABIDE_pcp/ABIDE_pcp/cpac/filt_noglobal/50782/KKI_0050782_rois_cc200.1D\n",
            "Reading timeseries file /content/drive/MyDrive/comp_bio/ABIDE_pcp/ABIDE_pcp/cpac/filt_noglobal/51462/Caltech_0051462_rois_cc200.1D\n",
            "Reading timeseries file /content/drive/MyDrive/comp_bio/ABIDE_pcp/ABIDE_pcp/cpac/filt_noglobal/50118/Olin_0050118_rois_cc200.1D\n",
            "Reading timeseries file /content/drive/MyDrive/comp_bio/ABIDE_pcp/ABIDE_pcp/cpac/filt_noglobal/51465/Caltech_0051465_rois_cc200.1D\n",
            "Reading timeseries file /content/drive/MyDrive/comp_bio/ABIDE_pcp/ABIDE_pcp/cpac/filt_noglobal/50785/KKI_0050785_rois_cc200.1D\n",
            "Reading timeseries file /content/drive/MyDrive/comp_bio/ABIDE_pcp/ABIDE_pcp/cpac/filt_noglobal/51001/NYU_0051001_rois_cc200.1D\n",
            "Reading timeseries file /content/drive/MyDrive/comp_bio/ABIDE_pcp/ABIDE_pcp/cpac/filt_noglobal/50315/UM_1_0050315_rois_cc200.1D\n",
            "Reading timeseries file /content/drive/MyDrive/comp_bio/ABIDE_pcp/ABIDE_pcp/cpac/filt_noglobal/50127/Olin_0050127_rois_cc200.1D\n",
            "Reading timeseries file /content/drive/MyDrive/comp_bio/ABIDE_pcp/ABIDE_pcp/cpac/filt_noglobal/51491/Caltech_0051491_rois_cc200.1D\n",
            "Reading timeseries file /content/drive/MyDrive/comp_bio/ABIDE_pcp/ABIDE_pcp/cpac/filt_noglobal/51008/NYU_0051008_rois_cc200.1D\n",
            "Reading timeseries file /content/drive/MyDrive/comp_bio/ABIDE_pcp/ABIDE_pcp/cpac/filt_noglobal/50778/KKI_0050778_rois_cc200.1D\n",
            "Reading timeseries file /content/drive/MyDrive/comp_bio/ABIDE_pcp/ABIDE_pcp/cpac/filt_noglobal/51205/UCLA_1_0051205_rois_cc200.1D\n",
            "Reading timeseries file /content/drive/MyDrive/comp_bio/ABIDE_pcp/ABIDE_pcp/cpac/filt_noglobal/50575/Yale_0050575_rois_cc200.1D\n",
            "Reading timeseries file /content/drive/MyDrive/comp_bio/ABIDE_pcp/ABIDE_pcp/cpac/filt_noglobal/50747/Leuven_2_0050747_rois_cc200.1D\n",
            "Reading timeseries file /content/drive/MyDrive/comp_bio/ABIDE_pcp/ABIDE_pcp/cpac/filt_noglobal/50111/Olin_0050111_rois_cc200.1D\n",
            "Reading timeseries file /content/drive/MyDrive/comp_bio/ABIDE_pcp/ABIDE_pcp/cpac/filt_noglobal/50129/Olin_0050129_rois_cc200.1D\n",
            "Reading timeseries file /content/drive/MyDrive/comp_bio/ABIDE_pcp/ABIDE_pcp/cpac/filt_noglobal/50116/Olin_0050116_rois_cc200.1D\n",
            "Reading timeseries file /content/drive/MyDrive/comp_bio/ABIDE_pcp/ABIDE_pcp/cpac/filt_noglobal/50324/UM_1_0050324_rois_cc200.1D\n",
            "Reading timeseries file /content/drive/MyDrive/comp_bio/ABIDE_pcp/ABIDE_pcp/cpac/filt_noglobal/50740/Leuven_2_0050740_rois_cc200.1D\n",
            "Reading timeseries file /content/drive/MyDrive/comp_bio/ABIDE_pcp/ABIDE_pcp/cpac/filt_noglobal/50572/Yale_0050572_rois_cc200.1D\n",
            "Reading timeseries file /content/drive/MyDrive/comp_bio/ABIDE_pcp/ABIDE_pcp/cpac/filt_noglobal/51030/NYU_0051030_rois_cc200.1D\n",
            "Reading timeseries file /content/drive/MyDrive/comp_bio/ABIDE_pcp/ABIDE_pcp/cpac/filt_noglobal/51202/UCLA_1_0051202_rois_cc200.1D\n",
            "Reading timeseries file /content/drive/MyDrive/comp_bio/ABIDE_pcp/ABIDE_pcp/cpac/filt_noglobal/50370/UM_1_0050370_rois_cc200.1D\n",
            "Reading timeseries file /content/drive/MyDrive/comp_bio/ABIDE_pcp/ABIDE_pcp/cpac/filt_noglobal/50142/OHSU_0050142_rois_cc200.1D\n",
            "Reading timeseries file /content/drive/MyDrive/comp_bio/ABIDE_pcp/ABIDE_pcp/cpac/filt_noglobal/51090/NYU_0051090_rois_cc200.1D\n",
            "Reading timeseries file /content/drive/MyDrive/comp_bio/ABIDE_pcp/ABIDE_pcp/cpac/filt_noglobal/50526/USM_0050526_rois_cc200.1D\n",
            "Reading timeseries file /content/drive/MyDrive/comp_bio/ABIDE_pcp/ABIDE_pcp/cpac/filt_noglobal/51256/UCLA_1_0051256_rois_cc200.1D\n",
            "Reading timeseries file /content/drive/MyDrive/comp_bio/ABIDE_pcp/ABIDE_pcp/cpac/filt_noglobal/51064/NYU_0051064_rois_cc200.1D\n",
            "Reading timeseries file /content/drive/MyDrive/comp_bio/ABIDE_pcp/ABIDE_pcp/cpac/filt_noglobal/50519/USM_0050519_rois_cc200.1D\n",
            "Reading timeseries file /content/drive/MyDrive/comp_bio/ABIDE_pcp/ABIDE_pcp/cpac/filt_noglobal/50189/SDSU_0050189_rois_cc200.1D\n",
            "Reading timeseries file /content/drive/MyDrive/comp_bio/ABIDE_pcp/ABIDE_pcp/cpac/filt_noglobal/51269/UCLA_1_0051269_rois_cc200.1D\n",
            "Reading timeseries file /content/drive/MyDrive/comp_bio/ABIDE_pcp/ABIDE_pcp/cpac/filt_noglobal/51063/NYU_0051063_rois_cc200.1D\n",
            "Reading timeseries file /content/drive/MyDrive/comp_bio/ABIDE_pcp/ABIDE_pcp/cpac/filt_noglobal/50383/UM_2_0050383_rois_cc200.1D\n",
            "Reading timeseries file /content/drive/MyDrive/comp_bio/ABIDE_pcp/ABIDE_pcp/cpac/filt_noglobal/51251/UCLA_1_0051251_rois_cc200.1D\n",
            "Reading timeseries file /content/drive/MyDrive/comp_bio/ABIDE_pcp/ABIDE_pcp/cpac/filt_noglobal/50521/USM_0050521_rois_cc200.1D\n",
            "Reading timeseries file /content/drive/MyDrive/comp_bio/ABIDE_pcp/ABIDE_pcp/cpac/filt_noglobal/50145/OHSU_0050145_rois_cc200.1D\n",
            "Reading timeseries file /content/drive/MyDrive/comp_bio/ABIDE_pcp/ABIDE_pcp/cpac/filt_noglobal/51097/NYU_0051097_rois_cc200.1D\n",
            "Reading timeseries file /content/drive/MyDrive/comp_bio/ABIDE_pcp/ABIDE_pcp/cpac/filt_noglobal/50979/NYU_0050979_rois_cc200.1D\n",
            "Reading timeseries file /content/drive/MyDrive/comp_bio/ABIDE_pcp/ABIDE_pcp/cpac/filt_noglobal/50377/UM_1_0050377_rois_cc200.1D\n",
            "Reading timeseries file /content/drive/MyDrive/comp_bio/ABIDE_pcp/ABIDE_pcp/cpac/filt_noglobal/50348/UM_1_0050348_rois_cc200.1D\n",
            "Reading timeseries file /content/drive/MyDrive/comp_bio/ABIDE_pcp/ABIDE_pcp/cpac/filt_noglobal/51055/NYU_0051055_rois_cc200.1D\n",
            "Reading timeseries file /content/drive/MyDrive/comp_bio/ABIDE_pcp/ABIDE_pcp/cpac/filt_noglobal/50187/SDSU_0050187_rois_cc200.1D\n",
            "Reading timeseries file /content/drive/MyDrive/comp_bio/ABIDE_pcp/ABIDE_pcp/cpac/filt_noglobal/51267/UCLA_1_0051267_rois_cc200.1D\n",
            "Reading timeseries file /content/drive/MyDrive/comp_bio/ABIDE_pcp/ABIDE_pcp/cpac/filt_noglobal/51293/UCLA_2_0051293_rois_cc200.1D\n",
            "Reading timeseries file /content/drive/MyDrive/comp_bio/ABIDE_pcp/ABIDE_pcp/cpac/filt_noglobal/50341/UM_1_0050341_rois_cc200.1D\n",
            "Reading timeseries file /content/drive/MyDrive/comp_bio/ABIDE_pcp/ABIDE_pcp/cpac/filt_noglobal/50725/Leuven_2_0050725_rois_cc200.1D\n",
            "Reading timeseries file /content/drive/MyDrive/comp_bio/ABIDE_pcp/ABIDE_pcp/cpac/filt_noglobal/51258/UCLA_1_0051258_rois_cc200.1D\n",
            "Reading timeseries file /content/drive/MyDrive/comp_bio/ABIDE_pcp/ABIDE_pcp/cpac/filt_noglobal/50984/NYU_0050984_rois_cc200.1D\n",
            "Reading timeseries file /content/drive/MyDrive/comp_bio/ABIDE_pcp/ABIDE_pcp/cpac/filt_noglobal/50528/USM_0050528_rois_cc200.1D\n",
            "Reading timeseries file /content/drive/MyDrive/comp_bio/ABIDE_pcp/ABIDE_pcp/cpac/filt_noglobal/50970/NYU_0050970_rois_cc200.1D\n",
            "Reading timeseries file /content/drive/MyDrive/comp_bio/ABIDE_pcp/ABIDE_pcp/cpac/filt_noglobal/50510/USM_0050510_rois_cc200.1D\n",
            "Reading timeseries file /content/drive/MyDrive/comp_bio/ABIDE_pcp/ABIDE_pcp/cpac/filt_noglobal/50722/Leuven_2_0050722_rois_cc200.1D\n",
            "Reading timeseries file /content/drive/MyDrive/comp_bio/ABIDE_pcp/ABIDE_pcp/cpac/filt_noglobal/51294/UCLA_2_0051294_rois_cc200.1D\n",
            "Reading timeseries file /content/drive/MyDrive/comp_bio/ABIDE_pcp/ABIDE_pcp/cpac/filt_noglobal/50346/UM_1_0050346_rois_cc200.1D\n",
            "Reading timeseries file /content/drive/MyDrive/comp_bio/ABIDE_pcp/ABIDE_pcp/cpac/filt_noglobal/51260/UCLA_1_0051260_rois_cc200.1D\n",
            "Reading timeseries file /content/drive/MyDrive/comp_bio/ABIDE_pcp/ABIDE_pcp/cpac/filt_noglobal/51052/NYU_0051052_rois_cc200.1D\n",
            "Reading timeseries file /content/drive/MyDrive/comp_bio/ABIDE_pcp/ABIDE_pcp/cpac/filt_noglobal/51099/NYU_0051099_rois_cc200.1D\n",
            "Reading timeseries file /content/drive/MyDrive/comp_bio/ABIDE_pcp/ABIDE_pcp/cpac/filt_noglobal/50977/NYU_0050977_rois_cc200.1D\n",
            "Reading timeseries file /content/drive/MyDrive/comp_bio/ABIDE_pcp/ABIDE_pcp/cpac/filt_noglobal/50379/UM_1_0050379_rois_cc200.1D\n",
            "Reading timeseries file /content/drive/MyDrive/comp_bio/ABIDE_pcp/ABIDE_pcp/cpac/filt_noglobal/50983/NYU_0050983_rois_cc200.1D\n",
            "Reading timeseries file /content/drive/MyDrive/comp_bio/ABIDE_pcp/ABIDE_pcp/cpac/filt_noglobal/50039/Pitt_0050039_rois_cc200.1D\n",
            "Reading timeseries file /content/drive/MyDrive/comp_bio/ABIDE_pcp/ABIDE_pcp/cpac/filt_noglobal/50496/USM_0050496_rois_cc200.1D\n",
            "Reading timeseries file /content/drive/MyDrive/comp_bio/ABIDE_pcp/ABIDE_pcp/cpac/filt_noglobal/51312/UCLA_2_0051312_rois_cc200.1D\n",
            "Reading timeseries file /content/drive/MyDrive/comp_bio/ABIDE_pcp/ABIDE_pcp/cpac/filt_noglobal/50234/Trinity_0050234_rois_cc200.1D\n",
            "Reading timeseries file /content/drive/MyDrive/comp_bio/ABIDE_pcp/ABIDE_pcp/cpac/filt_noglobal/50006/Pitt_0050006_rois_cc200.1D\n",
            "Reading timeseries file /content/drive/MyDrive/comp_bio/ABIDE_pcp/ABIDE_pcp/cpac/filt_noglobal/50650/CMU_b_0050650_rois_cc200.1D\n",
            "Reading timeseries file /content/drive/MyDrive/comp_bio/ABIDE_pcp/ABIDE_pcp/cpac/filt_noglobal/50802/KKI_0050802_rois_cc200.1D\n",
            "Reading timeseries file /content/drive/MyDrive/comp_bio/ABIDE_pcp/ABIDE_pcp/cpac/filt_noglobal/50668/CMU_a_0050668_rois_cc200.1D\n",
            "Reading timeseries file /content/drive/MyDrive/comp_bio/ABIDE_pcp/ABIDE_pcp/cpac/filt_noglobal/51118/NYU_0051118_rois_cc200.1D\n",
            "Reading timeseries file /content/drive/MyDrive/comp_bio/ABIDE_pcp/ABIDE_pcp/cpac/filt_noglobal/50657/CMU_b_0050657_rois_cc200.1D\n",
            "Reading timeseries file /content/drive/MyDrive/comp_bio/ABIDE_pcp/ABIDE_pcp/cpac/filt_noglobal/50233/Trinity_0050233_rois_cc200.1D\n",
            "Reading timeseries file /content/drive/MyDrive/comp_bio/ABIDE_pcp/ABIDE_pcp/cpac/filt_noglobal/51127/NYU_0051127_rois_cc200.1D\n",
            "Reading timeseries file /content/drive/MyDrive/comp_bio/ABIDE_pcp/ABIDE_pcp/cpac/filt_noglobal/51315/UCLA_2_0051315_rois_cc200.1D\n",
            "Reading timeseries file /content/drive/MyDrive/comp_bio/ABIDE_pcp/ABIDE_pcp/cpac/filt_noglobal/50491/USM_0050491_rois_cc200.1D\n",
            "Reading timeseries file /content/drive/MyDrive/comp_bio/ABIDE_pcp/ABIDE_pcp/cpac/filt_noglobal/50008/Pitt_0050008_rois_cc200.1D\n",
            "Reading timeseries file /content/drive/MyDrive/comp_bio/ABIDE_pcp/ABIDE_pcp/cpac/filt_noglobal/50498/USM_0050498_rois_cc200.1D\n",
            "Reading timeseries file /content/drive/MyDrive/comp_bio/ABIDE_pcp/ABIDE_pcp/cpac/filt_noglobal/50037/Pitt_0050037_rois_cc200.1D\n",
            "Reading timeseries file /content/drive/MyDrive/comp_bio/ABIDE_pcp/ABIDE_pcp/cpac/filt_noglobal/50205/SDSU_0050205_rois_cc200.1D\n",
            "Reading timeseries file /content/drive/MyDrive/comp_bio/ABIDE_pcp/ABIDE_pcp/cpac/filt_noglobal/50661/CMU_b_0050661_rois_cc200.1D\n",
            "Reading timeseries file /content/drive/MyDrive/comp_bio/ABIDE_pcp/ABIDE_pcp/cpac/filt_noglobal/51581/SBL_0051581_rois_cc200.1D\n",
            "Reading timeseries file /content/drive/MyDrive/comp_bio/ABIDE_pcp/ABIDE_pcp/cpac/filt_noglobal/50453/USM_0050453_rois_cc200.1D\n",
            "Reading timeseries file /content/drive/MyDrive/comp_bio/ABIDE_pcp/ABIDE_pcp/cpac/filt_noglobal/50695/Leuven_1_0050695_rois_cc200.1D\n",
            "Reading timeseries file /content/drive/MyDrive/comp_bio/ABIDE_pcp/ABIDE_pcp/cpac/filt_noglobal/51575/SBL_0051575_rois_cc200.1D\n",
            "Reading timeseries file /content/drive/MyDrive/comp_bio/ABIDE_pcp/ABIDE_pcp/cpac/filt_noglobal/51111/NYU_0051111_rois_cc200.1D\n",
            "Reading timeseries file /content/drive/MyDrive/comp_bio/ABIDE_pcp/ABIDE_pcp/cpac/filt_noglobal/51323/MaxMun_b_0051323_rois_cc200.1D\n",
            "Reading timeseries file /content/drive/MyDrive/comp_bio/ABIDE_pcp/ABIDE_pcp/cpac/filt_noglobal/51129/NYU_0051129_rois_cc200.1D\n",
            "Reading timeseries file /content/drive/MyDrive/comp_bio/ABIDE_pcp/ABIDE_pcp/cpac/filt_noglobal/50659/CMU_a_0050659_rois_cc200.1D\n",
            "Reading timeseries file /content/drive/MyDrive/comp_bio/ABIDE_pcp/ABIDE_pcp/cpac/filt_noglobal/51324/MaxMun_b_0051324_rois_cc200.1D\n",
            "Reading timeseries file /content/drive/MyDrive/comp_bio/ABIDE_pcp/ABIDE_pcp/cpac/filt_noglobal/51116/NYU_0051116_rois_cc200.1D\n",
            "Reading timeseries file /content/drive/MyDrive/comp_bio/ABIDE_pcp/ABIDE_pcp/cpac/filt_noglobal/51572/SBL_0051572_rois_cc200.1D\n",
            "Reading timeseries file /content/drive/MyDrive/comp_bio/ABIDE_pcp/ABIDE_pcp/cpac/filt_noglobal/50692/Leuven_1_0050692_rois_cc200.1D\n",
            "Reading timeseries file /content/drive/MyDrive/comp_bio/ABIDE_pcp/ABIDE_pcp/cpac/filt_noglobal/50666/CMU_a_0050666_rois_cc200.1D\n",
            "Reading timeseries file /content/drive/MyDrive/comp_bio/ABIDE_pcp/ABIDE_pcp/cpac/filt_noglobal/50202/SDSU_0050202_rois_cc200.1D\n",
            "Reading timeseries file /content/drive/MyDrive/comp_bio/ABIDE_pcp/ABIDE_pcp/cpac/filt_noglobal/50030/Pitt_0050030_rois_cc200.1D\n",
            "Reading timeseries file /content/drive/MyDrive/comp_bio/ABIDE_pcp/ABIDE_pcp/cpac/filt_noglobal/51142/Trinity_0051142_rois_cc200.1D\n",
            "Reading timeseries file /content/drive/MyDrive/comp_bio/ABIDE_pcp/ABIDE_pcp/cpac/filt_noglobal/51370/MaxMun_a_0051370_rois_cc200.1D\n",
            "Reading timeseries file /content/drive/MyDrive/comp_bio/ABIDE_pcp/ABIDE_pcp/cpac/filt_noglobal/50269/Trinity_0050269_rois_cc200.1D\n",
            "Reading timeseries file /content/drive/MyDrive/comp_bio/ABIDE_pcp/ABIDE_pcp/cpac/filt_noglobal/51189/Stanford_0051189_rois_cc200.1D\n",
            "Reading timeseries file /content/drive/MyDrive/comp_bio/ABIDE_pcp/ABIDE_pcp/cpac/filt_noglobal/50251/Trinity_0050251_rois_cc200.1D\n",
            "Reading timeseries file /content/drive/MyDrive/comp_bio/ABIDE_pcp/ABIDE_pcp/cpac/filt_noglobal/50407/UM_2_0050407_rois_cc200.1D\n",
            "Reading timeseries file /content/drive/MyDrive/comp_bio/ABIDE_pcp/ABIDE_pcp/cpac/filt_noglobal/50438/USM_0050438_rois_cc200.1D\n",
            "Reading timeseries file /content/drive/MyDrive/comp_bio/ABIDE_pcp/ABIDE_pcp/cpac/filt_noglobal/51348/MaxMun_c_0051348_rois_cc200.1D\n",
            "Reading timeseries file /content/drive/MyDrive/comp_bio/ABIDE_pcp/ABIDE_pcp/cpac/filt_noglobal/50603/Yale_0050603_rois_cc200.1D\n",
            "Reading timeseries file /content/drive/MyDrive/comp_bio/ABIDE_pcp/ABIDE_pcp/cpac/filt_noglobal/50267/Trinity_0050267_rois_cc200.1D\n",
            "Reading timeseries file /content/drive/MyDrive/comp_bio/ABIDE_pcp/ABIDE_pcp/cpac/filt_noglobal/51187/Stanford_0051187_rois_cc200.1D\n",
            "Reading timeseries file /content/drive/MyDrive/comp_bio/ABIDE_pcp/ABIDE_pcp/cpac/filt_noglobal/50055/Pitt_0050055_rois_cc200.1D\n",
            "Reading timeseries file /content/drive/MyDrive/comp_bio/ABIDE_pcp/ABIDE_pcp/cpac/filt_noglobal/51341/MaxMun_c_0051341_rois_cc200.1D\n",
            "Reading timeseries file /content/drive/MyDrive/comp_bio/ABIDE_pcp/ABIDE_pcp/cpac/filt_noglobal/50293/UM_1_0050293_rois_cc200.1D\n",
            "Reading timeseries file /content/drive/MyDrive/comp_bio/ABIDE_pcp/ABIDE_pcp/cpac/filt_noglobal/51173/Stanford_0051173_rois_cc200.1D\n",
            "Reading timeseries file /content/drive/MyDrive/comp_bio/ABIDE_pcp/ABIDE_pcp/cpac/filt_noglobal/51174/Stanford_0051174_rois_cc200.1D\n",
            "Reading timeseries file /content/drive/MyDrive/comp_bio/ABIDE_pcp/ABIDE_pcp/cpac/filt_noglobal/51346/MaxMun_c_0051346_rois_cc200.1D\n",
            "Reading timeseries file /content/drive/MyDrive/comp_bio/ABIDE_pcp/ABIDE_pcp/cpac/filt_noglobal/50294/UM_1_0050294_rois_cc200.1D\n",
            "Reading timeseries file /content/drive/MyDrive/comp_bio/ABIDE_pcp/ABIDE_pcp/cpac/filt_noglobal/51180/Stanford_0051180_rois_cc200.1D\n",
            "Reading timeseries file /content/drive/MyDrive/comp_bio/ABIDE_pcp/ABIDE_pcp/cpac/filt_noglobal/50052/Pitt_0050052_rois_cc200.1D\n",
            "Reading timeseries file /content/drive/MyDrive/comp_bio/ABIDE_pcp/ABIDE_pcp/cpac/filt_noglobal/50260/Trinity_0050260_rois_cc200.1D\n",
            "Reading timeseries file /content/drive/MyDrive/comp_bio/ABIDE_pcp/ABIDE_pcp/cpac/filt_noglobal/50604/Yale_0050604_rois_cc200.1D\n",
            "Reading timeseries file /content/drive/MyDrive/comp_bio/ABIDE_pcp/ABIDE_pcp/cpac/filt_noglobal/50436/USM_0050436_rois_cc200.1D\n",
            "Reading timeseries file /content/drive/MyDrive/comp_bio/ABIDE_pcp/ABIDE_pcp/cpac/filt_noglobal/50658/CMU_b_0050658_rois_cc200.1D\n",
            "Reading timeseries file /content/drive/MyDrive/comp_bio/ABIDE_pcp/ABIDE_pcp/cpac/filt_noglobal/51128/NYU_0051128_rois_cc200.1D\n",
            "Reading timeseries file /content/drive/MyDrive/comp_bio/ABIDE_pcp/ABIDE_pcp/cpac/filt_noglobal/50667/CMU_b_0050667_rois_cc200.1D\n",
            "Reading timeseries file /content/drive/MyDrive/comp_bio/ABIDE_pcp/ABIDE_pcp/cpac/filt_noglobal/50455/USM_0050455_rois_cc200.1D\n",
            "Reading timeseries file /content/drive/MyDrive/comp_bio/ABIDE_pcp/ABIDE_pcp/cpac/filt_noglobal/50031/Pitt_0050031_rois_cc200.1D\n",
            "Reading timeseries file /content/drive/MyDrive/comp_bio/ABIDE_pcp/ABIDE_pcp/cpac/filt_noglobal/50203/SDSU_0050203_rois_cc200.1D\n",
            "Reading timeseries file /content/drive/MyDrive/comp_bio/ABIDE_pcp/ABIDE_pcp/cpac/filt_noglobal/51117/NYU_0051117_rois_cc200.1D\n",
            "Reading timeseries file /content/drive/MyDrive/comp_bio/ABIDE_pcp/ABIDE_pcp/cpac/filt_noglobal/51325/MaxMun_b_0051325_rois_cc200.1D\n",
            "Reading timeseries file /content/drive/MyDrive/comp_bio/ABIDE_pcp/ABIDE_pcp/cpac/filt_noglobal/50693/Leuven_1_0050693_rois_cc200.1D\n",
            "Reading timeseries file /content/drive/MyDrive/comp_bio/ABIDE_pcp/ABIDE_pcp/cpac/filt_noglobal/51573/SBL_0051573_rois_cc200.1D\n",
            "Reading timeseries file /content/drive/MyDrive/comp_bio/ABIDE_pcp/ABIDE_pcp/cpac/filt_noglobal/50499/USM_0050499_rois_cc200.1D\n",
            "Reading timeseries file /content/drive/MyDrive/comp_bio/ABIDE_pcp/ABIDE_pcp/cpac/filt_noglobal/50009/Pitt_0050009_rois_cc200.1D\n",
            "Reading timeseries file /content/drive/MyDrive/comp_bio/ABIDE_pcp/ABIDE_pcp/cpac/filt_noglobal/51574/SBL_0051574_rois_cc200.1D\n",
            "Reading timeseries file /content/drive/MyDrive/comp_bio/ABIDE_pcp/ABIDE_pcp/cpac/filt_noglobal/50694/Leuven_1_0050694_rois_cc200.1D\n",
            "Reading timeseries file /content/drive/MyDrive/comp_bio/ABIDE_pcp/ABIDE_pcp/cpac/filt_noglobal/51322/MaxMun_b_0051322_rois_cc200.1D\n",
            "Reading timeseries file /content/drive/MyDrive/comp_bio/ABIDE_pcp/ABIDE_pcp/cpac/filt_noglobal/51110/NYU_0051110_rois_cc200.1D\n",
            "Reading timeseries file /content/drive/MyDrive/comp_bio/ABIDE_pcp/ABIDE_pcp/cpac/filt_noglobal/50204/SDSU_0050204_rois_cc200.1D\n",
            "Reading timeseries file /content/drive/MyDrive/comp_bio/ABIDE_pcp/ABIDE_pcp/cpac/filt_noglobal/50036/Pitt_0050036_rois_cc200.1D\n",
            "Reading timeseries file /content/drive/MyDrive/comp_bio/ABIDE_pcp/ABIDE_pcp/cpac/filt_noglobal/51580/SBL_0051580_rois_cc200.1D\n",
            "Reading timeseries file /content/drive/MyDrive/comp_bio/ABIDE_pcp/ABIDE_pcp/cpac/filt_noglobal/50660/CMU_a_0050660_rois_cc200.1D\n",
            "Reading timeseries file /content/drive/MyDrive/comp_bio/ABIDE_pcp/ABIDE_pcp/cpac/filt_noglobal/50803/KKI_0050803_rois_cc200.1D\n",
            "Reading timeseries file /content/drive/MyDrive/comp_bio/ABIDE_pcp/ABIDE_pcp/cpac/filt_noglobal/50669/CMU_b_0050669_rois_cc200.1D\n",
            "Reading timeseries file /content/drive/MyDrive/comp_bio/ABIDE_pcp/ABIDE_pcp/cpac/filt_noglobal/51314/UCLA_2_0051314_rois_cc200.1D\n",
            "Reading timeseries file /content/drive/MyDrive/comp_bio/ABIDE_pcp/ABIDE_pcp/cpac/filt_noglobal/51126/NYU_0051126_rois_cc200.1D\n",
            "Reading timeseries file /content/drive/MyDrive/comp_bio/ABIDE_pcp/ABIDE_pcp/cpac/filt_noglobal/50490/USM_0050490_rois_cc200.1D\n",
            "Reading timeseries file /content/drive/MyDrive/comp_bio/ABIDE_pcp/ABIDE_pcp/cpac/filt_noglobal/50656/CMU_a_0050656_rois_cc200.1D\n",
            "Reading timeseries file /content/drive/MyDrive/comp_bio/ABIDE_pcp/ABIDE_pcp/cpac/filt_noglobal/50232/Trinity_0050232_rois_cc200.1D\n",
            "Reading timeseries file /content/drive/MyDrive/comp_bio/ABIDE_pcp/ABIDE_pcp/cpac/filt_noglobal/50038/Pitt_0050038_rois_cc200.1D\n",
            "Reading timeseries file /content/drive/MyDrive/comp_bio/ABIDE_pcp/ABIDE_pcp/cpac/filt_noglobal/50804/KKI_0050804_rois_cc200.1D\n",
            "Reading timeseries file /content/drive/MyDrive/comp_bio/ABIDE_pcp/ABIDE_pcp/cpac/filt_noglobal/50007/Pitt_0050007_rois_cc200.1D\n",
            "Reading timeseries file /content/drive/MyDrive/comp_bio/ABIDE_pcp/ABIDE_pcp/cpac/filt_noglobal/50235/Trinity_0050235_rois_cc200.1D\n",
            "Reading timeseries file /content/drive/MyDrive/comp_bio/ABIDE_pcp/ABIDE_pcp/cpac/filt_noglobal/50651/CMU_b_0050651_rois_cc200.1D\n",
            "Reading timeseries file /content/drive/MyDrive/comp_bio/ABIDE_pcp/ABIDE_pcp/cpac/filt_noglobal/50463/USM_0050463_rois_cc200.1D\n",
            "Reading timeseries file /content/drive/MyDrive/comp_bio/ABIDE_pcp/ABIDE_pcp/cpac/filt_noglobal/50497/USM_0050497_rois_cc200.1D\n",
            "Reading timeseries file /content/drive/MyDrive/comp_bio/ABIDE_pcp/ABIDE_pcp/cpac/filt_noglobal/51121/NYU_0051121_rois_cc200.1D\n",
            "Reading timeseries file /content/drive/MyDrive/comp_bio/ABIDE_pcp/ABIDE_pcp/cpac/filt_noglobal/51313/UCLA_2_0051313_rois_cc200.1D\n",
            "Reading timeseries file /content/drive/MyDrive/comp_bio/ABIDE_pcp/ABIDE_pcp/cpac/filt_noglobal/50261/Trinity_0050261_rois_cc200.1D\n",
            "Reading timeseries file /content/drive/MyDrive/comp_bio/ABIDE_pcp/ABIDE_pcp/cpac/filt_noglobal/51181/Stanford_0051181_rois_cc200.1D\n",
            "Reading timeseries file /content/drive/MyDrive/comp_bio/ABIDE_pcp/ABIDE_pcp/cpac/filt_noglobal/50053/Pitt_0050053_rois_cc200.1D\n",
            "Reading timeseries file /content/drive/MyDrive/comp_bio/ABIDE_pcp/ABIDE_pcp/cpac/filt_noglobal/50437/USM_0050437_rois_cc200.1D\n",
            "Reading timeseries file /content/drive/MyDrive/comp_bio/ABIDE_pcp/ABIDE_pcp/cpac/filt_noglobal/50605/Yale_0050605_rois_cc200.1D\n",
            "Reading timeseries file /content/drive/MyDrive/comp_bio/ABIDE_pcp/ABIDE_pcp/cpac/filt_noglobal/51347/MaxMun_c_0051347_rois_cc200.1D\n",
            "Reading timeseries file /content/drive/MyDrive/comp_bio/ABIDE_pcp/ABIDE_pcp/cpac/filt_noglobal/50295/UM_1_0050295_rois_cc200.1D\n",
            "Reading timeseries file /content/drive/MyDrive/comp_bio/ABIDE_pcp/ABIDE_pcp/cpac/filt_noglobal/51175/Stanford_0051175_rois_cc200.1D\n",
            "Reading timeseries file /content/drive/MyDrive/comp_bio/ABIDE_pcp/ABIDE_pcp/cpac/filt_noglobal/50408/UM_2_0050408_rois_cc200.1D\n",
            "Reading timeseries file /content/drive/MyDrive/comp_bio/ABIDE_pcp/ABIDE_pcp/cpac/filt_noglobal/51172/Stanford_0051172_rois_cc200.1D\n",
            "Reading timeseries file /content/drive/MyDrive/comp_bio/ABIDE_pcp/ABIDE_pcp/cpac/filt_noglobal/51340/MaxMun_c_0051340_rois_cc200.1D\n",
            "Reading timeseries file /content/drive/MyDrive/comp_bio/ABIDE_pcp/ABIDE_pcp/cpac/filt_noglobal/50292/UM_1_0050292_rois_cc200.1D\n",
            "Reading timeseries file /content/drive/MyDrive/comp_bio/ABIDE_pcp/ABIDE_pcp/cpac/filt_noglobal/50602/Yale_0050602_rois_cc200.1D\n",
            "Reading timeseries file /content/drive/MyDrive/comp_bio/ABIDE_pcp/ABIDE_pcp/cpac/filt_noglobal/51186/Stanford_0051186_rois_cc200.1D\n",
            "Reading timeseries file /content/drive/MyDrive/comp_bio/ABIDE_pcp/ABIDE_pcp/cpac/filt_noglobal/50054/Pitt_0050054_rois_cc200.1D\n",
            "Reading timeseries file /content/drive/MyDrive/comp_bio/ABIDE_pcp/ABIDE_pcp/cpac/filt_noglobal/50266/Trinity_0050266_rois_cc200.1D\n",
            "Reading timeseries file /content/drive/MyDrive/comp_bio/ABIDE_pcp/ABIDE_pcp/cpac/filt_noglobal/50259/Trinity_0050259_rois_cc200.1D\n",
            "Reading timeseries file /content/drive/MyDrive/comp_bio/ABIDE_pcp/ABIDE_pcp/cpac/filt_noglobal/50250/Trinity_0050250_rois_cc200.1D\n",
            "Reading timeseries file /content/drive/MyDrive/comp_bio/ABIDE_pcp/ABIDE_pcp/cpac/filt_noglobal/50406/UM_2_0050406_rois_cc200.1D\n",
            "Reading timeseries file /content/drive/MyDrive/comp_bio/ABIDE_pcp/ABIDE_pcp/cpac/filt_noglobal/51349/MaxMun_d_0051349_rois_cc200.1D\n",
            "Reading timeseries file /content/drive/MyDrive/comp_bio/ABIDE_pcp/ABIDE_pcp/cpac/filt_noglobal/50439/USM_0050439_rois_cc200.1D\n",
            "Reading timeseries file /content/drive/MyDrive/comp_bio/ABIDE_pcp/ABIDE_pcp/cpac/filt_noglobal/50257/Trinity_0050257_rois_cc200.1D\n",
            "Reading timeseries file /content/drive/MyDrive/comp_bio/ABIDE_pcp/ABIDE_pcp/cpac/filt_noglobal/51188/Stanford_0051188_rois_cc200.1D\n",
            "Reading timeseries file /content/drive/MyDrive/comp_bio/ABIDE_pcp/ABIDE_pcp/cpac/filt_noglobal/50268/Trinity_0050268_rois_cc200.1D\n",
            "Reading timeseries file /content/drive/MyDrive/comp_bio/ABIDE_pcp/ABIDE_pcp/cpac/filt_noglobal/51195/Stanford_0051195_rois_cc200.1D\n",
            "Reading timeseries file /content/drive/MyDrive/comp_bio/ABIDE_pcp/ABIDE_pcp/cpac/filt_noglobal/50047/Pitt_0050047_rois_cc200.1D\n",
            "Reading timeseries file /content/drive/MyDrive/comp_bio/ABIDE_pcp/ABIDE_pcp/cpac/filt_noglobal/50275/UM_1_0050275_rois_cc200.1D\n",
            "Reading timeseries file /content/drive/MyDrive/comp_bio/ABIDE_pcp/ABIDE_pcp/cpac/filt_noglobal/50611/Yale_0050611_rois_cc200.1D\n",
            "Reading timeseries file /content/drive/MyDrive/comp_bio/ABIDE_pcp/ABIDE_pcp/cpac/filt_noglobal/51161/Stanford_0051161_rois_cc200.1D\n",
            "Reading timeseries file /content/drive/MyDrive/comp_bio/ABIDE_pcp/ABIDE_pcp/cpac/filt_noglobal/51353/MaxMun_d_0051353_rois_cc200.1D\n",
            "Reading timeseries file /content/drive/MyDrive/comp_bio/ABIDE_pcp/ABIDE_pcp/cpac/filt_noglobal/50281/UM_1_0050281_rois_cc200.1D\n",
            "Reading timeseries file /content/drive/MyDrive/comp_bio/ABIDE_pcp/ABIDE_pcp/cpac/filt_noglobal/51159/NYU_0051159_rois_cc200.1D\n",
            "Reading timeseries file /content/drive/MyDrive/comp_bio/ABIDE_pcp/ABIDE_pcp/cpac/filt_noglobal/51354/MaxMun_d_0051354_rois_cc200.1D\n",
            "Reading timeseries file /content/drive/MyDrive/comp_bio/ABIDE_pcp/ABIDE_pcp/cpac/filt_noglobal/50286/UM_1_0050286_rois_cc200.1D\n",
            "Reading timeseries file /content/drive/MyDrive/comp_bio/ABIDE_pcp/ABIDE_pcp/cpac/filt_noglobal/51166/Stanford_0051166_rois_cc200.1D\n",
            "Reading timeseries file /content/drive/MyDrive/comp_bio/ABIDE_pcp/ABIDE_pcp/cpac/filt_noglobal/50424/UM_2_0050424_rois_cc200.1D\n",
            "Reading timeseries file /content/drive/MyDrive/comp_bio/ABIDE_pcp/ABIDE_pcp/cpac/filt_noglobal/50616/Yale_0050616_rois_cc200.1D\n",
            "Reading timeseries file /content/drive/MyDrive/comp_bio/ABIDE_pcp/ABIDE_pcp/cpac/filt_noglobal/50272/UM_1_0050272_rois_cc200.1D\n",
            "Reading timeseries file /content/drive/MyDrive/comp_bio/ABIDE_pcp/ABIDE_pcp/cpac/filt_noglobal/51192/Stanford_0051192_rois_cc200.1D\n",
            "Reading timeseries file /content/drive/MyDrive/comp_bio/ABIDE_pcp/ABIDE_pcp/cpac/filt_noglobal/50040/Pitt_0050040_rois_cc200.1D\n",
            "Reading timeseries file /content/drive/MyDrive/comp_bio/ABIDE_pcp/ABIDE_pcp/cpac/filt_noglobal/50049/Pitt_0050049_rois_cc200.1D\n",
            "Reading timeseries file /content/drive/MyDrive/comp_bio/ABIDE_pcp/ABIDE_pcp/cpac/filt_noglobal/51362/MaxMun_a_0051362_rois_cc200.1D\n",
            "Reading timeseries file /content/drive/MyDrive/comp_bio/ABIDE_pcp/ABIDE_pcp/cpac/filt_noglobal/51150/NYU_0051150_rois_cc200.1D\n",
            "Reading timeseries file /content/drive/MyDrive/comp_bio/ABIDE_pcp/ABIDE_pcp/cpac/filt_noglobal/50412/UM_2_0050412_rois_cc200.1D\n",
            "Reading timeseries file /content/drive/MyDrive/comp_bio/ABIDE_pcp/ABIDE_pcp/cpac/filt_noglobal/50620/Yale_0050620_rois_cc200.1D\n",
            "Reading timeseries file /content/drive/MyDrive/comp_bio/ABIDE_pcp/ABIDE_pcp/cpac/filt_noglobal/50618/Yale_0050618_rois_cc200.1D\n",
            "Reading timeseries file /content/drive/MyDrive/comp_bio/ABIDE_pcp/ABIDE_pcp/cpac/filt_noglobal/50288/UM_1_0050288_rois_cc200.1D\n",
            "Reading timeseries file /content/drive/MyDrive/comp_bio/ABIDE_pcp/ABIDE_pcp/cpac/filt_noglobal/51168/Stanford_0051168_rois_cc200.1D\n",
            "Reading timeseries file /content/drive/MyDrive/comp_bio/ABIDE_pcp/ABIDE_pcp/cpac/filt_noglobal/50627/Yale_0050627_rois_cc200.1D\n",
            "Reading timeseries file /content/drive/MyDrive/comp_bio/ABIDE_pcp/ABIDE_pcp/cpac/filt_noglobal/50415/UM_2_0050415_rois_cc200.1D\n",
            "Reading timeseries file /content/drive/MyDrive/comp_bio/ABIDE_pcp/ABIDE_pcp/cpac/filt_noglobal/50243/Trinity_0050243_rois_cc200.1D\n",
            "Reading timeseries file /content/drive/MyDrive/comp_bio/ABIDE_pcp/ABIDE_pcp/cpac/filt_noglobal/51365/MaxMun_a_0051365_rois_cc200.1D\n",
            "Reading timeseries file /content/drive/MyDrive/comp_bio/ABIDE_pcp/ABIDE_pcp/cpac/filt_noglobal/50441/USM_0050441_rois_cc200.1D\n",
            "Reading timeseries file /content/drive/MyDrive/comp_bio/ABIDE_pcp/ABIDE_pcp/cpac/filt_noglobal/50217/SDSU_0050217_rois_cc200.1D\n",
            "Reading timeseries file /content/drive/MyDrive/comp_bio/ABIDE_pcp/ABIDE_pcp/cpac/filt_noglobal/50025/Pitt_0050025_rois_cc200.1D\n",
            "Reading timeseries file /content/drive/MyDrive/comp_bio/ABIDE_pcp/ABIDE_pcp/cpac/filt_noglobal/50819/KKI_0050819_rois_cc200.1D\n",
            "Reading timeseries file /content/drive/MyDrive/comp_bio/ABIDE_pcp/ABIDE_pcp/cpac/filt_noglobal/51331/MaxMun_d_0051331_rois_cc200.1D\n",
            "Reading timeseries file /content/drive/MyDrive/comp_bio/ABIDE_pcp/ABIDE_pcp/cpac/filt_noglobal/51103/NYU_0051103_rois_cc200.1D\n",
            "Reading timeseries file /content/drive/MyDrive/comp_bio/ABIDE_pcp/ABIDE_pcp/cpac/filt_noglobal/51567/SBL_0051567_rois_cc200.1D\n",
            "Reading timeseries file /content/drive/MyDrive/comp_bio/ABIDE_pcp/ABIDE_pcp/cpac/filt_noglobal/50687/Leuven_1_0050687_rois_cc200.1D\n",
            "Reading timeseries file /content/drive/MyDrive/comp_bio/ABIDE_pcp/ABIDE_pcp/cpac/filt_noglobal/50826/KKI_0050826_rois_cc200.1D\n",
            "Reading timeseries file /content/drive/MyDrive/comp_bio/ABIDE_pcp/ABIDE_pcp/cpac/filt_noglobal/51558/SBL_0051558_rois_cc200.1D\n",
            "Reading timeseries file /content/drive/MyDrive/comp_bio/ABIDE_pcp/ABIDE_pcp/cpac/filt_noglobal/51560/SBL_0051560_rois_cc200.1D\n",
            "Reading timeseries file /content/drive/MyDrive/comp_bio/ABIDE_pcp/ABIDE_pcp/cpac/filt_noglobal/51104/NYU_0051104_rois_cc200.1D\n",
            "Reading timeseries file /content/drive/MyDrive/comp_bio/ABIDE_pcp/ABIDE_pcp/cpac/filt_noglobal/51336/MaxMun_c_0051336_rois_cc200.1D\n",
            "Reading timeseries file /content/drive/MyDrive/comp_bio/ABIDE_pcp/ABIDE_pcp/cpac/filt_noglobal/50022/Pitt_0050022_rois_cc200.1D\n",
            "Reading timeseries file /content/drive/MyDrive/comp_bio/ABIDE_pcp/ABIDE_pcp/cpac/filt_noglobal/50210/SDSU_0050210_rois_cc200.1D\n",
            "Reading timeseries file /content/drive/MyDrive/comp_bio/ABIDE_pcp/ABIDE_pcp/cpac/filt_noglobal/50446/USM_0050446_rois_cc200.1D\n",
            "Reading timeseries file /content/drive/MyDrive/comp_bio/ABIDE_pcp/ABIDE_pcp/cpac/filt_noglobal/51309/UCLA_2_0051309_rois_cc200.1D\n",
            "Reading timeseries file /content/drive/MyDrive/comp_bio/ABIDE_pcp/ABIDE_pcp/cpac/filt_noglobal/50821/KKI_0050821_rois_cc200.1D\n",
            "Reading timeseries file /content/drive/MyDrive/comp_bio/ABIDE_pcp/ABIDE_pcp/cpac/filt_noglobal/51132/Trinity_0051132_rois_cc200.1D\n",
            "Reading timeseries file /content/drive/MyDrive/comp_bio/ABIDE_pcp/ABIDE_pcp/cpac/filt_noglobal/51300/UCLA_2_0051300_rois_cc200.1D\n",
            "Reading timeseries file /content/drive/MyDrive/comp_bio/ABIDE_pcp/ABIDE_pcp/cpac/filt_noglobal/51556/SBL_0051556_rois_cc200.1D\n",
            "Reading timeseries file /content/drive/MyDrive/comp_bio/ABIDE_pcp/ABIDE_pcp/cpac/filt_noglobal/50642/CMU_a_0050642_rois_cc200.1D\n",
            "Reading timeseries file /content/drive/MyDrive/comp_bio/ABIDE_pcp/ABIDE_pcp/cpac/filt_noglobal/50470/USM_0050470_rois_cc200.1D\n",
            "Reading timeseries file /content/drive/MyDrive/comp_bio/ABIDE_pcp/ABIDE_pcp/cpac/filt_noglobal/50014/Pitt_0050014_rois_cc200.1D\n",
            "Reading timeseries file /content/drive/MyDrive/comp_bio/ABIDE_pcp/ABIDE_pcp/cpac/filt_noglobal/51569/SBL_0051569_rois_cc200.1D\n",
            "Reading timeseries file /content/drive/MyDrive/comp_bio/ABIDE_pcp/ABIDE_pcp/cpac/filt_noglobal/50689/Leuven_1_0050689_rois_cc200.1D\n",
            "Reading timeseries file /content/drive/MyDrive/comp_bio/ABIDE_pcp/ABIDE_pcp/cpac/filt_noglobal/50817/KKI_0050817_rois_cc200.1D\n",
            "Reading timeseries file /content/drive/MyDrive/comp_bio/ABIDE_pcp/ABIDE_pcp/cpac/filt_noglobal/50013/Pitt_0050013_rois_cc200.1D\n",
            "Reading timeseries file /content/drive/MyDrive/comp_bio/ABIDE_pcp/ABIDE_pcp/cpac/filt_noglobal/50477/USM_0050477_rois_cc200.1D\n",
            "Reading timeseries file /content/drive/MyDrive/comp_bio/ABIDE_pcp/ABIDE_pcp/cpac/filt_noglobal/50645/CMU_b_0050645_rois_cc200.1D\n",
            "Reading timeseries file /content/drive/MyDrive/comp_bio/ABIDE_pcp/ABIDE_pcp/cpac/filt_noglobal/50483/USM_0050483_rois_cc200.1D\n",
            "Reading timeseries file /content/drive/MyDrive/comp_bio/ABIDE_pcp/ABIDE_pcp/cpac/filt_noglobal/51307/UCLA_2_0051307_rois_cc200.1D\n",
            "Reading timeseries file /content/drive/MyDrive/comp_bio/ABIDE_pcp/ABIDE_pcp/cpac/filt_noglobal/51135/Trinity_0051135_rois_cc200.1D\n",
            "Reading timeseries file /content/drive/MyDrive/comp_bio/ABIDE_pcp/ABIDE_pcp/cpac/filt_noglobal/50448/USM_0050448_rois_cc200.1D\n",
            "Reading timeseries file /content/drive/MyDrive/comp_bio/ABIDE_pcp/ABIDE_pcp/cpac/filt_noglobal/51338/MaxMun_c_0051338_rois_cc200.1D\n",
            "Reading timeseries file /content/drive/MyDrive/comp_bio/ABIDE_pcp/ABIDE_pcp/cpac/filt_noglobal/51169/Stanford_0051169_rois_cc200.1D\n",
            "Reading timeseries file /content/drive/MyDrive/comp_bio/ABIDE_pcp/ABIDE_pcp/cpac/filt_noglobal/50289/UM_1_0050289_rois_cc200.1D\n",
            "Reading timeseries file /content/drive/MyDrive/comp_bio/ABIDE_pcp/ABIDE_pcp/cpac/filt_noglobal/50619/Yale_0050619_rois_cc200.1D\n",
            "Reading timeseries file /content/drive/MyDrive/comp_bio/ABIDE_pcp/ABIDE_pcp/cpac/filt_noglobal/51364/MaxMun_a_0051364_rois_cc200.1D\n",
            "Reading timeseries file /content/drive/MyDrive/comp_bio/ABIDE_pcp/ABIDE_pcp/cpac/filt_noglobal/51156/NYU_0051156_rois_cc200.1D\n",
            "Reading timeseries file /content/drive/MyDrive/comp_bio/ABIDE_pcp/ABIDE_pcp/cpac/filt_noglobal/50414/UM_2_0050414_rois_cc200.1D\n",
            "Reading timeseries file /content/drive/MyDrive/comp_bio/ABIDE_pcp/ABIDE_pcp/cpac/filt_noglobal/50626/Yale_0050626_rois_cc200.1D\n",
            "Reading timeseries file /content/drive/MyDrive/comp_bio/ABIDE_pcp/ABIDE_pcp/cpac/filt_noglobal/50242/Trinity_0050242_rois_cc200.1D\n",
            "Reading timeseries file /content/drive/MyDrive/comp_bio/ABIDE_pcp/ABIDE_pcp/cpac/filt_noglobal/50048/Pitt_0050048_rois_cc200.1D\n",
            "Reading timeseries file /content/drive/MyDrive/comp_bio/ABIDE_pcp/ABIDE_pcp/cpac/filt_noglobal/50245/Trinity_0050245_rois_cc200.1D\n",
            "Reading timeseries file /content/drive/MyDrive/comp_bio/ABIDE_pcp/ABIDE_pcp/cpac/filt_noglobal/50621/Yale_0050621_rois_cc200.1D\n",
            "Reading timeseries file /content/drive/MyDrive/comp_bio/ABIDE_pcp/ABIDE_pcp/cpac/filt_noglobal/50413/UM_2_0050413_rois_cc200.1D\n",
            "Reading timeseries file /content/drive/MyDrive/comp_bio/ABIDE_pcp/ABIDE_pcp/cpac/filt_noglobal/51151/NYU_0051151_rois_cc200.1D\n",
            "Reading timeseries file /content/drive/MyDrive/comp_bio/ABIDE_pcp/ABIDE_pcp/cpac/filt_noglobal/51363/MaxMun_a_0051363_rois_cc200.1D\n",
            "Reading timeseries file /content/drive/MyDrive/comp_bio/ABIDE_pcp/ABIDE_pcp/cpac/filt_noglobal/50628/Yale_0050628_rois_cc200.1D\n",
            "Reading timeseries file /content/drive/MyDrive/comp_bio/ABIDE_pcp/ABIDE_pcp/cpac/filt_noglobal/50617/Yale_0050617_rois_cc200.1D\n",
            "Reading timeseries file /content/drive/MyDrive/comp_bio/ABIDE_pcp/ABIDE_pcp/cpac/filt_noglobal/50425/UM_2_0050425_rois_cc200.1D\n",
            "Reading timeseries file /content/drive/MyDrive/comp_bio/ABIDE_pcp/ABIDE_pcp/cpac/filt_noglobal/51193/Stanford_0051193_rois_cc200.1D\n",
            "Reading timeseries file /content/drive/MyDrive/comp_bio/ABIDE_pcp/ABIDE_pcp/cpac/filt_noglobal/50041/Pitt_0050041_rois_cc200.1D\n",
            "Reading timeseries file /content/drive/MyDrive/comp_bio/ABIDE_pcp/ABIDE_pcp/cpac/filt_noglobal/50273/UM_1_0050273_rois_cc200.1D\n",
            "Reading timeseries file /content/drive/MyDrive/comp_bio/ABIDE_pcp/ABIDE_pcp/cpac/filt_noglobal/51167/Stanford_0051167_rois_cc200.1D\n",
            "Reading timeseries file /content/drive/MyDrive/comp_bio/ABIDE_pcp/ABIDE_pcp/cpac/filt_noglobal/51355/MaxMun_d_0051355_rois_cc200.1D\n",
            "Reading timeseries file /content/drive/MyDrive/comp_bio/ABIDE_pcp/ABIDE_pcp/cpac/filt_noglobal/50287/UM_1_0050287_rois_cc200.1D\n",
            "Reading timeseries file /content/drive/MyDrive/comp_bio/ABIDE_pcp/ABIDE_pcp/cpac/filt_noglobal/51352/MaxMun_d_0051352_rois_cc200.1D\n",
            "Reading timeseries file /content/drive/MyDrive/comp_bio/ABIDE_pcp/ABIDE_pcp/cpac/filt_noglobal/50280/UM_1_0050280_rois_cc200.1D\n",
            "Reading timeseries file /content/drive/MyDrive/comp_bio/ABIDE_pcp/ABIDE_pcp/cpac/filt_noglobal/51160/Stanford_0051160_rois_cc200.1D\n",
            "Reading timeseries file /content/drive/MyDrive/comp_bio/ABIDE_pcp/ABIDE_pcp/cpac/filt_noglobal/50274/UM_1_0050274_rois_cc200.1D\n",
            "Reading timeseries file /content/drive/MyDrive/comp_bio/ABIDE_pcp/ABIDE_pcp/cpac/filt_noglobal/51194/Stanford_0051194_rois_cc200.1D\n",
            "Reading timeseries file /content/drive/MyDrive/comp_bio/ABIDE_pcp/ABIDE_pcp/cpac/filt_noglobal/50046/Pitt_0050046_rois_cc200.1D\n",
            "Reading timeseries file /content/drive/MyDrive/comp_bio/ABIDE_pcp/ABIDE_pcp/cpac/filt_noglobal/50422/UM_2_0050422_rois_cc200.1D\n",
            "Reading timeseries file /content/drive/MyDrive/comp_bio/ABIDE_pcp/ABIDE_pcp/cpac/filt_noglobal/50610/Yale_0050610_rois_cc200.1D\n",
            "Reading timeseries file /content/drive/MyDrive/comp_bio/ABIDE_pcp/ABIDE_pcp/cpac/filt_noglobal/50482/USM_0050482_rois_cc200.1D\n",
            "Reading timeseries file /content/drive/MyDrive/comp_bio/ABIDE_pcp/ABIDE_pcp/cpac/filt_noglobal/51134/Trinity_0051134_rois_cc200.1D\n",
            "Reading timeseries file /content/drive/MyDrive/comp_bio/ABIDE_pcp/ABIDE_pcp/cpac/filt_noglobal/51306/UCLA_2_0051306_rois_cc200.1D\n",
            "Reading timeseries file /content/drive/MyDrive/comp_bio/ABIDE_pcp/ABIDE_pcp/cpac/filt_noglobal/50012/Pitt_0050012_rois_cc200.1D\n",
            "Reading timeseries file /content/drive/MyDrive/comp_bio/ABIDE_pcp/ABIDE_pcp/cpac/filt_noglobal/50644/CMU_b_0050644_rois_cc200.1D\n",
            "Reading timeseries file /content/drive/MyDrive/comp_bio/ABIDE_pcp/ABIDE_pcp/cpac/filt_noglobal/51339/MaxMun_c_0051339_rois_cc200.1D\n",
            "Reading timeseries file /content/drive/MyDrive/comp_bio/ABIDE_pcp/ABIDE_pcp/cpac/filt_noglobal/50449/USM_0050449_rois_cc200.1D\n",
            "Reading timeseries file /content/drive/MyDrive/comp_bio/ABIDE_pcp/ABIDE_pcp/cpac/filt_noglobal/50643/CMU_b_0050643_rois_cc200.1D\n",
            "Reading timeseries file /content/drive/MyDrive/comp_bio/ABIDE_pcp/ABIDE_pcp/cpac/filt_noglobal/50015/Pitt_0050015_rois_cc200.1D\n",
            "Reading timeseries file /content/drive/MyDrive/comp_bio/ABIDE_pcp/ABIDE_pcp/cpac/filt_noglobal/51301/UCLA_2_0051301_rois_cc200.1D\n",
            "Reading timeseries file /content/drive/MyDrive/comp_bio/ABIDE_pcp/ABIDE_pcp/cpac/filt_noglobal/51133/Trinity_0051133_rois_cc200.1D\n",
            "Reading timeseries file /content/drive/MyDrive/comp_bio/ABIDE_pcp/ABIDE_pcp/cpac/filt_noglobal/50485/USM_0050485_rois_cc200.1D\n",
            "Reading timeseries file /content/drive/MyDrive/comp_bio/ABIDE_pcp/ABIDE_pcp/cpac/filt_noglobal/51557/SBL_0051557_rois_cc200.1D\n",
            "Reading timeseries file /content/drive/MyDrive/comp_bio/ABIDE_pcp/ABIDE_pcp/cpac/filt_noglobal/50816/KKI_0050816_rois_cc200.1D\n",
            "Reading timeseries file /content/drive/MyDrive/comp_bio/ABIDE_pcp/ABIDE_pcp/cpac/filt_noglobal/50688/Leuven_1_0050688_rois_cc200.1D\n",
            "Reading timeseries file /content/drive/MyDrive/comp_bio/ABIDE_pcp/ABIDE_pcp/cpac/filt_noglobal/51568/SBL_0051568_rois_cc200.1D\n",
            "Reading timeseries file /content/drive/MyDrive/comp_bio/ABIDE_pcp/ABIDE_pcp/cpac/filt_noglobal/50211/SDSU_0050211_rois_cc200.1D\n",
            "Reading timeseries file /content/drive/MyDrive/comp_bio/ABIDE_pcp/ABIDE_pcp/cpac/filt_noglobal/50023/Pitt_0050023_rois_cc200.1D\n",
            "Reading timeseries file /content/drive/MyDrive/comp_bio/ABIDE_pcp/ABIDE_pcp/cpac/filt_noglobal/50447/USM_0050447_rois_cc200.1D\n",
            "Reading timeseries file /content/drive/MyDrive/comp_bio/ABIDE_pcp/ABIDE_pcp/cpac/filt_noglobal/51561/SBL_0051561_rois_cc200.1D\n",
            "Reading timeseries file /content/drive/MyDrive/comp_bio/ABIDE_pcp/ABIDE_pcp/cpac/filt_noglobal/51105/NYU_0051105_rois_cc200.1D\n",
            "Reading timeseries file /content/drive/MyDrive/comp_bio/ABIDE_pcp/ABIDE_pcp/cpac/filt_noglobal/50820/KKI_0050820_rois_cc200.1D\n",
            "Reading timeseries file /content/drive/MyDrive/comp_bio/ABIDE_pcp/ABIDE_pcp/cpac/filt_noglobal/51308/UCLA_2_0051308_rois_cc200.1D\n",
            "Reading timeseries file /content/drive/MyDrive/comp_bio/ABIDE_pcp/ABIDE_pcp/cpac/filt_noglobal/51102/NYU_0051102_rois_cc200.1D\n",
            "Reading timeseries file /content/drive/MyDrive/comp_bio/ABIDE_pcp/ABIDE_pcp/cpac/filt_noglobal/51330/MaxMun_d_0051330_rois_cc200.1D\n",
            "Reading timeseries file /content/drive/MyDrive/comp_bio/ABIDE_pcp/ABIDE_pcp/cpac/filt_noglobal/50686/Leuven_1_0050686_rois_cc200.1D\n",
            "Reading timeseries file /content/drive/MyDrive/comp_bio/ABIDE_pcp/ABIDE_pcp/cpac/filt_noglobal/51566/SBL_0051566_rois_cc200.1D\n",
            "Reading timeseries file /content/drive/MyDrive/comp_bio/ABIDE_pcp/ABIDE_pcp/cpac/filt_noglobal/50440/USM_0050440_rois_cc200.1D\n",
            "Reading timeseries file /content/drive/MyDrive/comp_bio/ABIDE_pcp/ABIDE_pcp/cpac/filt_noglobal/50818/KKI_0050818_rois_cc200.1D\n",
            "Reading timeseries file /content/drive/MyDrive/comp_bio/ABIDE_pcp/ABIDE_pcp/cpac/filt_noglobal/50024/Pitt_0050024_rois_cc200.1D\n",
            "Reading timeseries file /content/drive/MyDrive/comp_bio/ABIDE_pcp/ABIDE_pcp/cpac/filt_noglobal/50216/SDSU_0050216_rois_cc200.1D\n",
            "Reading timeseries file /content/drive/MyDrive/comp_bio/ABIDE_pcp/ABIDE_pcp/cpac/filt_noglobal/51559/SBL_0051559_rois_cc200.1D\n",
            "Reading timeseries file /content/drive/MyDrive/comp_bio/ABIDE_pcp/ABIDE_pcp/cpac/filt_noglobal/50169/OHSU_0050169_rois_cc200.1D\n",
            "Reading timeseries file /content/drive/MyDrive/comp_bio/ABIDE_pcp/ABIDE_pcp/cpac/filt_noglobal/50955/NYU_0050955_rois_cc200.1D\n",
            "Reading timeseries file /content/drive/MyDrive/comp_bio/ABIDE_pcp/ABIDE_pcp/cpac/filt_noglobal/50156/OHSU_0050156_rois_cc200.1D\n",
            "Reading timeseries file /content/drive/MyDrive/comp_bio/ABIDE_pcp/ABIDE_pcp/cpac/filt_noglobal/51084/NYU_0051084_rois_cc200.1D\n",
            "Reading timeseries file /content/drive/MyDrive/comp_bio/ABIDE_pcp/ABIDE_pcp/cpac/filt_noglobal/50364/UM_1_0050364_rois_cc200.1D\n",
            "Reading timeseries file /content/drive/MyDrive/comp_bio/ABIDE_pcp/ABIDE_pcp/cpac/filt_noglobal/50700/Leuven_1_0050700_rois_cc200.1D\n",
            "Reading timeseries file /content/drive/MyDrive/comp_bio/ABIDE_pcp/ABIDE_pcp/cpac/filt_noglobal/50532/USM_0050532_rois_cc200.1D\n",
            "Reading timeseries file /content/drive/MyDrive/comp_bio/ABIDE_pcp/ABIDE_pcp/cpac/filt_noglobal/51070/NYU_0051070_rois_cc200.1D\n",
            "Reading timeseries file /content/drive/MyDrive/comp_bio/ABIDE_pcp/ABIDE_pcp/cpac/filt_noglobal/50390/UM_2_0050390_rois_cc200.1D\n",
            "Reading timeseries file /content/drive/MyDrive/comp_bio/ABIDE_pcp/ABIDE_pcp/cpac/filt_noglobal/51048/NYU_0051048_rois_cc200.1D\n",
            "Reading timeseries file /content/drive/MyDrive/comp_bio/ABIDE_pcp/ABIDE_pcp/cpac/filt_noglobal/50952/NYU_0050952_rois_cc200.1D\n",
            "Reading timeseries file /content/drive/MyDrive/comp_bio/ABIDE_pcp/ABIDE_pcp/cpac/filt_noglobal/50738/Leuven_2_0050738_rois_cc200.1D\n",
            "Reading timeseries file /content/drive/MyDrive/comp_bio/ABIDE_pcp/ABIDE_pcp/cpac/filt_noglobal/50397/UM_2_0050397_rois_cc200.1D\n",
            "Reading timeseries file /content/drive/MyDrive/comp_bio/ABIDE_pcp/ABIDE_pcp/cpac/filt_noglobal/51077/NYU_0051077_rois_cc200.1D\n",
            "Reading timeseries file /content/drive/MyDrive/comp_bio/ABIDE_pcp/ABIDE_pcp/cpac/filt_noglobal/50999/NYU_0050999_rois_cc200.1D\n",
            "Reading timeseries file /content/drive/MyDrive/comp_bio/ABIDE_pcp/ABIDE_pcp/cpac/filt_noglobal/50707/Leuven_1_0050707_rois_cc200.1D\n",
            "Reading timeseries file /content/drive/MyDrive/comp_bio/ABIDE_pcp/ABIDE_pcp/cpac/filt_noglobal/50363/UM_1_0050363_rois_cc200.1D\n",
            "Reading timeseries file /content/drive/MyDrive/comp_bio/ABIDE_pcp/ABIDE_pcp/cpac/filt_noglobal/51083/NYU_0051083_rois_cc200.1D\n",
            "Reading timeseries file /content/drive/MyDrive/comp_bio/ABIDE_pcp/ABIDE_pcp/cpac/filt_noglobal/50990/NYU_0050990_rois_cc200.1D\n",
            "Reading timeseries file /content/drive/MyDrive/comp_bio/ABIDE_pcp/ABIDE_pcp/cpac/filt_noglobal/50158/OHSU_0050158_rois_cc200.1D\n",
            "Reading timeseries file /content/drive/MyDrive/comp_bio/ABIDE_pcp/ABIDE_pcp/cpac/filt_noglobal/50964/NYU_0050964_rois_cc200.1D\n",
            "Reading timeseries file /content/drive/MyDrive/comp_bio/ABIDE_pcp/ABIDE_pcp/cpac/filt_noglobal/51273/UCLA_1_0051273_rois_cc200.1D\n",
            "Reading timeseries file /content/drive/MyDrive/comp_bio/ABIDE_pcp/ABIDE_pcp/cpac/filt_noglobal/51041/NYU_0051041_rois_cc200.1D\n",
            "Reading timeseries file /content/drive/MyDrive/comp_bio/ABIDE_pcp/ABIDE_pcp/cpac/filt_noglobal/50193/SDSU_0050193_rois_cc200.1D\n",
            "Reading timeseries file /content/drive/MyDrive/comp_bio/ABIDE_pcp/ABIDE_pcp/cpac/filt_noglobal/50355/UM_1_0050355_rois_cc200.1D\n",
            "Reading timeseries file /content/drive/MyDrive/comp_bio/ABIDE_pcp/ABIDE_pcp/cpac/filt_noglobal/50167/OHSU_0050167_rois_cc200.1D\n",
            "Reading timeseries file /content/drive/MyDrive/comp_bio/ABIDE_pcp/ABIDE_pcp/cpac/filt_noglobal/50503/USM_0050503_rois_cc200.1D\n",
            "Reading timeseries file /content/drive/MyDrive/comp_bio/ABIDE_pcp/ABIDE_pcp/cpac/filt_noglobal/50731/Leuven_2_0050731_rois_cc200.1D\n",
            "Reading timeseries file /content/drive/MyDrive/comp_bio/ABIDE_pcp/ABIDE_pcp/cpac/filt_noglobal/50709/Leuven_1_0050709_rois_cc200.1D\n",
            "Reading timeseries file /content/drive/MyDrive/comp_bio/ABIDE_pcp/ABIDE_pcp/cpac/filt_noglobal/50399/UM_2_0050399_rois_cc200.1D\n",
            "Reading timeseries file /content/drive/MyDrive/comp_bio/ABIDE_pcp/ABIDE_pcp/cpac/filt_noglobal/51079/NYU_0051079_rois_cc200.1D\n",
            "Reading timeseries file /content/drive/MyDrive/comp_bio/ABIDE_pcp/ABIDE_pcp/cpac/filt_noglobal/50997/NYU_0050997_rois_cc200.1D\n",
            "Reading timeseries file /content/drive/MyDrive/comp_bio/ABIDE_pcp/ABIDE_pcp/cpac/filt_noglobal/50736/Leuven_2_0050736_rois_cc200.1D\n",
            "Reading timeseries file /content/drive/MyDrive/comp_bio/ABIDE_pcp/ABIDE_pcp/cpac/filt_noglobal/50504/USM_0050504_rois_cc200.1D\n",
            "Reading timeseries file /content/drive/MyDrive/comp_bio/ABIDE_pcp/ABIDE_pcp/cpac/filt_noglobal/50160/OHSU_0050160_rois_cc200.1D\n",
            "Reading timeseries file /content/drive/MyDrive/comp_bio/ABIDE_pcp/ABIDE_pcp/cpac/filt_noglobal/51280/UCLA_1_0051280_rois_cc200.1D\n",
            "Reading timeseries file /content/drive/MyDrive/comp_bio/ABIDE_pcp/ABIDE_pcp/cpac/filt_noglobal/50352/UM_1_0050352_rois_cc200.1D\n",
            "Reading timeseries file /content/drive/MyDrive/comp_bio/ABIDE_pcp/ABIDE_pcp/cpac/filt_noglobal/51046/NYU_0051046_rois_cc200.1D\n",
            "Reading timeseries file /content/drive/MyDrive/comp_bio/ABIDE_pcp/ABIDE_pcp/cpac/filt_noglobal/50194/SDSU_0050194_rois_cc200.1D\n",
            "Reading timeseries file /content/drive/MyDrive/comp_bio/ABIDE_pcp/ABIDE_pcp/cpac/filt_noglobal/51274/UCLA_1_0051274_rois_cc200.1D\n",
            "Reading timeseries file /content/drive/MyDrive/comp_bio/ABIDE_pcp/ABIDE_pcp/cpac/filt_noglobal/51482/Caltech_0051482_rois_cc200.1D\n",
            "Reading timeseries file /content/drive/MyDrive/comp_bio/ABIDE_pcp/ABIDE_pcp/cpac/filt_noglobal/50306/UM_1_0050306_rois_cc200.1D\n",
            "Reading timeseries file /content/drive/MyDrive/comp_bio/ABIDE_pcp/ABIDE_pcp/cpac/filt_noglobal/50134/Olin_0050134_rois_cc200.1D\n",
            "Reading timeseries file /content/drive/MyDrive/comp_bio/ABIDE_pcp/ABIDE_pcp/cpac/filt_noglobal/51220/UCLA_1_0051220_rois_cc200.1D\n",
            "Reading timeseries file /content/drive/MyDrive/comp_bio/ABIDE_pcp/ABIDE_pcp/cpac/filt_noglobal/51012/NYU_0051012_rois_cc200.1D\n",
            "Reading timeseries file /content/drive/MyDrive/comp_bio/ABIDE_pcp/ABIDE_pcp/cpac/filt_noglobal/51476/Caltech_0051476_rois_cc200.1D\n",
            "Reading timeseries file /content/drive/MyDrive/comp_bio/ABIDE_pcp/ABIDE_pcp/cpac/filt_noglobal/50796/KKI_0050796_rois_cc200.1D\n",
            "Reading timeseries file /content/drive/MyDrive/comp_bio/ABIDE_pcp/ABIDE_pcp/cpac/filt_noglobal/50339/UM_1_0050339_rois_cc200.1D\n",
            "Reading timeseries file /content/drive/MyDrive/comp_bio/ABIDE_pcp/ABIDE_pcp/cpac/filt_noglobal/50791/KKI_0050791_rois_cc200.1D\n",
            "Reading timeseries file /content/drive/MyDrive/comp_bio/ABIDE_pcp/ABIDE_pcp/cpac/filt_noglobal/51471/Caltech_0051471_rois_cc200.1D\n",
            "Reading timeseries file /content/drive/MyDrive/comp_bio/ABIDE_pcp/ABIDE_pcp/cpac/filt_noglobal/51015/NYU_0051015_rois_cc200.1D\n",
            "Reading timeseries file /content/drive/MyDrive/comp_bio/ABIDE_pcp/ABIDE_pcp/cpac/filt_noglobal/51227/UCLA_1_0051227_rois_cc200.1D\n",
            "Reading timeseries file /content/drive/MyDrive/comp_bio/ABIDE_pcp/ABIDE_pcp/cpac/filt_noglobal/50133/Olin_0050133_rois_cc200.1D\n",
            "Reading timeseries file /content/drive/MyDrive/comp_bio/ABIDE_pcp/ABIDE_pcp/cpac/filt_noglobal/50301/UM_1_0050301_rois_cc200.1D\n",
            "Reading timeseries file /content/drive/MyDrive/comp_bio/ABIDE_pcp/ABIDE_pcp/cpac/filt_noglobal/50557/Yale_0050557_rois_cc200.1D\n",
            "Reading timeseries file /content/drive/MyDrive/comp_bio/ABIDE_pcp/ABIDE_pcp/cpac/filt_noglobal/51485/Caltech_0051485_rois_cc200.1D\n",
            "Reading timeseries file /content/drive/MyDrive/comp_bio/ABIDE_pcp/ABIDE_pcp/cpac/filt_noglobal/51218/UCLA_1_0051218_rois_cc200.1D\n",
            "Reading timeseries file /content/drive/MyDrive/comp_bio/ABIDE_pcp/ABIDE_pcp/cpac/filt_noglobal/50568/Yale_0050568_rois_cc200.1D\n",
            "Reading timeseries file /content/drive/MyDrive/comp_bio/ABIDE_pcp/ABIDE_pcp/cpac/filt_noglobal/51023/NYU_0051023_rois_cc200.1D\n",
            "Reading timeseries file /content/drive/MyDrive/comp_bio/ABIDE_pcp/ABIDE_pcp/cpac/filt_noglobal/51211/UCLA_1_0051211_rois_cc200.1D\n",
            "Reading timeseries file /content/drive/MyDrive/comp_bio/ABIDE_pcp/ABIDE_pcp/cpac/filt_noglobal/50753/Leuven_2_0050753_rois_cc200.1D\n",
            "Reading timeseries file /content/drive/MyDrive/comp_bio/ABIDE_pcp/ABIDE_pcp/cpac/filt_noglobal/50561/Yale_0050561_rois_cc200.1D\n",
            "Reading timeseries file /content/drive/MyDrive/comp_bio/ABIDE_pcp/ABIDE_pcp/cpac/filt_noglobal/50105/Olin_0050105_rois_cc200.1D\n",
            "Reading timeseries file /content/drive/MyDrive/comp_bio/ABIDE_pcp/ABIDE_pcp/cpac/filt_noglobal/50337/UM_1_0050337_rois_cc200.1D\n",
            "Reading timeseries file /content/drive/MyDrive/comp_bio/ABIDE_pcp/ABIDE_pcp/cpac/filt_noglobal/51478/Caltech_0051478_rois_cc200.1D\n",
            "Reading timeseries file /content/drive/MyDrive/comp_bio/ABIDE_pcp/ABIDE_pcp/cpac/filt_noglobal/50798/KKI_0050798_rois_cc200.1D\n",
            "Reading timeseries file /content/drive/MyDrive/comp_bio/ABIDE_pcp/ABIDE_pcp/cpac/filt_noglobal/50308/UM_1_0050308_rois_cc200.1D\n",
            "Reading timeseries file /content/drive/MyDrive/comp_bio/ABIDE_pcp/ABIDE_pcp/cpac/filt_noglobal/50330/UM_1_0050330_rois_cc200.1D\n",
            "Reading timeseries file /content/drive/MyDrive/comp_bio/ABIDE_pcp/ABIDE_pcp/cpac/filt_noglobal/50102/Olin_0050102_rois_cc200.1D\n",
            "Reading timeseries file /content/drive/MyDrive/comp_bio/ABIDE_pcp/ABIDE_pcp/cpac/filt_noglobal/50566/Yale_0050566_rois_cc200.1D\n",
            "Reading timeseries file /content/drive/MyDrive/comp_bio/ABIDE_pcp/ABIDE_pcp/cpac/filt_noglobal/50754/Leuven_2_0050754_rois_cc200.1D\n",
            "Reading timeseries file /content/drive/MyDrive/comp_bio/ABIDE_pcp/ABIDE_pcp/cpac/filt_noglobal/51216/UCLA_1_0051216_rois_cc200.1D\n",
            "Reading timeseries file /content/drive/MyDrive/comp_bio/ABIDE_pcp/ABIDE_pcp/cpac/filt_noglobal/51024/NYU_0051024_rois_cc200.1D\n",
            "Reading timeseries file /content/drive/MyDrive/comp_bio/ABIDE_pcp/ABIDE_pcp/cpac/filt_noglobal/50559/Yale_0050559_rois_cc200.1D\n",
            "Reading timeseries file /content/drive/MyDrive/comp_bio/ABIDE_pcp/ABIDE_pcp/cpac/filt_noglobal/51229/UCLA_1_0051229_rois_cc200.1D\n",
            "Reading timeseries file /content/drive/MyDrive/comp_bio/ABIDE_pcp/ABIDE_pcp/cpac/filt_noglobal/50996/NYU_0050996_rois_cc200.1D\n",
            "Reading timeseries file /content/drive/MyDrive/comp_bio/ABIDE_pcp/ABIDE_pcp/cpac/filt_noglobal/51078/NYU_0051078_rois_cc200.1D\n",
            "Reading timeseries file /content/drive/MyDrive/comp_bio/ABIDE_pcp/ABIDE_pcp/cpac/filt_noglobal/50962/NYU_0050962_rois_cc200.1D\n",
            "Reading timeseries file /content/drive/MyDrive/comp_bio/ABIDE_pcp/ABIDE_pcp/cpac/filt_noglobal/50708/Leuven_1_0050708_rois_cc200.1D\n",
            "Reading timeseries file /content/drive/MyDrive/comp_bio/ABIDE_pcp/ABIDE_pcp/cpac/filt_noglobal/51275/UCLA_1_0051275_rois_cc200.1D\n",
            "Reading timeseries file /content/drive/MyDrive/comp_bio/ABIDE_pcp/ABIDE_pcp/cpac/filt_noglobal/51047/NYU_0051047_rois_cc200.1D\n",
            "Reading timeseries file /content/drive/MyDrive/comp_bio/ABIDE_pcp/ABIDE_pcp/cpac/filt_noglobal/50195/SDSU_0050195_rois_cc200.1D\n",
            "Reading timeseries file /content/drive/MyDrive/comp_bio/ABIDE_pcp/ABIDE_pcp/cpac/filt_noglobal/50505/USM_0050505_rois_cc200.1D\n",
            "Reading timeseries file /content/drive/MyDrive/comp_bio/ABIDE_pcp/ABIDE_pcp/cpac/filt_noglobal/50737/Leuven_2_0050737_rois_cc200.1D\n",
            "Reading timeseries file /content/drive/MyDrive/comp_bio/ABIDE_pcp/ABIDE_pcp/cpac/filt_noglobal/51281/UCLA_1_0051281_rois_cc200.1D\n",
            "Reading timeseries file /content/drive/MyDrive/comp_bio/ABIDE_pcp/ABIDE_pcp/cpac/filt_noglobal/50353/UM_1_0050353_rois_cc200.1D\n",
            "Reading timeseries file /content/drive/MyDrive/comp_bio/ABIDE_pcp/ABIDE_pcp/cpac/filt_noglobal/50161/OHSU_0050161_rois_cc200.1D\n",
            "Reading timeseries file /content/drive/MyDrive/comp_bio/ABIDE_pcp/ABIDE_pcp/cpac/filt_noglobal/50965/NYU_0050965_rois_cc200.1D\n",
            "Reading timeseries file /content/drive/MyDrive/comp_bio/ABIDE_pcp/ABIDE_pcp/cpac/filt_noglobal/50159/OHSU_0050159_rois_cc200.1D\n",
            "Reading timeseries file /content/drive/MyDrive/comp_bio/ABIDE_pcp/ABIDE_pcp/cpac/filt_noglobal/50991/NYU_0050991_rois_cc200.1D\n",
            "Reading timeseries file /content/drive/MyDrive/comp_bio/ABIDE_pcp/ABIDE_pcp/cpac/filt_noglobal/50166/OHSU_0050166_rois_cc200.1D\n",
            "Reading timeseries file /content/drive/MyDrive/comp_bio/ABIDE_pcp/ABIDE_pcp/cpac/filt_noglobal/50354/UM_1_0050354_rois_cc200.1D\n",
            "Reading timeseries file /content/drive/MyDrive/comp_bio/ABIDE_pcp/ABIDE_pcp/cpac/filt_noglobal/50730/Leuven_2_0050730_rois_cc200.1D\n",
            "Reading timeseries file /content/drive/MyDrive/comp_bio/ABIDE_pcp/ABIDE_pcp/cpac/filt_noglobal/50502/USM_0050502_rois_cc200.1D\n",
            "Reading timeseries file /content/drive/MyDrive/comp_bio/ABIDE_pcp/ABIDE_pcp/cpac/filt_noglobal/51040/NYU_0051040_rois_cc200.1D\n",
            "Reading timeseries file /content/drive/MyDrive/comp_bio/ABIDE_pcp/ABIDE_pcp/cpac/filt_noglobal/50192/SDSU_0050192_rois_cc200.1D\n",
            "Reading timeseries file /content/drive/MyDrive/comp_bio/ABIDE_pcp/ABIDE_pcp/cpac/filt_noglobal/51272/UCLA_1_0051272_rois_cc200.1D\n",
            "Reading timeseries file /content/drive/MyDrive/comp_bio/ABIDE_pcp/ABIDE_pcp/cpac/filt_noglobal/50739/Leuven_2_0050739_rois_cc200.1D\n",
            "Reading timeseries file /content/drive/MyDrive/comp_bio/ABIDE_pcp/ABIDE_pcp/cpac/filt_noglobal/51049/NYU_0051049_rois_cc200.1D\n",
            "Reading timeseries file /content/drive/MyDrive/comp_bio/ABIDE_pcp/ABIDE_pcp/cpac/filt_noglobal/50706/Leuven_1_0050706_rois_cc200.1D\n",
            "Reading timeseries file /content/drive/MyDrive/comp_bio/ABIDE_pcp/ABIDE_pcp/cpac/filt_noglobal/50150/OHSU_0050150_rois_cc200.1D\n",
            "Reading timeseries file /content/drive/MyDrive/comp_bio/ABIDE_pcp/ABIDE_pcp/cpac/filt_noglobal/51082/NYU_0051082_rois_cc200.1D\n",
            "Reading timeseries file /content/drive/MyDrive/comp_bio/ABIDE_pcp/ABIDE_pcp/cpac/filt_noglobal/50362/UM_1_0050362_rois_cc200.1D\n",
            "Reading timeseries file /content/drive/MyDrive/comp_bio/ABIDE_pcp/ABIDE_pcp/cpac/filt_noglobal/50998/NYU_0050998_rois_cc200.1D\n",
            "Reading timeseries file /content/drive/MyDrive/comp_bio/ABIDE_pcp/ABIDE_pcp/cpac/filt_noglobal/51076/NYU_0051076_rois_cc200.1D\n",
            "Reading timeseries file /content/drive/MyDrive/comp_bio/ABIDE_pcp/ABIDE_pcp/cpac/filt_noglobal/50954/NYU_0050954_rois_cc200.1D\n",
            "Reading timeseries file /content/drive/MyDrive/comp_bio/ABIDE_pcp/ABIDE_pcp/cpac/filt_noglobal/50168/OHSU_0050168_rois_cc200.1D\n",
            "Reading timeseries file /content/drive/MyDrive/comp_bio/ABIDE_pcp/ABIDE_pcp/cpac/filt_noglobal/50391/UM_2_0050391_rois_cc200.1D\n",
            "Reading timeseries file /content/drive/MyDrive/comp_bio/ABIDE_pcp/ABIDE_pcp/cpac/filt_noglobal/51071/NYU_0051071_rois_cc200.1D\n",
            "Reading timeseries file /content/drive/MyDrive/comp_bio/ABIDE_pcp/ABIDE_pcp/cpac/filt_noglobal/50365/UM_1_0050365_rois_cc200.1D\n",
            "Reading timeseries file /content/drive/MyDrive/comp_bio/ABIDE_pcp/ABIDE_pcp/cpac/filt_noglobal/50157/OHSU_0050157_rois_cc200.1D\n",
            "Reading timeseries file /content/drive/MyDrive/comp_bio/ABIDE_pcp/ABIDE_pcp/cpac/filt_noglobal/51085/NYU_0051085_rois_cc200.1D\n",
            "Reading timeseries file /content/drive/MyDrive/comp_bio/ABIDE_pcp/ABIDE_pcp/cpac/filt_noglobal/50701/Leuven_1_0050701_rois_cc200.1D\n",
            "Reading timeseries file /content/drive/MyDrive/comp_bio/ABIDE_pcp/ABIDE_pcp/cpac/filt_noglobal/51025/NYU_0051025_rois_cc200.1D\n",
            "Reading timeseries file /content/drive/MyDrive/comp_bio/ABIDE_pcp/ABIDE_pcp/cpac/filt_noglobal/51217/UCLA_1_0051217_rois_cc200.1D\n",
            "Reading timeseries file /content/drive/MyDrive/comp_bio/ABIDE_pcp/ABIDE_pcp/cpac/filt_noglobal/50103/Olin_0050103_rois_cc200.1D\n",
            "Reading timeseries file /content/drive/MyDrive/comp_bio/ABIDE_pcp/ABIDE_pcp/cpac/filt_noglobal/50331/UM_1_0050331_rois_cc200.1D\n",
            "Reading timeseries file /content/drive/MyDrive/comp_bio/ABIDE_pcp/ABIDE_pcp/cpac/filt_noglobal/50755/Leuven_2_0050755_rois_cc200.1D\n",
            "Reading timeseries file /content/drive/MyDrive/comp_bio/ABIDE_pcp/ABIDE_pcp/cpac/filt_noglobal/50567/Yale_0050567_rois_cc200.1D\n",
            "Reading timeseries file /content/drive/MyDrive/comp_bio/ABIDE_pcp/ABIDE_pcp/cpac/filt_noglobal/51228/UCLA_1_0051228_rois_cc200.1D\n",
            "Reading timeseries file /content/drive/MyDrive/comp_bio/ABIDE_pcp/ABIDE_pcp/cpac/filt_noglobal/50558/Yale_0050558_rois_cc200.1D\n",
            "Reading timeseries file /content/drive/MyDrive/comp_bio/ABIDE_pcp/ABIDE_pcp/cpac/filt_noglobal/50560/Yale_0050560_rois_cc200.1D\n",
            "Reading timeseries file /content/drive/MyDrive/comp_bio/ABIDE_pcp/ABIDE_pcp/cpac/filt_noglobal/50752/Leuven_2_0050752_rois_cc200.1D\n",
            "Reading timeseries file /content/drive/MyDrive/comp_bio/ABIDE_pcp/ABIDE_pcp/cpac/filt_noglobal/50336/UM_1_0050336_rois_cc200.1D\n",
            "Reading timeseries file /content/drive/MyDrive/comp_bio/ABIDE_pcp/ABIDE_pcp/cpac/filt_noglobal/50104/Olin_0050104_rois_cc200.1D\n",
            "Reading timeseries file /content/drive/MyDrive/comp_bio/ABIDE_pcp/ABIDE_pcp/cpac/filt_noglobal/51210/UCLA_1_0051210_rois_cc200.1D\n",
            "Reading timeseries file /content/drive/MyDrive/comp_bio/ABIDE_pcp/ABIDE_pcp/cpac/filt_noglobal/50799/KKI_0050799_rois_cc200.1D\n",
            "Reading timeseries file /content/drive/MyDrive/comp_bio/ABIDE_pcp/ABIDE_pcp/cpac/filt_noglobal/51479/Caltech_0051479_rois_cc200.1D\n",
            "Reading timeseries file /content/drive/MyDrive/comp_bio/ABIDE_pcp/ABIDE_pcp/cpac/filt_noglobal/50300/UM_1_0050300_rois_cc200.1D\n",
            "Reading timeseries file /content/drive/MyDrive/comp_bio/ABIDE_pcp/ABIDE_pcp/cpac/filt_noglobal/50132/Olin_0050132_rois_cc200.1D\n",
            "Reading timeseries file /content/drive/MyDrive/comp_bio/ABIDE_pcp/ABIDE_pcp/cpac/filt_noglobal/50556/Yale_0050556_rois_cc200.1D\n",
            "Reading timeseries file /content/drive/MyDrive/comp_bio/ABIDE_pcp/ABIDE_pcp/cpac/filt_noglobal/51484/Caltech_0051484_rois_cc200.1D\n",
            "Reading timeseries file /content/drive/MyDrive/comp_bio/ABIDE_pcp/ABIDE_pcp/cpac/filt_noglobal/51470/Caltech_0051470_rois_cc200.1D\n",
            "Reading timeseries file /content/drive/MyDrive/comp_bio/ABIDE_pcp/ABIDE_pcp/cpac/filt_noglobal/50790/KKI_0050790_rois_cc200.1D\n",
            "Reading timeseries file /content/drive/MyDrive/comp_bio/ABIDE_pcp/ABIDE_pcp/cpac/filt_noglobal/51226/UCLA_1_0051226_rois_cc200.1D\n",
            "Reading timeseries file /content/drive/MyDrive/comp_bio/ABIDE_pcp/ABIDE_pcp/cpac/filt_noglobal/51014/NYU_0051014_rois_cc200.1D\n",
            "Reading timeseries file /content/drive/MyDrive/comp_bio/ABIDE_pcp/ABIDE_pcp/cpac/filt_noglobal/50569/Yale_0050569_rois_cc200.1D\n",
            "Reading timeseries file /content/drive/MyDrive/comp_bio/ABIDE_pcp/ABIDE_pcp/cpac/filt_noglobal/51219/UCLA_1_0051219_rois_cc200.1D\n",
            "Reading timeseries file /content/drive/MyDrive/comp_bio/ABIDE_pcp/ABIDE_pcp/cpac/filt_noglobal/51013/NYU_0051013_rois_cc200.1D\n",
            "Reading timeseries file /content/drive/MyDrive/comp_bio/ABIDE_pcp/ABIDE_pcp/cpac/filt_noglobal/51221/UCLA_1_0051221_rois_cc200.1D\n",
            "Reading timeseries file /content/drive/MyDrive/comp_bio/ABIDE_pcp/ABIDE_pcp/cpac/filt_noglobal/50797/KKI_0050797_rois_cc200.1D\n",
            "Reading timeseries file /content/drive/MyDrive/comp_bio/ABIDE_pcp/ABIDE_pcp/cpac/filt_noglobal/51477/Caltech_0051477_rois_cc200.1D\n",
            "Reading timeseries file /content/drive/MyDrive/comp_bio/ABIDE_pcp/ABIDE_pcp/cpac/filt_noglobal/50551/Yale_0050551_rois_cc200.1D\n",
            "Reading timeseries file /content/drive/MyDrive/comp_bio/ABIDE_pcp/ABIDE_pcp/cpac/filt_noglobal/51483/Caltech_0051483_rois_cc200.1D\n",
            "Reading timeseries file /content/drive/MyDrive/comp_bio/ABIDE_pcp/ABIDE_pcp/cpac/filt_noglobal/50135/Olin_0050135_rois_cc200.1D\n",
            "Reading timeseries file /content/drive/MyDrive/comp_bio/ABIDE_pcp/ABIDE_pcp/cpac/filt_noglobal/50307/UM_1_0050307_rois_cc200.1D\n",
            "Reading timeseries file /content/drive/MyDrive/comp_bio/ABIDE_pcp/ABIDE_pcp/cpac/filt_noglobal/50338/UM_1_0050338_rois_cc200.1D\n",
            "Reading timeseries file /content/drive/MyDrive/comp_bio/ABIDE_pcp/ABIDE_pcp/cpac/filt_noglobal/50171/OHSU_0050171_rois_cc200.1D\n",
            "Reading timeseries file /content/drive/MyDrive/comp_bio/ABIDE_pcp/ABIDE_pcp/cpac/filt_noglobal/50343/UM_1_0050343_rois_cc200.1D\n",
            "Reading timeseries file /content/drive/MyDrive/comp_bio/ABIDE_pcp/ABIDE_pcp/cpac/filt_noglobal/51291/UCLA_2_0051291_rois_cc200.1D\n",
            "Reading timeseries file /content/drive/MyDrive/comp_bio/ABIDE_pcp/ABIDE_pcp/cpac/filt_noglobal/50727/Leuven_2_0050727_rois_cc200.1D\n",
            "Reading timeseries file /content/drive/MyDrive/comp_bio/ABIDE_pcp/ABIDE_pcp/cpac/filt_noglobal/50515/USM_0050515_rois_cc200.1D\n",
            "Reading timeseries file /content/drive/MyDrive/comp_bio/ABIDE_pcp/ABIDE_pcp/cpac/filt_noglobal/50185/SDSU_0050185_rois_cc200.1D\n",
            "Reading timeseries file /content/drive/MyDrive/comp_bio/ABIDE_pcp/ABIDE_pcp/cpac/filt_noglobal/51057/NYU_0051057_rois_cc200.1D\n",
            "Reading timeseries file /content/drive/MyDrive/comp_bio/ABIDE_pcp/ABIDE_pcp/cpac/filt_noglobal/51265/UCLA_1_0051265_rois_cc200.1D\n",
            "Reading timeseries file /content/drive/MyDrive/comp_bio/ABIDE_pcp/ABIDE_pcp/cpac/filt_noglobal/50972/NYU_0050972_rois_cc200.1D\n",
            "Reading timeseries file /content/drive/MyDrive/comp_bio/ABIDE_pcp/ABIDE_pcp/cpac/filt_noglobal/50388/UM_2_0050388_rois_cc200.1D\n",
            "Reading timeseries file /content/drive/MyDrive/comp_bio/ABIDE_pcp/ABIDE_pcp/cpac/filt_noglobal/50986/NYU_0050986_rois_cc200.1D\n",
            "Reading timeseries file /content/drive/MyDrive/comp_bio/ABIDE_pcp/ABIDE_pcp/cpac/filt_noglobal/51068/NYU_0051068_rois_cc200.1D\n",
            "Reading timeseries file /content/drive/MyDrive/comp_bio/ABIDE_pcp/ABIDE_pcp/cpac/filt_noglobal/51262/UCLA_1_0051262_rois_cc200.1D\n",
            "Reading timeseries file /content/drive/MyDrive/comp_bio/ABIDE_pcp/ABIDE_pcp/cpac/filt_noglobal/50182/SDSU_0050182_rois_cc200.1D\n",
            "Reading timeseries file /content/drive/MyDrive/comp_bio/ABIDE_pcp/ABIDE_pcp/cpac/filt_noglobal/51050/NYU_0051050_rois_cc200.1D\n",
            "Reading timeseries file /content/drive/MyDrive/comp_bio/ABIDE_pcp/ABIDE_pcp/cpac/filt_noglobal/51606/MaxMun_a_0051606_rois_cc200.1D\n",
            "Reading timeseries file /content/drive/MyDrive/comp_bio/ABIDE_pcp/ABIDE_pcp/cpac/filt_noglobal/50344/UM_1_0050344_rois_cc200.1D\n",
            "Reading timeseries file /content/drive/MyDrive/comp_bio/ABIDE_pcp/ABIDE_pcp/cpac/filt_noglobal/51296/UCLA_2_0051296_rois_cc200.1D\n",
            "Reading timeseries file /content/drive/MyDrive/comp_bio/ABIDE_pcp/ABIDE_pcp/cpac/filt_noglobal/50981/NYU_0050981_rois_cc200.1D\n",
            "Reading timeseries file /content/drive/MyDrive/comp_bio/ABIDE_pcp/ABIDE_pcp/cpac/filt_noglobal/50149/OHSU_0050149_rois_cc200.1D\n",
            "Reading timeseries file /content/drive/MyDrive/comp_bio/ABIDE_pcp/ABIDE_pcp/cpac/filt_noglobal/51254/UCLA_1_0051254_rois_cc200.1D\n",
            "Reading timeseries file /content/drive/MyDrive/comp_bio/ABIDE_pcp/ABIDE_pcp/cpac/filt_noglobal/50386/UM_2_0050386_rois_cc200.1D\n",
            "Reading timeseries file /content/drive/MyDrive/comp_bio/ABIDE_pcp/ABIDE_pcp/cpac/filt_noglobal/50988/NYU_0050988_rois_cc200.1D\n",
            "Reading timeseries file /content/drive/MyDrive/comp_bio/ABIDE_pcp/ABIDE_pcp/cpac/filt_noglobal/51066/NYU_0051066_rois_cc200.1D\n",
            "Reading timeseries file /content/drive/MyDrive/comp_bio/ABIDE_pcp/ABIDE_pcp/cpac/filt_noglobal/50372/UM_1_0050372_rois_cc200.1D\n",
            "Reading timeseries file /content/drive/MyDrive/comp_bio/ABIDE_pcp/ABIDE_pcp/cpac/filt_noglobal/50524/USM_0050524_rois_cc200.1D\n",
            "Reading timeseries file /content/drive/MyDrive/comp_bio/ABIDE_pcp/ABIDE_pcp/cpac/filt_noglobal/51059/NYU_0051059_rois_cc200.1D\n",
            "Reading timeseries file /content/drive/MyDrive/comp_bio/ABIDE_pcp/ABIDE_pcp/cpac/filt_noglobal/50711/Leuven_1_0050711_rois_cc200.1D\n",
            "Reading timeseries file /content/drive/MyDrive/comp_bio/ABIDE_pcp/ABIDE_pcp/cpac/filt_noglobal/50523/USM_0050523_rois_cc200.1D\n",
            "Reading timeseries file /content/drive/MyDrive/comp_bio/ABIDE_pcp/ABIDE_pcp/cpac/filt_noglobal/51095/NYU_0051095_rois_cc200.1D\n",
            "Reading timeseries file /content/drive/MyDrive/comp_bio/ABIDE_pcp/ABIDE_pcp/cpac/filt_noglobal/50147/OHSU_0050147_rois_cc200.1D\n",
            "Reading timeseries file /content/drive/MyDrive/comp_bio/ABIDE_pcp/ABIDE_pcp/cpac/filt_noglobal/50375/UM_1_0050375_rois_cc200.1D\n",
            "Reading timeseries file /content/drive/MyDrive/comp_bio/ABIDE_pcp/ABIDE_pcp/cpac/filt_noglobal/51061/NYU_0051061_rois_cc200.1D\n",
            "Reading timeseries file /content/drive/MyDrive/comp_bio/ABIDE_pcp/ABIDE_pcp/cpac/filt_noglobal/51253/UCLA_1_0051253_rois_cc200.1D\n",
            "Reading timeseries file /content/drive/MyDrive/comp_bio/ABIDE_pcp/ABIDE_pcp/cpac/filt_noglobal/50381/UM_1_0050381_rois_cc200.1D\n",
            "Reading timeseries file /content/drive/MyDrive/comp_bio/ABIDE_pcp/ABIDE_pcp/cpac/filt_noglobal/51298/UCLA_2_0051298_rois_cc200.1D\n",
            "Reading timeseries file /content/drive/MyDrive/comp_bio/ABIDE_pcp/ABIDE_pcp/cpac/filt_noglobal/51238/UCLA_1_0051238_rois_cc200.1D\n",
            "Reading timeseries file /content/drive/MyDrive/comp_bio/ABIDE_pcp/ABIDE_pcp/cpac/filt_noglobal/50577/Yale_0050577_rois_cc200.1D\n",
            "Reading timeseries file /content/drive/MyDrive/comp_bio/ABIDE_pcp/ABIDE_pcp/cpac/filt_noglobal/50745/Leuven_2_0050745_rois_cc200.1D\n",
            "Reading timeseries file /content/drive/MyDrive/comp_bio/ABIDE_pcp/ABIDE_pcp/cpac/filt_noglobal/50321/UM_1_0050321_rois_cc200.1D\n",
            "Reading timeseries file /content/drive/MyDrive/comp_bio/ABIDE_pcp/ABIDE_pcp/cpac/filt_noglobal/50113/Olin_0050113_rois_cc200.1D\n",
            "Reading timeseries file /content/drive/MyDrive/comp_bio/ABIDE_pcp/ABIDE_pcp/cpac/filt_noglobal/51207/UCLA_1_0051207_rois_cc200.1D\n",
            "Reading timeseries file /content/drive/MyDrive/comp_bio/ABIDE_pcp/ABIDE_pcp/cpac/filt_noglobal/51035/NYU_0051035_rois_cc200.1D\n",
            "Reading timeseries file /content/drive/MyDrive/comp_bio/ABIDE_pcp/ABIDE_pcp/cpac/filt_noglobal/51469/Caltech_0051469_rois_cc200.1D\n",
            "Reading timeseries file /content/drive/MyDrive/comp_bio/ABIDE_pcp/ABIDE_pcp/cpac/filt_noglobal/50789/KKI_0050789_rois_cc200.1D\n",
            "Reading timeseries file /content/drive/MyDrive/comp_bio/ABIDE_pcp/ABIDE_pcp/cpac/filt_noglobal/50319/UM_1_0050319_rois_cc200.1D\n",
            "Reading timeseries file /content/drive/MyDrive/comp_bio/ABIDE_pcp/ABIDE_pcp/cpac/filt_noglobal/51456/Caltech_0051456_rois_cc200.1D\n",
            "Reading timeseries file /content/drive/MyDrive/comp_bio/ABIDE_pcp/ABIDE_pcp/cpac/filt_noglobal/51032/NYU_0051032_rois_cc200.1D\n",
            "Reading timeseries file /content/drive/MyDrive/comp_bio/ABIDE_pcp/ABIDE_pcp/cpac/filt_noglobal/50114/Olin_0050114_rois_cc200.1D\n",
            "Reading timeseries file /content/drive/MyDrive/comp_bio/ABIDE_pcp/ABIDE_pcp/cpac/filt_noglobal/50326/UM_1_0050326_rois_cc200.1D\n",
            "Reading timeseries file /content/drive/MyDrive/comp_bio/ABIDE_pcp/ABIDE_pcp/cpac/filt_noglobal/50742/Leuven_2_0050742_rois_cc200.1D\n",
            "Reading timeseries file /content/drive/MyDrive/comp_bio/ABIDE_pcp/ABIDE_pcp/cpac/filt_noglobal/50570/Yale_0050570_rois_cc200.1D\n",
            "Reading timeseries file /content/drive/MyDrive/comp_bio/ABIDE_pcp/ABIDE_pcp/cpac/filt_noglobal/51209/UCLA_1_0051209_rois_cc200.1D\n",
            "Reading timeseries file /content/drive/MyDrive/comp_bio/ABIDE_pcp/ABIDE_pcp/cpac/filt_noglobal/51236/UCLA_1_0051236_rois_cc200.1D\n",
            "Reading timeseries file /content/drive/MyDrive/comp_bio/ABIDE_pcp/ABIDE_pcp/cpac/filt_noglobal/50780/KKI_0050780_rois_cc200.1D\n",
            "Reading timeseries file /content/drive/MyDrive/comp_bio/ABIDE_pcp/ABIDE_pcp/cpac/filt_noglobal/51460/Caltech_0051460_rois_cc200.1D\n",
            "Reading timeseries file /content/drive/MyDrive/comp_bio/ABIDE_pcp/ABIDE_pcp/cpac/filt_noglobal/50774/KKI_0050774_rois_cc200.1D\n",
            "Reading timeseries file /content/drive/MyDrive/comp_bio/ABIDE_pcp/ABIDE_pcp/cpac/filt_noglobal/50122/Olin_0050122_rois_cc200.1D\n",
            "Reading timeseries file /content/drive/MyDrive/comp_bio/ABIDE_pcp/ABIDE_pcp/cpac/filt_noglobal/50310/UM_1_0050310_rois_cc200.1D\n",
            "Reading timeseries file /content/drive/MyDrive/comp_bio/ABIDE_pcp/ABIDE_pcp/cpac/filt_noglobal/51458/Caltech_0051458_rois_cc200.1D\n",
            "Reading timeseries file /content/drive/MyDrive/comp_bio/ABIDE_pcp/ABIDE_pcp/cpac/filt_noglobal/50317/UM_1_0050317_rois_cc200.1D\n",
            "Reading timeseries file /content/drive/MyDrive/comp_bio/ABIDE_pcp/ABIDE_pcp/cpac/filt_noglobal/50125/Olin_0050125_rois_cc200.1D\n",
            "Reading timeseries file /content/drive/MyDrive/comp_bio/ABIDE_pcp/ABIDE_pcp/cpac/filt_noglobal/51493/Caltech_0051493_rois_cc200.1D\n",
            "Reading timeseries file /content/drive/MyDrive/comp_bio/ABIDE_pcp/ABIDE_pcp/cpac/filt_noglobal/50773/KKI_0050773_rois_cc200.1D\n",
            "Reading timeseries file /content/drive/MyDrive/comp_bio/ABIDE_pcp/ABIDE_pcp/cpac/filt_noglobal/51467/Caltech_0051467_rois_cc200.1D\n",
            "Reading timeseries file /content/drive/MyDrive/comp_bio/ABIDE_pcp/ABIDE_pcp/cpac/filt_noglobal/50787/KKI_0050787_rois_cc200.1D\n",
            "Reading timeseries file /content/drive/MyDrive/comp_bio/ABIDE_pcp/ABIDE_pcp/cpac/filt_noglobal/51231/UCLA_1_0051231_rois_cc200.1D\n",
            "Reading timeseries file /content/drive/MyDrive/comp_bio/ABIDE_pcp/ABIDE_pcp/cpac/filt_noglobal/51003/NYU_0051003_rois_cc200.1D\n",
            "Reading timeseries file /content/drive/MyDrive/comp_bio/ABIDE_pcp/ABIDE_pcp/cpac/filt_noglobal/51252/UCLA_1_0051252_rois_cc200.1D\n",
            "Reading timeseries file /content/drive/MyDrive/comp_bio/ABIDE_pcp/ABIDE_pcp/cpac/filt_noglobal/50380/UM_1_0050380_rois_cc200.1D\n",
            "Reading timeseries file /content/drive/MyDrive/comp_bio/ABIDE_pcp/ABIDE_pcp/cpac/filt_noglobal/51060/NYU_0051060_rois_cc200.1D\n",
            "Reading timeseries file /content/drive/MyDrive/comp_bio/ABIDE_pcp/ABIDE_pcp/cpac/filt_noglobal/50710/Leuven_1_0050710_rois_cc200.1D\n",
            "Reading timeseries file /content/drive/MyDrive/comp_bio/ABIDE_pcp/ABIDE_pcp/cpac/filt_noglobal/50374/UM_1_0050374_rois_cc200.1D\n",
            "Reading timeseries file /content/drive/MyDrive/comp_bio/ABIDE_pcp/ABIDE_pcp/cpac/filt_noglobal/51094/NYU_0051094_rois_cc200.1D\n",
            "Reading timeseries file /content/drive/MyDrive/comp_bio/ABIDE_pcp/ABIDE_pcp/cpac/filt_noglobal/50146/OHSU_0050146_rois_cc200.1D\n",
            "Reading timeseries file /content/drive/MyDrive/comp_bio/ABIDE_pcp/ABIDE_pcp/cpac/filt_noglobal/51299/UCLA_2_0051299_rois_cc200.1D\n",
            "Reading timeseries file /content/drive/MyDrive/comp_bio/ABIDE_pcp/ABIDE_pcp/cpac/filt_noglobal/51093/NYU_0051093_rois_cc200.1D\n",
            "Reading timeseries file /content/drive/MyDrive/comp_bio/ABIDE_pcp/ABIDE_pcp/cpac/filt_noglobal/50373/UM_1_0050373_rois_cc200.1D\n",
            "Reading timeseries file /content/drive/MyDrive/comp_bio/ABIDE_pcp/ABIDE_pcp/cpac/filt_noglobal/50525/USM_0050525_rois_cc200.1D\n",
            "Reading timeseries file /content/drive/MyDrive/comp_bio/ABIDE_pcp/ABIDE_pcp/cpac/filt_noglobal/51067/NYU_0051067_rois_cc200.1D\n",
            "Reading timeseries file /content/drive/MyDrive/comp_bio/ABIDE_pcp/ABIDE_pcp/cpac/filt_noglobal/50989/NYU_0050989_rois_cc200.1D\n",
            "Reading timeseries file /content/drive/MyDrive/comp_bio/ABIDE_pcp/ABIDE_pcp/cpac/filt_noglobal/51255/UCLA_1_0051255_rois_cc200.1D\n",
            "Reading timeseries file /content/drive/MyDrive/comp_bio/ABIDE_pcp/ABIDE_pcp/cpac/filt_noglobal/50387/UM_2_0050387_rois_cc200.1D\n",
            "Reading timeseries file /content/drive/MyDrive/comp_bio/ABIDE_pcp/ABIDE_pcp/cpac/filt_noglobal/50728/Leuven_2_0050728_rois_cc200.1D\n",
            "Reading timeseries file /content/drive/MyDrive/comp_bio/ABIDE_pcp/ABIDE_pcp/cpac/filt_noglobal/51058/NYU_0051058_rois_cc200.1D\n",
            "Reading timeseries file /content/drive/MyDrive/comp_bio/ABIDE_pcp/ABIDE_pcp/cpac/filt_noglobal/50345/UM_1_0050345_rois_cc200.1D\n",
            "Reading timeseries file /content/drive/MyDrive/comp_bio/ABIDE_pcp/ABIDE_pcp/cpac/filt_noglobal/51297/UCLA_2_0051297_rois_cc200.1D\n",
            "Reading timeseries file /content/drive/MyDrive/comp_bio/ABIDE_pcp/ABIDE_pcp/cpac/filt_noglobal/50183/SDSU_0050183_rois_cc200.1D\n",
            "Reading timeseries file /content/drive/MyDrive/comp_bio/ABIDE_pcp/ABIDE_pcp/cpac/filt_noglobal/51051/NYU_0051051_rois_cc200.1D\n",
            "Reading timeseries file /content/drive/MyDrive/comp_bio/ABIDE_pcp/ABIDE_pcp/cpac/filt_noglobal/51263/UCLA_1_0051263_rois_cc200.1D\n",
            "Reading timeseries file /content/drive/MyDrive/comp_bio/ABIDE_pcp/ABIDE_pcp/cpac/filt_noglobal/51607/MaxMun_a_0051607_rois_cc200.1D\n",
            "Reading timeseries file /content/drive/MyDrive/comp_bio/ABIDE_pcp/ABIDE_pcp/cpac/filt_noglobal/50148/OHSU_0050148_rois_cc200.1D\n",
            "Reading timeseries file /content/drive/MyDrive/comp_bio/ABIDE_pcp/ABIDE_pcp/cpac/filt_noglobal/50974/NYU_0050974_rois_cc200.1D\n",
            "Reading timeseries file /content/drive/MyDrive/comp_bio/ABIDE_pcp/ABIDE_pcp/cpac/filt_noglobal/51264/UCLA_1_0051264_rois_cc200.1D\n",
            "Reading timeseries file /content/drive/MyDrive/comp_bio/ABIDE_pcp/ABIDE_pcp/cpac/filt_noglobal/50184/SDSU_0050184_rois_cc200.1D\n",
            "Reading timeseries file /content/drive/MyDrive/comp_bio/ABIDE_pcp/ABIDE_pcp/cpac/filt_noglobal/51056/NYU_0051056_rois_cc200.1D\n",
            "Reading timeseries file /content/drive/MyDrive/comp_bio/ABIDE_pcp/ABIDE_pcp/cpac/filt_noglobal/50342/UM_1_0050342_rois_cc200.1D\n",
            "Reading timeseries file /content/drive/MyDrive/comp_bio/ABIDE_pcp/ABIDE_pcp/cpac/filt_noglobal/50170/OHSU_0050170_rois_cc200.1D\n",
            "Reading timeseries file /content/drive/MyDrive/comp_bio/ABIDE_pcp/ABIDE_pcp/cpac/filt_noglobal/50514/USM_0050514_rois_cc200.1D\n",
            "Reading timeseries file /content/drive/MyDrive/comp_bio/ABIDE_pcp/ABIDE_pcp/cpac/filt_noglobal/50726/Leuven_2_0050726_rois_cc200.1D\n",
            "Reading timeseries file /content/drive/MyDrive/comp_bio/ABIDE_pcp/ABIDE_pcp/cpac/filt_noglobal/51069/NYU_0051069_rois_cc200.1D\n",
            "Reading timeseries file /content/drive/MyDrive/comp_bio/ABIDE_pcp/ABIDE_pcp/cpac/filt_noglobal/50987/NYU_0050987_rois_cc200.1D\n",
            "Reading timeseries file /content/drive/MyDrive/comp_bio/ABIDE_pcp/ABIDE_pcp/cpac/filt_noglobal/50973/NYU_0050973_rois_cc200.1D\n",
            "Reading timeseries file /content/drive/MyDrive/comp_bio/ABIDE_pcp/ABIDE_pcp/cpac/filt_noglobal/51459/Caltech_0051459_rois_cc200.1D\n",
            "Reading timeseries file /content/drive/MyDrive/comp_bio/ABIDE_pcp/ABIDE_pcp/cpac/filt_noglobal/50329/UM_1_0050329_rois_cc200.1D\n",
            "Reading timeseries file /content/drive/MyDrive/comp_bio/ABIDE_pcp/ABIDE_pcp/cpac/filt_noglobal/50786/KKI_0050786_rois_cc200.1D\n",
            "Reading timeseries file /content/drive/MyDrive/comp_bio/ABIDE_pcp/ABIDE_pcp/cpac/filt_noglobal/51466/Caltech_0051466_rois_cc200.1D\n",
            "Reading timeseries file /content/drive/MyDrive/comp_bio/ABIDE_pcp/ABIDE_pcp/cpac/filt_noglobal/51002/NYU_0051002_rois_cc200.1D\n",
            "Reading timeseries file /content/drive/MyDrive/comp_bio/ABIDE_pcp/ABIDE_pcp/cpac/filt_noglobal/51230/UCLA_1_0051230_rois_cc200.1D\n",
            "Reading timeseries file /content/drive/MyDrive/comp_bio/ABIDE_pcp/ABIDE_pcp/cpac/filt_noglobal/50124/Olin_0050124_rois_cc200.1D\n",
            "Reading timeseries file /content/drive/MyDrive/comp_bio/ABIDE_pcp/ABIDE_pcp/cpac/filt_noglobal/50316/UM_1_0050316_rois_cc200.1D\n",
            "Reading timeseries file /content/drive/MyDrive/comp_bio/ABIDE_pcp/ABIDE_pcp/cpac/filt_noglobal/50772/KKI_0050772_rois_cc200.1D\n",
            "Reading timeseries file /content/drive/MyDrive/comp_bio/ABIDE_pcp/ABIDE_pcp/cpac/filt_noglobal/51492/Caltech_0051492_rois_cc200.1D\n",
            "Reading timeseries file /content/drive/MyDrive/comp_bio/ABIDE_pcp/ABIDE_pcp/cpac/filt_noglobal/50578/Yale_0050578_rois_cc200.1D\n",
            "Reading timeseries file /content/drive/MyDrive/comp_bio/ABIDE_pcp/ABIDE_pcp/cpac/filt_noglobal/51208/UCLA_1_0051208_rois_cc200.1D\n",
            "Reading timeseries file /content/drive/MyDrive/comp_bio/ABIDE_pcp/ABIDE_pcp/cpac/filt_noglobal/50775/KKI_0050775_rois_cc200.1D\n",
            "Reading timeseries file /content/drive/MyDrive/comp_bio/ABIDE_pcp/ABIDE_pcp/cpac/filt_noglobal/50311/UM_1_0050311_rois_cc200.1D\n",
            "Reading timeseries file /content/drive/MyDrive/comp_bio/ABIDE_pcp/ABIDE_pcp/cpac/filt_noglobal/50123/Olin_0050123_rois_cc200.1D\n",
            "Reading timeseries file /content/drive/MyDrive/comp_bio/ABIDE_pcp/ABIDE_pcp/cpac/filt_noglobal/51237/UCLA_1_0051237_rois_cc200.1D\n",
            "Reading timeseries file /content/drive/MyDrive/comp_bio/ABIDE_pcp/ABIDE_pcp/cpac/filt_noglobal/51461/Caltech_0051461_rois_cc200.1D\n",
            "Reading timeseries file /content/drive/MyDrive/comp_bio/ABIDE_pcp/ABIDE_pcp/cpac/filt_noglobal/50781/KKI_0050781_rois_cc200.1D\n",
            "Reading timeseries file /content/drive/MyDrive/comp_bio/ABIDE_pcp/ABIDE_pcp/cpac/filt_noglobal/50318/UM_1_0050318_rois_cc200.1D\n",
            "Reading timeseries file /content/drive/MyDrive/comp_bio/ABIDE_pcp/ABIDE_pcp/cpac/filt_noglobal/50788/KKI_0050788_rois_cc200.1D\n",
            "Reading timeseries file /content/drive/MyDrive/comp_bio/ABIDE_pcp/ABIDE_pcp/cpac/filt_noglobal/51468/Caltech_0051468_rois_cc200.1D\n",
            "Reading timeseries file /content/drive/MyDrive/comp_bio/ABIDE_pcp/ABIDE_pcp/cpac/filt_noglobal/50327/UM_1_0050327_rois_cc200.1D\n",
            "Reading timeseries file /content/drive/MyDrive/comp_bio/ABIDE_pcp/ABIDE_pcp/cpac/filt_noglobal/50115/Olin_0050115_rois_cc200.1D\n",
            "Reading timeseries file /content/drive/MyDrive/comp_bio/ABIDE_pcp/ABIDE_pcp/cpac/filt_noglobal/50571/Yale_0050571_rois_cc200.1D\n",
            "Reading timeseries file /content/drive/MyDrive/comp_bio/ABIDE_pcp/ABIDE_pcp/cpac/filt_noglobal/50743/Leuven_2_0050743_rois_cc200.1D\n",
            "Reading timeseries file /content/drive/MyDrive/comp_bio/ABIDE_pcp/ABIDE_pcp/cpac/filt_noglobal/51457/Caltech_0051457_rois_cc200.1D\n",
            "Reading timeseries file /content/drive/MyDrive/comp_bio/ABIDE_pcp/ABIDE_pcp/cpac/filt_noglobal/51201/UCLA_1_0051201_rois_cc200.1D\n",
            "Reading timeseries file /content/drive/MyDrive/comp_bio/ABIDE_pcp/ABIDE_pcp/cpac/filt_noglobal/51033/NYU_0051033_rois_cc200.1D\n",
            "Reading timeseries file /content/drive/MyDrive/comp_bio/ABIDE_pcp/ABIDE_pcp/cpac/filt_noglobal/51239/UCLA_1_0051239_rois_cc200.1D\n",
            "Reading timeseries file /content/drive/MyDrive/comp_bio/ABIDE_pcp/ABIDE_pcp/cpac/filt_noglobal/51034/NYU_0051034_rois_cc200.1D\n",
            "Reading timeseries file /content/drive/MyDrive/comp_bio/ABIDE_pcp/ABIDE_pcp/cpac/filt_noglobal/51206/UCLA_1_0051206_rois_cc200.1D\n",
            "Reading timeseries file /content/drive/MyDrive/comp_bio/ABIDE_pcp/ABIDE_pcp/cpac/filt_noglobal/50744/Leuven_2_0050744_rois_cc200.1D\n",
            "Reading timeseries file /content/drive/MyDrive/comp_bio/ABIDE_pcp/ABIDE_pcp/cpac/filt_noglobal/50576/Yale_0050576_rois_cc200.1D\n",
            "Reading timeseries file /content/drive/MyDrive/comp_bio/ABIDE_pcp/ABIDE_pcp/cpac/filt_noglobal/50112/Olin_0050112_rois_cc200.1D\n",
            "Reading timeseries file /content/drive/MyDrive/comp_bio/ABIDE_pcp/ABIDE_pcp/cpac/filt_noglobal/50320/UM_1_0050320_rois_cc200.1D\n",
            "Reading timeseries file /content/drive/MyDrive/comp_bio/ABIDE_pcp/ABIDE_pcp/cpac/filt_noglobal/50060/Pitt_0050060_rois_cc200.1D\n",
            "Reading timeseries file /content/drive/MyDrive/comp_bio/ABIDE_pcp/ABIDE_pcp/cpac/filt_noglobal/50252/Trinity_0050252_rois_cc200.1D\n",
            "Reading timeseries file /content/drive/MyDrive/comp_bio/ABIDE_pcp/ABIDE_pcp/cpac/filt_noglobal/50404/UM_2_0050404_rois_cc200.1D\n",
            "Reading timeseries file /content/drive/MyDrive/comp_bio/ABIDE_pcp/ABIDE_pcp/cpac/filt_noglobal/51146/NYU_0051146_rois_cc200.1D\n",
            "Reading timeseries file /content/drive/MyDrive/comp_bio/ABIDE_pcp/ABIDE_pcp/cpac/filt_noglobal/50609/Yale_0050609_rois_cc200.1D\n",
            "Reading timeseries file /content/drive/MyDrive/comp_bio/ABIDE_pcp/ABIDE_pcp/cpac/filt_noglobal/50299/UM_1_0050299_rois_cc200.1D\n",
            "Reading timeseries file /content/drive/MyDrive/comp_bio/ABIDE_pcp/ABIDE_pcp/cpac/filt_noglobal/51179/Stanford_0051179_rois_cc200.1D\n",
            "Reading timeseries file /content/drive/MyDrive/comp_bio/ABIDE_pcp/ABIDE_pcp/cpac/filt_noglobal/51373/MaxMun_a_0051373_rois_cc200.1D\n",
            "Reading timeseries file /content/drive/MyDrive/comp_bio/ABIDE_pcp/ABIDE_pcp/cpac/filt_noglobal/51141/Trinity_0051141_rois_cc200.1D\n",
            "Reading timeseries file /content/drive/MyDrive/comp_bio/ABIDE_pcp/ABIDE_pcp/cpac/filt_noglobal/50403/UM_2_0050403_rois_cc200.1D\n",
            "Reading timeseries file /content/drive/MyDrive/comp_bio/ABIDE_pcp/ABIDE_pcp/cpac/filt_noglobal/50255/Trinity_0050255_rois_cc200.1D\n",
            "Reading timeseries file /content/drive/MyDrive/comp_bio/ABIDE_pcp/ABIDE_pcp/cpac/filt_noglobal/50058/Pitt_0050058_rois_cc200.1D\n",
            "Reading timeseries file /content/drive/MyDrive/comp_bio/ABIDE_pcp/ABIDE_pcp/cpac/filt_noglobal/50297/UM_1_0050297_rois_cc200.1D\n",
            "Reading timeseries file /content/drive/MyDrive/comp_bio/ABIDE_pcp/ABIDE_pcp/cpac/filt_noglobal/51345/MaxMun_c_0051345_rois_cc200.1D\n",
            "Reading timeseries file /content/drive/MyDrive/comp_bio/ABIDE_pcp/ABIDE_pcp/cpac/filt_noglobal/51177/Stanford_0051177_rois_cc200.1D\n",
            "Reading timeseries file /content/drive/MyDrive/comp_bio/ABIDE_pcp/ABIDE_pcp/cpac/filt_noglobal/50263/Trinity_0050263_rois_cc200.1D\n",
            "Reading timeseries file /content/drive/MyDrive/comp_bio/ABIDE_pcp/ABIDE_pcp/cpac/filt_noglobal/50051/Pitt_0050051_rois_cc200.1D\n",
            "Reading timeseries file /content/drive/MyDrive/comp_bio/ABIDE_pcp/ABIDE_pcp/cpac/filt_noglobal/51183/Stanford_0051183_rois_cc200.1D\n",
            "Reading timeseries file /content/drive/MyDrive/comp_bio/ABIDE_pcp/ABIDE_pcp/cpac/filt_noglobal/50435/USM_0050435_rois_cc200.1D\n",
            "Reading timeseries file /content/drive/MyDrive/comp_bio/ABIDE_pcp/ABIDE_pcp/cpac/filt_noglobal/50607/Yale_0050607_rois_cc200.1D\n",
            "Reading timeseries file /content/drive/MyDrive/comp_bio/ABIDE_pcp/ABIDE_pcp/cpac/filt_noglobal/51148/NYU_0051148_rois_cc200.1D\n",
            "Reading timeseries file /content/drive/MyDrive/comp_bio/ABIDE_pcp/ABIDE_pcp/cpac/filt_noglobal/50056/Pitt_0050056_rois_cc200.1D\n",
            "Reading timeseries file /content/drive/MyDrive/comp_bio/ABIDE_pcp/ABIDE_pcp/cpac/filt_noglobal/51184/Stanford_0051184_rois_cc200.1D\n",
            "Reading timeseries file /content/drive/MyDrive/comp_bio/ABIDE_pcp/ABIDE_pcp/cpac/filt_noglobal/50264/Trinity_0050264_rois_cc200.1D\n",
            "Reading timeseries file /content/drive/MyDrive/comp_bio/ABIDE_pcp/ABIDE_pcp/cpac/filt_noglobal/51170/Stanford_0051170_rois_cc200.1D\n",
            "Reading timeseries file /content/drive/MyDrive/comp_bio/ABIDE_pcp/ABIDE_pcp/cpac/filt_noglobal/50290/UM_1_0050290_rois_cc200.1D\n",
            "Reading timeseries file /content/drive/MyDrive/comp_bio/ABIDE_pcp/ABIDE_pcp/cpac/filt_noglobal/51342/MaxMun_c_0051342_rois_cc200.1D\n",
            "Reading timeseries file /content/drive/MyDrive/comp_bio/ABIDE_pcp/ABIDE_pcp/cpac/filt_noglobal/50801/KKI_0050801_rois_cc200.1D\n",
            "Reading timeseries file /content/drive/MyDrive/comp_bio/ABIDE_pcp/ABIDE_pcp/cpac/filt_noglobal/51329/MaxMun_d_0051329_rois_cc200.1D\n",
            "Reading timeseries file /content/drive/MyDrive/comp_bio/ABIDE_pcp/ABIDE_pcp/cpac/filt_noglobal/50466/USM_0050466_rois_cc200.1D\n",
            "Reading timeseries file /content/drive/MyDrive/comp_bio/ABIDE_pcp/ABIDE_pcp/cpac/filt_noglobal/50654/CMU_a_0050654_rois_cc200.1D\n",
            "Reading timeseries file /content/drive/MyDrive/comp_bio/ABIDE_pcp/ABIDE_pcp/cpac/filt_noglobal/51316/UCLA_2_0051316_rois_cc200.1D\n",
            "Reading timeseries file /content/drive/MyDrive/comp_bio/ABIDE_pcp/ABIDE_pcp/cpac/filt_noglobal/51124/NYU_0051124_rois_cc200.1D\n",
            "Reading timeseries file /content/drive/MyDrive/comp_bio/ABIDE_pcp/ABIDE_pcp/cpac/filt_noglobal/50492/USM_0050492_rois_cc200.1D\n",
            "Reading timeseries file /content/drive/MyDrive/comp_bio/ABIDE_pcp/ABIDE_pcp/cpac/filt_noglobal/51578/SBL_0051578_rois_cc200.1D\n",
            "Reading timeseries file /content/drive/MyDrive/comp_bio/ABIDE_pcp/ABIDE_pcp/cpac/filt_noglobal/50698/Leuven_1_0050698_rois_cc200.1D\n",
            "Reading timeseries file /content/drive/MyDrive/comp_bio/ABIDE_pcp/ABIDE_pcp/cpac/filt_noglobal/50208/SDSU_0050208_rois_cc200.1D\n",
            "Reading timeseries file /content/drive/MyDrive/comp_bio/ABIDE_pcp/ABIDE_pcp/cpac/filt_noglobal/51123/NYU_0051123_rois_cc200.1D\n",
            "Reading timeseries file /content/drive/MyDrive/comp_bio/ABIDE_pcp/ABIDE_pcp/cpac/filt_noglobal/51311/UCLA_2_0051311_rois_cc200.1D\n",
            "Reading timeseries file /content/drive/MyDrive/comp_bio/ABIDE_pcp/ABIDE_pcp/cpac/filt_noglobal/50005/Pitt_0050005_rois_cc200.1D\n",
            "Reading timeseries file /content/drive/MyDrive/comp_bio/ABIDE_pcp/ABIDE_pcp/cpac/filt_noglobal/50237/Trinity_0050237_rois_cc200.1D\n",
            "Reading timeseries file /content/drive/MyDrive/comp_bio/ABIDE_pcp/ABIDE_pcp/cpac/filt_noglobal/50653/CMU_a_0050653_rois_cc200.1D\n",
            "Reading timeseries file /content/drive/MyDrive/comp_bio/ABIDE_pcp/ABIDE_pcp/cpac/filt_noglobal/51318/MaxMun_a_0051318_rois_cc200.1D\n",
            "Reading timeseries file /content/drive/MyDrive/comp_bio/ABIDE_pcp/ABIDE_pcp/cpac/filt_noglobal/50468/USM_0050468_rois_cc200.1D\n",
            "Reading timeseries file /content/drive/MyDrive/comp_bio/ABIDE_pcp/ABIDE_pcp/cpac/filt_noglobal/51327/MaxMun_b_0051327_rois_cc200.1D\n",
            "Reading timeseries file /content/drive/MyDrive/comp_bio/ABIDE_pcp/ABIDE_pcp/cpac/filt_noglobal/50691/Leuven_1_0050691_rois_cc200.1D\n",
            "Reading timeseries file /content/drive/MyDrive/comp_bio/ABIDE_pcp/ABIDE_pcp/cpac/filt_noglobal/51571/SBL_0051571_rois_cc200.1D\n",
            "Reading timeseries file /content/drive/MyDrive/comp_bio/ABIDE_pcp/ABIDE_pcp/cpac/filt_noglobal/50665/CMU_a_0050665_rois_cc200.1D\n",
            "Reading timeseries file /content/drive/MyDrive/comp_bio/ABIDE_pcp/ABIDE_pcp/cpac/filt_noglobal/51585/SBL_0051585_rois_cc200.1D\n",
            "Reading timeseries file /content/drive/MyDrive/comp_bio/ABIDE_pcp/ABIDE_pcp/cpac/filt_noglobal/50033/Pitt_0050033_rois_cc200.1D\n",
            "Reading timeseries file /content/drive/MyDrive/comp_bio/ABIDE_pcp/ABIDE_pcp/cpac/filt_noglobal/50201/SDSU_0050201_rois_cc200.1D\n",
            "Reading timeseries file /content/drive/MyDrive/comp_bio/ABIDE_pcp/ABIDE_pcp/cpac/filt_noglobal/50239/Trinity_0050239_rois_cc200.1D\n",
            "Reading timeseries file /content/drive/MyDrive/comp_bio/ABIDE_pcp/ABIDE_pcp/cpac/filt_noglobal/50206/SDSU_0050206_rois_cc200.1D\n",
            "Reading timeseries file /content/drive/MyDrive/comp_bio/ABIDE_pcp/ABIDE_pcp/cpac/filt_noglobal/50034/Pitt_0050034_rois_cc200.1D\n",
            "Reading timeseries file /content/drive/MyDrive/comp_bio/ABIDE_pcp/ABIDE_pcp/cpac/filt_noglobal/51582/SBL_0051582_rois_cc200.1D\n",
            "Reading timeseries file /content/drive/MyDrive/comp_bio/ABIDE_pcp/ABIDE_pcp/cpac/filt_noglobal/51576/SBL_0051576_rois_cc200.1D\n",
            "Reading timeseries file /content/drive/MyDrive/comp_bio/ABIDE_pcp/ABIDE_pcp/cpac/filt_noglobal/50696/Leuven_1_0050696_rois_cc200.1D\n",
            "Reading timeseries file /content/drive/MyDrive/comp_bio/ABIDE_pcp/ABIDE_pcp/cpac/filt_noglobal/51320/MaxMun_a_0051320_rois_cc200.1D\n",
            "Reading timeseries file /content/drive/MyDrive/comp_bio/ABIDE_pcp/ABIDE_pcp/cpac/filt_noglobal/51112/NYU_0051112_rois_cc200.1D\n",
            "Reading timeseries file /content/drive/MyDrive/comp_bio/ABIDE_pcp/ABIDE_pcp/cpac/filt_noglobal/50291/UM_1_0050291_rois_cc200.1D\n",
            "Reading timeseries file /content/drive/MyDrive/comp_bio/ABIDE_pcp/ABIDE_pcp/cpac/filt_noglobal/51343/MaxMun_c_0051343_rois_cc200.1D\n",
            "Reading timeseries file /content/drive/MyDrive/comp_bio/ABIDE_pcp/ABIDE_pcp/cpac/filt_noglobal/51171/Stanford_0051171_rois_cc200.1D\n",
            "Reading timeseries file /content/drive/MyDrive/comp_bio/ABIDE_pcp/ABIDE_pcp/cpac/filt_noglobal/50433/USM_0050433_rois_cc200.1D\n",
            "Reading timeseries file /content/drive/MyDrive/comp_bio/ABIDE_pcp/ABIDE_pcp/cpac/filt_noglobal/50601/Yale_0050601_rois_cc200.1D\n",
            "Reading timeseries file /content/drive/MyDrive/comp_bio/ABIDE_pcp/ABIDE_pcp/cpac/filt_noglobal/50265/Trinity_0050265_rois_cc200.1D\n",
            "Reading timeseries file /content/drive/MyDrive/comp_bio/ABIDE_pcp/ABIDE_pcp/cpac/filt_noglobal/50057/Pitt_0050057_rois_cc200.1D\n",
            "Reading timeseries file /content/drive/MyDrive/comp_bio/ABIDE_pcp/ABIDE_pcp/cpac/filt_noglobal/51185/Stanford_0051185_rois_cc200.1D\n",
            "Reading timeseries file /content/drive/MyDrive/comp_bio/ABIDE_pcp/ABIDE_pcp/cpac/filt_noglobal/50050/Pitt_0050050_rois_cc200.1D\n",
            "Reading timeseries file /content/drive/MyDrive/comp_bio/ABIDE_pcp/ABIDE_pcp/cpac/filt_noglobal/51182/Stanford_0051182_rois_cc200.1D\n",
            "Reading timeseries file /content/drive/MyDrive/comp_bio/ABIDE_pcp/ABIDE_pcp/cpac/filt_noglobal/50262/Trinity_0050262_rois_cc200.1D\n",
            "Reading timeseries file /content/drive/MyDrive/comp_bio/ABIDE_pcp/ABIDE_pcp/cpac/filt_noglobal/50606/Yale_0050606_rois_cc200.1D\n",
            "Reading timeseries file /content/drive/MyDrive/comp_bio/ABIDE_pcp/ABIDE_pcp/cpac/filt_noglobal/50434/USM_0050434_rois_cc200.1D\n",
            "Reading timeseries file /content/drive/MyDrive/comp_bio/ABIDE_pcp/ABIDE_pcp/cpac/filt_noglobal/50296/UM_1_0050296_rois_cc200.1D\n",
            "Reading timeseries file /content/drive/MyDrive/comp_bio/ABIDE_pcp/ABIDE_pcp/cpac/filt_noglobal/51344/MaxMun_c_0051344_rois_cc200.1D\n",
            "Reading timeseries file /content/drive/MyDrive/comp_bio/ABIDE_pcp/ABIDE_pcp/cpac/filt_noglobal/51149/NYU_0051149_rois_cc200.1D\n",
            "Reading timeseries file /content/drive/MyDrive/comp_bio/ABIDE_pcp/ABIDE_pcp/cpac/filt_noglobal/50402/UM_2_0050402_rois_cc200.1D\n",
            "Reading timeseries file /content/drive/MyDrive/comp_bio/ABIDE_pcp/ABIDE_pcp/cpac/filt_noglobal/50254/Trinity_0050254_rois_cc200.1D\n",
            "Reading timeseries file /content/drive/MyDrive/comp_bio/ABIDE_pcp/ABIDE_pcp/cpac/filt_noglobal/51140/Trinity_0051140_rois_cc200.1D\n",
            "Reading timeseries file /content/drive/MyDrive/comp_bio/ABIDE_pcp/ABIDE_pcp/cpac/filt_noglobal/50059/Pitt_0050059_rois_cc200.1D\n",
            "Reading timeseries file /content/drive/MyDrive/comp_bio/ABIDE_pcp/ABIDE_pcp/cpac/filt_noglobal/51147/NYU_0051147_rois_cc200.1D\n",
            "Reading timeseries file /content/drive/MyDrive/comp_bio/ABIDE_pcp/ABIDE_pcp/cpac/filt_noglobal/50253/Trinity_0050253_rois_cc200.1D\n",
            "Reading timeseries file /content/drive/MyDrive/comp_bio/ABIDE_pcp/ABIDE_pcp/cpac/filt_noglobal/50405/UM_2_0050405_rois_cc200.1D\n",
            "Reading timeseries file /content/drive/MyDrive/comp_bio/ABIDE_pcp/ABIDE_pcp/cpac/filt_noglobal/51178/Stanford_0051178_rois_cc200.1D\n",
            "Reading timeseries file /content/drive/MyDrive/comp_bio/ABIDE_pcp/ABIDE_pcp/cpac/filt_noglobal/50298/UM_1_0050298_rois_cc200.1D\n",
            "Reading timeseries file /content/drive/MyDrive/comp_bio/ABIDE_pcp/ABIDE_pcp/cpac/filt_noglobal/50608/Yale_0050608_rois_cc200.1D\n",
            "Reading timeseries file /content/drive/MyDrive/comp_bio/ABIDE_pcp/ABIDE_pcp/cpac/filt_noglobal/50697/Leuven_1_0050697_rois_cc200.1D\n",
            "Reading timeseries file /content/drive/MyDrive/comp_bio/ABIDE_pcp/ABIDE_pcp/cpac/filt_noglobal/51577/SBL_0051577_rois_cc200.1D\n",
            "Reading timeseries file /content/drive/MyDrive/comp_bio/ABIDE_pcp/ABIDE_pcp/cpac/filt_noglobal/51113/NYU_0051113_rois_cc200.1D\n",
            "Reading timeseries file /content/drive/MyDrive/comp_bio/ABIDE_pcp/ABIDE_pcp/cpac/filt_noglobal/51321/MaxMun_a_0051321_rois_cc200.1D\n",
            "Reading timeseries file /content/drive/MyDrive/comp_bio/ABIDE_pcp/ABIDE_pcp/cpac/filt_noglobal/50035/Pitt_0050035_rois_cc200.1D\n",
            "Reading timeseries file /content/drive/MyDrive/comp_bio/ABIDE_pcp/ABIDE_pcp/cpac/filt_noglobal/50207/SDSU_0050207_rois_cc200.1D\n",
            "Reading timeseries file /content/drive/MyDrive/comp_bio/ABIDE_pcp/ABIDE_pcp/cpac/filt_noglobal/50663/CMU_a_0050663_rois_cc200.1D\n",
            "Reading timeseries file /content/drive/MyDrive/comp_bio/ABIDE_pcp/ABIDE_pcp/cpac/filt_noglobal/51583/SBL_0051583_rois_cc200.1D\n",
            "Reading timeseries file /content/drive/MyDrive/comp_bio/ABIDE_pcp/ABIDE_pcp/cpac/filt_noglobal/50469/USM_0050469_rois_cc200.1D\n",
            "Reading timeseries file /content/drive/MyDrive/comp_bio/ABIDE_pcp/ABIDE_pcp/cpac/filt_noglobal/51319/MaxMun_a_0051319_rois_cc200.1D\n",
            "Reading timeseries file /content/drive/MyDrive/comp_bio/ABIDE_pcp/ABIDE_pcp/cpac/filt_noglobal/51584/SBL_0051584_rois_cc200.1D\n",
            "Reading timeseries file /content/drive/MyDrive/comp_bio/ABIDE_pcp/ABIDE_pcp/cpac/filt_noglobal/50664/CMU_a_0050664_rois_cc200.1D\n",
            "Reading timeseries file /content/drive/MyDrive/comp_bio/ABIDE_pcp/ABIDE_pcp/cpac/filt_noglobal/50200/SDSU_0050200_rois_cc200.1D\n",
            "Reading timeseries file /content/drive/MyDrive/comp_bio/ABIDE_pcp/ABIDE_pcp/cpac/filt_noglobal/50032/Pitt_0050032_rois_cc200.1D\n",
            "Reading timeseries file /content/drive/MyDrive/comp_bio/ABIDE_pcp/ABIDE_pcp/cpac/filt_noglobal/51326/MaxMun_b_0051326_rois_cc200.1D\n",
            "Reading timeseries file /content/drive/MyDrive/comp_bio/ABIDE_pcp/ABIDE_pcp/cpac/filt_noglobal/51114/NYU_0051114_rois_cc200.1D\n",
            "Reading timeseries file /content/drive/MyDrive/comp_bio/ABIDE_pcp/ABIDE_pcp/cpac/filt_noglobal/51570/SBL_0051570_rois_cc200.1D\n",
            "Reading timeseries file /content/drive/MyDrive/comp_bio/ABIDE_pcp/ABIDE_pcp/cpac/filt_noglobal/50690/Leuven_1_0050690_rois_cc200.1D\n",
            "Reading timeseries file /content/drive/MyDrive/comp_bio/ABIDE_pcp/ABIDE_pcp/cpac/filt_noglobal/50807/KKI_0050807_rois_cc200.1D\n",
            "Reading timeseries file /content/drive/MyDrive/comp_bio/ABIDE_pcp/ABIDE_pcp/cpac/filt_noglobal/50209/SDSU_0050209_rois_cc200.1D\n",
            "Reading timeseries file /content/drive/MyDrive/comp_bio/ABIDE_pcp/ABIDE_pcp/cpac/filt_noglobal/50699/Leuven_1_0050699_rois_cc200.1D\n",
            "Reading timeseries file /content/drive/MyDrive/comp_bio/ABIDE_pcp/ABIDE_pcp/cpac/filt_noglobal/51579/SBL_0051579_rois_cc200.1D\n",
            "Reading timeseries file /content/drive/MyDrive/comp_bio/ABIDE_pcp/ABIDE_pcp/cpac/filt_noglobal/50236/Trinity_0050236_rois_cc200.1D\n",
            "Reading timeseries file /content/drive/MyDrive/comp_bio/ABIDE_pcp/ABIDE_pcp/cpac/filt_noglobal/50004/Pitt_0050004_rois_cc200.1D\n",
            "Reading timeseries file /content/drive/MyDrive/comp_bio/ABIDE_pcp/ABIDE_pcp/cpac/filt_noglobal/50652/CMU_b_0050652_rois_cc200.1D\n",
            "Reading timeseries file /content/drive/MyDrive/comp_bio/ABIDE_pcp/ABIDE_pcp/cpac/filt_noglobal/50494/USM_0050494_rois_cc200.1D\n",
            "Reading timeseries file /content/drive/MyDrive/comp_bio/ABIDE_pcp/ABIDE_pcp/cpac/filt_noglobal/51122/NYU_0051122_rois_cc200.1D\n",
            "Reading timeseries file /content/drive/MyDrive/comp_bio/ABIDE_pcp/ABIDE_pcp/cpac/filt_noglobal/51328/MaxMun_c_0051328_rois_cc200.1D\n",
            "Reading timeseries file /content/drive/MyDrive/comp_bio/ABIDE_pcp/ABIDE_pcp/cpac/filt_noglobal/50800/KKI_0050800_rois_cc200.1D\n",
            "Reading timeseries file /content/drive/MyDrive/comp_bio/ABIDE_pcp/ABIDE_pcp/cpac/filt_noglobal/51317/UCLA_2_0051317_rois_cc200.1D\n",
            "Reading timeseries file /content/drive/MyDrive/comp_bio/ABIDE_pcp/ABIDE_pcp/cpac/filt_noglobal/50493/USM_0050493_rois_cc200.1D\n",
            "Reading timeseries file /content/drive/MyDrive/comp_bio/ABIDE_pcp/ABIDE_pcp/cpac/filt_noglobal/50655/CMU_b_0050655_rois_cc200.1D\n",
            "Reading timeseries file /content/drive/MyDrive/comp_bio/ABIDE_pcp/ABIDE_pcp/cpac/filt_noglobal/50467/USM_0050467_rois_cc200.1D\n",
            "Reading timeseries file /content/drive/MyDrive/comp_bio/ABIDE_pcp/ABIDE_pcp/cpac/filt_noglobal/50003/Pitt_0050003_rois_cc200.1D\n",
            "Reading timeseries file /content/drive/MyDrive/comp_bio/ABIDE_pcp/ABIDE_pcp/cpac/filt_noglobal/51563/SBL_0051563_rois_cc200.1D\n",
            "Reading timeseries file /content/drive/MyDrive/comp_bio/ABIDE_pcp/ABIDE_pcp/cpac/filt_noglobal/50683/Leuven_1_0050683_rois_cc200.1D\n",
            "Reading timeseries file /content/drive/MyDrive/comp_bio/ABIDE_pcp/ABIDE_pcp/cpac/filt_noglobal/51335/MaxMun_c_0051335_rois_cc200.1D\n",
            "Reading timeseries file /content/drive/MyDrive/comp_bio/ABIDE_pcp/ABIDE_pcp/cpac/filt_noglobal/51107/NYU_0051107_rois_cc200.1D\n",
            "Reading timeseries file /content/drive/MyDrive/comp_bio/ABIDE_pcp/ABIDE_pcp/cpac/filt_noglobal/50213/SDSU_0050213_rois_cc200.1D\n",
            "Reading timeseries file /content/drive/MyDrive/comp_bio/ABIDE_pcp/ABIDE_pcp/cpac/filt_noglobal/50445/USM_0050445_rois_cc200.1D\n",
            "Reading timeseries file /content/drive/MyDrive/comp_bio/ABIDE_pcp/ABIDE_pcp/cpac/filt_noglobal/51138/Trinity_0051138_rois_cc200.1D\n",
            "Reading timeseries file /content/drive/MyDrive/comp_bio/ABIDE_pcp/ABIDE_pcp/cpac/filt_noglobal/50648/CMU_b_0050648_rois_cc200.1D\n",
            "Reading timeseries file /content/drive/MyDrive/comp_bio/ABIDE_pcp/ABIDE_pcp/cpac/filt_noglobal/50822/KKI_0050822_rois_cc200.1D\n",
            "Reading timeseries file /content/drive/MyDrive/comp_bio/ABIDE_pcp/ABIDE_pcp/cpac/filt_noglobal/50442/USM_0050442_rois_cc200.1D\n",
            "Reading timeseries file /content/drive/MyDrive/comp_bio/ABIDE_pcp/ABIDE_pcp/cpac/filt_noglobal/50026/Pitt_0050026_rois_cc200.1D\n",
            "Reading timeseries file /content/drive/MyDrive/comp_bio/ABIDE_pcp/ABIDE_pcp/cpac/filt_noglobal/50214/SDSU_0050214_rois_cc200.1D\n",
            "Reading timeseries file /content/drive/MyDrive/comp_bio/ABIDE_pcp/ABIDE_pcp/cpac/filt_noglobal/51100/NYU_0051100_rois_cc200.1D\n",
            "Reading timeseries file /content/drive/MyDrive/comp_bio/ABIDE_pcp/ABIDE_pcp/cpac/filt_noglobal/51332/MaxMun_c_0051332_rois_cc200.1D\n",
            "Reading timeseries file /content/drive/MyDrive/comp_bio/ABIDE_pcp/ABIDE_pcp/cpac/filt_noglobal/51564/SBL_0051564_rois_cc200.1D\n",
            "Reading timeseries file /content/drive/MyDrive/comp_bio/ABIDE_pcp/ABIDE_pcp/cpac/filt_noglobal/50019/Pitt_0050019_rois_cc200.1D\n",
            "Reading timeseries file /content/drive/MyDrive/comp_bio/ABIDE_pcp/ABIDE_pcp/cpac/filt_noglobal/50825/KKI_0050825_rois_cc200.1D\n",
            "Reading timeseries file /content/drive/MyDrive/comp_bio/ABIDE_pcp/ABIDE_pcp/cpac/filt_noglobal/50489/USM_0050489_rois_cc200.1D\n",
            "Reading timeseries file /content/drive/MyDrive/comp_bio/ABIDE_pcp/ABIDE_pcp/cpac/filt_noglobal/50010/Pitt_0050010_rois_cc200.1D\n",
            "Reading timeseries file /content/drive/MyDrive/comp_bio/ABIDE_pcp/ABIDE_pcp/cpac/filt_noglobal/50646/CMU_a_0050646_rois_cc200.1D\n",
            "Reading timeseries file /content/drive/MyDrive/comp_bio/ABIDE_pcp/ABIDE_pcp/cpac/filt_noglobal/50480/USM_0050480_rois_cc200.1D\n",
            "Reading timeseries file /content/drive/MyDrive/comp_bio/ABIDE_pcp/ABIDE_pcp/cpac/filt_noglobal/51136/Trinity_0051136_rois_cc200.1D\n",
            "Reading timeseries file /content/drive/MyDrive/comp_bio/ABIDE_pcp/ABIDE_pcp/cpac/filt_noglobal/51304/UCLA_2_0051304_rois_cc200.1D\n",
            "Reading timeseries file /content/drive/MyDrive/comp_bio/ABIDE_pcp/ABIDE_pcp/cpac/filt_noglobal/51109/NYU_0051109_rois_cc200.1D\n",
            "Reading timeseries file /content/drive/MyDrive/comp_bio/ABIDE_pcp/ABIDE_pcp/cpac/filt_noglobal/51303/UCLA_2_0051303_rois_cc200.1D\n",
            "Reading timeseries file /content/drive/MyDrive/comp_bio/ABIDE_pcp/ABIDE_pcp/cpac/filt_noglobal/51131/NYU_0051131_rois_cc200.1D\n",
            "Reading timeseries file /content/drive/MyDrive/comp_bio/ABIDE_pcp/ABIDE_pcp/cpac/filt_noglobal/50487/USM_0050487_rois_cc200.1D\n",
            "Reading timeseries file /content/drive/MyDrive/comp_bio/ABIDE_pcp/ABIDE_pcp/cpac/filt_noglobal/50017/Pitt_0050017_rois_cc200.1D\n",
            "Reading timeseries file /content/drive/MyDrive/comp_bio/ABIDE_pcp/ABIDE_pcp/cpac/filt_noglobal/50028/Pitt_0050028_rois_cc200.1D\n",
            "Reading timeseries file /content/drive/MyDrive/comp_bio/ABIDE_pcp/ABIDE_pcp/cpac/filt_noglobal/50814/KKI_0050814_rois_cc200.1D\n",
            "Reading timeseries file /content/drive/MyDrive/comp_bio/ABIDE_pcp/ABIDE_pcp/cpac/filt_noglobal/50418/UM_2_0050418_rois_cc200.1D\n",
            "Reading timeseries file /content/drive/MyDrive/comp_bio/ABIDE_pcp/ABIDE_pcp/cpac/filt_noglobal/51165/Stanford_0051165_rois_cc200.1D\n",
            "Reading timeseries file /content/drive/MyDrive/comp_bio/ABIDE_pcp/ABIDE_pcp/cpac/filt_noglobal/50285/UM_1_0050285_rois_cc200.1D\n",
            "Reading timeseries file /content/drive/MyDrive/comp_bio/ABIDE_pcp/ABIDE_pcp/cpac/filt_noglobal/51357/MaxMun_d_0051357_rois_cc200.1D\n",
            "Reading timeseries file /content/drive/MyDrive/comp_bio/ABIDE_pcp/ABIDE_pcp/cpac/filt_noglobal/50615/Yale_0050615_rois_cc200.1D\n",
            "Reading timeseries file /content/drive/MyDrive/comp_bio/ABIDE_pcp/ABIDE_pcp/cpac/filt_noglobal/50427/UM_2_0050427_rois_cc200.1D\n",
            "Reading timeseries file /content/drive/MyDrive/comp_bio/ABIDE_pcp/ABIDE_pcp/cpac/filt_noglobal/50043/Pitt_0050043_rois_cc200.1D\n",
            "Reading timeseries file /content/drive/MyDrive/comp_bio/ABIDE_pcp/ABIDE_pcp/cpac/filt_noglobal/51191/Stanford_0051191_rois_cc200.1D\n",
            "Reading timeseries file /content/drive/MyDrive/comp_bio/ABIDE_pcp/ABIDE_pcp/cpac/filt_noglobal/50271/Trinity_0050271_rois_cc200.1D\n",
            "Reading timeseries file /content/drive/MyDrive/comp_bio/ABIDE_pcp/ABIDE_pcp/cpac/filt_noglobal/50249/Trinity_0050249_rois_cc200.1D\n",
            "Reading timeseries file /content/drive/MyDrive/comp_bio/ABIDE_pcp/ABIDE_pcp/cpac/filt_noglobal/50276/UM_1_0050276_rois_cc200.1D\n",
            "Reading timeseries file /content/drive/MyDrive/comp_bio/ABIDE_pcp/ABIDE_pcp/cpac/filt_noglobal/50044/Pitt_0050044_rois_cc200.1D\n",
            "Reading timeseries file /content/drive/MyDrive/comp_bio/ABIDE_pcp/ABIDE_pcp/cpac/filt_noglobal/51196/Stanford_0051196_rois_cc200.1D\n",
            "Reading timeseries file /content/drive/MyDrive/comp_bio/ABIDE_pcp/ABIDE_pcp/cpac/filt_noglobal/50612/Yale_0050612_rois_cc200.1D\n",
            "Reading timeseries file /content/drive/MyDrive/comp_bio/ABIDE_pcp/ABIDE_pcp/cpac/filt_noglobal/50282/UM_1_0050282_rois_cc200.1D\n",
            "Reading timeseries file /content/drive/MyDrive/comp_bio/ABIDE_pcp/ABIDE_pcp/cpac/filt_noglobal/51350/MaxMun_d_0051350_rois_cc200.1D\n",
            "Reading timeseries file /content/drive/MyDrive/comp_bio/ABIDE_pcp/ABIDE_pcp/cpac/filt_noglobal/51162/Stanford_0051162_rois_cc200.1D\n",
            "Reading timeseries file /content/drive/MyDrive/comp_bio/ABIDE_pcp/ABIDE_pcp/cpac/filt_noglobal/51359/MaxMun_d_0051359_rois_cc200.1D\n",
            "Reading timeseries file /content/drive/MyDrive/comp_bio/ABIDE_pcp/ABIDE_pcp/cpac/filt_noglobal/50416/UM_2_0050416_rois_cc200.1D\n",
            "Reading timeseries file /content/drive/MyDrive/comp_bio/ABIDE_pcp/ABIDE_pcp/cpac/filt_noglobal/50624/Yale_0050624_rois_cc200.1D\n",
            "Reading timeseries file /content/drive/MyDrive/comp_bio/ABIDE_pcp/ABIDE_pcp/cpac/filt_noglobal/50240/Trinity_0050240_rois_cc200.1D\n",
            "Reading timeseries file /content/drive/MyDrive/comp_bio/ABIDE_pcp/ABIDE_pcp/cpac/filt_noglobal/51154/NYU_0051154_rois_cc200.1D\n",
            "Reading timeseries file /content/drive/MyDrive/comp_bio/ABIDE_pcp/ABIDE_pcp/cpac/filt_noglobal/50278/UM_1_0050278_rois_cc200.1D\n",
            "Reading timeseries file /content/drive/MyDrive/comp_bio/ABIDE_pcp/ABIDE_pcp/cpac/filt_noglobal/51198/Stanford_0051198_rois_cc200.1D\n",
            "Reading timeseries file /content/drive/MyDrive/comp_bio/ABIDE_pcp/ABIDE_pcp/cpac/filt_noglobal/51153/NYU_0051153_rois_cc200.1D\n",
            "Reading timeseries file /content/drive/MyDrive/comp_bio/ABIDE_pcp/ABIDE_pcp/cpac/filt_noglobal/51361/MaxMun_d_0051361_rois_cc200.1D\n",
            "Reading timeseries file /content/drive/MyDrive/comp_bio/ABIDE_pcp/ABIDE_pcp/cpac/filt_noglobal/50247/Trinity_0050247_rois_cc200.1D\n",
            "Reading timeseries file /content/drive/MyDrive/comp_bio/ABIDE_pcp/ABIDE_pcp/cpac/filt_noglobal/50623/Yale_0050623_rois_cc200.1D\n",
            "Reading timeseries file /content/drive/MyDrive/comp_bio/ABIDE_pcp/ABIDE_pcp/cpac/filt_noglobal/50411/UM_2_0050411_rois_cc200.1D\n",
            "Reading timeseries file /content/drive/MyDrive/comp_bio/ABIDE_pcp/ABIDE_pcp/cpac/filt_noglobal/50016/Pitt_0050016_rois_cc200.1D\n",
            "Reading timeseries file /content/drive/MyDrive/comp_bio/ABIDE_pcp/ABIDE_pcp/cpac/filt_noglobal/51130/NYU_0051130_rois_cc200.1D\n",
            "Reading timeseries file /content/drive/MyDrive/comp_bio/ABIDE_pcp/ABIDE_pcp/cpac/filt_noglobal/51302/UCLA_2_0051302_rois_cc200.1D\n",
            "Reading timeseries file /content/drive/MyDrive/comp_bio/ABIDE_pcp/ABIDE_pcp/cpac/filt_noglobal/50486/USM_0050486_rois_cc200.1D\n",
            "Reading timeseries file /content/drive/MyDrive/comp_bio/ABIDE_pcp/ABIDE_pcp/cpac/filt_noglobal/50815/KKI_0050815_rois_cc200.1D\n",
            "Reading timeseries file /content/drive/MyDrive/comp_bio/ABIDE_pcp/ABIDE_pcp/cpac/filt_noglobal/50029/Pitt_0050029_rois_cc200.1D\n",
            "Reading timeseries file /content/drive/MyDrive/comp_bio/ABIDE_pcp/ABIDE_pcp/cpac/filt_noglobal/50481/USM_0050481_rois_cc200.1D\n",
            "Reading timeseries file /content/drive/MyDrive/comp_bio/ABIDE_pcp/ABIDE_pcp/cpac/filt_noglobal/51305/UCLA_2_0051305_rois_cc200.1D\n",
            "Reading timeseries file /content/drive/MyDrive/comp_bio/ABIDE_pcp/ABIDE_pcp/cpac/filt_noglobal/51137/Trinity_0051137_rois_cc200.1D\n",
            "Reading timeseries file /content/drive/MyDrive/comp_bio/ABIDE_pcp/ABIDE_pcp/cpac/filt_noglobal/50011/Pitt_0050011_rois_cc200.1D\n",
            "Reading timeseries file /content/drive/MyDrive/comp_bio/ABIDE_pcp/ABIDE_pcp/cpac/filt_noglobal/50647/CMU_a_0050647_rois_cc200.1D\n",
            "Reading timeseries file /content/drive/MyDrive/comp_bio/ABIDE_pcp/ABIDE_pcp/cpac/filt_noglobal/50812/KKI_0050812_rois_cc200.1D\n",
            "Reading timeseries file /content/drive/MyDrive/comp_bio/ABIDE_pcp/ABIDE_pcp/cpac/filt_noglobal/51333/MaxMun_c_0051333_rois_cc200.1D\n",
            "Reading timeseries file /content/drive/MyDrive/comp_bio/ABIDE_pcp/ABIDE_pcp/cpac/filt_noglobal/51101/NYU_0051101_rois_cc200.1D\n",
            "Reading timeseries file /content/drive/MyDrive/comp_bio/ABIDE_pcp/ABIDE_pcp/cpac/filt_noglobal/51565/SBL_0051565_rois_cc200.1D\n",
            "Reading timeseries file /content/drive/MyDrive/comp_bio/ABIDE_pcp/ABIDE_pcp/cpac/filt_noglobal/50685/Leuven_1_0050685_rois_cc200.1D\n",
            "Reading timeseries file /content/drive/MyDrive/comp_bio/ABIDE_pcp/ABIDE_pcp/cpac/filt_noglobal/50443/USM_0050443_rois_cc200.1D\n",
            "Reading timeseries file /content/drive/MyDrive/comp_bio/ABIDE_pcp/ABIDE_pcp/cpac/filt_noglobal/50215/SDSU_0050215_rois_cc200.1D\n",
            "Reading timeseries file /content/drive/MyDrive/comp_bio/ABIDE_pcp/ABIDE_pcp/cpac/filt_noglobal/50027/Pitt_0050027_rois_cc200.1D\n",
            "Reading timeseries file /content/drive/MyDrive/comp_bio/ABIDE_pcp/ABIDE_pcp/cpac/filt_noglobal/50488/USM_0050488_rois_cc200.1D\n",
            "Reading timeseries file /content/drive/MyDrive/comp_bio/ABIDE_pcp/ABIDE_pcp/cpac/filt_noglobal/50824/KKI_0050824_rois_cc200.1D\n",
            "Reading timeseries file /content/drive/MyDrive/comp_bio/ABIDE_pcp/ABIDE_pcp/cpac/filt_noglobal/50020/Pitt_0050020_rois_cc200.1D\n",
            "Reading timeseries file /content/drive/MyDrive/comp_bio/ABIDE_pcp/ABIDE_pcp/cpac/filt_noglobal/50212/SDSU_0050212_rois_cc200.1D\n",
            "Reading timeseries file /content/drive/MyDrive/comp_bio/ABIDE_pcp/ABIDE_pcp/cpac/filt_noglobal/50444/USM_0050444_rois_cc200.1D\n",
            "Reading timeseries file /content/drive/MyDrive/comp_bio/ABIDE_pcp/ABIDE_pcp/cpac/filt_noglobal/50682/Leuven_1_0050682_rois_cc200.1D\n",
            "Reading timeseries file /content/drive/MyDrive/comp_bio/ABIDE_pcp/ABIDE_pcp/cpac/filt_noglobal/51562/SBL_0051562_rois_cc200.1D\n",
            "Reading timeseries file /content/drive/MyDrive/comp_bio/ABIDE_pcp/ABIDE_pcp/cpac/filt_noglobal/51106/NYU_0051106_rois_cc200.1D\n",
            "Reading timeseries file /content/drive/MyDrive/comp_bio/ABIDE_pcp/ABIDE_pcp/cpac/filt_noglobal/51334/MaxMun_c_0051334_rois_cc200.1D\n",
            "Reading timeseries file /content/drive/MyDrive/comp_bio/ABIDE_pcp/ABIDE_pcp/cpac/filt_noglobal/50649/CMU_a_0050649_rois_cc200.1D\n",
            "Reading timeseries file /content/drive/MyDrive/comp_bio/ABIDE_pcp/ABIDE_pcp/cpac/filt_noglobal/50823/KKI_0050823_rois_cc200.1D\n",
            "Reading timeseries file /content/drive/MyDrive/comp_bio/ABIDE_pcp/ABIDE_pcp/cpac/filt_noglobal/51139/Trinity_0051139_rois_cc200.1D\n",
            "Reading timeseries file /content/drive/MyDrive/comp_bio/ABIDE_pcp/ABIDE_pcp/cpac/filt_noglobal/51199/Stanford_0051199_rois_cc200.1D\n",
            "Reading timeseries file /content/drive/MyDrive/comp_bio/ABIDE_pcp/ABIDE_pcp/cpac/filt_noglobal/50279/UM_1_0050279_rois_cc200.1D\n",
            "Reading timeseries file /content/drive/MyDrive/comp_bio/ABIDE_pcp/ABIDE_pcp/cpac/filt_noglobal/50246/Trinity_0050246_rois_cc200.1D\n",
            "Reading timeseries file /content/drive/MyDrive/comp_bio/ABIDE_pcp/ABIDE_pcp/cpac/filt_noglobal/50410/UM_2_0050410_rois_cc200.1D\n",
            "Reading timeseries file /content/drive/MyDrive/comp_bio/ABIDE_pcp/ABIDE_pcp/cpac/filt_noglobal/50622/Yale_0050622_rois_cc200.1D\n",
            "Reading timeseries file /content/drive/MyDrive/comp_bio/ABIDE_pcp/ABIDE_pcp/cpac/filt_noglobal/51360/MaxMun_d_0051360_rois_cc200.1D\n",
            "Reading timeseries file /content/drive/MyDrive/comp_bio/ABIDE_pcp/ABIDE_pcp/cpac/filt_noglobal/51152/NYU_0051152_rois_cc200.1D\n",
            "Reading timeseries file /content/drive/MyDrive/comp_bio/ABIDE_pcp/ABIDE_pcp/cpac/filt_noglobal/51358/MaxMun_d_0051358_rois_cc200.1D\n",
            "Reading timeseries file /content/drive/MyDrive/comp_bio/ABIDE_pcp/ABIDE_pcp/cpac/filt_noglobal/50428/UM_2_0050428_rois_cc200.1D\n",
            "Reading timeseries file /content/drive/MyDrive/comp_bio/ABIDE_pcp/ABIDE_pcp/cpac/filt_noglobal/51155/NYU_0051155_rois_cc200.1D\n",
            "Reading timeseries file /content/drive/MyDrive/comp_bio/ABIDE_pcp/ABIDE_pcp/cpac/filt_noglobal/50625/Yale_0050625_rois_cc200.1D\n",
            "Reading timeseries file /content/drive/MyDrive/comp_bio/ABIDE_pcp/ABIDE_pcp/cpac/filt_noglobal/50417/UM_2_0050417_rois_cc200.1D\n",
            "Reading timeseries file /content/drive/MyDrive/comp_bio/ABIDE_pcp/ABIDE_pcp/cpac/filt_noglobal/50241/Trinity_0050241_rois_cc200.1D\n",
            "Reading timeseries file /content/drive/MyDrive/comp_bio/ABIDE_pcp/ABIDE_pcp/cpac/filt_noglobal/50248/Trinity_0050248_rois_cc200.1D\n",
            "Reading timeseries file /content/drive/MyDrive/comp_bio/ABIDE_pcp/ABIDE_pcp/cpac/filt_noglobal/51163/Stanford_0051163_rois_cc200.1D\n",
            "Reading timeseries file /content/drive/MyDrive/comp_bio/ABIDE_pcp/ABIDE_pcp/cpac/filt_noglobal/50283/UM_1_0050283_rois_cc200.1D\n",
            "Reading timeseries file /content/drive/MyDrive/comp_bio/ABIDE_pcp/ABIDE_pcp/cpac/filt_noglobal/51351/MaxMun_d_0051351_rois_cc200.1D\n",
            "Reading timeseries file /content/drive/MyDrive/comp_bio/ABIDE_pcp/ABIDE_pcp/cpac/filt_noglobal/50045/Pitt_0050045_rois_cc200.1D\n",
            "Reading timeseries file /content/drive/MyDrive/comp_bio/ABIDE_pcp/ABIDE_pcp/cpac/filt_noglobal/51197/Stanford_0051197_rois_cc200.1D\n",
            "Reading timeseries file /content/drive/MyDrive/comp_bio/ABIDE_pcp/ABIDE_pcp/cpac/filt_noglobal/50277/UM_1_0050277_rois_cc200.1D\n",
            "Reading timeseries file /content/drive/MyDrive/comp_bio/ABIDE_pcp/ABIDE_pcp/cpac/filt_noglobal/50613/Yale_0050613_rois_cc200.1D\n",
            "Reading timeseries file /content/drive/MyDrive/comp_bio/ABIDE_pcp/ABIDE_pcp/cpac/filt_noglobal/50421/UM_2_0050421_rois_cc200.1D\n",
            "Reading timeseries file /content/drive/MyDrive/comp_bio/ABIDE_pcp/ABIDE_pcp/cpac/filt_noglobal/50419/UM_2_0050419_rois_cc200.1D\n",
            "Reading timeseries file /content/drive/MyDrive/comp_bio/ABIDE_pcp/ABIDE_pcp/cpac/filt_noglobal/51369/MaxMun_a_0051369_rois_cc200.1D\n",
            "Reading timeseries file /content/drive/MyDrive/comp_bio/ABIDE_pcp/ABIDE_pcp/cpac/filt_noglobal/50426/UM_2_0050426_rois_cc200.1D\n",
            "Reading timeseries file /content/drive/MyDrive/comp_bio/ABIDE_pcp/ABIDE_pcp/cpac/filt_noglobal/50614/Yale_0050614_rois_cc200.1D\n",
            "Reading timeseries file /content/drive/MyDrive/comp_bio/ABIDE_pcp/ABIDE_pcp/cpac/filt_noglobal/50270/Trinity_0050270_rois_cc200.1D\n",
            "Reading timeseries file /content/drive/MyDrive/comp_bio/ABIDE_pcp/ABIDE_pcp/cpac/filt_noglobal/50042/Pitt_0050042_rois_cc200.1D\n",
            "Reading timeseries file /content/drive/MyDrive/comp_bio/ABIDE_pcp/ABIDE_pcp/cpac/filt_noglobal/51190/Stanford_0051190_rois_cc200.1D\n",
            "Reading timeseries file /content/drive/MyDrive/comp_bio/ABIDE_pcp/ABIDE_pcp/cpac/filt_noglobal/50284/UM_1_0050284_rois_cc200.1D\n",
            "Reading timeseries file /content/drive/MyDrive/comp_bio/ABIDE_pcp/ABIDE_pcp/cpac/filt_noglobal/51356/MaxMun_d_0051356_rois_cc200.1D\n",
            "Reading timeseries file /content/drive/MyDrive/comp_bio/ABIDE_pcp/ABIDE_pcp/cpac/filt_noglobal/51164/Stanford_0051164_rois_cc200.1D\n",
            "Reading timeseries file /content/drive/MyDrive/comp_bio/ABIDE_pcp/ABIDE_pcp/cpac/filt_noglobal/51472/Caltech_0051472_rois_cc200.1D\n",
            "Reading timeseries file /content/drive/MyDrive/comp_bio/ABIDE_pcp/ABIDE_pcp/cpac/filt_noglobal/50792/KKI_0050792_rois_cc200.1D\n",
            "Reading timeseries file /content/drive/MyDrive/comp_bio/ABIDE_pcp/ABIDE_pcp/cpac/filt_noglobal/51224/UCLA_1_0051224_rois_cc200.1D\n",
            "Reading timeseries file /content/drive/MyDrive/comp_bio/ABIDE_pcp/ABIDE_pcp/cpac/filt_noglobal/51016/NYU_0051016_rois_cc200.1D\n",
            "Reading timeseries file /content/drive/MyDrive/comp_bio/ABIDE_pcp/ABIDE_pcp/cpac/filt_noglobal/50302/UM_1_0050302_rois_cc200.1D\n",
            "Reading timeseries file /content/drive/MyDrive/comp_bio/ABIDE_pcp/ABIDE_pcp/cpac/filt_noglobal/50130/Olin_0050130_rois_cc200.1D\n",
            "Reading timeseries file /content/drive/MyDrive/comp_bio/ABIDE_pcp/ABIDE_pcp/cpac/filt_noglobal/51486/Caltech_0051486_rois_cc200.1D\n",
            "Reading timeseries file /content/drive/MyDrive/comp_bio/ABIDE_pcp/ABIDE_pcp/cpac/filt_noglobal/50554/Yale_0050554_rois_cc200.1D\n",
            "Reading timeseries file /content/drive/MyDrive/comp_bio/ABIDE_pcp/ABIDE_pcp/cpac/filt_noglobal/51029/NYU_0051029_rois_cc200.1D\n",
            "Reading timeseries file /content/drive/MyDrive/comp_bio/ABIDE_pcp/ABIDE_pcp/cpac/filt_noglobal/51481/Caltech_0051481_rois_cc200.1D\n",
            "Reading timeseries file /content/drive/MyDrive/comp_bio/ABIDE_pcp/ABIDE_pcp/cpac/filt_noglobal/50553/Yale_0050553_rois_cc200.1D\n",
            "Reading timeseries file /content/drive/MyDrive/comp_bio/ABIDE_pcp/ABIDE_pcp/cpac/filt_noglobal/50305/UM_1_0050305_rois_cc200.1D\n",
            "Reading timeseries file /content/drive/MyDrive/comp_bio/ABIDE_pcp/ABIDE_pcp/cpac/filt_noglobal/51011/NYU_0051011_rois_cc200.1D\n",
            "Reading timeseries file /content/drive/MyDrive/comp_bio/ABIDE_pcp/ABIDE_pcp/cpac/filt_noglobal/51223/UCLA_1_0051223_rois_cc200.1D\n",
            "Reading timeseries file /content/drive/MyDrive/comp_bio/ABIDE_pcp/ABIDE_pcp/cpac/filt_noglobal/50795/KKI_0050795_rois_cc200.1D\n",
            "Reading timeseries file /content/drive/MyDrive/comp_bio/ABIDE_pcp/ABIDE_pcp/cpac/filt_noglobal/50333/UM_1_0050333_rois_cc200.1D\n",
            "Reading timeseries file /content/drive/MyDrive/comp_bio/ABIDE_pcp/ABIDE_pcp/cpac/filt_noglobal/50757/Leuven_2_0050757_rois_cc200.1D\n",
            "Reading timeseries file /content/drive/MyDrive/comp_bio/ABIDE_pcp/ABIDE_pcp/cpac/filt_noglobal/50565/Yale_0050565_rois_cc200.1D\n",
            "Reading timeseries file /content/drive/MyDrive/comp_bio/ABIDE_pcp/ABIDE_pcp/cpac/filt_noglobal/51027/NYU_0051027_rois_cc200.1D\n",
            "Reading timeseries file /content/drive/MyDrive/comp_bio/ABIDE_pcp/ABIDE_pcp/cpac/filt_noglobal/51215/UCLA_1_0051215_rois_cc200.1D\n",
            "Reading timeseries file /content/drive/MyDrive/comp_bio/ABIDE_pcp/ABIDE_pcp/cpac/filt_noglobal/51488/Caltech_0051488_rois_cc200.1D\n",
            "Reading timeseries file /content/drive/MyDrive/comp_bio/ABIDE_pcp/ABIDE_pcp/cpac/filt_noglobal/51018/NYU_0051018_rois_cc200.1D\n",
            "Reading timeseries file /content/drive/MyDrive/comp_bio/ABIDE_pcp/ABIDE_pcp/cpac/filt_noglobal/51212/UCLA_1_0051212_rois_cc200.1D\n",
            "Reading timeseries file /content/drive/MyDrive/comp_bio/ABIDE_pcp/ABIDE_pcp/cpac/filt_noglobal/51020/NYU_0051020_rois_cc200.1D\n",
            "Reading timeseries file /content/drive/MyDrive/comp_bio/ABIDE_pcp/ABIDE_pcp/cpac/filt_noglobal/50562/Yale_0050562_rois_cc200.1D\n",
            "Reading timeseries file /content/drive/MyDrive/comp_bio/ABIDE_pcp/ABIDE_pcp/cpac/filt_noglobal/50750/Leuven_2_0050750_rois_cc200.1D\n",
            "Reading timeseries file /content/drive/MyDrive/comp_bio/ABIDE_pcp/ABIDE_pcp/cpac/filt_noglobal/50334/UM_1_0050334_rois_cc200.1D\n",
            "Reading timeseries file /content/drive/MyDrive/comp_bio/ABIDE_pcp/ABIDE_pcp/cpac/filt_noglobal/50106/Olin_0050106_rois_cc200.1D\n",
            "Reading timeseries file /content/drive/MyDrive/comp_bio/ABIDE_pcp/ABIDE_pcp/cpac/filt_noglobal/51279/UCLA_1_0051279_rois_cc200.1D\n",
            "Reading timeseries file /content/drive/MyDrive/comp_bio/ABIDE_pcp/ABIDE_pcp/cpac/filt_noglobal/50199/SDSU_0050199_rois_cc200.1D\n",
            "Reading timeseries file /content/drive/MyDrive/comp_bio/ABIDE_pcp/ABIDE_pcp/cpac/filt_noglobal/50509/USM_0050509_rois_cc200.1D\n",
            "Reading timeseries file /content/drive/MyDrive/comp_bio/ABIDE_pcp/ABIDE_pcp/cpac/filt_noglobal/51074/NYU_0051074_rois_cc200.1D\n",
            "Reading timeseries file /content/drive/MyDrive/comp_bio/ABIDE_pcp/ABIDE_pcp/cpac/filt_noglobal/50704/Leuven_1_0050704_rois_cc200.1D\n",
            "Reading timeseries file /content/drive/MyDrive/comp_bio/ABIDE_pcp/ABIDE_pcp/cpac/filt_noglobal/51080/NYU_0051080_rois_cc200.1D\n",
            "Reading timeseries file /content/drive/MyDrive/comp_bio/ABIDE_pcp/ABIDE_pcp/cpac/filt_noglobal/50152/OHSU_0050152_rois_cc200.1D\n",
            "Reading timeseries file /content/drive/MyDrive/comp_bio/ABIDE_pcp/ABIDE_pcp/cpac/filt_noglobal/50360/UM_1_0050360_rois_cc200.1D\n",
            "Reading timeseries file /content/drive/MyDrive/comp_bio/ABIDE_pcp/ABIDE_pcp/cpac/filt_noglobal/50956/NYU_0050956_rois_cc200.1D\n",
            "Reading timeseries file /content/drive/MyDrive/comp_bio/ABIDE_pcp/ABIDE_pcp/cpac/filt_noglobal/50358/UM_1_0050358_rois_cc200.1D\n",
            "Reading timeseries file /content/drive/MyDrive/comp_bio/ABIDE_pcp/ABIDE_pcp/cpac/filt_noglobal/50367/UM_1_0050367_rois_cc200.1D\n",
            "Reading timeseries file /content/drive/MyDrive/comp_bio/ABIDE_pcp/ABIDE_pcp/cpac/filt_noglobal/51087/NYU_0051087_rois_cc200.1D\n",
            "Reading timeseries file /content/drive/MyDrive/comp_bio/ABIDE_pcp/ABIDE_pcp/cpac/filt_noglobal/50969/NYU_0050969_rois_cc200.1D\n",
            "Reading timeseries file /content/drive/MyDrive/comp_bio/ABIDE_pcp/ABIDE_pcp/cpac/filt_noglobal/50531/USM_0050531_rois_cc200.1D\n",
            "Reading timeseries file /content/drive/MyDrive/comp_bio/ABIDE_pcp/ABIDE_pcp/cpac/filt_noglobal/50703/Leuven_1_0050703_rois_cc200.1D\n",
            "Reading timeseries file /content/drive/MyDrive/comp_bio/ABIDE_pcp/ABIDE_pcp/cpac/filt_noglobal/51241/UCLA_1_0051241_rois_cc200.1D\n",
            "Reading timeseries file /content/drive/MyDrive/comp_bio/ABIDE_pcp/ABIDE_pcp/cpac/filt_noglobal/51073/NYU_0051073_rois_cc200.1D\n",
            "Reading timeseries file /content/drive/MyDrive/comp_bio/ABIDE_pcp/ABIDE_pcp/cpac/filt_noglobal/50960/NYU_0050960_rois_cc200.1D\n",
            "Reading timeseries file /content/drive/MyDrive/comp_bio/ABIDE_pcp/ABIDE_pcp/cpac/filt_noglobal/50994/NYU_0050994_rois_cc200.1D\n",
            "Reading timeseries file /content/drive/MyDrive/comp_bio/ABIDE_pcp/ABIDE_pcp/cpac/filt_noglobal/51248/UCLA_1_0051248_rois_cc200.1D\n",
            "Reading timeseries file /content/drive/MyDrive/comp_bio/ABIDE_pcp/ABIDE_pcp/cpac/filt_noglobal/50507/USM_0050507_rois_cc200.1D\n",
            "Reading timeseries file /content/drive/MyDrive/comp_bio/ABIDE_pcp/ABIDE_pcp/cpac/filt_noglobal/50735/Leuven_2_0050735_rois_cc200.1D\n",
            "Reading timeseries file /content/drive/MyDrive/comp_bio/ABIDE_pcp/ABIDE_pcp/cpac/filt_noglobal/50351/UM_1_0050351_rois_cc200.1D\n",
            "Reading timeseries file /content/drive/MyDrive/comp_bio/ABIDE_pcp/ABIDE_pcp/cpac/filt_noglobal/50163/OHSU_0050163_rois_cc200.1D\n",
            "Reading timeseries file /content/drive/MyDrive/comp_bio/ABIDE_pcp/ABIDE_pcp/cpac/filt_noglobal/51277/UCLA_1_0051277_rois_cc200.1D\n",
            "Reading timeseries file /content/drive/MyDrive/comp_bio/ABIDE_pcp/ABIDE_pcp/cpac/filt_noglobal/50197/SDSU_0050197_rois_cc200.1D\n",
            "Reading timeseries file /content/drive/MyDrive/comp_bio/ABIDE_pcp/ABIDE_pcp/cpac/filt_noglobal/51045/NYU_0051045_rois_cc200.1D\n",
            "Reading timeseries file /content/drive/MyDrive/comp_bio/ABIDE_pcp/ABIDE_pcp/cpac/filt_noglobal/50993/NYU_0050993_rois_cc200.1D\n",
            "Reading timeseries file /content/drive/MyDrive/comp_bio/ABIDE_pcp/ABIDE_pcp/cpac/filt_noglobal/50369/UM_1_0050369_rois_cc200.1D\n",
            "Reading timeseries file /content/drive/MyDrive/comp_bio/ABIDE_pcp/ABIDE_pcp/cpac/filt_noglobal/51089/NYU_0051089_rois_cc200.1D\n",
            "Reading timeseries file /content/drive/MyDrive/comp_bio/ABIDE_pcp/ABIDE_pcp/cpac/filt_noglobal/50967/NYU_0050967_rois_cc200.1D\n",
            "Reading timeseries file /content/drive/MyDrive/comp_bio/ABIDE_pcp/ABIDE_pcp/cpac/filt_noglobal/50190/SDSU_0050190_rois_cc200.1D\n",
            "Reading timeseries file /content/drive/MyDrive/comp_bio/ABIDE_pcp/ABIDE_pcp/cpac/filt_noglobal/51042/NYU_0051042_rois_cc200.1D\n",
            "Reading timeseries file /content/drive/MyDrive/comp_bio/ABIDE_pcp/ABIDE_pcp/cpac/filt_noglobal/50164/OHSU_0050164_rois_cc200.1D\n",
            "Reading timeseries file /content/drive/MyDrive/comp_bio/ABIDE_pcp/ABIDE_pcp/cpac/filt_noglobal/50958/NYU_0050958_rois_cc200.1D\n",
            "Reading timeseries file /content/drive/MyDrive/comp_bio/ABIDE_pcp/ABIDE_pcp/cpac/filt_noglobal/50356/UM_1_0050356_rois_cc200.1D\n",
            "Reading timeseries file /content/drive/MyDrive/comp_bio/ABIDE_pcp/ABIDE_pcp/cpac/filt_noglobal/50732/Leuven_2_0050732_rois_cc200.1D\n",
            "Reading timeseries file /content/drive/MyDrive/comp_bio/ABIDE_pcp/ABIDE_pcp/cpac/filt_noglobal/50500/USM_0050500_rois_cc200.1D\n",
            "Reading timeseries file /content/drive/MyDrive/comp_bio/ABIDE_pcp/ABIDE_pcp/cpac/filt_noglobal/50751/Leuven_2_0050751_rois_cc200.1D\n",
            "Reading timeseries file /content/drive/MyDrive/comp_bio/ABIDE_pcp/ABIDE_pcp/cpac/filt_noglobal/50563/Yale_0050563_rois_cc200.1D\n",
            "Reading timeseries file /content/drive/MyDrive/comp_bio/ABIDE_pcp/ABIDE_pcp/cpac/filt_noglobal/50107/Olin_0050107_rois_cc200.1D\n",
            "Reading timeseries file /content/drive/MyDrive/comp_bio/ABIDE_pcp/ABIDE_pcp/cpac/filt_noglobal/50335/UM_1_0050335_rois_cc200.1D\n",
            "Reading timeseries file /content/drive/MyDrive/comp_bio/ABIDE_pcp/ABIDE_pcp/cpac/filt_noglobal/51021/NYU_0051021_rois_cc200.1D\n",
            "Reading timeseries file /content/drive/MyDrive/comp_bio/ABIDE_pcp/ABIDE_pcp/cpac/filt_noglobal/51213/UCLA_1_0051213_rois_cc200.1D\n",
            "Reading timeseries file /content/drive/MyDrive/comp_bio/ABIDE_pcp/ABIDE_pcp/cpac/filt_noglobal/51214/UCLA_1_0051214_rois_cc200.1D\n",
            "Reading timeseries file /content/drive/MyDrive/comp_bio/ABIDE_pcp/ABIDE_pcp/cpac/filt_noglobal/51026/NYU_0051026_rois_cc200.1D\n",
            "Reading timeseries file /content/drive/MyDrive/comp_bio/ABIDE_pcp/ABIDE_pcp/cpac/filt_noglobal/50332/UM_1_0050332_rois_cc200.1D\n",
            "Reading timeseries file /content/drive/MyDrive/comp_bio/ABIDE_pcp/ABIDE_pcp/cpac/filt_noglobal/50564/Yale_0050564_rois_cc200.1D\n",
            "Reading timeseries file /content/drive/MyDrive/comp_bio/ABIDE_pcp/ABIDE_pcp/cpac/filt_noglobal/50756/Leuven_2_0050756_rois_cc200.1D\n",
            "Reading timeseries file /content/drive/MyDrive/comp_bio/ABIDE_pcp/ABIDE_pcp/cpac/filt_noglobal/51019/NYU_0051019_rois_cc200.1D\n",
            "Reading timeseries file /content/drive/MyDrive/comp_bio/ABIDE_pcp/ABIDE_pcp/cpac/filt_noglobal/51489/Caltech_0051489_rois_cc200.1D\n",
            "Reading timeseries file /content/drive/MyDrive/comp_bio/ABIDE_pcp/ABIDE_pcp/cpac/filt_noglobal/51222/UCLA_1_0051222_rois_cc200.1D\n",
            "Reading timeseries file /content/drive/MyDrive/comp_bio/ABIDE_pcp/ABIDE_pcp/cpac/filt_noglobal/51010/NYU_0051010_rois_cc200.1D\n",
            "Reading timeseries file /content/drive/MyDrive/comp_bio/ABIDE_pcp/ABIDE_pcp/cpac/filt_noglobal/51474/Caltech_0051474_rois_cc200.1D\n",
            "Reading timeseries file /content/drive/MyDrive/comp_bio/ABIDE_pcp/ABIDE_pcp/cpac/filt_noglobal/50794/KKI_0050794_rois_cc200.1D\n",
            "Reading timeseries file /content/drive/MyDrive/comp_bio/ABIDE_pcp/ABIDE_pcp/cpac/filt_noglobal/51480/Caltech_0051480_rois_cc200.1D\n",
            "Reading timeseries file /content/drive/MyDrive/comp_bio/ABIDE_pcp/ABIDE_pcp/cpac/filt_noglobal/50552/Yale_0050552_rois_cc200.1D\n",
            "Reading timeseries file /content/drive/MyDrive/comp_bio/ABIDE_pcp/ABIDE_pcp/cpac/filt_noglobal/50304/UM_1_0050304_rois_cc200.1D\n",
            "Reading timeseries file /content/drive/MyDrive/comp_bio/ABIDE_pcp/ABIDE_pcp/cpac/filt_noglobal/50136/Olin_0050136_rois_cc200.1D\n",
            "Reading timeseries file /content/drive/MyDrive/comp_bio/ABIDE_pcp/ABIDE_pcp/cpac/filt_noglobal/50109/Olin_0050109_rois_cc200.1D\n",
            "Reading timeseries file /content/drive/MyDrive/comp_bio/ABIDE_pcp/ABIDE_pcp/cpac/filt_noglobal/50131/Olin_0050131_rois_cc200.1D\n",
            "Reading timeseries file /content/drive/MyDrive/comp_bio/ABIDE_pcp/ABIDE_pcp/cpac/filt_noglobal/50303/UM_1_0050303_rois_cc200.1D\n",
            "Reading timeseries file /content/drive/MyDrive/comp_bio/ABIDE_pcp/ABIDE_pcp/cpac/filt_noglobal/51487/Caltech_0051487_rois_cc200.1D\n",
            "Reading timeseries file /content/drive/MyDrive/comp_bio/ABIDE_pcp/ABIDE_pcp/cpac/filt_noglobal/50555/Yale_0050555_rois_cc200.1D\n",
            "Reading timeseries file /content/drive/MyDrive/comp_bio/ABIDE_pcp/ABIDE_pcp/cpac/filt_noglobal/50793/KKI_0050793_rois_cc200.1D\n",
            "Reading timeseries file /content/drive/MyDrive/comp_bio/ABIDE_pcp/ABIDE_pcp/cpac/filt_noglobal/51473/Caltech_0051473_rois_cc200.1D\n",
            "Reading timeseries file /content/drive/MyDrive/comp_bio/ABIDE_pcp/ABIDE_pcp/cpac/filt_noglobal/51017/NYU_0051017_rois_cc200.1D\n",
            "Reading timeseries file /content/drive/MyDrive/comp_bio/ABIDE_pcp/ABIDE_pcp/cpac/filt_noglobal/51225/UCLA_1_0051225_rois_cc200.1D\n",
            "Reading timeseries file /content/drive/MyDrive/comp_bio/ABIDE_pcp/ABIDE_pcp/cpac/filt_noglobal/51028/NYU_0051028_rois_cc200.1D\n",
            "Reading timeseries file /content/drive/MyDrive/comp_bio/ABIDE_pcp/ABIDE_pcp/cpac/filt_noglobal/50966/NYU_0050966_rois_cc200.1D\n",
            "Reading timeseries file /content/drive/MyDrive/comp_bio/ABIDE_pcp/ABIDE_pcp/cpac/filt_noglobal/51088/NYU_0051088_rois_cc200.1D\n",
            "Reading timeseries file /content/drive/MyDrive/comp_bio/ABIDE_pcp/ABIDE_pcp/cpac/filt_noglobal/50368/UM_1_0050368_rois_cc200.1D\n",
            "Reading timeseries file /content/drive/MyDrive/comp_bio/ABIDE_pcp/ABIDE_pcp/cpac/filt_noglobal/50992/NYU_0050992_rois_cc200.1D\n",
            "Reading timeseries file /content/drive/MyDrive/comp_bio/ABIDE_pcp/ABIDE_pcp/cpac/filt_noglobal/50357/UM_1_0050357_rois_cc200.1D\n",
            "Reading timeseries file /content/drive/MyDrive/comp_bio/ABIDE_pcp/ABIDE_pcp/cpac/filt_noglobal/50959/NYU_0050959_rois_cc200.1D\n",
            "Reading timeseries file /content/drive/MyDrive/comp_bio/ABIDE_pcp/ABIDE_pcp/cpac/filt_noglobal/50501/USM_0050501_rois_cc200.1D\n",
            "Reading timeseries file /content/drive/MyDrive/comp_bio/ABIDE_pcp/ABIDE_pcp/cpac/filt_noglobal/50733/Leuven_2_0050733_rois_cc200.1D\n",
            "Reading timeseries file /content/drive/MyDrive/comp_bio/ABIDE_pcp/ABIDE_pcp/cpac/filt_noglobal/51271/UCLA_1_0051271_rois_cc200.1D\n",
            "Reading timeseries file /content/drive/MyDrive/comp_bio/ABIDE_pcp/ABIDE_pcp/cpac/filt_noglobal/50191/SDSU_0050191_rois_cc200.1D\n",
            "Reading timeseries file /content/drive/MyDrive/comp_bio/ABIDE_pcp/ABIDE_pcp/cpac/filt_noglobal/51249/UCLA_1_0051249_rois_cc200.1D\n",
            "Reading timeseries file /content/drive/MyDrive/comp_bio/ABIDE_pcp/ABIDE_pcp/cpac/filt_noglobal/50995/NYU_0050995_rois_cc200.1D\n",
            "Reading timeseries file /content/drive/MyDrive/comp_bio/ABIDE_pcp/ABIDE_pcp/cpac/filt_noglobal/50961/NYU_0050961_rois_cc200.1D\n",
            "Reading timeseries file /content/drive/MyDrive/comp_bio/ABIDE_pcp/ABIDE_pcp/cpac/filt_noglobal/50196/SDSU_0050196_rois_cc200.1D\n",
            "Reading timeseries file /content/drive/MyDrive/comp_bio/ABIDE_pcp/ABIDE_pcp/cpac/filt_noglobal/51044/NYU_0051044_rois_cc200.1D\n",
            "Reading timeseries file /content/drive/MyDrive/comp_bio/ABIDE_pcp/ABIDE_pcp/cpac/filt_noglobal/51276/UCLA_1_0051276_rois_cc200.1D\n",
            "Reading timeseries file /content/drive/MyDrive/comp_bio/ABIDE_pcp/ABIDE_pcp/cpac/filt_noglobal/50162/OHSU_0050162_rois_cc200.1D\n",
            "Reading timeseries file /content/drive/MyDrive/comp_bio/ABIDE_pcp/ABIDE_pcp/cpac/filt_noglobal/50350/UM_1_0050350_rois_cc200.1D\n",
            "Reading timeseries file /content/drive/MyDrive/comp_bio/ABIDE_pcp/ABIDE_pcp/cpac/filt_noglobal/51282/UCLA_1_0051282_rois_cc200.1D\n",
            "Reading timeseries file /content/drive/MyDrive/comp_bio/ABIDE_pcp/ABIDE_pcp/cpac/filt_noglobal/50359/UM_1_0050359_rois_cc200.1D\n",
            "Reading timeseries file /content/drive/MyDrive/comp_bio/ABIDE_pcp/ABIDE_pcp/cpac/filt_noglobal/50957/NYU_0050957_rois_cc200.1D\n",
            "Reading timeseries file /content/drive/MyDrive/comp_bio/ABIDE_pcp/ABIDE_pcp/cpac/filt_noglobal/51072/NYU_0051072_rois_cc200.1D\n",
            "Reading timeseries file /content/drive/MyDrive/comp_bio/ABIDE_pcp/ABIDE_pcp/cpac/filt_noglobal/51240/UCLA_1_0051240_rois_cc200.1D\n",
            "Reading timeseries file /content/drive/MyDrive/comp_bio/ABIDE_pcp/ABIDE_pcp/cpac/filt_noglobal/50968/NYU_0050968_rois_cc200.1D\n",
            "Reading timeseries file /content/drive/MyDrive/comp_bio/ABIDE_pcp/ABIDE_pcp/cpac/filt_noglobal/51086/NYU_0051086_rois_cc200.1D\n",
            "Reading timeseries file /content/drive/MyDrive/comp_bio/ABIDE_pcp/ABIDE_pcp/cpac/filt_noglobal/50366/UM_1_0050366_rois_cc200.1D\n",
            "Reading timeseries file /content/drive/MyDrive/comp_bio/ABIDE_pcp/ABIDE_pcp/cpac/filt_noglobal/50702/Leuven_1_0050702_rois_cc200.1D\n",
            "Reading timeseries file /content/drive/MyDrive/comp_bio/ABIDE_pcp/ABIDE_pcp/cpac/filt_noglobal/50530/USM_0050530_rois_cc200.1D\n",
            "Reading timeseries file /content/drive/MyDrive/comp_bio/ABIDE_pcp/ABIDE_pcp/cpac/filt_noglobal/50198/SDSU_0050198_rois_cc200.1D\n",
            "Reading timeseries file /content/drive/MyDrive/comp_bio/ABIDE_pcp/ABIDE_pcp/cpac/filt_noglobal/51278/UCLA_1_0051278_rois_cc200.1D\n",
            "Reading timeseries file /content/drive/MyDrive/comp_bio/ABIDE_pcp/ABIDE_pcp/cpac/filt_noglobal/50705/Leuven_1_0050705_rois_cc200.1D\n",
            "Reading timeseries file /content/drive/MyDrive/comp_bio/ABIDE_pcp/ABIDE_pcp/cpac/filt_noglobal/50361/UM_1_0050361_rois_cc200.1D\n",
            "Reading timeseries file /content/drive/MyDrive/comp_bio/ABIDE_pcp/ABIDE_pcp/cpac/filt_noglobal/51081/NYU_0051081_rois_cc200.1D\n",
            "Reading timeseries file /content/drive/MyDrive/comp_bio/ABIDE_pcp/ABIDE_pcp/cpac/filt_noglobal/50153/OHSU_0050153_rois_cc200.1D\n",
            "Reading timeseries file /content/drive/MyDrive/comp_bio/ABIDE_pcp/ABIDE_pcp/cpac/filt_noglobal/51075/NYU_0051075_rois_cc200.1D\n"
          ]
        }
      ],
      "source": [
        "from nilearn import datasets\n",
        "import argparse\n",
        "import os\n",
        "import shutil\n",
        "import sys\n",
        "\n",
        "\n",
        "def str2bool(v):\n",
        "    if isinstance(v, bool):\n",
        "        return v\n",
        "    if v.lower() in ('yes', 'true', 't', 'y', '1'):\n",
        "        return True\n",
        "    elif v.lower() in ('no', 'false', 'f', 'n', '0'):\n",
        "        return False\n",
        "    else:\n",
        "        raise argparse.ArgumentTypeError('Boolean value expected.')\n",
        "\n",
        "\n",
        "def main(args):\n",
        "    root_folder = args.root_path\n",
        "    data_folder = os.path.join(root_folder, 'ABIDE_pcp/cpac/filt_noglobal/')\n",
        "    if not os.path.exists(data_folder):\n",
        "        os.makedirs(data_folder)\n",
        "\n",
        "    pipeline = args.pipeline\n",
        "    atlas = args.atlas\n",
        "    download = args.download\n",
        "\n",
        "    # Files to fetch\n",
        "\n",
        "    files = ['rois_' + atlas]\n",
        "\n",
        "    filemapping = {'func_preproc': 'func_preproc.nii.gz',\n",
        "                   files[0]: files[0] + '.1D'}\n",
        "\n",
        "\n",
        "    # Download database files\n",
        "    if download == True:\n",
        "        abide = datasets.fetch_abide_pcp(data_dir=root_folder, pipeline=pipeline,\n",
        "                                         band_pass_filtering=True, global_signal_regression=False, derivatives=files,\n",
        "                                         quality_checked=False)\n",
        "    reader = Reader(root_folder, args.id_file_path)\n",
        "    subject_IDs = reader.get_ids() #changed path to data path\n",
        "    subject_IDs = subject_IDs.tolist()\n",
        "\n",
        "    # Create a folder for each subject\n",
        "    for s, fname in zip(subject_IDs, reader.fetch_filenames(subject_IDs, files[0], atlas)):\n",
        "        subject_folder = os.path.join(data_folder, s)\n",
        "        if not os.path.exists(subject_folder):\n",
        "            os.mkdir(subject_folder)\n",
        "\n",
        "        # Get the base filename for each subject\n",
        "        base = fname.split(files[0])[0]\n",
        "\n",
        "        # Move each subject file to the subject folder\n",
        "        for fl in files:\n",
        "            if not os.path.exists(os.path.join(subject_folder, base + filemapping[fl])):\n",
        "                shutil.move(base + filemapping[fl], subject_folder)\n",
        "\n",
        "    time_series = reader.get_timeseries(subject_IDs, atlas)\n",
        "\n",
        "    # Compute and save connectivity matrices\n",
        "    reader.subject_connectivity(time_series, subject_IDs, atlas, 'correlation')\n",
        "    reader.subject_connectivity(time_series, subject_IDs, atlas, 'partial correlation')\n",
        "\n",
        "\n",
        "args = {\n",
        " \"pipeline\": \"cpac\",\n",
        " \"atlas\": \"cc200\",\n",
        " \"download\":True,\n",
        " \"root_path\":root_path,\n",
        " \"id_file_path\": root_path+\"subject_IDs.txt\"\n",
        "}\n",
        "args = KeyDotDict(args)\n",
        "main(args)"
      ]
    },
    {
      "cell_type": "markdown",
      "metadata": {
        "id": "yH7GeW9QVxYo"
      },
      "source": [
        "# Process Data"
      ]
    },
    {
      "cell_type": "code",
      "execution_count": null,
      "metadata": {
        "colab": {
          "base_uri": "https://localhost:8080/"
        },
        "id": "VAMPv3rNZoVo",
        "outputId": "fdfbc5ea-edea-4960-e80b-6a9577c61058"
      },
      "outputs": [
        {
          "output_type": "stream",
          "name": "stdout",
          "text": [
            "Arguments: \n",
            " {'root_path': '/content/drive/MyDrive/comp_bio/ABIDE_pcp', 'atlas': 'cc200', 'seed': '0', 'nclass': 2, 'id_file_path': '/content/drive/MyDrive/comp_bio/ABIDE_pcpsubject_IDs.txt'}\n"
          ]
        }
      ],
      "source": [
        "import sys\n",
        "import argparse\n",
        "import pandas as pd\n",
        "import numpy as np\n",
        "import deepdish as dd\n",
        "import warnings\n",
        "import os\n",
        "\n",
        "# Process boolean command line arguments\n",
        "def str2bool(v):\n",
        "    if isinstance(v, bool):\n",
        "        return v\n",
        "    if v.lower() in ('yes', 'true', 't', 'y', '1'):\n",
        "        return True\n",
        "    elif v.lower() in ('no', 'false', 'f', 'n', '0'):\n",
        "        return False\n",
        "    else:\n",
        "        raise argparse.ArgumentTypeError('Boolean value expected.')\n",
        "\n",
        "\n",
        "def main(args):\n",
        "\n",
        "    print('Arguments: \\n', args)\n",
        "\n",
        "    data_folder = os.path.join(args.root_path, 'ABIDE_pcp/cpac/filt_noglobal/')\n",
        "\n",
        "\n",
        "    params = dict()\n",
        "\n",
        "    params['seed'] = args.seed  # seed for random initialisation\n",
        "\n",
        "    # Algorithm choice\n",
        "    params['atlas'] = args.atlas  # Atlas for network construction\n",
        "    atlas = args.atlas  # Atlas for network construction (node definition)\n",
        "\n",
        "    reader = Reader(args.root_path, args.id_file_path)\n",
        "    # Get subject IDs and class labels\n",
        "    subject_IDs = reader.get_ids()\n",
        "    labels = reader.get_subject_score(subject_IDs, score='DX_GROUP')\n",
        "\n",
        "    # Number of subjects and classes for binary classification\n",
        "    num_classes = args.nclass\n",
        "    num_subjects = len(subject_IDs)\n",
        "    params['n_subjects'] = num_subjects\n",
        "\n",
        "    # Initialise variables for class labels and acquisition sites\n",
        "    # 1 is autism, 2 is control\n",
        "    y_data = np.zeros([num_subjects, num_classes]) # n x 2\n",
        "    y = np.zeros([num_subjects, 1]) # n x 1\n",
        "\n",
        "    # Get class labels for all subjects\n",
        "    for i in range(num_subjects):\n",
        "        y_data[i, int(labels[subject_IDs[i]]) - 1] = 1\n",
        "        y[i] = int(labels[subject_IDs[i]])\n",
        "\n",
        "\n",
        "\n",
        "    # Compute feature vectors (vectorised connectivity networks)\n",
        "    fea_corr = reader.get_networks(subject_IDs, iter_no='', kind='correlation', atlas_name=atlas) #(1035, 200, 200)\n",
        "    fea_pcorr = reader.get_networks(subject_IDs, iter_no='', kind='partial correlation', atlas_name=atlas) #(1035, 200, 200)\n",
        "\n",
        "    if not os.path.exists(os.path.join(data_folder,'raw')):\n",
        "        os.makedirs(os.path.join(data_folder,'raw'))\n",
        "    for i, subject in enumerate(subject_IDs):\n",
        "        dd.io.save(os.path.join(data_folder,'raw',subject+'.h5'),{'corr':fea_corr[i],'pcorr':fea_pcorr[i],'label':(y[i]-1)})\n",
        "\n",
        "args = {\n",
        " \"root_path\":root_path,\n",
        " \"atlas\": \"cc200\",\n",
        " \"seed\": \"0\",\n",
        " \"nclass\":2,\n",
        " \"id_file_path\": root_path+\"subject_IDs.txt\"\n",
        "}\n",
        "args = KeyDotDict(args)\n",
        "main(args)"
      ]
    },
    {
      "cell_type": "markdown",
      "metadata": {
        "id": "LQIf4DsGWVCp"
      },
      "source": [
        "# Generate Dataset"
      ]
    },
    {
      "cell_type": "code",
      "execution_count": null,
      "metadata": {
        "id": "HLpQxP-rWXwQ"
      },
      "outputs": [],
      "source": [
        "import deepdish as dd\n",
        "import os.path as osp\n",
        "import os\n",
        "import numpy as np\n",
        "import argparse\n",
        "from pathlib import Path\n",
        "import pandas as pd\n",
        "\n",
        "\n",
        "def main(args):\n",
        "    data_dir =  os.path.join(args.root_path, 'ABIDE_pcp/cpac/filt_noglobal/raw')\n",
        "    timeseires = os.path.join(args.root_path, 'ABIDE_pcp/cpac/filt_noglobal/')\n",
        "\n",
        "    meta_file = os.path.join(args.root_path, 'ABIDE_pcp/Phenotypic_V1_0b_preprocessed1.csv')\n",
        "\n",
        "    meta_file = pd.read_csv(meta_file, header=0)\n",
        "\n",
        "    id2site = meta_file[[\"subject\", \"SITE_ID\"]]\n",
        "\n",
        "    # pandas to map\n",
        "    id2site = id2site.set_index(\"subject\")\n",
        "    id2site = id2site.to_dict()['SITE_ID']\n",
        "\n",
        "    times = []\n",
        "\n",
        "    labels = []\n",
        "    pcorrs = []\n",
        "\n",
        "    corrs = []\n",
        "\n",
        "    site_list = []\n",
        "\n",
        "    for f in os.listdir(data_dir):\n",
        "        if osp.isfile(osp.join(data_dir, f)):\n",
        "            fname = f.split('.')[0]\n",
        "            site = id2site[int(fname)]\n",
        "\n",
        "\n",
        "            files = os.listdir(osp.join(timeseires, fname))\n",
        "\n",
        "            file = list(filter(lambda x: x.endswith(\"1D\"), files))[0]\n",
        "\n",
        "            time = np.loadtxt(osp.join(timeseires, fname, file), skiprows=0).T\n",
        "\n",
        "            if time.shape[1] < 100:\n",
        "                continue\n",
        "\n",
        "            temp = dd.io.load(osp.join(data_dir,  f))\n",
        "            pcorr = temp['pcorr'][()]\n",
        "\n",
        "            pcorr[pcorr == float('inf')] = 0\n",
        "\n",
        "            att = temp['corr'][()]\n",
        "\n",
        "            att[att == float('inf')] = 0\n",
        "\n",
        "            label = temp['label']\n",
        "\n",
        "            times.append(time[:,:100])\n",
        "            labels.append(label[0])\n",
        "            corrs.append(att)\n",
        "            pcorrs.append(pcorr)\n",
        "            site_list.append(site)\n",
        "\n",
        "    np.save(Path(args.root_path)/'ABIDE_pcp/abide.npy', {'timeseires': np.array(times), \"label\": np.array(labels),\"corr\": np.array(corrs),\"pcorr\": np.array(pcorrs), 'site': np.array(site_list)})\n",
        "\n",
        "args = {\n",
        " \"root_path\":root_path,\n",
        "}\n",
        "args = KeyDotDict(args)\n",
        "main(args)"
      ]
    },
    {
      "cell_type": "markdown",
      "metadata": {
        "id": "edlvy1LYWg6u"
      },
      "source": [
        "# **Modeling**"
      ]
    },
    {
      "cell_type": "code",
      "execution_count": null,
      "metadata": {
        "id": "5i4RTFKXWX6N",
        "colab": {
          "base_uri": "https://localhost:8080/"
        },
        "outputId": "8494563f-593d-4f18-8b9b-f6f96eebafbf"
      },
      "outputs": [
        {
          "output_type": "stream",
          "name": "stderr",
          "text": [
            "Processing...\n",
            "Done!\n"
          ]
        }
      ],
      "source": [
        "import torch\n",
        "import random\n",
        "from BrainGB.dataset import BrainDataset\n",
        "from BrainGB.dataset.transforms import Adj\n",
        "from torch_geometric.loader import DataLoader\n",
        "import os\n",
        "import numpy as np\n",
        "def set_seeds(seed):\n",
        "    random.seed(seed)\n",
        "    os.environ['PYTHONHASHSEED'] = str(seed)\n",
        "    np.random.seed(seed)  # set random seed for numpy\n",
        "    torch.manual_seed(seed)  # set random seed for CPU\n",
        "    torch.cuda.manual_seed_all(seed)  # set random seed for all GPUs\n",
        "\n",
        "set_seeds(0)\n",
        "device = torch.device('cuda' if torch.cuda.is_available() else 'cpu')\n",
        "\n",
        "root_path = \"/content/drive/MyDrive/comp_bio/ABIDE_pcp\"\n",
        "dataset = \"ABIDE\"\n",
        "node_features = Adj()\n",
        "dataset = BrainDataset(root=root_path,\n",
        "                           name=dataset,\n",
        "                           pre_transform=node_features)\n",
        "y = []\n",
        "for d in dataset:\n",
        "    y.append(d.y.item())\n",
        "num_features = dataset[0].x.shape[1]\n",
        "nodes_num = dataset.num_nodes"
      ]
    },
    {
      "cell_type": "markdown",
      "metadata": {
        "id": "vmZcipeNsCTj"
      },
      "source": [
        "# Supervised Fine Tuning"
      ]
    },
    {
      "cell_type": "code",
      "execution_count": null,
      "metadata": {
        "id": "mKOXl03A7pdq"
      },
      "outputs": [],
      "source": [
        "import torch\n",
        "from sklearn import metrics\n",
        "from torch_geometric.nn import global_add_pool, global_mean_pool, MessagePassing\n",
        "from torch.nn import Parameter\n",
        "import numpy as np\n",
        "from torch.nn import functional as F\n",
        "from torch_geometric.nn.inits import glorot, zeros\n",
        "from typing import Tuple\n",
        "from torch import Tensor\n",
        "from torch_geometric.nn import GCNConv\n",
        "from torch import nn\n",
        "import math\n",
        "import torch_geometric\n",
        "from torch_geometric.nn import SAGEConv, GATConv\n",
        "from torch_geometric.nn import MessagePassing\n",
        "from sklearn.model_selection import StratifiedKFold\n",
        "from torch_geometric.typing import Adj, OptTensor, SparseTensor\n",
        "from tqdm import tqdm\n",
        "\n",
        "class MLP(torch.nn.Module):\n",
        "    def __init__(self, input_dim, hidden_dim, num_layers, activation, n_classes=0):\n",
        "        super(MLP, self).__init__()\n",
        "        self.net = []\n",
        "        self.net.append(torch.nn.Linear(input_dim, hidden_dim))\n",
        "        self.net.append(activation())\n",
        "        for _ in range(num_layers - 1):\n",
        "            self.net.append(torch.nn.Linear(hidden_dim, hidden_dim))\n",
        "            self.net.append(activation())\n",
        "        self.net = torch.nn.Sequential(*self.net)\n",
        "        self.shortcut = torch.nn.Linear(input_dim, hidden_dim)\n",
        "\n",
        "        if n_classes != 0:\n",
        "            self.classifier = torch.nn.Linear(hidden_dim, n_classes)\n",
        "\n",
        "    def forward(self, x):\n",
        "        out = self.net(x) + self.shortcut(x)\n",
        "        if hasattr(self, 'classifier'):\n",
        "            return out, self.classifier(out)\n",
        "        return out\n",
        "\n",
        "@torch.no_grad()\n",
        "def evaluate(model, device, loader):\n",
        "    model.eval()\n",
        "    preds, trues, preds_prob = [], [], []\n",
        "\n",
        "    for data in loader:\n",
        "        data = data.to(device)\n",
        "\n",
        "        c = model(data)\n",
        "        pred = c.max(dim=1)[1]\n",
        "        preds += pred.detach().cpu().tolist()\n",
        "        preds_prob += torch.softmax(c, dim=-1)[:, 1].detach().cpu().tolist()\n",
        "        trues += data.y.detach().cpu().tolist()\n",
        "\n",
        "    train_auc = metrics.roc_auc_score(trues, preds_prob)\n",
        "    train_accuracy = metrics.accuracy_score(trues, preds)\n",
        "    return train_accuracy, train_auc"
      ]
    },
    {
      "cell_type": "markdown",
      "metadata": {
        "id": "R4dq8dIpeRjc"
      },
      "source": [
        "# **Baselines**"
      ]
    },
    {
      "cell_type": "markdown",
      "source": [
        "Baseline Random Forest"
      ],
      "metadata": {
        "id": "Q2vzTeemWhD9"
      }
    },
    {
      "cell_type": "code",
      "execution_count": null,
      "metadata": {
        "id": "XodSzX1CnmVc",
        "colab": {
          "base_uri": "https://localhost:8080/"
        },
        "outputId": "68cf5892-de6c-45dc-8916-a6433c80e1f3"
      },
      "outputs": [
        {
          "output_type": "stream",
          "name": "stdout",
          "text": [
            "Run 1, Mean Fold Accuracy: 0.54\n",
            "Run 1, Mean Fold AUROC: 0.56\n",
            "Run 2, Mean Fold Accuracy: 0.52\n",
            "Run 2, Mean Fold AUROC: 0.54\n",
            "Run 3, Mean Fold Accuracy: 0.52\n",
            "Run 3, Mean Fold AUROC: 0.56\n",
            "Run 4, Mean Fold Accuracy: 0.56\n",
            "Run 4, Mean Fold AUROC: 0.58\n",
            "Run 5, Mean Fold Accuracy: 0.55\n",
            "Run 5, Mean Fold AUROC: 0.55\n",
            "Run 6, Mean Fold Accuracy: 0.55\n",
            "Run 6, Mean Fold AUROC: 0.56\n",
            "Run 7, Mean Fold Accuracy: 0.51\n",
            "Run 7, Mean Fold AUROC: 0.53\n",
            "Run 8, Mean Fold Accuracy: 0.53\n",
            "Run 8, Mean Fold AUROC: 0.56\n",
            "Run 9, Mean Fold Accuracy: 0.55\n",
            "Run 9, Mean Fold AUROC: 0.57\n",
            "Run 10, Mean Fold Accuracy: 0.53\n",
            "Run 10, Mean Fold AUROC: 0.55\n",
            "Run 11, Mean Fold Accuracy: 0.56\n",
            "Run 11, Mean Fold AUROC: 0.59\n",
            "Run 12, Mean Fold Accuracy: 0.55\n",
            "Run 12, Mean Fold AUROC: 0.58\n",
            "Run 13, Mean Fold Accuracy: 0.53\n",
            "Run 13, Mean Fold AUROC: 0.56\n",
            "Run 14, Mean Fold Accuracy: 0.54\n",
            "Run 14, Mean Fold AUROC: 0.56\n",
            "Run 15, Mean Fold Accuracy: 0.54\n",
            "Run 15, Mean Fold AUROC: 0.57\n",
            "Run 16, Mean Fold Accuracy: 0.55\n",
            "Run 16, Mean Fold AUROC: 0.58\n",
            "Run 17, Mean Fold Accuracy: 0.54\n",
            "Run 17, Mean Fold AUROC: 0.57\n",
            "Run 18, Mean Fold Accuracy: 0.53\n",
            "Run 18, Mean Fold AUROC: 0.56\n",
            "Run 19, Mean Fold Accuracy: 0.57\n",
            "Run 19, Mean Fold AUROC: 0.57\n",
            "Run 20, Mean Fold Accuracy: 0.56\n",
            "Run 20, Mean Fold AUROC: 0.57\n",
            "Overall Mean Accuracy: 0.54, Std Dev: 0.01\n",
            "Overall Mean AUROC: 0.56, Std Dev: 0.01\n"
          ]
        }
      ],
      "source": [
        "from sklearn.ensemble import RandomForestClassifier\n",
        "from sklearn.model_selection import StratifiedKFold\n",
        "from sklearn.metrics import accuracy_score, classification_report, roc_auc_score\n",
        "import numpy as np\n",
        "\n",
        "n_splits = 5\n",
        "n_runs = 20\n",
        "\n",
        "X = np.stack([data.x.mean(dim=0).numpy() for data in dataset])\n",
        "y = np.array([data.y.item() for data in dataset])\n",
        "\n",
        "all_accuracies = []\n",
        "all_auroc = []\n",
        "\n",
        "for run in range(n_runs):\n",
        "    fold_accuracies = []\n",
        "    fold_auroc = []\n",
        "    skf = StratifiedKFold(n_splits=n_splits, shuffle=True, random_state=run)\n",
        "\n",
        "    for train_index, test_index in skf.split(X, y):\n",
        "        X_train, X_test = X[train_index], X[test_index]\n",
        "        y_train, y_test = y[train_index], y[test_index]\n",
        "\n",
        "        classifier = RandomForestClassifier(n_estimators=100, random_state=run)\n",
        "        classifier.fit(X_train, y_train)\n",
        "        y_pred = classifier.predict(X_test)\n",
        "        y_pred_prob = classifier.predict_proba(X_test)[:, 1]\n",
        "        accuracy = accuracy_score(y_test, y_pred)\n",
        "        auroc = roc_auc_score(y_test, y_pred_prob)\n",
        "        fold_accuracies.append(accuracy)\n",
        "        fold_auroc.append(auroc)\n",
        "\n",
        "    mean_accuracy = np.mean(fold_accuracies)\n",
        "    all_accuracies.append(mean_accuracy)\n",
        "    print(f'Run {run+1}, Mean Fold Accuracy: {mean_accuracy:.2f}')\n",
        "\n",
        "    mean_auroc = np.mean(fold_auroc)\n",
        "    all_auroc.append(mean_auroc)\n",
        "    print(f'Run {run+1}, Mean Fold AUROC: {mean_auroc:.2f}')\n",
        "\n",
        "overall_mean_accuracy = np.mean(all_accuracies)\n",
        "overall_std_accuracy = np.std(all_accuracies)\n",
        "print(f'Overall Mean Accuracy: {overall_mean_accuracy:.2f}, Std Dev: {overall_std_accuracy:.2f}')\n",
        "\n",
        "overall_mean_auroc = np.mean(all_auroc)\n",
        "overall_std_auroc = np.std(all_auroc)\n",
        "print(f'Overall Mean AUROC: {overall_mean_auroc:.2f}, Std Dev: {overall_std_auroc:.2f}')"
      ]
    },
    {
      "cell_type": "markdown",
      "source": [
        "Baseline Graph Convolutional Network"
      ],
      "metadata": {
        "id": "3R285p6Il2r8"
      }
    },
    {
      "cell_type": "code",
      "execution_count": null,
      "metadata": {
        "id": "fHhDVf1L0glA"
      },
      "outputs": [],
      "source": [
        "import torch\n",
        "import torch.nn.functional as F\n",
        "from torch_geometric.nn import GCNConv, global_mean_pool\n",
        "from torch_geometric.data import DataLoader\n",
        "\n",
        "class GCN(torch.nn.Module):\n",
        "    def __init__(self, num_node_features, num_classes):\n",
        "        super(GCN, self).__init__()\n",
        "        self.conv1 = GCNConv(num_node_features, 32)\n",
        "        self.conv2 = GCNConv(32, 32)\n",
        "        self.fc = torch.nn.Linear(32, num_classes)\n",
        "\n",
        "    def forward(self, data):\n",
        "        x, edge_index, batch = data.x, data.edge_index, data.batch\n",
        "        x = F.relu(self.conv1(x, edge_index))\n",
        "        x = F.dropout(x, training=self.training)\n",
        "        x = self.conv2(x, edge_index)\n",
        "\n",
        "        x = global_mean_pool(x, batch)\n",
        "        x = self.fc(x)\n",
        "\n",
        "        return x\n"
      ]
    },
    {
      "cell_type": "code",
      "execution_count": null,
      "metadata": {
        "colab": {
          "base_uri": "https://localhost:8080/"
        },
        "id": "IxmJfQFU0WmW",
        "outputId": "0e0135c4-9aac-4462-a287-f2661fb07466"
      },
      "outputs": [
        {
          "output_type": "stream",
          "name": "stdout",
          "text": [
            "Collecting torchmetrics\n",
            "  Downloading torchmetrics-1.3.2-py3-none-any.whl (841 kB)\n",
            "\u001b[2K     \u001b[90m━━━━━━━━━━━━━━━━━━━━━━━━━━━━━━━━━━━━━━━━\u001b[0m \u001b[32m841.5/841.5 kB\u001b[0m \u001b[31m5.5 MB/s\u001b[0m eta \u001b[36m0:00:00\u001b[0m\n",
            "\u001b[?25hRequirement already satisfied: numpy>1.20.0 in /usr/local/lib/python3.10/dist-packages (from torchmetrics) (1.23.4)\n",
            "Requirement already satisfied: packaging>17.1 in /usr/local/lib/python3.10/dist-packages (from torchmetrics) (24.0)\n",
            "Requirement already satisfied: torch>=1.10.0 in /usr/local/lib/python3.10/dist-packages (from torchmetrics) (2.2.1+cu121)\n",
            "Collecting lightning-utilities>=0.8.0 (from torchmetrics)\n",
            "  Downloading lightning_utilities-0.11.2-py3-none-any.whl (26 kB)\n",
            "Requirement already satisfied: setuptools in /usr/local/lib/python3.10/dist-packages (from lightning-utilities>=0.8.0->torchmetrics) (67.7.2)\n",
            "Requirement already satisfied: typing-extensions in /usr/local/lib/python3.10/dist-packages (from lightning-utilities>=0.8.0->torchmetrics) (4.11.0)\n",
            "Requirement already satisfied: filelock in /usr/local/lib/python3.10/dist-packages (from torch>=1.10.0->torchmetrics) (3.13.4)\n",
            "Requirement already satisfied: sympy in /usr/local/lib/python3.10/dist-packages (from torch>=1.10.0->torchmetrics) (1.12)\n",
            "Requirement already satisfied: networkx in /usr/local/lib/python3.10/dist-packages (from torch>=1.10.0->torchmetrics) (2.8.8)\n",
            "Requirement already satisfied: jinja2 in /usr/local/lib/python3.10/dist-packages (from torch>=1.10.0->torchmetrics) (3.1.3)\n",
            "Requirement already satisfied: fsspec in /usr/local/lib/python3.10/dist-packages (from torch>=1.10.0->torchmetrics) (2023.6.0)\n",
            "Requirement already satisfied: nvidia-cuda-nvrtc-cu12==12.1.105 in /usr/local/lib/python3.10/dist-packages (from torch>=1.10.0->torchmetrics) (12.1.105)\n",
            "Requirement already satisfied: nvidia-cuda-runtime-cu12==12.1.105 in /usr/local/lib/python3.10/dist-packages (from torch>=1.10.0->torchmetrics) (12.1.105)\n",
            "Requirement already satisfied: nvidia-cuda-cupti-cu12==12.1.105 in /usr/local/lib/python3.10/dist-packages (from torch>=1.10.0->torchmetrics) (12.1.105)\n",
            "Requirement already satisfied: nvidia-cudnn-cu12==8.9.2.26 in /usr/local/lib/python3.10/dist-packages (from torch>=1.10.0->torchmetrics) (8.9.2.26)\n",
            "Requirement already satisfied: nvidia-cublas-cu12==12.1.3.1 in /usr/local/lib/python3.10/dist-packages (from torch>=1.10.0->torchmetrics) (12.1.3.1)\n",
            "Requirement already satisfied: nvidia-cufft-cu12==11.0.2.54 in /usr/local/lib/python3.10/dist-packages (from torch>=1.10.0->torchmetrics) (11.0.2.54)\n",
            "Requirement already satisfied: nvidia-curand-cu12==10.3.2.106 in /usr/local/lib/python3.10/dist-packages (from torch>=1.10.0->torchmetrics) (10.3.2.106)\n",
            "Requirement already satisfied: nvidia-cusolver-cu12==11.4.5.107 in /usr/local/lib/python3.10/dist-packages (from torch>=1.10.0->torchmetrics) (11.4.5.107)\n",
            "Requirement already satisfied: nvidia-cusparse-cu12==12.1.0.106 in /usr/local/lib/python3.10/dist-packages (from torch>=1.10.0->torchmetrics) (12.1.0.106)\n",
            "Requirement already satisfied: nvidia-nccl-cu12==2.19.3 in /usr/local/lib/python3.10/dist-packages (from torch>=1.10.0->torchmetrics) (2.19.3)\n",
            "Requirement already satisfied: nvidia-nvtx-cu12==12.1.105 in /usr/local/lib/python3.10/dist-packages (from torch>=1.10.0->torchmetrics) (12.1.105)\n",
            "Requirement already satisfied: triton==2.2.0 in /usr/local/lib/python3.10/dist-packages (from torch>=1.10.0->torchmetrics) (2.2.0)\n",
            "Requirement already satisfied: nvidia-nvjitlink-cu12 in /usr/local/lib/python3.10/dist-packages (from nvidia-cusolver-cu12==11.4.5.107->torch>=1.10.0->torchmetrics) (12.4.127)\n",
            "Requirement already satisfied: MarkupSafe>=2.0 in /usr/local/lib/python3.10/dist-packages (from jinja2->torch>=1.10.0->torchmetrics) (2.1.5)\n",
            "Requirement already satisfied: mpmath>=0.19 in /usr/local/lib/python3.10/dist-packages (from sympy->torch>=1.10.0->torchmetrics) (1.3.0)\n",
            "Installing collected packages: lightning-utilities, torchmetrics\n",
            "Successfully installed lightning-utilities-0.11.2 torchmetrics-1.3.2\n",
            "Run 1, Accuracy: 0.5149\n",
            "Run 1, AUROC: 0.5106\n",
            "Run 2, Accuracy: 0.4851\n",
            "Run 2, AUROC: 0.5059\n",
            "Run 3, Accuracy: 0.5149\n",
            "Run 3, AUROC: 0.4952\n",
            "Run 4, Accuracy: 0.5149\n",
            "Run 4, AUROC: 0.5051\n",
            "Run 5, Accuracy: 0.4851\n",
            "Run 5, AUROC: 0.5001\n",
            "Run 6, Accuracy: 0.5149\n",
            "Run 6, AUROC: 0.5002\n",
            "Run 7, Accuracy: 0.5149\n",
            "Run 7, AUROC: 0.5000\n",
            "Run 8, Accuracy: 0.5149\n",
            "Run 8, AUROC: 0.4952\n",
            "Run 9, Accuracy: 0.5149\n",
            "Run 9, AUROC: 0.5048\n",
            "Run 10, Accuracy: 0.5149\n",
            "Run 10, AUROC: 0.5004\n",
            "Run 11, Accuracy: 0.5149\n",
            "Run 11, AUROC: 0.5099\n",
            "Run 12, Accuracy: 0.4851\n",
            "Run 12, AUROC: 0.4952\n",
            "Run 13, Accuracy: 0.5149\n",
            "Run 13, AUROC: 0.5000\n",
            "Run 14, Accuracy: 0.4851\n",
            "Run 14, AUROC: 0.4952\n",
            "Run 15, Accuracy: 0.5149\n",
            "Run 15, AUROC: 0.5104\n",
            "Run 16, Accuracy: 0.5149\n",
            "Run 16, AUROC: 0.4854\n",
            "Run 17, Accuracy: 0.5149\n",
            "Run 17, AUROC: 0.4999\n",
            "Run 18, Accuracy: 0.5149\n",
            "Run 18, AUROC: 0.5055\n",
            "Run 19, Accuracy: 0.5149\n",
            "Run 19, AUROC: 0.4997\n",
            "Run 20, Accuracy: 0.5149\n",
            "Run 20, AUROC: 0.5002\n",
            "Overall Mean Accuracy: 0.5089, Std Dev: 0.0119\n",
            "Overall Mean AUROC: 0.5009, Std Dev: 0.0060\n"
          ]
        }
      ],
      "source": [
        "!pip install torchmetrics\n",
        "import numpy as np\n",
        "from sklearn.model_selection import train_test_split\n",
        "from torch_geometric.loader import DataLoader\n",
        "import torch\n",
        "from torch.nn import CrossEntropyLoss\n",
        "from torch.optim import Adam\n",
        "from torchmetrics.classification import MulticlassAUROC\n",
        "\n",
        "def set_seed(seed):\n",
        "    torch.manual_seed(seed)\n",
        "    np.random.seed(seed)\n",
        "    torch.cuda.manual_seed_all(seed)\n",
        "\n",
        "def train_and_evaluate(model, train_loader, test_loader, device, criterion, optimizer, epochs=10):\n",
        "    model.train()\n",
        "    for epoch in range(epochs):\n",
        "        for data in train_loader:\n",
        "            data = data.to(device)\n",
        "            optimizer.zero_grad()\n",
        "            out = model(data)\n",
        "            loss = criterion(out, data.y)\n",
        "            loss.backward()\n",
        "            optimizer.step()\n",
        "\n",
        "    model.eval()\n",
        "    correct = 0\n",
        "    total = 0\n",
        "    auroc_score = MulticlassAUROC(num_classes=2, average='weighted').to(device)\n",
        "\n",
        "    with torch.no_grad():\n",
        "        for data in test_loader:\n",
        "            data = data.to(device)\n",
        "            out = model(data)\n",
        "            pred = out.argmax(dim=1)\n",
        "            auroc_score.update(out, data.y.to(device))\n",
        "            correct += (pred == data.y).sum().item()\n",
        "            total += data.y.size(0)\n",
        "\n",
        "    auroc_score = auroc_score.compute()\n",
        "\n",
        "    return correct / total, auroc_score.cpu().data.numpy()\n",
        "\n",
        "device = 'cuda' if torch.cuda.is_available() else 'cpu'\n",
        "initial_seed = 0\n",
        "\n",
        "accuracies = []\n",
        "auroc_gcn = []\n",
        "\n",
        "for run in range(20):\n",
        "    set_seed(initial_seed + run)\n",
        "    train_idx, test_idx = train_test_split(range(len(dataset)), test_size=0.2, random_state=42)\n",
        "    train_dataset = [dataset[i] for i in train_idx]\n",
        "    test_dataset = [dataset[i] for i in test_idx]\n",
        "\n",
        "    train_loader = DataLoader(train_dataset, batch_size=32, shuffle=True)\n",
        "    test_loader = DataLoader(test_dataset, batch_size=32, shuffle=False)\n",
        "\n",
        "    model = GCN(num_node_features=dataset.num_node_features, num_classes=2).to(device)\n",
        "    optimizer = Adam(model.parameters(), lr=0.01)\n",
        "    criterion = CrossEntropyLoss()\n",
        "\n",
        "    accuracy, auroc = train_and_evaluate(model, train_loader, test_loader, device, criterion, optimizer)\n",
        "    accuracies.append(accuracy)\n",
        "    print(f'Run {run + 1}, Accuracy: {accuracy:.4f}')\n",
        "    auroc_gcn.append(auroc)\n",
        "    print(f'Run {run + 1}, AUROC: {auroc:.4f}')\n",
        "\n",
        "mean_accuracy = np.mean(accuracies)\n",
        "std_dev_accuracy = np.std(accuracies)\n",
        "print(f'Overall Mean Accuracy: {mean_accuracy:.4f}, Std Dev: {std_dev_accuracy:.4f}')\n",
        "\n",
        "mean_auroc = np.mean(auroc_gcn)\n",
        "std_dev_auroc = np.std(auroc_gcn)\n",
        "print(f'Overall Mean AUROC: {mean_auroc:.4f}, Std Dev: {std_dev_auroc:.4f}')\n"
      ]
    },
    {
      "cell_type": "markdown",
      "source": [
        "Baseline Support Vector Machine"
      ],
      "metadata": {
        "id": "eY3D_RDYc4oG"
      }
    },
    {
      "cell_type": "code",
      "source": [
        "import numpy as np\n",
        "from sklearn.model_selection import train_test_split\n",
        "from sklearn.svm import SVC\n",
        "from sklearn.metrics import accuracy_score\n",
        "from sklearn.preprocessing import StandardScaler\n",
        "import random\n",
        "\n",
        "def set_seeds(seed):\n",
        "    random.seed(seed)\n",
        "    np.random.seed(seed)\n",
        "\n",
        "\n",
        "set_seeds(0)\n",
        "features = []\n",
        "labels = []\n",
        "\n",
        "for data in dataset:\n",
        "    aggregated_features = data.x.mean(axis=0)\n",
        "    features.append(aggregated_features)\n",
        "    labels.append(data.y.item())\n",
        "\n",
        "features = np.stack(features)\n",
        "labels = np.array(labels)\n",
        "\n",
        "\n",
        "scaler = StandardScaler()\n",
        "features = scaler.fit_transform(features)\n",
        "\n",
        "initial_seed = 0\n",
        "accuracies = []\n",
        "auroc_svm = []\n",
        "for run in range(20):\n",
        "    seed = initial_seed + run\n",
        "    X_train, X_test, y_train, y_test = train_test_split(features, labels, test_size=0.2, random_state=seed)\n",
        "\n",
        "\n",
        "    model = SVC(kernel='linear', random_state=seed)\n",
        "    model.fit(X_train, y_train)\n",
        "    y_pred = model.predict(X_test)\n",
        "    y_pred_prob = classifier.predict_proba(X_test)[:, 1]\n",
        "\n",
        "    accuracy = accuracy_score(y_test, y_pred)\n",
        "    accuracies.append(accuracy)\n",
        "    print(f'Run {run + 1}, Accuracy: {accuracy:.4f}')\n",
        "\n",
        "    auroc = roc_auc_score(y_test, y_pred_prob)\n",
        "    auroc_svm.append(auroc)\n",
        "    print(f'Run {run + 1}, AUROC: {auroc:.4f}')\n",
        "\n",
        "mean_accuracy = np.mean(accuracies)\n",
        "std_accuracy = np.std(accuracies)\n",
        "print(f'Overall Mean Accuracy: {mean_accuracy:.4f}, Std Dev: {std_accuracy:.4f}')\n",
        "\n",
        "mean_auroc = np.mean(auroc_svm)\n",
        "std_auroc = np.std(auroc_svm)\n",
        "print(f'Overall Mean AUROC: {mean_auroc:.4f}, Std Dev: {std_auroc:.4f}')\n"
      ],
      "metadata": {
        "colab": {
          "base_uri": "https://localhost:8080/"
        },
        "id": "Pfv_wKm9c8sF",
        "outputId": "ac63bacd-c011-43a4-9f7f-4dbd46c46e73"
      },
      "execution_count": null,
      "outputs": [
        {
          "output_type": "stream",
          "name": "stdout",
          "text": [
            "Run 1, Accuracy: 0.5743\n",
            "Run 1, AUROC: 0.4596\n",
            "Run 2, Accuracy: 0.6040\n",
            "Run 2, AUROC: 0.5072\n",
            "Run 3, Accuracy: 0.5743\n",
            "Run 3, AUROC: 0.5226\n",
            "Run 4, Accuracy: 0.5545\n",
            "Run 4, AUROC: 0.5433\n",
            "Run 5, Accuracy: 0.5743\n",
            "Run 5, AUROC: 0.5027\n",
            "Run 6, Accuracy: 0.6337\n",
            "Run 6, AUROC: 0.5200\n",
            "Run 7, Accuracy: 0.5446\n",
            "Run 7, AUROC: 0.4672\n",
            "Run 8, Accuracy: 0.5990\n",
            "Run 8, AUROC: 0.4763\n",
            "Run 9, Accuracy: 0.6040\n",
            "Run 9, AUROC: 0.5280\n",
            "Run 10, Accuracy: 0.5743\n",
            "Run 10, AUROC: 0.5238\n",
            "Run 11, Accuracy: 0.5891\n",
            "Run 11, AUROC: 0.5275\n",
            "Run 12, Accuracy: 0.5495\n",
            "Run 12, AUROC: 0.5188\n",
            "Run 13, Accuracy: 0.5792\n",
            "Run 13, AUROC: 0.5457\n",
            "Run 14, Accuracy: 0.5693\n",
            "Run 14, AUROC: 0.4402\n",
            "Run 15, Accuracy: 0.5891\n",
            "Run 15, AUROC: 0.5715\n",
            "Run 16, Accuracy: 0.5891\n",
            "Run 16, AUROC: 0.5691\n",
            "Run 17, Accuracy: 0.5792\n",
            "Run 17, AUROC: 0.5364\n",
            "Run 18, Accuracy: 0.5644\n",
            "Run 18, AUROC: 0.5494\n",
            "Run 19, Accuracy: 0.6089\n",
            "Run 19, AUROC: 0.5523\n",
            "Run 20, Accuracy: 0.5495\n",
            "Run 20, AUROC: 0.4800\n",
            "Overall Mean Accuracy: 0.5802, Std Dev: 0.0221\n",
            "Overall Mean AUROC: 0.5171, Std Dev: 0.0355\n"
          ]
        }
      ]
    },
    {
      "cell_type": "markdown",
      "source": [
        "# Convolutional Neural Network"
      ],
      "metadata": {
        "id": "y0gU0gET3K3p"
      }
    },
    {
      "cell_type": "code",
      "source": [
        "from sklearn.model_selection import train_test_split\n",
        "from torch_geometric.loader import DataLoader\n",
        "# Perform train-test split 80/20\n",
        "train_dataset, test_dataset = train_test_split(dataset, test_size=0.2)\n",
        "\n",
        "batch_size = 4\n",
        "train_loader = DataLoader(train_dataset, batch_size=batch_size, shuffle=True)\n",
        "val_loader = DataLoader(test_dataset, batch_size=batch_size, shuffle=False)"
      ],
      "metadata": {
        "id": "HHqM99gHfsmi"
      },
      "execution_count": null,
      "outputs": []
    },
    {
      "cell_type": "code",
      "source": [
        "data = train_dataset[0]\n",
        "print(f'Number of nodes: {data.num_nodes}')\n",
        "print(f'Number of edges: {data.num_edges}')\n",
        "print(f'Average node degree: {data.num_edges / data.num_nodes:.2f}')\n",
        "print(f'Is undirected: {data.is_undirected()}')\n",
        "print(data)"
      ],
      "metadata": {
        "colab": {
          "base_uri": "https://localhost:8080/"
        },
        "id": "wgDvf3rAftYw",
        "outputId": "03e01fa1-7089-48a1-c7c9-f482a5bfef9b"
      },
      "execution_count": null,
      "outputs": [
        {
          "output_type": "stream",
          "name": "stdout",
          "text": [
            "Number of nodes: 200\n",
            "Number of edges: 40000\n",
            "Average node degree: 200.00\n",
            "Is undirected: True\n",
            "Data(edge_index=[2, 40000], edge_attr=[40000], y=[1], site='USM', x=[200, 200], num_nodes=200)\n"
          ]
        }
      ]
    },
    {
      "cell_type": "code",
      "source": [
        "import torch\n",
        "import torch.nn as nn\n",
        "import torch.nn.functional as F\n",
        "\n",
        "class CNN(nn.Module):\n",
        "    def __init__(self, num_classes):\n",
        "        super().__init__()\n",
        "        self.conv1 = nn.Conv2d(1, 32, kernel_size=5)\n",
        "        self.pool = nn.MaxPool2d(2, 2)\n",
        "        self.conv2 = nn.Conv2d(32, 64, kernel_size=3)\n",
        "        self.fc = nn.Linear(589824, 2)\n",
        "        self.dropout = nn.Dropout(0.5)\n",
        "\n",
        "    def forward(self, x):\n",
        "        x = x.view(-1, 1, 200, 200)\n",
        "        x = self.conv1(x)\n",
        "        x = F.relu(x)\n",
        "        x = self.dropout(x)\n",
        "        x = self.pool(x)\n",
        "        x = self.conv2(x)\n",
        "        x = x.flatten(start_dim=1)\n",
        "        x = self.fc(x)\n",
        "        return x"
      ],
      "metadata": {
        "id": "1TkpyZANfzQH"
      },
      "execution_count": null,
      "outputs": []
    },
    {
      "cell_type": "code",
      "source": [
        "!pip install -q torchmetrics"
      ],
      "metadata": {
        "id": "FPyWMxV8f4lK"
      },
      "execution_count": null,
      "outputs": []
    },
    {
      "cell_type": "code",
      "source": [
        "#test method used from GNN Homework 3\n",
        "from torchmetrics.classification import MulticlassAUROC\n",
        "from torchmetrics.classification import MulticlassAccuracy\n",
        "\n",
        "def cnn_test(model, loss_fn, loader, device):\n",
        "      model.eval()\n",
        "      total_loss = 0.0\n",
        "      auroc_score = MulticlassAUROC(num_classes=2, average='weighted').to(device)\n",
        "      acc_score = MulticlassAccuracy(num_classes=2, average='weighted').to(device)\n",
        "\n",
        "      with torch.no_grad():\n",
        "            for data in loader:\n",
        "                  out = model(data.x.to(device))\n",
        "                  loss = loss_fn(out, data.y.to(device))\n",
        "                  total_loss += loss\n",
        "                  auroc_score.update(out, data.y.to(device))\n",
        "                  acc_score.update(out, data.y.to(device))\n",
        "\n",
        "      auroc_score = auroc_score.compute()\n",
        "      acc_score = acc_score.compute()\n",
        "\n",
        "      return total_loss / len(loader), auroc_score, acc_score"
      ],
      "metadata": {
        "id": "4WQ128gMf94G"
      },
      "execution_count": null,
      "outputs": []
    },
    {
      "cell_type": "code",
      "source": [
        "best_valid_loss = float('inf')\n",
        "early_stopping_counter = 0\n",
        "patience = 5\n",
        "\n",
        "def train():\n",
        "    model.train()\n",
        "    total_loss = 0.0\n",
        "    for data in train_loader:\n",
        "        optimizer.zero_grad()\n",
        "        out = model(data.x.to(device))\n",
        "        loss = l(out, data.y.to(device))\n",
        "        total_loss += loss\n",
        "        loss.backward()\n",
        "        optimizer.step()\n",
        "    return total_loss / len(train_loader)"
      ],
      "metadata": {
        "id": "wrTkQp3sgA9u"
      },
      "execution_count": null,
      "outputs": []
    },
    {
      "cell_type": "code",
      "source": [
        "#training one time\n",
        "device = \"cuda\" if torch.cuda.is_available() else \"cpu\"\n",
        "num_edges = train_dataset[0].num_edges\n",
        "model = CNN(2).to(device)\n",
        "l = torch.nn.CrossEntropyLoss()\n",
        "optimizer = torch.optim.Adam(model.parameters(), lr=0.001)\n",
        "num_epochs = 20\n",
        "for epoch in range(num_epochs):\n",
        "    train_loss = train()\n",
        "    lt, train_auroc, train_acc = cnn_test(model, l, train_loader, device)\n",
        "    lv, valid_auroc, valid_acc = cnn_test(model, l, val_loader, device)\n",
        "\n",
        "    # Early stopping\n",
        "    if lv < best_valid_loss:\n",
        "        best_valid_loss = lv\n",
        "        early_stopping_counter = 0\n",
        "    else:\n",
        "        early_stopping_counter += 1\n",
        "        if early_stopping_counter >= patience:\n",
        "            print(f'Early stopping triggered at epoch {epoch}')\n",
        "            break\n",
        "    print(f'Epoch: {epoch:03d}, Train Loss: {train_loss:.5f}, Train Auc: {train_auroc:.4f}, Train ACC: {train_acc:.4f}, Valid Loss: {lv:.5f}, Valid Auc: {valid_auroc:.4f}, Valid ACC: {valid_acc:.4f}')"
      ],
      "metadata": {
        "id": "hSzlHPB5gBq5",
        "colab": {
          "base_uri": "https://localhost:8080/"
        },
        "outputId": "0eff46a9-a7d8-4db4-a164-871579b39e89"
      },
      "execution_count": null,
      "outputs": [
        {
          "output_type": "stream",
          "name": "stdout",
          "text": [
            "Epoch: 000, Train Loss: 5.16828, Train Auc: 0.8985, Train ACC: 0.7794, Valid Loss: 1.51290, Valid Auc: 0.7030, Valid ACC: 0.6040\n",
            "Epoch: 001, Train Loss: 0.91359, Train Auc: 0.9745, Train ACC: 0.8463, Valid Loss: 1.62644, Valid Auc: 0.6310, Valid ACC: 0.5693\n",
            "Epoch: 002, Train Loss: 0.50273, Train Auc: 0.9954, Train ACC: 0.9616, Valid Loss: 1.24913, Valid Auc: 0.7123, Valid ACC: 0.6337\n",
            "Epoch: 003, Train Loss: 0.38130, Train Auc: 0.9973, Train ACC: 0.7621, Valid Loss: 2.73698, Valid Auc: 0.7099, Valid ACC: 0.5792\n",
            "Epoch: 004, Train Loss: 0.33008, Train Auc: 0.9994, Train ACC: 0.9864, Valid Loss: 1.18378, Valid Auc: 0.7299, Valid ACC: 0.6584\n",
            "Epoch: 005, Train Loss: 0.13687, Train Auc: 0.9999, Train ACC: 0.9975, Valid Loss: 1.39877, Valid Auc: 0.7312, Valid ACC: 0.6436\n",
            "Epoch: 006, Train Loss: 0.03583, Train Auc: 0.9996, Train ACC: 0.9926, Valid Loss: 1.42638, Valid Auc: 0.7469, Valid ACC: 0.6683\n",
            "Epoch: 007, Train Loss: 0.07434, Train Auc: 1.0000, Train ACC: 0.9814, Valid Loss: 1.70383, Valid Auc: 0.7416, Valid ACC: 0.6782\n",
            "Epoch: 008, Train Loss: 0.18343, Train Auc: 0.9998, Train ACC: 0.9678, Valid Loss: 1.80326, Valid Auc: 0.7084, Valid ACC: 0.6188\n",
            "Early stopping triggered at epoch 9\n"
          ]
        }
      ]
    },
    {
      "cell_type": "code",
      "source": [
        "#perform k=20-fold cross validations\n",
        "k = 20\n",
        "num_epochs = 10\n",
        "# Initialize lists to store evaluation metrics for each fold\n",
        "validation_auc = []\n",
        "validation_accuracies = []\n",
        "rand = 0 #change train/valid split randomly\n",
        "fold = 0\n",
        "while fold < k:\n",
        "    print(f'Fold {fold + 1}/{k}')\n",
        "    fold_size = 200\n",
        "    train_dataset, test_dataset = train_test_split(dataset, test_size=0.1, random_state=rand)\n",
        "    train_loader = DataLoader(train_dataset, batch_size=4, shuffle=True)\n",
        "    val_loader = DataLoader(test_dataset, batch_size=4, shuffle=False)\n",
        "    # Initialize model, optimizer, etc.\n",
        "    model = CNN(num_classes=2).to(device)\n",
        "    optimizer = torch.optim.Adam(model.parameters(), lr=0.001)\n",
        "    criterion = nn.CrossEntropyLoss()\n",
        "    best_valid_loss = float('inf')\n",
        "    for epoch in range(num_epochs):\n",
        "        train_loss = train()\n",
        "        lt, train_auroc, train_acc = cnn_test(model, l, train_loader, device)\n",
        "        lv, valid_auroc, valid_acc = cnn_test(model, l, val_loader, device)\n",
        "        if lv < best_valid_loss:\n",
        "            best_valid_loss = lv\n",
        "            early_stopping_counter = 0\n",
        "\n",
        "    # Store validation loss and accuracy for this fold\n",
        "    print(f'{k}: Validation AUC: {valid_auroc:.4f}, Validation Accuracy: {valid_acc:.4f}')\n",
        "    validation_auc.append(valid_auroc)\n",
        "    validation_accuracies.append(valid_acc)\n",
        "    fold += 1\n",
        "    rand += 1"
      ],
      "metadata": {
        "id": "5PrXUs-pgGqf",
        "colab": {
          "base_uri": "https://localhost:8080/"
        },
        "outputId": "6366df37-b115-423e-fbf1-1b38896189a6"
      },
      "execution_count": null,
      "outputs": [
        {
          "output_type": "stream",
          "name": "stdout",
          "text": [
            "Fold 1/20\n",
            "20: Validation AUC: 0.7475, Validation Accuracy: 0.6337\n",
            "Fold 2/20\n",
            "20: Validation AUC: 0.8094, Validation Accuracy: 0.7327\n",
            "Fold 3/20\n",
            "20: Validation AUC: 0.6680, Validation Accuracy: 0.6931\n",
            "Fold 4/20\n",
            "20: Validation AUC: 0.7005, Validation Accuracy: 0.6436\n",
            "Fold 5/20\n",
            "20: Validation AUC: 0.7305, Validation Accuracy: 0.6634\n",
            "Fold 6/20\n",
            "20: Validation AUC: 0.7963, Validation Accuracy: 0.7129\n",
            "Fold 7/20\n",
            "20: Validation AUC: 0.7447, Validation Accuracy: 0.5644\n",
            "Fold 8/20\n",
            "20: Validation AUC: 0.7861, Validation Accuracy: 0.6832\n",
            "Fold 9/20\n",
            "20: Validation AUC: 0.8016, Validation Accuracy: 0.7030\n",
            "Fold 10/20\n",
            "20: Validation AUC: 0.7358, Validation Accuracy: 0.6436\n",
            "Fold 11/20\n",
            "20: Validation AUC: 0.7265, Validation Accuracy: 0.6337\n",
            "Fold 12/20\n",
            "20: Validation AUC: 0.7990, Validation Accuracy: 0.7426\n",
            "Fold 13/20\n",
            "20: Validation AUC: 0.7535, Validation Accuracy: 0.6931\n",
            "Fold 14/20\n",
            "20: Validation AUC: 0.7301, Validation Accuracy: 0.6832\n",
            "Fold 15/20\n",
            "20: Validation AUC: 0.7488, Validation Accuracy: 0.6634\n",
            "Fold 16/20\n",
            "20: Validation AUC: 0.7059, Validation Accuracy: 0.6436\n",
            "Fold 17/20\n",
            "20: Validation AUC: 0.6855, Validation Accuracy: 0.6436\n",
            "Fold 18/20\n",
            "20: Validation AUC: 0.6868, Validation Accuracy: 0.6832\n",
            "Fold 19/20\n",
            "20: Validation AUC: 0.7018, Validation Accuracy: 0.6931\n",
            "Fold 20/20\n",
            "20: Validation AUC: 0.7520, Validation Accuracy: 0.7030\n"
          ]
        }
      ]
    },
    {
      "cell_type": "code",
      "source": [
        "# Calculate average validation loss and accuracy across all folds\n",
        "validation_accuracies_cp = [tensor.cpu().numpy() for tensor in validation_accuracies]\n",
        "validation_auc_cp = [tensor.cpu().numpy() for tensor in validation_auc]\n",
        "\n",
        "mean1 = np.mean(validation_accuracies_cp)\n",
        "std1 = np.std(validation_accuracies_cp)\n",
        "\n",
        "mean2 = np.mean(validation_auc_cp)\n",
        "std2 = np.std(validation_auc_cp)\n",
        "\n",
        "print(\"Accuracy:\")\n",
        "print(\"Mean:\", mean1)\n",
        "print(\"Standard Deviation:\", std1)\n",
        "\n",
        "print(\"AUC ROC:\")\n",
        "print(\"Mean:\", mean2)\n",
        "print(\"Standard Deviation:\", std2)"
      ],
      "metadata": {
        "id": "7USdtKQQgKWV",
        "colab": {
          "base_uri": "https://localhost:8080/"
        },
        "outputId": "f42c6b34-7fa3-47ed-f7ca-74a929c0b7df"
      },
      "execution_count": null,
      "outputs": [
        {
          "output_type": "stream",
          "name": "stdout",
          "text": [
            "Accuracy:\n",
            "Mean: 0.6727723\n",
            "Standard Deviation: 0.0399091\n",
            "AUC ROC:\n",
            "Mean: 0.7405056\n",
            "Standard Deviation: 0.040880784\n"
          ]
        }
      ]
    },
    {
      "cell_type": "markdown",
      "source": [
        "# Graph Neural Network\n",
        "\n",
        "```\n",
        "\n",
        "```\n",
        "\n"
      ],
      "metadata": {
        "id": "y007bzJNj-Uh"
      }
    },
    {
      "cell_type": "code",
      "source": [
        "from torch.nn import Linear\n",
        "import torch.nn.functional as F\n",
        "from torch_geometric.nn import GraphConv\n",
        "from torchmetrics.classification import MulticlassAUROC\n",
        "\n",
        "### DO NOT CHANGE ANY CODE ABOVE THIS LINE IN THIS CELL ###\n",
        "\n",
        "class GNN(torch.nn.Module):\n",
        "    def __init__(self):\n",
        "        super(GNN, self).__init__()\n",
        "        # TODO: Finish the design of this GNN model\n",
        "        # self.conv1 = GraphConv(3, 4)\n",
        "        # self.conv2 = GraphConv(4, 4)\n",
        "        # self.conv3 = GraphConv(4, 4)\n",
        "        # self.lin = Linear(4, 10)\n",
        "        # self.dropout = 0.5\n",
        "        self.dropout = 0.5\n",
        "        self.gconv1 = GraphConv(200, 64)\n",
        "        self.gconv2 = GraphConv(64,64)\n",
        "        self.gconv3 = GraphConv(64, 64)\n",
        "        self.lin = Linear(64, 2)\n",
        "\n",
        "    def forward(self, x, edge_index, batch):\n",
        "        # TODO: Finish this function\n",
        "        # 1. Obtain node embeddings\n",
        "        x = self.gconv1(x, edge_index)\n",
        "        x = x.relu()\n",
        "        x = self.gconv2(x, edge_index)\n",
        "        x = x.relu()\n",
        "        x = self.gconv3(x, edge_index)\n",
        "\n",
        "        # 2. Readout layer\n",
        "        x = global_mean_pool(x, batch)  # [batch_size, hidden_channels]\n",
        "\n",
        "        # 3. Apply a final classifier\n",
        "        x = F.dropout(x, p=0.5, training=self.training)\n",
        "        x = self.lin(x)\n",
        "\n",
        "        return x"
      ],
      "metadata": {
        "id": "o53hZnBzTqDW"
      },
      "execution_count": null,
      "outputs": []
    },
    {
      "cell_type": "code",
      "source": [
        "model = GNN().to(device)\n",
        "print(model)"
      ],
      "metadata": {
        "id": "h2G8b9CjTxoj",
        "colab": {
          "base_uri": "https://localhost:8080/"
        },
        "outputId": "c1bba539-ebc2-46f3-b271-6bb749e4207f"
      },
      "execution_count": null,
      "outputs": [
        {
          "output_type": "stream",
          "name": "stdout",
          "text": [
            "GNN(\n",
            "  (gconv1): GraphConv(200, 64)\n",
            "  (gconv2): GraphConv(64, 64)\n",
            "  (gconv3): GraphConv(64, 64)\n",
            "  (lin): Linear(in_features=64, out_features=2, bias=True)\n",
            ")\n"
          ]
        }
      ]
    },
    {
      "cell_type": "code",
      "source": [
        "def set_seed(seed):\n",
        "    torch.manual_seed(seed)\n",
        "    np.random.seed(seed)\n",
        "    torch.cuda.manual_seed_all(seed)\n",
        "\n",
        "def train_and_evaluate(model, train_loader, test_loader, device, criterion, optimizer, epochs=10):\n",
        "    model.train()\n",
        "    for epoch in range(epochs):\n",
        "        for data in train_loader:\n",
        "            data = data.to(device)\n",
        "            optimizer.zero_grad()\n",
        "            out = model(data.x, data.edge_index, data.batch)\n",
        "            loss = criterion(out, data.y)\n",
        "            loss.backward()\n",
        "            optimizer.step()\n",
        "\n",
        "    model.eval()\n",
        "    correct = 0\n",
        "    total = 0\n",
        "    auroc_score = MulticlassAUROC(num_classes=2, average='weighted').to(device)\n",
        "    with torch.no_grad():\n",
        "        for data in test_loader:\n",
        "            data = data.to(device)\n",
        "            out = model(data.x, data.edge_index, data.batch)\n",
        "            pred = out.argmax(dim=1)\n",
        "            auroc_score.update(out, data.y.to(device))\n",
        "            correct += (pred == data.y).sum().item()\n",
        "            total += data.y.size(0)\n",
        "    auroc_score = auroc_score.compute()\n",
        "    return correct / total, auroc_score.cpu().data.numpy()\n",
        "\n",
        "device = 'cuda' if torch.cuda.is_available() else 'cpu'\n",
        "initial_seed = 0\n",
        "\n",
        "accuracies = []\n",
        "auroc_lst = []\n",
        "for run in range(20):\n",
        "    set_seed(initial_seed + run)  # Systematically vary the seed\n",
        "    train_idx, test_idx = train_test_split(range(len(dataset)), test_size=0.2, random_state=42)\n",
        "    train_dataset = [dataset[i] for i in train_idx]\n",
        "    test_dataset = [dataset[i] for i in test_idx]\n",
        "\n",
        "    train_loader = DataLoader(train_dataset, batch_size=32, shuffle=True)\n",
        "    test_loader = DataLoader(test_dataset, batch_size=32, shuffle=False)\n",
        "\n",
        "    model = GNN().to(device)\n",
        "    optimizer = torch.optim.Adam(model.parameters(), lr=0.0001)\n",
        "    criterion = torch.nn.CrossEntropyLoss()\n",
        "    accuracy, auroc = train_and_evaluate(model, train_loader, test_loader, device, criterion, optimizer)\n",
        "    accuracies.append(accuracy)\n",
        "    auroc_lst.append(auroc)\n",
        "    print(f'Run {run + 1}, Accuracy: {accuracy:.4f}')\n",
        "    print(f'Run {run + 1}, AUROC: {auroc:.4f}')\n",
        "\n",
        "mean_accuracy = np.mean(accuracies)\n",
        "std_dev_accuracy = np.std(accuracies)\n",
        "print(f'Overall Mean Accuracy: {mean_accuracy:.4f}, Std Dev: {std_dev_accuracy:.4f}')\n",
        "\n",
        "mean_auroc = np.mean(auroc_lst)\n",
        "std_dev_auroc = np.std(auroc_lst)\n",
        "print(f'Overall Mean AUROC: {mean_auroc:.4f}, Std Dev: {std_dev_auroc:.4f}')"
      ],
      "metadata": {
        "colab": {
          "base_uri": "https://localhost:8080/"
        },
        "id": "fQBl-spAT4yG",
        "outputId": "4663f628-2e2b-488f-ce64-0c4878497ec3"
      },
      "execution_count": null,
      "outputs": [
        {
          "output_type": "stream",
          "name": "stdout",
          "text": [
            "Run 1, Accuracy: 0.5149\n",
            "Run 1, AUROC: 0.5110\n",
            "Run 2, Accuracy: 0.5198\n",
            "Run 2, AUROC: 0.5178\n",
            "Run 3, Accuracy: 0.5446\n",
            "Run 3, AUROC: 0.5415\n",
            "Run 4, Accuracy: 0.5446\n",
            "Run 4, AUROC: 0.5507\n",
            "Run 5, Accuracy: 0.4901\n",
            "Run 5, AUROC: 0.4886\n",
            "Run 6, Accuracy: 0.5545\n",
            "Run 6, AUROC: 0.5483\n",
            "Run 7, Accuracy: 0.5297\n",
            "Run 7, AUROC: 0.5266\n",
            "Run 8, Accuracy: 0.4950\n",
            "Run 8, AUROC: 0.4991\n",
            "Run 9, Accuracy: 0.5693\n",
            "Run 9, AUROC: 0.5732\n",
            "Run 10, Accuracy: 0.4554\n",
            "Run 10, AUROC: 0.4538\n",
            "Run 11, Accuracy: 0.5396\n",
            "Run 11, AUROC: 0.5401\n",
            "Run 12, Accuracy: 0.5396\n",
            "Run 12, AUROC: 0.5399\n",
            "Run 13, Accuracy: 0.4703\n",
            "Run 13, AUROC: 0.4688\n",
            "Run 14, Accuracy: 0.5099\n",
            "Run 14, AUROC: 0.5096\n",
            "Run 15, Accuracy: 0.5545\n",
            "Run 15, AUROC: 0.5530\n",
            "Run 16, Accuracy: 0.5891\n",
            "Run 16, AUROC: 0.5920\n",
            "Run 17, Accuracy: 0.5446\n",
            "Run 17, AUROC: 0.5441\n",
            "Run 18, Accuracy: 0.5842\n",
            "Run 18, AUROC: 0.5827\n",
            "Run 19, Accuracy: 0.5594\n",
            "Run 19, AUROC: 0.5560\n",
            "Run 20, Accuracy: 0.4703\n",
            "Run 20, AUROC: 0.4710\n",
            "Overall Mean Accuracy: 0.5290, Std Dev: 0.0368\n",
            "Overall Mean AUROC: 0.5284, Std Dev: 0.0371\n"
          ]
        }
      ]
    },
    {
      "cell_type": "code",
      "execution_count": null,
      "metadata": {
        "id": "vlrP6LIJY20O"
      },
      "outputs": [],
      "source": []
    },
    {
      "cell_type": "markdown",
      "metadata": {
        "id": "rrKRQZE3eNYb"
      },
      "source": [
        "# **Transformer Model**"
      ]
    },
    {
      "cell_type": "code",
      "source": [
        "# cls tokens comes from: https://github.com/yandex-research/rtdl\n",
        "class _TokenInitialization(enum.Enum):\n",
        "    UNIFORM = 'uniform'\n",
        "    NORMAL = 'normal'\n",
        "\n",
        "    @classmethod\n",
        "    def from_str(cls, initialization: str) -> '_TokenInitialization':\n",
        "        try:\n",
        "            return cls(initialization)\n",
        "        except ValueError:\n",
        "            valid_values = [x.value for x in _TokenInitialization]\n",
        "            raise ValueError(f'initialization must be one of {valid_values}')\n",
        "\n",
        "    def apply(self, x: Tensor, d: int) -> None:\n",
        "        d_sqrt_inv = 1 / math.sqrt(d)\n",
        "        if self == _TokenInitialization.UNIFORM:\n",
        "            # used in the paper \"Revisiting Deep Learning Models for Tabular Data\";\n",
        "            # is equivalent to `nn.init.kaiming_uniform_(x, a=math.sqrt(5))` (which is\n",
        "            # used by torch to initialize nn.Linear.weight, for example)\n",
        "            nn.init.uniform_(x, a=-d_sqrt_inv, b=d_sqrt_inv)\n",
        "        elif self == _TokenInitialization.NORMAL:\n",
        "            nn.init.normal_(x, std=d_sqrt_inv)\n",
        "\n",
        "\n",
        "class CLSToken(nn.Module):\n",
        "    def __init__(self, d_token: int, initialization: str) -> None:\n",
        "        super().__init__()\n",
        "        initialization_ = _TokenInitialization.from_str(initialization)\n",
        "        self.weight = nn.Parameter(Tensor(d_token))\n",
        "        initialization_.apply(self.weight, d_token)\n",
        "\n",
        "    def expand(self, *leading_dimensions: int) -> Tensor:\n",
        "        if not leading_dimensions:\n",
        "            return self.weight\n",
        "        new_dims = (1,) * (len(leading_dimensions) - 1)\n",
        "        return self.weight.view(*new_dims, -1).expand(*leading_dimensions, -1)\n",
        "\n",
        "    def forward(self, x: Tensor) -> Tensor:\n",
        "        return torch.cat([x, self.expand(len(x), 1)], dim=1)\n",
        "\n",
        "class TransformerBlock(nn.Module):\n",
        "  def __init__(self, in_features, num_heads, att_dropout, mlp_dropout):\n",
        "    super().__init__()\n",
        "    self.attention = nn.MultiheadAttention(in_features, num_heads, dropout=att_dropout, batch_first=True) #nn.MultiheadAttention(in_features, num_heads, dropout=att_dropout, batch_first=True)\n",
        "\n",
        "    self.mlp = nn.Sequential(\n",
        "        nn.Linear(in_features, 4*in_features),\n",
        "        nn.Dropout(mlp_dropout),\n",
        "        nn.ReLU(),\n",
        "        nn.Linear(4*in_features, in_features),\n",
        "    )\n",
        "    self.norm1 = nn.LayerNorm(in_features)\n",
        "    self.norm2 = nn.LayerNorm(in_features)\n",
        "\n",
        "  def forward(self, x):\n",
        "    out, attention = self.attention(x, x, x)\n",
        "\n",
        "    out = self.norm1(out + x)\n",
        "    out2 = self.mlp(out)\n",
        "    out2 = self.norm2(out2 + out)\n",
        "\n",
        "    return out2\n",
        "\n",
        "\n",
        "class TransformerModel(torch.nn.Module):\n",
        "    def __init__(self, num_nodes=200, num_classes=2):\n",
        "        super(TransformerModel, self).__init__()\n",
        "        self.num_nodes = num_nodes\n",
        "        self.node_fcn = nn.Linear(256, 8)\n",
        "\n",
        "        self.fcn = nn.Sequential(\n",
        "            nn.Linear(1600, 256),\n",
        "            nn.LeakyReLU(negative_slope=0.2),\n",
        "            nn.Linear(256, 32),\n",
        "            nn.LeakyReLU(negative_slope=0.2),\n",
        "            nn.Linear(32, num_classes)\n",
        "        )\n",
        "\n",
        "        self.input_embed = nn.Sequential(\n",
        "            nn.Linear(200, 200),\n",
        "        )\n",
        "\n",
        "\n",
        "        d_token = 512\n",
        "        heads = 8\n",
        "        initialization = _TokenInitialization.from_str(\"uniform\")\n",
        "        self.transformer = nn.Sequential(\n",
        "            nn.Linear(200, d_token),\n",
        "            CLSToken(\n",
        "                d_token, initialization\n",
        "            ),\n",
        "            TransformerBlock(d_token, heads, 0, 0),\n",
        "            TransformerBlock(d_token, heads, 0, 0),\n",
        "            TransformerBlock(d_token, heads, 0, 0),\n",
        "            TransformerBlock(d_token, heads, 0, 0),\n",
        "            TransformerBlock(d_token, heads, 0, 0),\n",
        "            TransformerBlock(d_token, heads, 0, 0),\n",
        "            TransformerBlock(d_token, heads, 0, 0),\n",
        "            TransformerBlock(d_token, heads, 0, 0)\n",
        "        )\n",
        "\n",
        "        self.out = nn.Linear(d_token,num_classes)\n",
        "\n",
        "    def forward(self, data):\n",
        "        x, edge_index, edge_attr, batch = data.x, data.edge_index, data.edge_attr, data.batch\n",
        "        x = data.x.reshape((data.x.shape[0]//200, 200, 200))\n",
        "        x = self.transformer(x)\n",
        "        cls_token = x[:, -1] #x[:,0:200].mean(dim=-2)\n",
        "        return self.out(cls_token)\n",
        "\n",
        "eval = True\n",
        "eval_runs = 20\n",
        "hyperparameter_tuning_split_rand_seed = 0\n",
        "\n",
        "skf = StratifiedKFold(n_splits=5, shuffle=True)\n",
        "lr = 5e-5\n",
        "weight_decay = 1e-4\n",
        "train_batch_size = 4\n",
        "test_batch_size = 4\n",
        "epochs = 10\n",
        "device = \"cuda:0\"\n",
        "run = {}\n",
        "run[\"train/accuracy\"] = []\n",
        "run[\"train/auc\"] = []\n",
        "run[\"train/loss\"] = []\n",
        "run[\"test/accuracy\"] = []\n",
        "run[\"test/auc\"] = []\n",
        "\n",
        "\n",
        "# We don't want to use the test_indexes during evaluation since those were used during hyperparameter tuning\n",
        "if eval:\n",
        "    train_index, test_index = train_test_split(np.arange(len(y)), test_size=0.2, random_state=hyperparameter_tuning_split_rand_seed)\n",
        "    dataset_used = dataset[train_index]\n",
        "else:\n",
        "    dataset_used = dataset\n",
        "\n",
        "accuracy = []\n",
        "auc = []\n",
        "for k in range(eval_runs):\n",
        "    if eval:\n",
        "        train_index, test_index = train_test_split(np.arange(len(y)), test_size=0.2)\n",
        "    else:\n",
        "        train_index, test_index = train_test_split(np.arange(len(y)), test_size=0.2, random_state=hyperparameter_tuning_split_rand_seed)\n",
        "\n",
        "    model = TransformerModel().to(device)\n",
        "    #model.transformer.load_state_dict(stored_model.transformer.state_dict()) -> used previously for fine tuning the self supervised pretrained model\n",
        "    optimizer = torch.optim.AdamW(model.parameters(), lr=lr, weight_decay=weight_decay)\n",
        "    criterion = nn.CrossEntropyLoss()\n",
        "\n",
        "    train_set, test_set = dataset[train_index], dataset[test_index]\n",
        "\n",
        "    train_loader = DataLoader(train_set, batch_size=train_batch_size, shuffle=True)\n",
        "    test_loader = DataLoader(test_set, batch_size=test_batch_size, shuffle=False)\n",
        "\n",
        "    # train\n",
        "    model.eval()\n",
        "    epoch_num = epochs\n",
        "    for i in range(epoch_num):\n",
        "        loss_all = 0\n",
        "        for data in tqdm(train_loader):\n",
        "            data = data.to(device)\n",
        "            optimizer.zero_grad()\n",
        "            out = model(data)\n",
        "            loss = criterion(out, data.y)\n",
        "            loss.backward()\n",
        "            optimizer.step()\n",
        "            loss_all += loss.item()\n",
        "        epoch_loss = loss_all / len(train_loader.dataset)\n",
        "\n",
        "        train_accuracy, train_auc = evaluate(model, device, train_loader)\n",
        "        print(f'(Train) | Epoch={i:03d}, loss={epoch_loss:.4f}, '\n",
        "                    f'train_accuracy={(train_accuracy * 100):.2f},'\n",
        "                    f'train_auc={(train_auc * 100):.2f}')\n",
        "        run[\"train/accuracy\"].append(train_accuracy)\n",
        "        run[\"train/auc\"].append(train_auc)\n",
        "        run[\"train/loss\"].append(epoch_loss)\n",
        "\n",
        "        model.eval()\n",
        "        if (i + 1) % 1 == 0:\n",
        "            test_accuracy, test_auc = evaluate(model, device, test_loader)\n",
        "            print(f'test_accuracy={(test_accuracy * 100):.2f}, ' \\\n",
        "                  f'test_auc={(test_auc * 100):.2f}\\n')\n",
        "\n",
        "            run[\"test/accuracy\"].append(test_accuracy)\n",
        "            run[\"test/auc\"].append(test_auc)\n",
        "\n",
        "\n",
        "    if not eval:\n",
        "        break\n",
        "\n",
        "    # Rerun evaluation just to make 100% sure the results are accurate\n",
        "    model.eval()\n",
        "    test_accuracy, test_auc = evaluate(model, device, test_loader)\n",
        "    accuracy.append(test_accuracy)\n",
        "    auc.append(test_auc)\n",
        "\n",
        "    if not eval:\n",
        "        break\n",
        "\n",
        "accuracy = np.array(accuracy)\n",
        "auc = np.array(auc)\n",
        "\n",
        "print(accuracy.mean(), accuracy.std())\n",
        "print(auc.mean(), auc.std())"
      ],
      "metadata": {
        "colab": {
          "base_uri": "https://localhost:8080/"
        },
        "id": "4oeL1tCqzMWq",
        "outputId": "aec61c05-9ead-4c1f-9e6d-8cebc2c20bf2"
      },
      "execution_count": null,
      "outputs": [
        {
          "output_type": "stream",
          "name": "stderr",
          "text": [
            "100%|██████████| 202/202 [00:13<00:00, 15.31it/s]\n"
          ]
        },
        {
          "output_type": "stream",
          "name": "stdout",
          "text": [
            "(Train) | Epoch=000, loss=0.1945, train_accuracy=48.57,train_auc=72.15\n",
            "test_accuracy=50.00, test_auc=61.84\n",
            "\n"
          ]
        },
        {
          "output_type": "stream",
          "name": "stderr",
          "text": [
            "100%|██████████| 202/202 [00:12<00:00, 16.21it/s]\n"
          ]
        },
        {
          "output_type": "stream",
          "name": "stdout",
          "text": [
            "(Train) | Epoch=001, loss=0.1782, train_accuracy=66.42,train_auc=74.50\n",
            "test_accuracy=57.92, test_auc=65.45\n",
            "\n"
          ]
        },
        {
          "output_type": "stream",
          "name": "stderr",
          "text": [
            "100%|██████████| 202/202 [00:12<00:00, 16.23it/s]\n"
          ]
        },
        {
          "output_type": "stream",
          "name": "stdout",
          "text": [
            "(Train) | Epoch=002, loss=0.1756, train_accuracy=67.41,train_auc=74.31\n",
            "test_accuracy=64.36, test_auc=68.14\n",
            "\n"
          ]
        },
        {
          "output_type": "stream",
          "name": "stderr",
          "text": [
            "100%|██████████| 202/202 [00:13<00:00, 15.33it/s]\n"
          ]
        },
        {
          "output_type": "stream",
          "name": "stdout",
          "text": [
            "(Train) | Epoch=003, loss=0.1634, train_accuracy=49.07,train_auc=81.34\n",
            "test_accuracy=50.50, test_auc=73.53\n",
            "\n"
          ]
        },
        {
          "output_type": "stream",
          "name": "stderr",
          "text": [
            "100%|██████████| 202/202 [00:11<00:00, 16.96it/s]\n"
          ]
        },
        {
          "output_type": "stream",
          "name": "stdout",
          "text": [
            "(Train) | Epoch=004, loss=0.1532, train_accuracy=50.31,train_auc=81.55\n",
            "test_accuracy=50.50, test_auc=69.02\n",
            "\n"
          ]
        },
        {
          "output_type": "stream",
          "name": "stderr",
          "text": [
            "100%|██████████| 202/202 [00:11<00:00, 16.90it/s]\n"
          ]
        },
        {
          "output_type": "stream",
          "name": "stdout",
          "text": [
            "(Train) | Epoch=005, loss=0.1375, train_accuracy=81.66,train_auc=91.88\n",
            "test_accuracy=61.88, test_auc=69.69\n",
            "\n"
          ]
        },
        {
          "output_type": "stream",
          "name": "stderr",
          "text": [
            "100%|██████████| 202/202 [00:12<00:00, 16.75it/s]\n"
          ]
        },
        {
          "output_type": "stream",
          "name": "stdout",
          "text": [
            "(Train) | Epoch=006, loss=0.1201, train_accuracy=73.48,train_auc=91.77\n",
            "test_accuracy=60.40, test_auc=67.37\n",
            "\n"
          ]
        },
        {
          "output_type": "stream",
          "name": "stderr",
          "text": [
            "100%|██████████| 202/202 [00:11<00:00, 16.92it/s]\n"
          ]
        },
        {
          "output_type": "stream",
          "name": "stdout",
          "text": [
            "(Train) | Epoch=007, loss=0.1002, train_accuracy=92.32,train_auc=98.42\n",
            "test_accuracy=63.37, test_auc=68.73\n",
            "\n"
          ]
        },
        {
          "output_type": "stream",
          "name": "stderr",
          "text": [
            "100%|██████████| 202/202 [00:11<00:00, 16.92it/s]\n"
          ]
        },
        {
          "output_type": "stream",
          "name": "stdout",
          "text": [
            "(Train) | Epoch=008, loss=0.0690, train_accuracy=90.95,train_auc=99.04\n",
            "test_accuracy=59.90, test_auc=63.57\n",
            "\n"
          ]
        },
        {
          "output_type": "stream",
          "name": "stderr",
          "text": [
            "100%|██████████| 202/202 [00:12<00:00, 15.58it/s]\n"
          ]
        },
        {
          "output_type": "stream",
          "name": "stdout",
          "text": [
            "(Train) | Epoch=009, loss=0.0562, train_accuracy=97.15,train_auc=99.67\n",
            "test_accuracy=58.42, test_auc=63.78\n",
            "\n"
          ]
        },
        {
          "output_type": "stream",
          "name": "stderr",
          "text": [
            "100%|██████████| 202/202 [00:12<00:00, 16.81it/s]\n"
          ]
        },
        {
          "output_type": "stream",
          "name": "stdout",
          "text": [
            "(Train) | Epoch=000, loss=0.2010, train_accuracy=51.30,train_auc=62.35\n",
            "test_accuracy=50.50, test_auc=50.69\n",
            "\n"
          ]
        },
        {
          "output_type": "stream",
          "name": "stderr",
          "text": [
            "100%|██████████| 202/202 [00:11<00:00, 16.94it/s]\n"
          ]
        },
        {
          "output_type": "stream",
          "name": "stdout",
          "text": [
            "(Train) | Epoch=001, loss=0.1774, train_accuracy=49.19,train_auc=65.79\n",
            "test_accuracy=49.50, test_auc=53.36\n",
            "\n"
          ]
        },
        {
          "output_type": "stream",
          "name": "stderr",
          "text": [
            "100%|██████████| 202/202 [00:11<00:00, 17.00it/s]\n"
          ]
        },
        {
          "output_type": "stream",
          "name": "stdout",
          "text": [
            "(Train) | Epoch=002, loss=0.1797, train_accuracy=48.70,train_auc=73.89\n",
            "test_accuracy=49.50, test_auc=63.02\n",
            "\n"
          ]
        },
        {
          "output_type": "stream",
          "name": "stderr",
          "text": [
            "100%|██████████| 202/202 [00:11<00:00, 16.92it/s]\n"
          ]
        },
        {
          "output_type": "stream",
          "name": "stdout",
          "text": [
            "(Train) | Epoch=003, loss=0.1743, train_accuracy=48.70,train_auc=76.31\n",
            "test_accuracy=49.50, test_auc=61.42\n",
            "\n"
          ]
        },
        {
          "output_type": "stream",
          "name": "stderr",
          "text": [
            "100%|██████████| 202/202 [00:12<00:00, 16.82it/s]\n"
          ]
        },
        {
          "output_type": "stream",
          "name": "stdout",
          "text": [
            "(Train) | Epoch=004, loss=0.1609, train_accuracy=53.28,train_auc=79.18\n",
            "test_accuracy=51.49, test_auc=68.60\n",
            "\n"
          ]
        },
        {
          "output_type": "stream",
          "name": "stderr",
          "text": [
            "100%|██████████| 202/202 [00:12<00:00, 16.60it/s]\n"
          ]
        },
        {
          "output_type": "stream",
          "name": "stdout",
          "text": [
            "(Train) | Epoch=005, loss=0.1523, train_accuracy=77.45,train_auc=85.81\n",
            "test_accuracy=60.89, test_auc=64.93\n",
            "\n"
          ]
        },
        {
          "output_type": "stream",
          "name": "stderr",
          "text": [
            "100%|██████████| 202/202 [00:12<00:00, 16.50it/s]\n"
          ]
        },
        {
          "output_type": "stream",
          "name": "stdout",
          "text": [
            "(Train) | Epoch=006, loss=0.1360, train_accuracy=80.67,train_auc=89.42\n",
            "test_accuracy=66.34, test_auc=68.40\n",
            "\n"
          ]
        },
        {
          "output_type": "stream",
          "name": "stderr",
          "text": [
            "100%|██████████| 202/202 [00:11<00:00, 16.90it/s]\n"
          ]
        },
        {
          "output_type": "stream",
          "name": "stdout",
          "text": [
            "(Train) | Epoch=007, loss=0.1219, train_accuracy=84.14,train_auc=93.07\n",
            "test_accuracy=59.90, test_auc=67.02\n",
            "\n"
          ]
        },
        {
          "output_type": "stream",
          "name": "stderr",
          "text": [
            "100%|██████████| 202/202 [00:11<00:00, 16.86it/s]\n"
          ]
        },
        {
          "output_type": "stream",
          "name": "stdout",
          "text": [
            "(Train) | Epoch=008, loss=0.0986, train_accuracy=87.36,train_auc=95.51\n",
            "test_accuracy=62.87, test_auc=71.98\n",
            "\n"
          ]
        },
        {
          "output_type": "stream",
          "name": "stderr",
          "text": [
            "100%|██████████| 202/202 [00:11<00:00, 16.84it/s]\n"
          ]
        },
        {
          "output_type": "stream",
          "name": "stdout",
          "text": [
            "(Train) | Epoch=009, loss=0.0698, train_accuracy=89.10,train_auc=98.25\n",
            "test_accuracy=63.86, test_auc=70.60\n",
            "\n"
          ]
        },
        {
          "output_type": "stream",
          "name": "stderr",
          "text": [
            "100%|██████████| 202/202 [00:11<00:00, 16.93it/s]\n"
          ]
        },
        {
          "output_type": "stream",
          "name": "stdout",
          "text": [
            "(Train) | Epoch=000, loss=0.1892, train_accuracy=49.57,train_auc=62.43\n",
            "test_accuracy=57.43, test_auc=52.37\n",
            "\n"
          ]
        },
        {
          "output_type": "stream",
          "name": "stderr",
          "text": [
            "100%|██████████| 202/202 [00:11<00:00, 16.96it/s]\n"
          ]
        },
        {
          "output_type": "stream",
          "name": "stdout",
          "text": [
            "(Train) | Epoch=001, loss=0.1794, train_accuracy=61.46,train_auc=72.33\n",
            "test_accuracy=51.49, test_auc=63.97\n",
            "\n"
          ]
        },
        {
          "output_type": "stream",
          "name": "stderr",
          "text": [
            "100%|██████████| 202/202 [00:11<00:00, 16.85it/s]\n"
          ]
        },
        {
          "output_type": "stream",
          "name": "stdout",
          "text": [
            "(Train) | Epoch=002, loss=0.1761, train_accuracy=51.92,train_auc=75.03\n",
            "test_accuracy=44.55, test_auc=67.02\n",
            "\n"
          ]
        },
        {
          "output_type": "stream",
          "name": "stderr",
          "text": [
            "100%|██████████| 202/202 [00:11<00:00, 16.95it/s]\n"
          ]
        },
        {
          "output_type": "stream",
          "name": "stdout",
          "text": [
            "(Train) | Epoch=003, loss=0.1665, train_accuracy=65.55,train_auc=81.99\n",
            "test_accuracy=64.36, test_auc=73.78\n",
            "\n"
          ]
        },
        {
          "output_type": "stream",
          "name": "stderr",
          "text": [
            "100%|██████████| 202/202 [00:11<00:00, 16.99it/s]\n"
          ]
        },
        {
          "output_type": "stream",
          "name": "stdout",
          "text": [
            "(Train) | Epoch=004, loss=0.1525, train_accuracy=67.53,train_auc=86.80\n",
            "test_accuracy=58.91, test_auc=74.81\n",
            "\n"
          ]
        },
        {
          "output_type": "stream",
          "name": "stderr",
          "text": [
            "100%|██████████| 202/202 [00:11<00:00, 17.02it/s]\n"
          ]
        },
        {
          "output_type": "stream",
          "name": "stdout",
          "text": [
            "(Train) | Epoch=005, loss=0.1381, train_accuracy=62.33,train_auc=92.25\n",
            "test_accuracy=63.86, test_auc=73.53\n",
            "\n"
          ]
        },
        {
          "output_type": "stream",
          "name": "stderr",
          "text": [
            "100%|██████████| 202/202 [00:11<00:00, 16.97it/s]\n"
          ]
        },
        {
          "output_type": "stream",
          "name": "stdout",
          "text": [
            "(Train) | Epoch=006, loss=0.1132, train_accuracy=84.26,train_auc=95.88\n",
            "test_accuracy=68.32, test_auc=75.49\n",
            "\n"
          ]
        },
        {
          "output_type": "stream",
          "name": "stderr",
          "text": [
            "100%|██████████| 202/202 [00:11<00:00, 16.85it/s]\n"
          ]
        },
        {
          "output_type": "stream",
          "name": "stdout",
          "text": [
            "(Train) | Epoch=007, loss=0.0938, train_accuracy=80.55,train_auc=98.00\n",
            "test_accuracy=65.35, test_auc=72.07\n",
            "\n"
          ]
        },
        {
          "output_type": "stream",
          "name": "stderr",
          "text": [
            "100%|██████████| 202/202 [00:11<00:00, 16.93it/s]\n"
          ]
        },
        {
          "output_type": "stream",
          "name": "stdout",
          "text": [
            "(Train) | Epoch=008, loss=0.0761, train_accuracy=94.92,train_auc=99.16\n",
            "test_accuracy=66.83, test_auc=74.85\n",
            "\n"
          ]
        },
        {
          "output_type": "stream",
          "name": "stderr",
          "text": [
            "100%|██████████| 202/202 [00:12<00:00, 16.83it/s]\n"
          ]
        },
        {
          "output_type": "stream",
          "name": "stdout",
          "text": [
            "(Train) | Epoch=009, loss=0.0508, train_accuracy=98.14,train_auc=99.85\n",
            "test_accuracy=68.32, test_auc=74.75\n",
            "\n"
          ]
        },
        {
          "output_type": "stream",
          "name": "stderr",
          "text": [
            "100%|██████████| 202/202 [00:11<00:00, 17.04it/s]\n"
          ]
        },
        {
          "output_type": "stream",
          "name": "stdout",
          "text": [
            "(Train) | Epoch=000, loss=0.2038, train_accuracy=51.80,train_auc=63.80\n",
            "test_accuracy=48.51, test_auc=59.91\n",
            "\n"
          ]
        },
        {
          "output_type": "stream",
          "name": "stderr",
          "text": [
            "100%|██████████| 202/202 [00:11<00:00, 16.95it/s]\n"
          ]
        },
        {
          "output_type": "stream",
          "name": "stdout",
          "text": [
            "(Train) | Epoch=001, loss=0.1791, train_accuracy=51.80,train_auc=70.08\n",
            "test_accuracy=48.51, test_auc=64.87\n",
            "\n"
          ]
        },
        {
          "output_type": "stream",
          "name": "stderr",
          "text": [
            "100%|██████████| 202/202 [00:12<00:00, 16.51it/s]\n"
          ]
        },
        {
          "output_type": "stream",
          "name": "stdout",
          "text": [
            "(Train) | Epoch=002, loss=0.1764, train_accuracy=51.80,train_auc=72.17\n",
            "test_accuracy=48.51, test_auc=64.96\n",
            "\n"
          ]
        },
        {
          "output_type": "stream",
          "name": "stderr",
          "text": [
            "100%|██████████| 202/202 [00:11<00:00, 16.90it/s]\n"
          ]
        },
        {
          "output_type": "stream",
          "name": "stdout",
          "text": [
            "(Train) | Epoch=003, loss=0.1711, train_accuracy=54.52,train_auc=75.44\n",
            "test_accuracy=50.50, test_auc=70.09\n",
            "\n"
          ]
        },
        {
          "output_type": "stream",
          "name": "stderr",
          "text": [
            "100%|██████████| 202/202 [00:11<00:00, 16.95it/s]\n"
          ]
        },
        {
          "output_type": "stream",
          "name": "stdout",
          "text": [
            "(Train) | Epoch=004, loss=0.1704, train_accuracy=54.40,train_auc=79.91\n",
            "test_accuracy=50.00, test_auc=75.99\n",
            "\n"
          ]
        },
        {
          "output_type": "stream",
          "name": "stderr",
          "text": [
            "100%|██████████| 202/202 [00:11<00:00, 17.00it/s]\n"
          ]
        },
        {
          "output_type": "stream",
          "name": "stdout",
          "text": [
            "(Train) | Epoch=005, loss=0.1597, train_accuracy=70.88,train_auc=83.85\n",
            "test_accuracy=61.88, test_auc=73.59\n",
            "\n"
          ]
        },
        {
          "output_type": "stream",
          "name": "stderr",
          "text": [
            "100%|██████████| 202/202 [00:11<00:00, 17.03it/s]\n"
          ]
        },
        {
          "output_type": "stream",
          "name": "stdout",
          "text": [
            "(Train) | Epoch=006, loss=0.1428, train_accuracy=77.45,train_auc=89.95\n",
            "test_accuracy=60.40, test_auc=73.20\n",
            "\n"
          ]
        },
        {
          "output_type": "stream",
          "name": "stderr",
          "text": [
            "100%|██████████| 202/202 [00:11<00:00, 16.92it/s]\n"
          ]
        },
        {
          "output_type": "stream",
          "name": "stdout",
          "text": [
            "(Train) | Epoch=007, loss=0.1334, train_accuracy=79.93,train_auc=94.45\n",
            "test_accuracy=63.37, test_auc=73.12\n",
            "\n"
          ]
        },
        {
          "output_type": "stream",
          "name": "stderr",
          "text": [
            "100%|██████████| 202/202 [00:11<00:00, 16.95it/s]\n"
          ]
        },
        {
          "output_type": "stream",
          "name": "stdout",
          "text": [
            "(Train) | Epoch=008, loss=0.1151, train_accuracy=89.84,train_auc=96.77\n",
            "test_accuracy=63.37, test_auc=70.72\n",
            "\n"
          ]
        },
        {
          "output_type": "stream",
          "name": "stderr",
          "text": [
            "100%|██████████| 202/202 [00:11<00:00, 16.93it/s]\n"
          ]
        },
        {
          "output_type": "stream",
          "name": "stdout",
          "text": [
            "(Train) | Epoch=009, loss=0.0799, train_accuracy=89.10,train_auc=96.45\n",
            "test_accuracy=63.86, test_auc=70.64\n",
            "\n"
          ]
        },
        {
          "output_type": "stream",
          "name": "stderr",
          "text": [
            "100%|██████████| 202/202 [00:11<00:00, 17.06it/s]\n"
          ]
        },
        {
          "output_type": "stream",
          "name": "stdout",
          "text": [
            "(Train) | Epoch=000, loss=0.1912, train_accuracy=51.43,train_auc=64.60\n",
            "test_accuracy=50.50, test_auc=56.87\n",
            "\n"
          ]
        },
        {
          "output_type": "stream",
          "name": "stderr",
          "text": [
            "100%|██████████| 202/202 [00:11<00:00, 16.93it/s]\n"
          ]
        },
        {
          "output_type": "stream",
          "name": "stdout",
          "text": [
            "(Train) | Epoch=001, loss=0.1821, train_accuracy=55.14,train_auc=73.80\n",
            "test_accuracy=51.98, test_auc=65.43\n",
            "\n"
          ]
        },
        {
          "output_type": "stream",
          "name": "stderr",
          "text": [
            "100%|██████████| 202/202 [00:11<00:00, 16.94it/s]\n"
          ]
        },
        {
          "output_type": "stream",
          "name": "stdout",
          "text": [
            "(Train) | Epoch=002, loss=0.1722, train_accuracy=51.55,train_auc=77.07\n",
            "test_accuracy=50.50, test_auc=64.89\n",
            "\n"
          ]
        },
        {
          "output_type": "stream",
          "name": "stderr",
          "text": [
            "100%|██████████| 202/202 [00:11<00:00, 16.96it/s]\n"
          ]
        },
        {
          "output_type": "stream",
          "name": "stdout",
          "text": [
            "(Train) | Epoch=003, loss=0.1619, train_accuracy=75.71,train_auc=84.08\n",
            "test_accuracy=59.41, test_auc=65.13\n",
            "\n"
          ]
        },
        {
          "output_type": "stream",
          "name": "stderr",
          "text": [
            "100%|██████████| 202/202 [00:11<00:00, 16.94it/s]\n"
          ]
        },
        {
          "output_type": "stream",
          "name": "stdout",
          "text": [
            "(Train) | Epoch=004, loss=0.1476, train_accuracy=81.78,train_auc=89.31\n",
            "test_accuracy=63.86, test_auc=67.17\n",
            "\n"
          ]
        },
        {
          "output_type": "stream",
          "name": "stderr",
          "text": [
            "100%|██████████| 202/202 [00:11<00:00, 16.93it/s]\n"
          ]
        },
        {
          "output_type": "stream",
          "name": "stdout",
          "text": [
            "(Train) | Epoch=005, loss=0.1369, train_accuracy=76.33,train_auc=90.91\n",
            "test_accuracy=57.43, test_auc=68.78\n",
            "\n"
          ]
        },
        {
          "output_type": "stream",
          "name": "stderr",
          "text": [
            "100%|██████████| 202/202 [00:11<00:00, 16.89it/s]\n"
          ]
        },
        {
          "output_type": "stream",
          "name": "stdout",
          "text": [
            "(Train) | Epoch=006, loss=0.1066, train_accuracy=84.14,train_auc=93.34\n",
            "test_accuracy=60.40, test_auc=64.94\n",
            "\n"
          ]
        },
        {
          "output_type": "stream",
          "name": "stderr",
          "text": [
            "100%|██████████| 202/202 [00:11<00:00, 16.90it/s]\n"
          ]
        },
        {
          "output_type": "stream",
          "name": "stdout",
          "text": [
            "(Train) | Epoch=007, loss=0.0941, train_accuracy=82.78,train_auc=96.97\n",
            "test_accuracy=55.94, test_auc=62.23\n",
            "\n"
          ]
        },
        {
          "output_type": "stream",
          "name": "stderr",
          "text": [
            "100%|██████████| 202/202 [00:11<00:00, 16.92it/s]\n"
          ]
        },
        {
          "output_type": "stream",
          "name": "stdout",
          "text": [
            "(Train) | Epoch=008, loss=0.0780, train_accuracy=91.70,train_auc=98.93\n",
            "test_accuracy=60.40, test_auc=67.00\n",
            "\n"
          ]
        },
        {
          "output_type": "stream",
          "name": "stderr",
          "text": [
            "100%|██████████| 202/202 [00:11<00:00, 16.92it/s]\n"
          ]
        },
        {
          "output_type": "stream",
          "name": "stdout",
          "text": [
            "(Train) | Epoch=009, loss=0.0606, train_accuracy=91.45,train_auc=98.09\n",
            "test_accuracy=58.91, test_auc=65.69\n",
            "\n"
          ]
        },
        {
          "output_type": "stream",
          "name": "stderr",
          "text": [
            "100%|██████████| 202/202 [00:11<00:00, 16.89it/s]\n"
          ]
        },
        {
          "output_type": "stream",
          "name": "stdout",
          "text": [
            "(Train) | Epoch=000, loss=0.1968, train_accuracy=51.92,train_auc=70.38\n",
            "test_accuracy=48.02, test_auc=60.98\n",
            "\n"
          ]
        },
        {
          "output_type": "stream",
          "name": "stderr",
          "text": [
            "100%|██████████| 202/202 [00:11<00:00, 17.11it/s]\n"
          ]
        },
        {
          "output_type": "stream",
          "name": "stdout",
          "text": [
            "(Train) | Epoch=001, loss=0.1802, train_accuracy=51.92,train_auc=69.82\n",
            "test_accuracy=48.02, test_auc=59.37\n",
            "\n"
          ]
        },
        {
          "output_type": "stream",
          "name": "stderr",
          "text": [
            "100%|██████████| 202/202 [00:11<00:00, 16.99it/s]\n"
          ]
        },
        {
          "output_type": "stream",
          "name": "stdout",
          "text": [
            "(Train) | Epoch=002, loss=0.1769, train_accuracy=51.05,train_auc=74.23\n",
            "test_accuracy=53.96, test_auc=63.24\n",
            "\n"
          ]
        },
        {
          "output_type": "stream",
          "name": "stderr",
          "text": [
            "100%|██████████| 202/202 [00:11<00:00, 16.92it/s]\n"
          ]
        },
        {
          "output_type": "stream",
          "name": "stdout",
          "text": [
            "(Train) | Epoch=003, loss=0.1722, train_accuracy=70.88,train_auc=79.17\n",
            "test_accuracy=63.37, test_auc=66.20\n",
            "\n"
          ]
        },
        {
          "output_type": "stream",
          "name": "stderr",
          "text": [
            "100%|██████████| 202/202 [00:11<00:00, 16.93it/s]\n"
          ]
        },
        {
          "output_type": "stream",
          "name": "stdout",
          "text": [
            "(Train) | Epoch=004, loss=0.1555, train_accuracy=71.38,train_auc=79.28\n",
            "test_accuracy=58.91, test_auc=66.34\n",
            "\n"
          ]
        },
        {
          "output_type": "stream",
          "name": "stderr",
          "text": [
            "100%|██████████| 202/202 [00:11<00:00, 17.03it/s]\n"
          ]
        },
        {
          "output_type": "stream",
          "name": "stdout",
          "text": [
            "(Train) | Epoch=005, loss=0.1440, train_accuracy=73.73,train_auc=85.17\n",
            "test_accuracy=57.43, test_auc=63.89\n",
            "\n"
          ]
        },
        {
          "output_type": "stream",
          "name": "stderr",
          "text": [
            "100%|██████████| 202/202 [00:11<00:00, 16.97it/s]\n"
          ]
        },
        {
          "output_type": "stream",
          "name": "stdout",
          "text": [
            "(Train) | Epoch=006, loss=0.1471, train_accuracy=77.82,train_auc=89.87\n",
            "test_accuracy=56.93, test_auc=65.11\n",
            "\n"
          ]
        },
        {
          "output_type": "stream",
          "name": "stderr",
          "text": [
            "100%|██████████| 202/202 [00:11<00:00, 16.93it/s]\n"
          ]
        },
        {
          "output_type": "stream",
          "name": "stdout",
          "text": [
            "(Train) | Epoch=007, loss=0.1313, train_accuracy=84.26,train_auc=93.23\n",
            "test_accuracy=60.40, test_auc=66.03\n",
            "\n"
          ]
        },
        {
          "output_type": "stream",
          "name": "stderr",
          "text": [
            "100%|██████████| 202/202 [00:11<00:00, 16.96it/s]\n"
          ]
        },
        {
          "output_type": "stream",
          "name": "stdout",
          "text": [
            "(Train) | Epoch=008, loss=0.1003, train_accuracy=82.90,train_auc=95.24\n",
            "test_accuracy=58.91, test_auc=62.31\n",
            "\n"
          ]
        },
        {
          "output_type": "stream",
          "name": "stderr",
          "text": [
            "100%|██████████| 202/202 [00:11<00:00, 17.00it/s]\n"
          ]
        },
        {
          "output_type": "stream",
          "name": "stdout",
          "text": [
            "(Train) | Epoch=009, loss=0.0792, train_accuracy=93.68,train_auc=98.84\n",
            "test_accuracy=60.89, test_auc=66.94\n",
            "\n"
          ]
        },
        {
          "output_type": "stream",
          "name": "stderr",
          "text": [
            "100%|██████████| 202/202 [00:11<00:00, 17.06it/s]\n"
          ]
        },
        {
          "output_type": "stream",
          "name": "stdout",
          "text": [
            "(Train) | Epoch=000, loss=0.1895, train_accuracy=48.70,train_auc=65.69\n",
            "test_accuracy=49.50, test_auc=58.95\n",
            "\n"
          ]
        },
        {
          "output_type": "stream",
          "name": "stderr",
          "text": [
            "100%|██████████| 202/202 [00:11<00:00, 17.01it/s]\n"
          ]
        },
        {
          "output_type": "stream",
          "name": "stdout",
          "text": [
            "(Train) | Epoch=001, loss=0.1815, train_accuracy=51.30,train_auc=73.05\n",
            "test_accuracy=50.50, test_auc=66.72\n",
            "\n"
          ]
        },
        {
          "output_type": "stream",
          "name": "stderr",
          "text": [
            "100%|██████████| 202/202 [00:11<00:00, 16.97it/s]\n"
          ]
        },
        {
          "output_type": "stream",
          "name": "stdout",
          "text": [
            "(Train) | Epoch=002, loss=0.1718, train_accuracy=50.19,train_auc=76.12\n",
            "test_accuracy=49.50, test_auc=68.01\n",
            "\n"
          ]
        },
        {
          "output_type": "stream",
          "name": "stderr",
          "text": [
            "100%|██████████| 202/202 [00:11<00:00, 16.94it/s]\n"
          ]
        },
        {
          "output_type": "stream",
          "name": "stdout",
          "text": [
            "(Train) | Epoch=003, loss=0.1588, train_accuracy=71.62,train_auc=80.63\n",
            "test_accuracy=65.35, test_auc=68.70\n",
            "\n"
          ]
        },
        {
          "output_type": "stream",
          "name": "stderr",
          "text": [
            "100%|██████████| 202/202 [00:11<00:00, 16.98it/s]\n"
          ]
        },
        {
          "output_type": "stream",
          "name": "stdout",
          "text": [
            "(Train) | Epoch=004, loss=0.1489, train_accuracy=78.31,train_auc=88.91\n",
            "test_accuracy=64.36, test_auc=71.99\n",
            "\n"
          ]
        },
        {
          "output_type": "stream",
          "name": "stderr",
          "text": [
            "100%|██████████| 202/202 [00:11<00:00, 17.01it/s]\n"
          ]
        },
        {
          "output_type": "stream",
          "name": "stdout",
          "text": [
            "(Train) | Epoch=005, loss=0.1310, train_accuracy=72.37,train_auc=92.30\n",
            "test_accuracy=60.89, test_auc=74.17\n",
            "\n"
          ]
        },
        {
          "output_type": "stream",
          "name": "stderr",
          "text": [
            "100%|██████████| 202/202 [00:11<00:00, 16.96it/s]\n"
          ]
        },
        {
          "output_type": "stream",
          "name": "stdout",
          "text": [
            "(Train) | Epoch=006, loss=0.1122, train_accuracy=80.42,train_auc=94.17\n",
            "test_accuracy=64.85, test_auc=70.60\n",
            "\n"
          ]
        },
        {
          "output_type": "stream",
          "name": "stderr",
          "text": [
            "100%|██████████| 202/202 [00:12<00:00, 16.69it/s]\n"
          ]
        },
        {
          "output_type": "stream",
          "name": "stdout",
          "text": [
            "(Train) | Epoch=007, loss=0.0992, train_accuracy=84.76,train_auc=96.90\n",
            "test_accuracy=64.85, test_auc=74.19\n",
            "\n"
          ]
        },
        {
          "output_type": "stream",
          "name": "stderr",
          "text": [
            "100%|██████████| 202/202 [00:11<00:00, 17.06it/s]\n"
          ]
        },
        {
          "output_type": "stream",
          "name": "stdout",
          "text": [
            "(Train) | Epoch=008, loss=0.0737, train_accuracy=93.93,train_auc=99.13\n",
            "test_accuracy=69.31, test_auc=74.45\n",
            "\n"
          ]
        },
        {
          "output_type": "stream",
          "name": "stderr",
          "text": [
            "100%|██████████| 202/202 [00:11<00:00, 17.02it/s]\n"
          ]
        },
        {
          "output_type": "stream",
          "name": "stdout",
          "text": [
            "(Train) | Epoch=009, loss=0.0600, train_accuracy=97.52,train_auc=99.74\n",
            "test_accuracy=70.30, test_auc=75.43\n",
            "\n"
          ]
        },
        {
          "output_type": "stream",
          "name": "stderr",
          "text": [
            "100%|██████████| 202/202 [00:11<00:00, 17.06it/s]\n"
          ]
        },
        {
          "output_type": "stream",
          "name": "stdout",
          "text": [
            "(Train) | Epoch=000, loss=0.1857, train_accuracy=49.94,train_auc=66.24\n",
            "test_accuracy=48.02, test_auc=55.46\n",
            "\n"
          ]
        },
        {
          "output_type": "stream",
          "name": "stderr",
          "text": [
            "100%|██████████| 202/202 [00:11<00:00, 16.98it/s]\n"
          ]
        },
        {
          "output_type": "stream",
          "name": "stdout",
          "text": [
            "(Train) | Epoch=001, loss=0.1819, train_accuracy=55.27,train_auc=74.49\n",
            "test_accuracy=52.97, test_auc=68.40\n",
            "\n"
          ]
        },
        {
          "output_type": "stream",
          "name": "stderr",
          "text": [
            "100%|██████████| 202/202 [00:11<00:00, 16.92it/s]\n"
          ]
        },
        {
          "output_type": "stream",
          "name": "stdout",
          "text": [
            "(Train) | Epoch=002, loss=0.1759, train_accuracy=66.17,train_auc=75.81\n",
            "test_accuracy=62.38, test_auc=68.17\n",
            "\n"
          ]
        },
        {
          "output_type": "stream",
          "name": "stderr",
          "text": [
            "100%|██████████| 202/202 [00:11<00:00, 16.86it/s]\n"
          ]
        },
        {
          "output_type": "stream",
          "name": "stdout",
          "text": [
            "(Train) | Epoch=003, loss=0.1633, train_accuracy=74.23,train_auc=82.63\n",
            "test_accuracy=63.86, test_auc=71.17\n",
            "\n"
          ]
        },
        {
          "output_type": "stream",
          "name": "stderr",
          "text": [
            "100%|██████████| 202/202 [00:11<00:00, 16.94it/s]\n"
          ]
        },
        {
          "output_type": "stream",
          "name": "stdout",
          "text": [
            "(Train) | Epoch=004, loss=0.1537, train_accuracy=77.82,train_auc=87.30\n",
            "test_accuracy=65.35, test_auc=70.55\n",
            "\n"
          ]
        },
        {
          "output_type": "stream",
          "name": "stderr",
          "text": [
            "100%|██████████| 202/202 [00:11<00:00, 16.96it/s]\n"
          ]
        },
        {
          "output_type": "stream",
          "name": "stdout",
          "text": [
            "(Train) | Epoch=005, loss=0.1370, train_accuracy=67.41,train_auc=92.01\n",
            "test_accuracy=59.90, test_auc=70.05\n",
            "\n"
          ]
        },
        {
          "output_type": "stream",
          "name": "stderr",
          "text": [
            "100%|██████████| 202/202 [00:11<00:00, 16.90it/s]\n"
          ]
        },
        {
          "output_type": "stream",
          "name": "stdout",
          "text": [
            "(Train) | Epoch=006, loss=0.1214, train_accuracy=82.53,train_auc=92.21\n",
            "test_accuracy=60.40, test_auc=67.54\n",
            "\n"
          ]
        },
        {
          "output_type": "stream",
          "name": "stderr",
          "text": [
            "100%|██████████| 202/202 [00:11<00:00, 16.85it/s]\n"
          ]
        },
        {
          "output_type": "stream",
          "name": "stdout",
          "text": [
            "(Train) | Epoch=007, loss=0.1019, train_accuracy=87.73,train_auc=95.27\n",
            "test_accuracy=63.37, test_auc=67.44\n",
            "\n"
          ]
        },
        {
          "output_type": "stream",
          "name": "stderr",
          "text": [
            "100%|██████████| 202/202 [00:11<00:00, 16.93it/s]\n"
          ]
        },
        {
          "output_type": "stream",
          "name": "stdout",
          "text": [
            "(Train) | Epoch=008, loss=0.0908, train_accuracy=91.82,train_auc=97.94\n",
            "test_accuracy=60.40, test_auc=65.99\n",
            "\n"
          ]
        },
        {
          "output_type": "stream",
          "name": "stderr",
          "text": [
            "100%|██████████| 202/202 [00:11<00:00, 16.91it/s]\n"
          ]
        },
        {
          "output_type": "stream",
          "name": "stdout",
          "text": [
            "(Train) | Epoch=009, loss=0.0722, train_accuracy=92.57,train_auc=98.71\n",
            "test_accuracy=60.89, test_auc=67.00\n",
            "\n"
          ]
        },
        {
          "output_type": "stream",
          "name": "stderr",
          "text": [
            "100%|██████████| 202/202 [00:11<00:00, 16.88it/s]\n"
          ]
        },
        {
          "output_type": "stream",
          "name": "stdout",
          "text": [
            "(Train) | Epoch=000, loss=0.1922, train_accuracy=50.56,train_auc=63.56\n",
            "test_accuracy=53.47, test_auc=62.90\n",
            "\n"
          ]
        },
        {
          "output_type": "stream",
          "name": "stderr",
          "text": [
            "100%|██████████| 202/202 [00:11<00:00, 16.89it/s]\n"
          ]
        },
        {
          "output_type": "stream",
          "name": "stdout",
          "text": [
            "(Train) | Epoch=001, loss=0.1828, train_accuracy=49.44,train_auc=70.28\n",
            "test_accuracy=46.53, test_auc=67.16\n",
            "\n"
          ]
        },
        {
          "output_type": "stream",
          "name": "stderr",
          "text": [
            "100%|██████████| 202/202 [00:11<00:00, 16.91it/s]\n"
          ]
        },
        {
          "output_type": "stream",
          "name": "stdout",
          "text": [
            "(Train) | Epoch=002, loss=0.1766, train_accuracy=65.92,train_auc=73.73\n",
            "test_accuracy=63.86, test_auc=70.51\n",
            "\n"
          ]
        },
        {
          "output_type": "stream",
          "name": "stderr",
          "text": [
            "100%|██████████| 202/202 [00:11<00:00, 16.90it/s]\n"
          ]
        },
        {
          "output_type": "stream",
          "name": "stdout",
          "text": [
            "(Train) | Epoch=003, loss=0.1777, train_accuracy=50.56,train_auc=75.28\n",
            "test_accuracy=53.47, test_auc=73.91\n",
            "\n"
          ]
        },
        {
          "output_type": "stream",
          "name": "stderr",
          "text": [
            "100%|██████████| 202/202 [00:11<00:00, 16.94it/s]\n"
          ]
        },
        {
          "output_type": "stream",
          "name": "stdout",
          "text": [
            "(Train) | Epoch=004, loss=0.1684, train_accuracy=66.29,train_auc=75.47\n",
            "test_accuracy=64.85, test_auc=72.79\n",
            "\n"
          ]
        },
        {
          "output_type": "stream",
          "name": "stderr",
          "text": [
            "100%|██████████| 202/202 [00:12<00:00, 16.81it/s]\n"
          ]
        },
        {
          "output_type": "stream",
          "name": "stdout",
          "text": [
            "(Train) | Epoch=005, loss=0.1638, train_accuracy=72.86,train_auc=82.52\n",
            "test_accuracy=66.34, test_auc=71.97\n",
            "\n"
          ]
        },
        {
          "output_type": "stream",
          "name": "stderr",
          "text": [
            "100%|██████████| 202/202 [00:12<00:00, 16.81it/s]\n"
          ]
        },
        {
          "output_type": "stream",
          "name": "stdout",
          "text": [
            "(Train) | Epoch=006, loss=0.1445, train_accuracy=71.50,train_auc=87.95\n",
            "test_accuracy=67.33, test_auc=73.55\n",
            "\n"
          ]
        },
        {
          "output_type": "stream",
          "name": "stderr",
          "text": [
            "100%|██████████| 202/202 [00:11<00:00, 16.91it/s]\n"
          ]
        },
        {
          "output_type": "stream",
          "name": "stdout",
          "text": [
            "(Train) | Epoch=007, loss=0.1264, train_accuracy=82.53,train_auc=91.78\n",
            "test_accuracy=68.81, test_auc=74.15\n",
            "\n"
          ]
        },
        {
          "output_type": "stream",
          "name": "stderr",
          "text": [
            "100%|██████████| 202/202 [00:11<00:00, 17.02it/s]\n"
          ]
        },
        {
          "output_type": "stream",
          "name": "stdout",
          "text": [
            "(Train) | Epoch=008, loss=0.1189, train_accuracy=71.38,train_auc=95.50\n",
            "test_accuracy=58.91, test_auc=74.01\n",
            "\n"
          ]
        },
        {
          "output_type": "stream",
          "name": "stderr",
          "text": [
            "100%|██████████| 202/202 [00:11<00:00, 16.95it/s]\n"
          ]
        },
        {
          "output_type": "stream",
          "name": "stdout",
          "text": [
            "(Train) | Epoch=009, loss=0.0982, train_accuracy=88.72,train_auc=97.78\n",
            "test_accuracy=62.87, test_auc=72.06\n",
            "\n"
          ]
        },
        {
          "output_type": "stream",
          "name": "stderr",
          "text": [
            "100%|██████████| 202/202 [00:11<00:00, 16.97it/s]\n"
          ]
        },
        {
          "output_type": "stream",
          "name": "stdout",
          "text": [
            "(Train) | Epoch=000, loss=0.1937, train_accuracy=50.68,train_auc=62.25\n",
            "test_accuracy=52.97, test_auc=59.58\n",
            "\n"
          ]
        },
        {
          "output_type": "stream",
          "name": "stderr",
          "text": [
            "100%|██████████| 202/202 [00:11<00:00, 16.97it/s]\n"
          ]
        },
        {
          "output_type": "stream",
          "name": "stdout",
          "text": [
            "(Train) | Epoch=001, loss=0.1811, train_accuracy=50.68,train_auc=70.58\n",
            "test_accuracy=52.97, test_auc=63.43\n",
            "\n"
          ]
        },
        {
          "output_type": "stream",
          "name": "stderr",
          "text": [
            "100%|██████████| 202/202 [00:11<00:00, 16.89it/s]\n"
          ]
        },
        {
          "output_type": "stream",
          "name": "stdout",
          "text": [
            "(Train) | Epoch=002, loss=0.1762, train_accuracy=61.34,train_auc=73.62\n",
            "test_accuracy=55.45, test_auc=61.42\n",
            "\n"
          ]
        },
        {
          "output_type": "stream",
          "name": "stderr",
          "text": [
            "100%|██████████| 202/202 [00:11<00:00, 16.92it/s]\n"
          ]
        },
        {
          "output_type": "stream",
          "name": "stdout",
          "text": [
            "(Train) | Epoch=003, loss=0.1699, train_accuracy=49.32,train_auc=76.98\n",
            "test_accuracy=47.03, test_auc=65.36\n",
            "\n"
          ]
        },
        {
          "output_type": "stream",
          "name": "stderr",
          "text": [
            "100%|██████████| 202/202 [00:11<00:00, 16.91it/s]\n"
          ]
        },
        {
          "output_type": "stream",
          "name": "stdout",
          "text": [
            "(Train) | Epoch=004, loss=0.1652, train_accuracy=73.85,train_auc=82.12\n",
            "test_accuracy=65.84, test_auc=72.32\n",
            "\n"
          ]
        },
        {
          "output_type": "stream",
          "name": "stderr",
          "text": [
            "100%|██████████| 202/202 [00:11<00:00, 16.91it/s]\n"
          ]
        },
        {
          "output_type": "stream",
          "name": "stdout",
          "text": [
            "(Train) | Epoch=005, loss=0.1532, train_accuracy=60.10,train_auc=85.23\n",
            "test_accuracy=53.96, test_auc=73.42\n",
            "\n"
          ]
        },
        {
          "output_type": "stream",
          "name": "stderr",
          "text": [
            "100%|██████████| 202/202 [00:11<00:00, 16.96it/s]\n"
          ]
        },
        {
          "output_type": "stream",
          "name": "stdout",
          "text": [
            "(Train) | Epoch=006, loss=0.1374, train_accuracy=73.61,train_auc=89.59\n",
            "test_accuracy=62.38, test_auc=69.65\n",
            "\n"
          ]
        },
        {
          "output_type": "stream",
          "name": "stderr",
          "text": [
            "100%|██████████| 202/202 [00:11<00:00, 17.01it/s]\n"
          ]
        },
        {
          "output_type": "stream",
          "name": "stdout",
          "text": [
            "(Train) | Epoch=007, loss=0.1218, train_accuracy=85.25,train_auc=93.07\n",
            "test_accuracy=63.86, test_auc=72.77\n",
            "\n"
          ]
        },
        {
          "output_type": "stream",
          "name": "stderr",
          "text": [
            "100%|██████████| 202/202 [00:11<00:00, 17.05it/s]\n"
          ]
        },
        {
          "output_type": "stream",
          "name": "stdout",
          "text": [
            "(Train) | Epoch=008, loss=0.1001, train_accuracy=88.97,train_auc=97.23\n",
            "test_accuracy=65.35, test_auc=72.95\n",
            "\n"
          ]
        },
        {
          "output_type": "stream",
          "name": "stderr",
          "text": [
            "100%|██████████| 202/202 [00:11<00:00, 17.04it/s]\n"
          ]
        },
        {
          "output_type": "stream",
          "name": "stdout",
          "text": [
            "(Train) | Epoch=009, loss=0.0772, train_accuracy=87.11,train_auc=96.99\n",
            "test_accuracy=60.40, test_auc=70.97\n",
            "\n"
          ]
        },
        {
          "output_type": "stream",
          "name": "stderr",
          "text": [
            "100%|██████████| 202/202 [00:11<00:00, 17.07it/s]\n"
          ]
        },
        {
          "output_type": "stream",
          "name": "stdout",
          "text": [
            "(Train) | Epoch=000, loss=0.1895, train_accuracy=50.68,train_auc=69.57\n",
            "test_accuracy=52.97, test_auc=68.51\n",
            "\n"
          ]
        },
        {
          "output_type": "stream",
          "name": "stderr",
          "text": [
            "100%|██████████| 202/202 [00:11<00:00, 17.07it/s]\n"
          ]
        },
        {
          "output_type": "stream",
          "name": "stdout",
          "text": [
            "(Train) | Epoch=001, loss=0.1794, train_accuracy=50.81,train_auc=73.95\n",
            "test_accuracy=52.48, test_auc=73.74\n",
            "\n"
          ]
        },
        {
          "output_type": "stream",
          "name": "stderr",
          "text": [
            "100%|██████████| 202/202 [00:12<00:00, 16.64it/s]\n"
          ]
        },
        {
          "output_type": "stream",
          "name": "stdout",
          "text": [
            "(Train) | Epoch=002, loss=0.1744, train_accuracy=50.68,train_auc=65.61\n",
            "test_accuracy=52.97, test_auc=61.85\n",
            "\n"
          ]
        },
        {
          "output_type": "stream",
          "name": "stderr",
          "text": [
            "100%|██████████| 202/202 [00:11<00:00, 17.11it/s]\n"
          ]
        },
        {
          "output_type": "stream",
          "name": "stdout",
          "text": [
            "(Train) | Epoch=003, loss=0.1768, train_accuracy=50.68,train_auc=72.17\n",
            "test_accuracy=52.97, test_auc=67.95\n",
            "\n"
          ]
        },
        {
          "output_type": "stream",
          "name": "stderr",
          "text": [
            "100%|██████████| 202/202 [00:11<00:00, 17.03it/s]\n"
          ]
        },
        {
          "output_type": "stream",
          "name": "stdout",
          "text": [
            "(Train) | Epoch=004, loss=0.1689, train_accuracy=68.53,train_auc=76.59\n",
            "test_accuracy=63.37, test_auc=69.76\n",
            "\n"
          ]
        },
        {
          "output_type": "stream",
          "name": "stderr",
          "text": [
            "100%|██████████| 202/202 [00:11<00:00, 17.05it/s]\n"
          ]
        },
        {
          "output_type": "stream",
          "name": "stdout",
          "text": [
            "(Train) | Epoch=005, loss=0.1530, train_accuracy=75.22,train_auc=85.38\n",
            "test_accuracy=61.39, test_auc=73.24\n",
            "\n"
          ]
        },
        {
          "output_type": "stream",
          "name": "stderr",
          "text": [
            "100%|██████████| 202/202 [00:11<00:00, 17.05it/s]\n"
          ]
        },
        {
          "output_type": "stream",
          "name": "stdout",
          "text": [
            "(Train) | Epoch=006, loss=0.1392, train_accuracy=75.71,train_auc=89.58\n",
            "test_accuracy=64.36, test_auc=71.68\n",
            "\n"
          ]
        },
        {
          "output_type": "stream",
          "name": "stderr",
          "text": [
            "100%|██████████| 202/202 [00:11<00:00, 17.01it/s]\n"
          ]
        },
        {
          "output_type": "stream",
          "name": "stdout",
          "text": [
            "(Train) | Epoch=007, loss=0.1200, train_accuracy=56.38,train_auc=88.87\n",
            "test_accuracy=50.50, test_auc=68.21\n",
            "\n"
          ]
        },
        {
          "output_type": "stream",
          "name": "stderr",
          "text": [
            "100%|██████████| 202/202 [00:11<00:00, 17.06it/s]\n"
          ]
        },
        {
          "output_type": "stream",
          "name": "stdout",
          "text": [
            "(Train) | Epoch=008, loss=0.1083, train_accuracy=84.76,train_auc=94.79\n",
            "test_accuracy=66.34, test_auc=71.16\n",
            "\n"
          ]
        },
        {
          "output_type": "stream",
          "name": "stderr",
          "text": [
            "100%|██████████| 202/202 [00:11<00:00, 17.02it/s]\n"
          ]
        },
        {
          "output_type": "stream",
          "name": "stdout",
          "text": [
            "(Train) | Epoch=009, loss=0.0786, train_accuracy=90.09,train_auc=96.89\n",
            "test_accuracy=67.82, test_auc=72.31\n",
            "\n"
          ]
        },
        {
          "output_type": "stream",
          "name": "stderr",
          "text": [
            "100%|██████████| 202/202 [00:11<00:00, 17.11it/s]\n"
          ]
        },
        {
          "output_type": "stream",
          "name": "stdout",
          "text": [
            "(Train) | Epoch=000, loss=0.1978, train_accuracy=63.57,train_auc=68.65\n",
            "test_accuracy=57.92, test_auc=62.48\n",
            "\n"
          ]
        },
        {
          "output_type": "stream",
          "name": "stderr",
          "text": [
            "100%|██████████| 202/202 [00:11<00:00, 17.06it/s]\n"
          ]
        },
        {
          "output_type": "stream",
          "name": "stdout",
          "text": [
            "(Train) | Epoch=001, loss=0.1806, train_accuracy=50.93,train_auc=72.94\n",
            "test_accuracy=51.98, test_auc=68.50\n",
            "\n"
          ]
        },
        {
          "output_type": "stream",
          "name": "stderr",
          "text": [
            "100%|██████████| 202/202 [00:11<00:00, 17.10it/s]\n"
          ]
        },
        {
          "output_type": "stream",
          "name": "stdout",
          "text": [
            "(Train) | Epoch=002, loss=0.1751, train_accuracy=50.93,train_auc=73.82\n",
            "test_accuracy=51.98, test_auc=73.53\n",
            "\n"
          ]
        },
        {
          "output_type": "stream",
          "name": "stderr",
          "text": [
            "100%|██████████| 202/202 [00:11<00:00, 17.11it/s]\n"
          ]
        },
        {
          "output_type": "stream",
          "name": "stdout",
          "text": [
            "(Train) | Epoch=003, loss=0.1717, train_accuracy=66.54,train_auc=77.69\n",
            "test_accuracy=63.37, test_auc=73.15\n",
            "\n"
          ]
        },
        {
          "output_type": "stream",
          "name": "stderr",
          "text": [
            "100%|██████████| 202/202 [00:11<00:00, 17.05it/s]\n"
          ]
        },
        {
          "output_type": "stream",
          "name": "stdout",
          "text": [
            "(Train) | Epoch=004, loss=0.1536, train_accuracy=54.52,train_auc=85.45\n",
            "test_accuracy=52.97, test_auc=76.74\n",
            "\n"
          ]
        },
        {
          "output_type": "stream",
          "name": "stderr",
          "text": [
            "100%|██████████| 202/202 [00:11<00:00, 17.03it/s]\n"
          ]
        },
        {
          "output_type": "stream",
          "name": "stdout",
          "text": [
            "(Train) | Epoch=005, loss=0.1441, train_accuracy=79.06,train_auc=88.83\n",
            "test_accuracy=71.78, test_auc=77.38\n",
            "\n"
          ]
        },
        {
          "output_type": "stream",
          "name": "stderr",
          "text": [
            "100%|██████████| 202/202 [00:11<00:00, 17.07it/s]\n"
          ]
        },
        {
          "output_type": "stream",
          "name": "stdout",
          "text": [
            "(Train) | Epoch=006, loss=0.1330, train_accuracy=81.29,train_auc=92.50\n",
            "test_accuracy=67.33, test_auc=74.95\n",
            "\n"
          ]
        },
        {
          "output_type": "stream",
          "name": "stderr",
          "text": [
            "100%|██████████| 202/202 [00:11<00:00, 17.04it/s]\n"
          ]
        },
        {
          "output_type": "stream",
          "name": "stdout",
          "text": [
            "(Train) | Epoch=007, loss=0.1061, train_accuracy=83.89,train_auc=95.89\n",
            "test_accuracy=70.30, test_auc=76.05\n",
            "\n"
          ]
        },
        {
          "output_type": "stream",
          "name": "stderr",
          "text": [
            "100%|██████████| 202/202 [00:11<00:00, 16.96it/s]\n"
          ]
        },
        {
          "output_type": "stream",
          "name": "stdout",
          "text": [
            "(Train) | Epoch=008, loss=0.0853, train_accuracy=86.62,train_auc=96.09\n",
            "test_accuracy=64.85, test_auc=67.60\n",
            "\n"
          ]
        },
        {
          "output_type": "stream",
          "name": "stderr",
          "text": [
            "100%|██████████| 202/202 [00:12<00:00, 16.72it/s]\n"
          ]
        },
        {
          "output_type": "stream",
          "name": "stdout",
          "text": [
            "(Train) | Epoch=009, loss=0.0696, train_accuracy=90.58,train_auc=99.26\n",
            "test_accuracy=63.86, test_auc=74.06\n",
            "\n"
          ]
        },
        {
          "output_type": "stream",
          "name": "stderr",
          "text": [
            "100%|██████████| 202/202 [00:12<00:00, 16.78it/s]\n"
          ]
        },
        {
          "output_type": "stream",
          "name": "stdout",
          "text": [
            "(Train) | Epoch=000, loss=0.1897, train_accuracy=50.43,train_auc=71.54\n",
            "test_accuracy=53.96, test_auc=64.16\n",
            "\n"
          ]
        },
        {
          "output_type": "stream",
          "name": "stderr",
          "text": [
            "100%|██████████| 202/202 [00:11<00:00, 16.87it/s]\n"
          ]
        },
        {
          "output_type": "stream",
          "name": "stdout",
          "text": [
            "(Train) | Epoch=001, loss=0.1760, train_accuracy=62.83,train_auc=66.49\n",
            "test_accuracy=57.43, test_auc=62.86\n",
            "\n"
          ]
        },
        {
          "output_type": "stream",
          "name": "stderr",
          "text": [
            "100%|██████████| 202/202 [00:11<00:00, 17.00it/s]\n"
          ]
        },
        {
          "output_type": "stream",
          "name": "stdout",
          "text": [
            "(Train) | Epoch=002, loss=0.1769, train_accuracy=62.08,train_auc=74.14\n",
            "test_accuracy=61.39, test_auc=68.08\n",
            "\n"
          ]
        },
        {
          "output_type": "stream",
          "name": "stderr",
          "text": [
            "100%|██████████| 202/202 [00:11<00:00, 16.96it/s]\n"
          ]
        },
        {
          "output_type": "stream",
          "name": "stdout",
          "text": [
            "(Train) | Epoch=003, loss=0.1669, train_accuracy=50.43,train_auc=77.62\n",
            "test_accuracy=53.96, test_auc=67.15\n",
            "\n"
          ]
        },
        {
          "output_type": "stream",
          "name": "stderr",
          "text": [
            "100%|██████████| 202/202 [00:11<00:00, 16.93it/s]\n"
          ]
        },
        {
          "output_type": "stream",
          "name": "stdout",
          "text": [
            "(Train) | Epoch=004, loss=0.1566, train_accuracy=72.61,train_auc=84.97\n",
            "test_accuracy=60.40, test_auc=68.13\n",
            "\n"
          ]
        },
        {
          "output_type": "stream",
          "name": "stderr",
          "text": [
            "100%|██████████| 202/202 [00:11<00:00, 16.88it/s]\n"
          ]
        },
        {
          "output_type": "stream",
          "name": "stdout",
          "text": [
            "(Train) | Epoch=005, loss=0.1391, train_accuracy=61.21,train_auc=84.04\n",
            "test_accuracy=58.91, test_auc=69.11\n",
            "\n"
          ]
        },
        {
          "output_type": "stream",
          "name": "stderr",
          "text": [
            "100%|██████████| 202/202 [00:11<00:00, 16.96it/s]\n"
          ]
        },
        {
          "output_type": "stream",
          "name": "stdout",
          "text": [
            "(Train) | Epoch=006, loss=0.1290, train_accuracy=85.01,train_auc=92.96\n",
            "test_accuracy=63.86, test_auc=70.77\n",
            "\n"
          ]
        },
        {
          "output_type": "stream",
          "name": "stderr",
          "text": [
            "100%|██████████| 202/202 [00:11<00:00, 16.97it/s]\n"
          ]
        },
        {
          "output_type": "stream",
          "name": "stdout",
          "text": [
            "(Train) | Epoch=007, loss=0.1042, train_accuracy=88.48,train_auc=95.50\n",
            "test_accuracy=64.85, test_auc=70.56\n",
            "\n"
          ]
        },
        {
          "output_type": "stream",
          "name": "stderr",
          "text": [
            "100%|██████████| 202/202 [00:11<00:00, 16.96it/s]\n"
          ]
        },
        {
          "output_type": "stream",
          "name": "stdout",
          "text": [
            "(Train) | Epoch=008, loss=0.0879, train_accuracy=93.31,train_auc=98.21\n",
            "test_accuracy=67.33, test_auc=68.99\n",
            "\n"
          ]
        },
        {
          "output_type": "stream",
          "name": "stderr",
          "text": [
            "100%|██████████| 202/202 [00:11<00:00, 16.92it/s]\n"
          ]
        },
        {
          "output_type": "stream",
          "name": "stdout",
          "text": [
            "(Train) | Epoch=009, loss=0.0718, train_accuracy=91.57,train_auc=98.21\n",
            "test_accuracy=62.38, test_auc=65.27\n",
            "\n"
          ]
        },
        {
          "output_type": "stream",
          "name": "stderr",
          "text": [
            "100%|██████████| 202/202 [00:11<00:00, 16.92it/s]\n"
          ]
        },
        {
          "output_type": "stream",
          "name": "stdout",
          "text": [
            "(Train) | Epoch=000, loss=0.1929, train_accuracy=54.65,train_auc=62.09\n",
            "test_accuracy=49.01, test_auc=52.88\n",
            "\n"
          ]
        },
        {
          "output_type": "stream",
          "name": "stderr",
          "text": [
            "100%|██████████| 202/202 [00:11<00:00, 17.04it/s]\n"
          ]
        },
        {
          "output_type": "stream",
          "name": "stdout",
          "text": [
            "(Train) | Epoch=001, loss=0.1781, train_accuracy=57.50,train_auc=69.35\n",
            "test_accuracy=51.49, test_auc=59.44\n",
            "\n"
          ]
        },
        {
          "output_type": "stream",
          "name": "stderr",
          "text": [
            "100%|██████████| 202/202 [00:11<00:00, 17.06it/s]\n"
          ]
        },
        {
          "output_type": "stream",
          "name": "stdout",
          "text": [
            "(Train) | Epoch=002, loss=0.1782, train_accuracy=57.74,train_auc=74.23\n",
            "test_accuracy=50.50, test_auc=60.99\n",
            "\n"
          ]
        },
        {
          "output_type": "stream",
          "name": "stderr",
          "text": [
            "100%|██████████| 202/202 [00:11<00:00, 16.88it/s]\n"
          ]
        },
        {
          "output_type": "stream",
          "name": "stdout",
          "text": [
            "(Train) | Epoch=003, loss=0.1657, train_accuracy=72.00,train_auc=80.50\n",
            "test_accuracy=60.40, test_auc=68.15\n",
            "\n"
          ]
        },
        {
          "output_type": "stream",
          "name": "stderr",
          "text": [
            "100%|██████████| 202/202 [00:12<00:00, 16.83it/s]\n"
          ]
        },
        {
          "output_type": "stream",
          "name": "stdout",
          "text": [
            "(Train) | Epoch=004, loss=0.1493, train_accuracy=68.28,train_auc=82.70\n",
            "test_accuracy=54.95, test_auc=64.70\n",
            "\n"
          ]
        },
        {
          "output_type": "stream",
          "name": "stderr",
          "text": [
            "100%|██████████| 202/202 [00:11<00:00, 16.98it/s]\n"
          ]
        },
        {
          "output_type": "stream",
          "name": "stdout",
          "text": [
            "(Train) | Epoch=005, loss=0.1446, train_accuracy=79.31,train_auc=88.92\n",
            "test_accuracy=61.88, test_auc=70.69\n",
            "\n"
          ]
        },
        {
          "output_type": "stream",
          "name": "stderr",
          "text": [
            "100%|██████████| 202/202 [00:11<00:00, 16.84it/s]\n"
          ]
        },
        {
          "output_type": "stream",
          "name": "stdout",
          "text": [
            "(Train) | Epoch=006, loss=0.1255, train_accuracy=85.63,train_auc=94.57\n",
            "test_accuracy=59.90, test_auc=69.74\n",
            "\n"
          ]
        },
        {
          "output_type": "stream",
          "name": "stderr",
          "text": [
            "100%|██████████| 202/202 [00:12<00:00, 16.81it/s]\n"
          ]
        },
        {
          "output_type": "stream",
          "name": "stdout",
          "text": [
            "(Train) | Epoch=007, loss=0.1068, train_accuracy=80.30,train_auc=97.42\n",
            "test_accuracy=64.36, test_auc=69.50\n",
            "\n"
          ]
        },
        {
          "output_type": "stream",
          "name": "stderr",
          "text": [
            "100%|██████████| 202/202 [00:11<00:00, 16.85it/s]\n"
          ]
        },
        {
          "output_type": "stream",
          "name": "stdout",
          "text": [
            "(Train) | Epoch=008, loss=0.0763, train_accuracy=94.55,train_auc=98.70\n",
            "test_accuracy=61.88, test_auc=69.41\n",
            "\n"
          ]
        },
        {
          "output_type": "stream",
          "name": "stderr",
          "text": [
            "100%|██████████| 202/202 [00:12<00:00, 16.79it/s]\n"
          ]
        },
        {
          "output_type": "stream",
          "name": "stdout",
          "text": [
            "(Train) | Epoch=009, loss=0.0677, train_accuracy=93.68,train_auc=98.51\n",
            "test_accuracy=60.89, test_auc=67.48\n",
            "\n"
          ]
        },
        {
          "output_type": "stream",
          "name": "stderr",
          "text": [
            "100%|██████████| 202/202 [00:11<00:00, 16.87it/s]\n"
          ]
        },
        {
          "output_type": "stream",
          "name": "stdout",
          "text": [
            "(Train) | Epoch=000, loss=0.1955, train_accuracy=52.66,train_auc=69.59\n",
            "test_accuracy=45.05, test_auc=63.25\n",
            "\n"
          ]
        },
        {
          "output_type": "stream",
          "name": "stderr",
          "text": [
            "100%|██████████| 202/202 [00:11<00:00, 16.95it/s]\n"
          ]
        },
        {
          "output_type": "stream",
          "name": "stdout",
          "text": [
            "(Train) | Epoch=001, loss=0.1796, train_accuracy=47.34,train_auc=73.02\n",
            "test_accuracy=54.95, test_auc=65.43\n",
            "\n"
          ]
        },
        {
          "output_type": "stream",
          "name": "stderr",
          "text": [
            "100%|██████████| 202/202 [00:11<00:00, 17.00it/s]\n"
          ]
        },
        {
          "output_type": "stream",
          "name": "stdout",
          "text": [
            "(Train) | Epoch=002, loss=0.1785, train_accuracy=47.58,train_auc=72.80\n",
            "test_accuracy=54.95, test_auc=63.77\n",
            "\n"
          ]
        },
        {
          "output_type": "stream",
          "name": "stderr",
          "text": [
            "100%|██████████| 202/202 [00:11<00:00, 16.91it/s]\n"
          ]
        },
        {
          "output_type": "stream",
          "name": "stdout",
          "text": [
            "(Train) | Epoch=003, loss=0.1746, train_accuracy=59.60,train_auc=77.97\n",
            "test_accuracy=60.89, test_auc=69.95\n",
            "\n"
          ]
        },
        {
          "output_type": "stream",
          "name": "stderr",
          "text": [
            "100%|██████████| 202/202 [00:11<00:00, 16.93it/s]\n"
          ]
        },
        {
          "output_type": "stream",
          "name": "stdout",
          "text": [
            "(Train) | Epoch=004, loss=0.1681, train_accuracy=58.49,train_auc=79.87\n",
            "test_accuracy=48.51, test_auc=69.60\n",
            "\n"
          ]
        },
        {
          "output_type": "stream",
          "name": "stderr",
          "text": [
            "100%|██████████| 202/202 [00:11<00:00, 16.87it/s]\n"
          ]
        },
        {
          "output_type": "stream",
          "name": "stdout",
          "text": [
            "(Train) | Epoch=005, loss=0.1562, train_accuracy=75.84,train_auc=83.32\n",
            "test_accuracy=62.38, test_auc=70.36\n",
            "\n"
          ]
        },
        {
          "output_type": "stream",
          "name": "stderr",
          "text": [
            "100%|██████████| 202/202 [00:11<00:00, 16.91it/s]\n"
          ]
        },
        {
          "output_type": "stream",
          "name": "stdout",
          "text": [
            "(Train) | Epoch=006, loss=0.1454, train_accuracy=79.18,train_auc=89.57\n",
            "test_accuracy=58.91, test_auc=69.84\n",
            "\n"
          ]
        },
        {
          "output_type": "stream",
          "name": "stderr",
          "text": [
            "100%|██████████| 202/202 [00:12<00:00, 16.81it/s]\n"
          ]
        },
        {
          "output_type": "stream",
          "name": "stdout",
          "text": [
            "(Train) | Epoch=007, loss=0.1257, train_accuracy=80.55,train_auc=89.82\n",
            "test_accuracy=56.44, test_auc=68.24\n",
            "\n"
          ]
        },
        {
          "output_type": "stream",
          "name": "stderr",
          "text": [
            "100%|██████████| 202/202 [00:11<00:00, 16.91it/s]\n"
          ]
        },
        {
          "output_type": "stream",
          "name": "stdout",
          "text": [
            "(Train) | Epoch=008, loss=0.1125, train_accuracy=66.42,train_auc=92.96\n",
            "test_accuracy=52.48, test_auc=74.15\n",
            "\n"
          ]
        },
        {
          "output_type": "stream",
          "name": "stderr",
          "text": [
            "100%|██████████| 202/202 [00:11<00:00, 16.87it/s]\n"
          ]
        },
        {
          "output_type": "stream",
          "name": "stdout",
          "text": [
            "(Train) | Epoch=009, loss=0.0843, train_accuracy=93.18,train_auc=98.00\n",
            "test_accuracy=68.32, test_auc=71.55\n",
            "\n"
          ]
        },
        {
          "output_type": "stream",
          "name": "stderr",
          "text": [
            "100%|██████████| 202/202 [00:11<00:00, 17.08it/s]\n"
          ]
        },
        {
          "output_type": "stream",
          "name": "stdout",
          "text": [
            "(Train) | Epoch=000, loss=0.1976, train_accuracy=48.08,train_auc=62.95\n",
            "test_accuracy=51.98, test_auc=54.58\n",
            "\n"
          ]
        },
        {
          "output_type": "stream",
          "name": "stderr",
          "text": [
            "100%|██████████| 202/202 [00:11<00:00, 17.08it/s]\n"
          ]
        },
        {
          "output_type": "stream",
          "name": "stdout",
          "text": [
            "(Train) | Epoch=001, loss=0.1793, train_accuracy=56.63,train_auc=66.14\n",
            "test_accuracy=51.49, test_auc=57.12\n",
            "\n"
          ]
        },
        {
          "output_type": "stream",
          "name": "stderr",
          "text": [
            "100%|██████████| 202/202 [00:11<00:00, 17.14it/s]\n"
          ]
        },
        {
          "output_type": "stream",
          "name": "stdout",
          "text": [
            "(Train) | Epoch=002, loss=0.1776, train_accuracy=48.08,train_auc=75.88\n",
            "test_accuracy=51.98, test_auc=71.52\n",
            "\n"
          ]
        },
        {
          "output_type": "stream",
          "name": "stderr",
          "text": [
            "100%|██████████| 202/202 [00:11<00:00, 17.14it/s]\n"
          ]
        },
        {
          "output_type": "stream",
          "name": "stdout",
          "text": [
            "(Train) | Epoch=003, loss=0.1664, train_accuracy=53.04,train_auc=76.75\n",
            "test_accuracy=49.01, test_auc=70.39\n",
            "\n"
          ]
        },
        {
          "output_type": "stream",
          "name": "stderr",
          "text": [
            "100%|██████████| 202/202 [00:11<00:00, 16.84it/s]\n"
          ]
        },
        {
          "output_type": "stream",
          "name": "stdout",
          "text": [
            "(Train) | Epoch=004, loss=0.1638, train_accuracy=51.92,train_auc=78.54\n",
            "test_accuracy=54.95, test_auc=71.73\n",
            "\n"
          ]
        },
        {
          "output_type": "stream",
          "name": "stderr",
          "text": [
            "100%|██████████| 202/202 [00:11<00:00, 17.18it/s]\n"
          ]
        },
        {
          "output_type": "stream",
          "name": "stdout",
          "text": [
            "(Train) | Epoch=005, loss=0.1511, train_accuracy=78.31,train_auc=88.46\n",
            "test_accuracy=70.79, test_auc=75.96\n",
            "\n"
          ]
        },
        {
          "output_type": "stream",
          "name": "stderr",
          "text": [
            "100%|██████████| 202/202 [00:11<00:00, 17.23it/s]\n"
          ]
        },
        {
          "output_type": "stream",
          "name": "stdout",
          "text": [
            "(Train) | Epoch=006, loss=0.1479, train_accuracy=77.70,train_auc=89.05\n",
            "test_accuracy=64.85, test_auc=71.10\n",
            "\n"
          ]
        },
        {
          "output_type": "stream",
          "name": "stderr",
          "text": [
            "100%|██████████| 202/202 [00:11<00:00, 17.17it/s]\n"
          ]
        },
        {
          "output_type": "stream",
          "name": "stdout",
          "text": [
            "(Train) | Epoch=007, loss=0.1223, train_accuracy=79.68,train_auc=94.57\n",
            "test_accuracy=63.37, test_auc=75.19\n",
            "\n"
          ]
        },
        {
          "output_type": "stream",
          "name": "stderr",
          "text": [
            "100%|██████████| 202/202 [00:11<00:00, 17.12it/s]\n"
          ]
        },
        {
          "output_type": "stream",
          "name": "stdout",
          "text": [
            "(Train) | Epoch=008, loss=0.1063, train_accuracy=89.10,train_auc=96.91\n",
            "test_accuracy=66.83, test_auc=75.00\n",
            "\n"
          ]
        },
        {
          "output_type": "stream",
          "name": "stderr",
          "text": [
            "100%|██████████| 202/202 [00:11<00:00, 17.12it/s]\n"
          ]
        },
        {
          "output_type": "stream",
          "name": "stdout",
          "text": [
            "(Train) | Epoch=009, loss=0.0791, train_accuracy=92.81,train_auc=97.72\n",
            "test_accuracy=66.83, test_auc=74.67\n",
            "\n"
          ]
        },
        {
          "output_type": "stream",
          "name": "stderr",
          "text": [
            "100%|██████████| 202/202 [00:11<00:00, 17.24it/s]\n"
          ]
        },
        {
          "output_type": "stream",
          "name": "stdout",
          "text": [
            "(Train) | Epoch=000, loss=0.1885, train_accuracy=49.32,train_auc=67.92\n",
            "test_accuracy=47.03, test_auc=55.61\n",
            "\n"
          ]
        },
        {
          "output_type": "stream",
          "name": "stderr",
          "text": [
            "100%|██████████| 202/202 [00:11<00:00, 17.15it/s]\n"
          ]
        },
        {
          "output_type": "stream",
          "name": "stdout",
          "text": [
            "(Train) | Epoch=001, loss=0.1744, train_accuracy=50.68,train_auc=68.91\n",
            "test_accuracy=52.97, test_auc=56.96\n",
            "\n"
          ]
        },
        {
          "output_type": "stream",
          "name": "stderr",
          "text": [
            "100%|██████████| 202/202 [00:11<00:00, 16.97it/s]\n"
          ]
        },
        {
          "output_type": "stream",
          "name": "stdout",
          "text": [
            "(Train) | Epoch=002, loss=0.1719, train_accuracy=68.65,train_auc=79.12\n",
            "test_accuracy=56.44, test_auc=65.46\n",
            "\n"
          ]
        },
        {
          "output_type": "stream",
          "name": "stderr",
          "text": [
            "100%|██████████| 202/202 [00:11<00:00, 17.22it/s]\n"
          ]
        },
        {
          "output_type": "stream",
          "name": "stdout",
          "text": [
            "(Train) | Epoch=003, loss=0.1689, train_accuracy=62.21,train_auc=81.25\n",
            "test_accuracy=55.45, test_auc=66.20\n",
            "\n"
          ]
        },
        {
          "output_type": "stream",
          "name": "stderr",
          "text": [
            "100%|██████████| 202/202 [00:11<00:00, 17.07it/s]\n"
          ]
        },
        {
          "output_type": "stream",
          "name": "stdout",
          "text": [
            "(Train) | Epoch=004, loss=0.1502, train_accuracy=76.08,train_auc=86.10\n",
            "test_accuracy=59.41, test_auc=65.29\n",
            "\n"
          ]
        },
        {
          "output_type": "stream",
          "name": "stderr",
          "text": [
            "100%|██████████| 202/202 [00:11<00:00, 17.21it/s]\n"
          ]
        },
        {
          "output_type": "stream",
          "name": "stdout",
          "text": [
            "(Train) | Epoch=005, loss=0.1393, train_accuracy=67.04,train_auc=89.28\n",
            "test_accuracy=51.49, test_auc=65.20\n",
            "\n"
          ]
        },
        {
          "output_type": "stream",
          "name": "stderr",
          "text": [
            "100%|██████████| 202/202 [00:11<00:00, 17.17it/s]\n"
          ]
        },
        {
          "output_type": "stream",
          "name": "stdout",
          "text": [
            "(Train) | Epoch=006, loss=0.1238, train_accuracy=85.25,train_auc=93.74\n",
            "test_accuracy=61.39, test_auc=65.51\n",
            "\n"
          ]
        },
        {
          "output_type": "stream",
          "name": "stderr",
          "text": [
            "100%|██████████| 202/202 [00:11<00:00, 17.00it/s]\n"
          ]
        },
        {
          "output_type": "stream",
          "name": "stdout",
          "text": [
            "(Train) | Epoch=007, loss=0.0943, train_accuracy=92.57,train_auc=97.75\n",
            "test_accuracy=63.37, test_auc=66.76\n",
            "\n"
          ]
        },
        {
          "output_type": "stream",
          "name": "stderr",
          "text": [
            "100%|██████████| 202/202 [00:12<00:00, 16.70it/s]\n"
          ]
        },
        {
          "output_type": "stream",
          "name": "stdout",
          "text": [
            "(Train) | Epoch=008, loss=0.0840, train_accuracy=90.95,train_auc=98.57\n",
            "test_accuracy=61.39, test_auc=67.03\n",
            "\n"
          ]
        },
        {
          "output_type": "stream",
          "name": "stderr",
          "text": [
            "100%|██████████| 202/202 [00:12<00:00, 16.79it/s]\n"
          ]
        },
        {
          "output_type": "stream",
          "name": "stdout",
          "text": [
            "(Train) | Epoch=009, loss=0.0593, train_accuracy=93.56,train_auc=99.40\n",
            "test_accuracy=63.37, test_auc=68.28\n",
            "\n"
          ]
        },
        {
          "output_type": "stream",
          "name": "stderr",
          "text": [
            "100%|██████████| 202/202 [00:11<00:00, 17.01it/s]\n"
          ]
        },
        {
          "output_type": "stream",
          "name": "stdout",
          "text": [
            "(Train) | Epoch=000, loss=0.1856, train_accuracy=51.67,train_auc=69.84\n",
            "test_accuracy=49.01, test_auc=67.05\n",
            "\n"
          ]
        },
        {
          "output_type": "stream",
          "name": "stderr",
          "text": [
            "100%|██████████| 202/202 [00:12<00:00, 16.49it/s]\n"
          ]
        },
        {
          "output_type": "stream",
          "name": "stdout",
          "text": [
            "(Train) | Epoch=001, loss=0.1826, train_accuracy=51.67,train_auc=71.74\n",
            "test_accuracy=49.01, test_auc=64.37\n",
            "\n"
          ]
        },
        {
          "output_type": "stream",
          "name": "stderr",
          "text": [
            "100%|██████████| 202/202 [00:12<00:00, 16.82it/s]\n"
          ]
        },
        {
          "output_type": "stream",
          "name": "stdout",
          "text": [
            "(Train) | Epoch=002, loss=0.1738, train_accuracy=67.78,train_auc=76.50\n",
            "test_accuracy=61.39, test_auc=68.13\n",
            "\n"
          ]
        },
        {
          "output_type": "stream",
          "name": "stderr",
          "text": [
            "100%|██████████| 202/202 [00:11<00:00, 16.91it/s]\n"
          ]
        },
        {
          "output_type": "stream",
          "name": "stdout",
          "text": [
            "(Train) | Epoch=003, loss=0.1703, train_accuracy=58.74,train_auc=79.87\n",
            "test_accuracy=53.96, test_auc=68.04\n",
            "\n"
          ]
        },
        {
          "output_type": "stream",
          "name": "stderr",
          "text": [
            "100%|██████████| 202/202 [00:11<00:00, 16.83it/s]\n"
          ]
        },
        {
          "output_type": "stream",
          "name": "stdout",
          "text": [
            "(Train) | Epoch=004, loss=0.1530, train_accuracy=77.82,train_auc=85.66\n",
            "test_accuracy=64.36, test_auc=71.09\n",
            "\n"
          ]
        },
        {
          "output_type": "stream",
          "name": "stderr",
          "text": [
            "100%|██████████| 202/202 [00:11<00:00, 16.89it/s]\n"
          ]
        },
        {
          "output_type": "stream",
          "name": "stdout",
          "text": [
            "(Train) | Epoch=005, loss=0.1440, train_accuracy=79.43,train_auc=90.82\n",
            "test_accuracy=62.87, test_auc=69.08\n",
            "\n"
          ]
        },
        {
          "output_type": "stream",
          "name": "stderr",
          "text": [
            "100%|██████████| 202/202 [00:11<00:00, 16.94it/s]\n"
          ]
        },
        {
          "output_type": "stream",
          "name": "stdout",
          "text": [
            "(Train) | Epoch=006, loss=0.1176, train_accuracy=80.55,train_auc=94.04\n",
            "test_accuracy=62.38, test_auc=70.69\n",
            "\n"
          ]
        },
        {
          "output_type": "stream",
          "name": "stderr",
          "text": [
            "100%|██████████| 202/202 [00:11<00:00, 16.88it/s]\n"
          ]
        },
        {
          "output_type": "stream",
          "name": "stdout",
          "text": [
            "(Train) | Epoch=007, loss=0.1049, train_accuracy=91.82,train_auc=97.83\n",
            "test_accuracy=63.37, test_auc=68.08\n",
            "\n"
          ]
        },
        {
          "output_type": "stream",
          "name": "stderr",
          "text": [
            "100%|██████████| 202/202 [00:11<00:00, 16.91it/s]\n"
          ]
        },
        {
          "output_type": "stream",
          "name": "stdout",
          "text": [
            "(Train) | Epoch=008, loss=0.0761, train_accuracy=88.85,train_auc=98.22\n",
            "test_accuracy=60.40, test_auc=67.38\n",
            "\n"
          ]
        },
        {
          "output_type": "stream",
          "name": "stderr",
          "text": [
            "100%|██████████| 202/202 [00:11<00:00, 16.85it/s]\n"
          ]
        },
        {
          "output_type": "stream",
          "name": "stdout",
          "text": [
            "(Train) | Epoch=009, loss=0.0558, train_accuracy=97.15,train_auc=99.74\n",
            "test_accuracy=66.34, test_auc=70.81\n",
            "\n"
          ]
        },
        {
          "output_type": "stream",
          "name": "stderr",
          "text": [
            "100%|██████████| 202/202 [00:11<00:00, 16.92it/s]\n"
          ]
        },
        {
          "output_type": "stream",
          "name": "stdout",
          "text": [
            "(Train) | Epoch=000, loss=0.1883, train_accuracy=51.67,train_auc=70.31\n",
            "test_accuracy=49.01, test_auc=69.38\n",
            "\n"
          ]
        },
        {
          "output_type": "stream",
          "name": "stderr",
          "text": [
            "100%|██████████| 202/202 [00:11<00:00, 16.85it/s]\n"
          ]
        },
        {
          "output_type": "stream",
          "name": "stdout",
          "text": [
            "(Train) | Epoch=001, loss=0.1871, train_accuracy=55.27,train_auc=71.65\n",
            "test_accuracy=52.48, test_auc=67.78\n",
            "\n"
          ]
        },
        {
          "output_type": "stream",
          "name": "stderr",
          "text": [
            "100%|██████████| 202/202 [00:12<00:00, 16.80it/s]\n"
          ]
        },
        {
          "output_type": "stream",
          "name": "stdout",
          "text": [
            "(Train) | Epoch=002, loss=0.1753, train_accuracy=60.84,train_auc=73.39\n",
            "test_accuracy=55.94, test_auc=68.12\n",
            "\n"
          ]
        },
        {
          "output_type": "stream",
          "name": "stderr",
          "text": [
            "100%|██████████| 202/202 [00:11<00:00, 16.86it/s]\n"
          ]
        },
        {
          "output_type": "stream",
          "name": "stdout",
          "text": [
            "(Train) | Epoch=003, loss=0.1747, train_accuracy=60.84,train_auc=74.91\n",
            "test_accuracy=56.44, test_auc=68.06\n",
            "\n"
          ]
        },
        {
          "output_type": "stream",
          "name": "stderr",
          "text": [
            "100%|██████████| 202/202 [00:11<00:00, 16.91it/s]\n"
          ]
        },
        {
          "output_type": "stream",
          "name": "stdout",
          "text": [
            "(Train) | Epoch=004, loss=0.1604, train_accuracy=67.66,train_auc=77.82\n",
            "test_accuracy=62.38, test_auc=67.98\n",
            "\n"
          ]
        },
        {
          "output_type": "stream",
          "name": "stderr",
          "text": [
            "100%|██████████| 202/202 [00:11<00:00, 16.93it/s]\n"
          ]
        },
        {
          "output_type": "stream",
          "name": "stdout",
          "text": [
            "(Train) | Epoch=005, loss=0.1550, train_accuracy=77.70,train_auc=87.32\n",
            "test_accuracy=68.32, test_auc=74.16\n",
            "\n"
          ]
        },
        {
          "output_type": "stream",
          "name": "stderr",
          "text": [
            "100%|██████████| 202/202 [00:11<00:00, 16.89it/s]\n"
          ]
        },
        {
          "output_type": "stream",
          "name": "stdout",
          "text": [
            "(Train) | Epoch=006, loss=0.1395, train_accuracy=75.84,train_auc=87.29\n",
            "test_accuracy=65.84, test_auc=73.13\n",
            "\n"
          ]
        },
        {
          "output_type": "stream",
          "name": "stderr",
          "text": [
            "100%|██████████| 202/202 [00:11<00:00, 16.87it/s]\n"
          ]
        },
        {
          "output_type": "stream",
          "name": "stdout",
          "text": [
            "(Train) | Epoch=007, loss=0.1190, train_accuracy=83.89,train_auc=96.41\n",
            "test_accuracy=65.35, test_auc=71.84\n",
            "\n"
          ]
        },
        {
          "output_type": "stream",
          "name": "stderr",
          "text": [
            "100%|██████████| 202/202 [00:12<00:00, 16.55it/s]\n"
          ]
        },
        {
          "output_type": "stream",
          "name": "stdout",
          "text": [
            "(Train) | Epoch=008, loss=0.0931, train_accuracy=88.97,train_auc=98.44\n",
            "test_accuracy=63.86, test_auc=71.57\n",
            "\n"
          ]
        },
        {
          "output_type": "stream",
          "name": "stderr",
          "text": [
            "100%|██████████| 202/202 [00:11<00:00, 16.87it/s]\n"
          ]
        },
        {
          "output_type": "stream",
          "name": "stdout",
          "text": [
            "(Train) | Epoch=009, loss=0.0707, train_accuracy=93.43,train_auc=99.03\n",
            "test_accuracy=61.88, test_auc=69.66\n",
            "\n"
          ]
        },
        {
          "output_type": "stream",
          "name": "stderr",
          "text": [
            "100%|██████████| 202/202 [00:11<00:00, 16.98it/s]\n"
          ]
        },
        {
          "output_type": "stream",
          "name": "stdout",
          "text": [
            "(Train) | Epoch=000, loss=0.2087, train_accuracy=49.32,train_auc=63.26\n",
            "test_accuracy=47.03, test_auc=54.24\n",
            "\n"
          ]
        },
        {
          "output_type": "stream",
          "name": "stderr",
          "text": [
            "100%|██████████| 202/202 [00:11<00:00, 16.97it/s]\n"
          ]
        },
        {
          "output_type": "stream",
          "name": "stdout",
          "text": [
            "(Train) | Epoch=001, loss=0.1784, train_accuracy=49.32,train_auc=74.28\n",
            "test_accuracy=47.03, test_auc=61.88\n",
            "\n"
          ]
        },
        {
          "output_type": "stream",
          "name": "stderr",
          "text": [
            "100%|██████████| 202/202 [00:11<00:00, 16.90it/s]\n"
          ]
        },
        {
          "output_type": "stream",
          "name": "stdout",
          "text": [
            "(Train) | Epoch=002, loss=0.1779, train_accuracy=50.68,train_auc=74.68\n",
            "test_accuracy=52.97, test_auc=64.54\n",
            "\n"
          ]
        },
        {
          "output_type": "stream",
          "name": "stderr",
          "text": [
            "100%|██████████| 202/202 [00:11<00:00, 16.89it/s]\n"
          ]
        },
        {
          "output_type": "stream",
          "name": "stdout",
          "text": [
            "(Train) | Epoch=003, loss=0.1700, train_accuracy=67.04,train_auc=80.03\n",
            "test_accuracy=60.89, test_auc=67.11\n",
            "\n"
          ]
        },
        {
          "output_type": "stream",
          "name": "stderr",
          "text": [
            "100%|██████████| 202/202 [00:11<00:00, 16.89it/s]\n"
          ]
        },
        {
          "output_type": "stream",
          "name": "stdout",
          "text": [
            "(Train) | Epoch=004, loss=0.1565, train_accuracy=68.28,train_auc=86.68\n",
            "test_accuracy=62.38, test_auc=68.93\n",
            "\n"
          ]
        },
        {
          "output_type": "stream",
          "name": "stderr",
          "text": [
            "100%|██████████| 202/202 [00:11<00:00, 17.02it/s]\n"
          ]
        },
        {
          "output_type": "stream",
          "name": "stdout",
          "text": [
            "(Train) | Epoch=005, loss=0.1419, train_accuracy=80.67,train_auc=90.48\n",
            "test_accuracy=60.40, test_auc=68.93\n",
            "\n"
          ]
        },
        {
          "output_type": "stream",
          "name": "stderr",
          "text": [
            "100%|██████████| 202/202 [00:11<00:00, 16.87it/s]\n"
          ]
        },
        {
          "output_type": "stream",
          "name": "stdout",
          "text": [
            "(Train) | Epoch=006, loss=0.1248, train_accuracy=76.95,train_auc=90.64\n",
            "test_accuracy=60.40, test_auc=67.23\n",
            "\n"
          ]
        },
        {
          "output_type": "stream",
          "name": "stderr",
          "text": [
            "100%|██████████| 202/202 [00:11<00:00, 16.91it/s]\n"
          ]
        },
        {
          "output_type": "stream",
          "name": "stdout",
          "text": [
            "(Train) | Epoch=007, loss=0.1124, train_accuracy=85.01,train_auc=95.56\n",
            "test_accuracy=61.39, test_auc=70.06\n",
            "\n"
          ]
        },
        {
          "output_type": "stream",
          "name": "stderr",
          "text": [
            "100%|██████████| 202/202 [00:11<00:00, 16.86it/s]\n"
          ]
        },
        {
          "output_type": "stream",
          "name": "stdout",
          "text": [
            "(Train) | Epoch=008, loss=0.0868, train_accuracy=92.81,train_auc=98.04\n",
            "test_accuracy=61.39, test_auc=67.82\n",
            "\n"
          ]
        },
        {
          "output_type": "stream",
          "name": "stderr",
          "text": [
            "100%|██████████| 202/202 [00:11<00:00, 16.87it/s]\n"
          ]
        },
        {
          "output_type": "stream",
          "name": "stdout",
          "text": [
            "(Train) | Epoch=009, loss=0.0653, train_accuracy=90.46,train_auc=98.43\n",
            "test_accuracy=59.41, test_auc=67.20\n",
            "\n",
            "0.63490099009901 0.033825867249298154\n",
            "0.6995713069017249 0.03316233758192342\n"
          ]
        }
      ]
    },
    {
      "cell_type": "markdown",
      "metadata": {
        "id": "lz63KqfCZqGq"
      },
      "source": [
        "# **L1 Decay Experiment**\n",
        "Attempt to limit the number of nodes being used to make the final prediction my multiplying all of the features of each graph node by a different weight for each node.  These weights would be decayed using l1 weight decay to try to force some to 0."
      ]
    },
    {
      "cell_type": "code",
      "execution_count": null,
      "metadata": {
        "id": "7Jd3kG2BZtcz",
        "colab": {
          "base_uri": "https://localhost:8080/"
        },
        "outputId": "15c1d897-ed2e-4282-ac00-df7ee3c32ff3"
      },
      "outputs": [
        {
          "output_type": "stream",
          "name": "stderr",
          "text": [
            "100%|██████████| 202/202 [00:12<00:00, 16.42it/s]\n"
          ]
        },
        {
          "output_type": "stream",
          "name": "stdout",
          "text": [
            "(Train) | Epoch=000, loss=10.1129, train_accuracy=48.82,train_auc=68.53\n",
            "test_accuracy=49.01, test_auc=60.26\n",
            "\n"
          ]
        },
        {
          "output_type": "stream",
          "name": "stderr",
          "text": [
            "100%|██████████| 202/202 [00:12<00:00, 16.45it/s]\n"
          ]
        },
        {
          "output_type": "stream",
          "name": "stdout",
          "text": [
            "(Train) | Epoch=001, loss=9.8948, train_accuracy=51.18,train_auc=70.44\n",
            "test_accuracy=50.99, test_auc=62.19\n",
            "\n"
          ]
        },
        {
          "output_type": "stream",
          "name": "stderr",
          "text": [
            "100%|██████████| 202/202 [00:12<00:00, 16.80it/s]\n"
          ]
        },
        {
          "output_type": "stream",
          "name": "stdout",
          "text": [
            "(Train) | Epoch=002, loss=9.6946, train_accuracy=51.18,train_auc=68.38\n",
            "test_accuracy=50.99, test_auc=60.19\n",
            "\n"
          ]
        },
        {
          "output_type": "stream",
          "name": "stderr",
          "text": [
            "100%|██████████| 202/202 [00:11<00:00, 17.04it/s]\n"
          ]
        },
        {
          "output_type": "stream",
          "name": "stdout",
          "text": [
            "(Train) | Epoch=003, loss=9.5012, train_accuracy=66.54,train_auc=74.16\n",
            "test_accuracy=61.88, test_auc=68.14\n",
            "\n"
          ]
        },
        {
          "output_type": "stream",
          "name": "stderr",
          "text": [
            "100%|██████████| 202/202 [00:11<00:00, 17.00it/s]\n"
          ]
        },
        {
          "output_type": "stream",
          "name": "stdout",
          "text": [
            "(Train) | Epoch=004, loss=9.3045, train_accuracy=55.27,train_auc=73.98\n",
            "test_accuracy=55.94, test_auc=69.22\n",
            "\n"
          ]
        },
        {
          "output_type": "stream",
          "name": "stderr",
          "text": [
            "100%|██████████| 202/202 [00:11<00:00, 16.91it/s]\n"
          ]
        },
        {
          "output_type": "stream",
          "name": "stdout",
          "text": [
            "(Train) | Epoch=005, loss=9.1095, train_accuracy=69.76,train_auc=78.51\n",
            "test_accuracy=62.87, test_auc=71.20\n",
            "\n"
          ]
        },
        {
          "output_type": "stream",
          "name": "stderr",
          "text": [
            "100%|██████████| 202/202 [00:12<00:00, 16.83it/s]\n"
          ]
        },
        {
          "output_type": "stream",
          "name": "stdout",
          "text": [
            "(Train) | Epoch=006, loss=8.9120, train_accuracy=68.03,train_auc=83.85\n",
            "test_accuracy=60.40, test_auc=68.75\n",
            "\n"
          ]
        },
        {
          "output_type": "stream",
          "name": "stderr",
          "text": [
            "100%|██████████| 202/202 [00:11<00:00, 16.87it/s]\n"
          ]
        },
        {
          "output_type": "stream",
          "name": "stdout",
          "text": [
            "(Train) | Epoch=007, loss=8.7130, train_accuracy=78.19,train_auc=91.11\n",
            "test_accuracy=59.90, test_auc=69.05\n",
            "\n"
          ]
        },
        {
          "output_type": "stream",
          "name": "stderr",
          "text": [
            "100%|██████████| 202/202 [00:11<00:00, 16.88it/s]\n"
          ]
        },
        {
          "output_type": "stream",
          "name": "stdout",
          "text": [
            "(Train) | Epoch=008, loss=8.5176, train_accuracy=83.89,train_auc=94.49\n",
            "test_accuracy=59.41, test_auc=68.64\n",
            "\n"
          ]
        },
        {
          "output_type": "stream",
          "name": "stderr",
          "text": [
            "100%|██████████| 202/202 [00:11<00:00, 16.90it/s]\n"
          ]
        },
        {
          "output_type": "stream",
          "name": "stdout",
          "text": [
            "(Train) | Epoch=009, loss=8.3106, train_accuracy=85.50,train_auc=97.18\n",
            "test_accuracy=63.37, test_auc=70.92\n",
            "\n",
            "0.6336633663366337 0.0\n",
            "0.7092282043738355 0.0\n"
          ]
        }
      ],
      "source": [
        "# cls tokens comes from: https://github.com/yandex-research/rtdl\n",
        "class TransformerModel(torch.nn.Module):\n",
        "    def __init__(self, num_nodes=200, num_classes=2):\n",
        "        super(TransformerModel, self).__init__()\n",
        "        self.num_nodes = num_nodes\n",
        "        self.node_fcn = nn.Linear(256, 8)\n",
        "\n",
        "        self.fcn = nn.Sequential(\n",
        "            nn.Linear(1600, 256),\n",
        "            nn.LeakyReLU(negative_slope=0.2),\n",
        "            nn.Linear(256, 32),\n",
        "            nn.LeakyReLU(negative_slope=0.2),\n",
        "            nn.Linear(32, num_classes)\n",
        "        )\n",
        "\n",
        "        self.input_embed = nn.Sequential(\n",
        "            nn.Linear(200, 200),\n",
        "        )\n",
        "\n",
        "\n",
        "        d_token = 512\n",
        "        heads = 8\n",
        "        initialization = _TokenInitialization.from_str(\"uniform\")\n",
        "        self.transformer = nn.Sequential(\n",
        "            nn.Linear(200, d_token),\n",
        "            CLSToken(\n",
        "                d_token, initialization\n",
        "            ),\n",
        "            TransformerBlock(d_token, heads, 0, 0),\n",
        "            TransformerBlock(d_token, heads, 0, 0),\n",
        "            TransformerBlock(d_token, heads, 0, 0),\n",
        "            TransformerBlock(d_token, heads, 0, 0),\n",
        "            TransformerBlock(d_token, heads, 0, 0),\n",
        "            TransformerBlock(d_token, heads, 0, 0),\n",
        "            TransformerBlock(d_token, heads, 0, 0),\n",
        "            TransformerBlock(d_token, heads, 0, 0)\n",
        "        )\n",
        "\n",
        "        self.out = nn.Linear(d_token,num_classes)\n",
        "        self.filter = nn.Parameter(torch.ones(200).reshape((1,-1)))\n",
        "\n",
        "\n",
        "    def forward(self, data):\n",
        "        x, edge_index, edge_attr, batch = data.x, data.edge_index, data.edge_attr, data.batch\n",
        "        x = data.x.reshape((data.x.shape[0]//200, 200, 200))\n",
        "        x = x * self.filter.unsqueeze(1)* self.filter.unsqueeze(-1)\n",
        "        x = self.transformer(x)\n",
        "        cls_token = x[:, -1]\n",
        "        return self.out(cls_token)\n",
        "\n",
        "eval = True\n",
        "eval_runs = 20\n",
        "hyperparameter_tuning_split_rand_seed = 0\n",
        "\n",
        "skf = StratifiedKFold(n_splits=5, shuffle=True)\n",
        "lr = 5e-5\n",
        "weight_decay = 1e-4\n",
        "train_batch_size = 4\n",
        "test_batch_size = 4\n",
        "epochs = 10\n",
        "device = \"cuda:0\"\n",
        "\n",
        "\n",
        "# We don't want to use the test_indexes during evaluation since those were used during hyperparameter tuning\n",
        "if eval:\n",
        "    train_index, test_index = train_test_split(np.arange(len(y)), test_size=0.2, random_state=hyperparameter_tuning_split_rand_seed)\n",
        "    dataset_used = dataset[train_index]\n",
        "else:\n",
        "    dataset_used = dataset\n",
        "\n",
        "accuracy = []\n",
        "auc = []\n",
        "\n",
        "if eval:\n",
        "    train_index, test_index = train_test_split(np.arange(len(y)), test_size=0.2)\n",
        "else:\n",
        "    train_index, test_index = train_test_split(np.arange(len(y)), test_size=0.2, random_state=hyperparameter_tuning_split_rand_seed)\n",
        "\n",
        "model = TransformerModel().to(device)\n",
        "#model.transformer.load_state_dict(stored_model.transformer.state_dict()) -> used previously for fine tuning the self supervised pretrained model\n",
        "optimizer = torch.optim.AdamW(model.parameters(), lr=lr, weight_decay=weight_decay)\n",
        "criterion = nn.CrossEntropyLoss()\n",
        "\n",
        "train_set, test_set = dataset[train_index], dataset[test_index]\n",
        "\n",
        "train_loader = DataLoader(train_set, batch_size=train_batch_size, shuffle=True)\n",
        "test_loader = DataLoader(test_set, batch_size=test_batch_size, shuffle=False)\n",
        "\n",
        "# train\n",
        "model.eval()\n",
        "epoch_num = epochs\n",
        "for i in range(epoch_num):\n",
        "    loss_all = 0\n",
        "    for data in tqdm(train_loader):\n",
        "        data = data.to(device)\n",
        "        optimizer.zero_grad()\n",
        "        out = model(data)\n",
        "        loss = criterion(out, data.y) + 0.001 * torch.norm(model.filter, 1)**2\n",
        "        loss.backward()\n",
        "        optimizer.step()\n",
        "        loss_all += loss.item()\n",
        "    epoch_loss = loss_all / len(train_loader.dataset)\n",
        "\n",
        "    train_accuracy, train_auc = evaluate(model, device, train_loader)\n",
        "    print(f'(Train) | Epoch={i:03d}, loss={epoch_loss:.4f}, '\n",
        "                f'train_accuracy={(train_accuracy * 100):.2f},'\n",
        "                f'train_auc={(train_auc * 100):.2f}')\n",
        "    run[\"train/accuracy\"].append(train_accuracy)\n",
        "    run[\"train/auc\"].append(train_auc)\n",
        "    run[\"train/loss\"].append(epoch_loss)\n",
        "\n",
        "    model.eval()\n",
        "    if (i + 1) % 1 == 0:\n",
        "        test_accuracy, test_auc = evaluate(model, device, test_loader)\n",
        "        print(f'test_accuracy={(test_accuracy * 100):.2f}, ' \\\n",
        "              f'test_auc={(test_auc * 100):.2f}\\n')\n",
        "\n",
        "        run[\"test/accuracy\"].append(test_accuracy)\n",
        "        run[\"test/auc\"].append(test_auc)\n",
        "\n",
        "\n",
        "# Rerun evaluation just to make 100% sure the results are accurate\n",
        "model.eval()\n",
        "test_accuracy, test_auc = evaluate(model, device, test_loader)\n",
        "accuracy.append(test_accuracy)\n",
        "auc.append(test_auc)\n",
        "\n",
        "\n",
        "accuracy = np.array(accuracy)\n",
        "auc = np.array(auc)\n",
        "\n",
        "print(accuracy.mean(), accuracy.std())\n",
        "print(auc.mean(), auc.std())"
      ]
    },
    {
      "cell_type": "code",
      "execution_count": null,
      "metadata": {
        "id": "nO7r8EryE0Pt",
        "colab": {
          "base_uri": "https://localhost:8080/"
        },
        "outputId": "508958dd-0e38-4cbe-9e6a-47ccd69deb58"
      },
      "outputs": [
        {
          "output_type": "execute_result",
          "data": {
            "text/plain": [
              "tensor(0.0008, device='cuda:0', grad_fn=<SubBackward0>)"
            ]
          },
          "metadata": {},
          "execution_count": 43
        }
      ],
      "source": [
        "model.filter.max() - model.filter.min()"
      ]
    },
    {
      "cell_type": "code",
      "execution_count": null,
      "metadata": {
        "id": "7LbKnKobHVRW",
        "colab": {
          "base_uri": "https://localhost:8080/"
        },
        "outputId": "9269766f-baba-42e3-a5aa-8b70abfcdca3"
      },
      "outputs": [
        {
          "output_type": "execute_result",
          "data": {
            "text/plain": [
              "Parameter containing:\n",
              "tensor([[0.9010, 0.9010, 0.9010, 0.9010, 0.9012, 0.9010, 0.9010, 0.9010, 0.9010,\n",
              "         0.9011, 0.9010, 0.9010, 0.9010, 0.9010, 0.9011, 0.9010, 0.9010, 0.9010,\n",
              "         0.9011, 0.9011, 0.9010, 0.9010, 0.9011, 0.9011, 0.9010, 0.9010, 0.9009,\n",
              "         0.9011, 0.9010, 0.9012, 0.9011, 0.9011, 0.9010, 0.9010, 0.9011, 0.9010,\n",
              "         0.9010, 0.9010, 0.9010, 0.9011, 0.9013, 0.9011, 0.9012, 0.9011, 0.9010,\n",
              "         0.9011, 0.9010, 0.9011, 0.9010, 0.9010, 0.9011, 0.9011, 0.9011, 0.9010,\n",
              "         0.9010, 0.9011, 0.9010, 0.9010, 0.9011, 0.9011, 0.9011, 0.9010, 0.9011,\n",
              "         0.9010, 0.9011, 0.9010, 0.9010, 0.9009, 0.9010, 0.9010, 0.9012, 0.9010,\n",
              "         0.9011, 0.9010, 0.9010, 0.9011, 0.9009, 0.9011, 0.9010, 0.9012, 0.9010,\n",
              "         0.9011, 0.9011, 0.9011, 0.9010, 0.9009, 0.9010, 0.9010, 0.9010, 0.9011,\n",
              "         0.9010, 0.9010, 0.9010, 0.9011, 0.9010, 0.9011, 0.9010, 0.9010, 0.9011,\n",
              "         0.9011, 0.9011, 0.9010, 0.9010, 0.9010, 0.9010, 0.9010, 0.9011, 0.9011,\n",
              "         0.9011, 0.9009, 0.9009, 0.9011, 0.9011, 0.9011, 0.9011, 0.9011, 0.9011,\n",
              "         0.9010, 0.9010, 0.9011, 0.9010, 0.9012, 0.9010, 0.9011, 0.9010, 0.9011,\n",
              "         0.9010, 0.9011, 0.9010, 0.9014, 0.9010, 0.9010, 0.9010, 0.9010, 0.9010,\n",
              "         0.9010, 0.9011, 0.9010, 0.9010, 0.9012, 0.9011, 0.9011, 0.9011, 0.9011,\n",
              "         0.9011, 0.9010, 0.9011, 0.9012, 0.9010, 0.9011, 0.9010, 0.9010, 0.9011,\n",
              "         0.9009, 0.9017, 0.9010, 0.9009, 0.9010, 0.9010, 0.9013, 0.9011, 0.9010,\n",
              "         0.9010, 0.9010, 0.9010, 0.9010, 0.9010, 0.9010, 0.9010, 0.9010, 0.9014,\n",
              "         0.9011, 0.9010, 0.9010, 0.9010, 0.9011, 0.9010, 0.9011, 0.9010, 0.9010,\n",
              "         0.9010, 0.9011, 0.9010, 0.9010, 0.9011, 0.9010, 0.9010, 0.9010, 0.9010,\n",
              "         0.9009, 0.9011, 0.9010, 0.9010, 0.9010, 0.9011, 0.9011, 0.9010, 0.9012,\n",
              "         0.9013, 0.9010]], device='cuda:0', requires_grad=True)"
            ]
          },
          "metadata": {},
          "execution_count": 44
        }
      ],
      "source": [
        "model.filter"
      ]
    },
    {
      "cell_type": "markdown",
      "metadata": {
        "id": "SCxJtjewYuCf"
      },
      "source": [
        "# **Self supervision**\n",
        "We tried to pretrain on an auxillary tasks and then fine tune on the target task, but the results were worse when pretraining."
      ]
    },
    {
      "cell_type": "code",
      "execution_count": null,
      "metadata": {
        "id": "-ebPBK-KZpeI"
      },
      "outputs": [],
      "source": [
        "all_data = []\n",
        "for i in range(len(dataset)):\n",
        "  all_data.append(dataset[i].x.numpy())\n",
        "\n",
        "all_data = np.concatenate(all_data,axis=0)\n",
        "mean, std = all_data.mean(), all_data.std()"
      ]
    },
    {
      "cell_type": "code",
      "execution_count": null,
      "metadata": {
        "id": "KSDzgAOeYowY",
        "colab": {
          "base_uri": "https://localhost:8080/"
        },
        "outputId": "62d8be71-3182-4e70-e6ee-56652762d63b"
      },
      "outputs": [
        {
          "output_type": "stream",
          "name": "stderr",
          "text": [
            "100%|██████████| 10000/10000 [1:50:07<00:00,  1.51it/s]\n"
          ]
        }
      ],
      "source": [
        "mean = all_data.mean(axis=0)\n",
        "cov = np.cov(all_data, rowvar=False)\n",
        "def sample_vals(n = 16):\n",
        "    # Generate samples\n",
        "    return np.random.multivariate_normal(mean, cov, n*200).reshape((n, 200, 200))\n",
        "\n",
        "labels = []\n",
        "graphs = []\n",
        "\n",
        "for _ in tqdm(range(10000)):\n",
        "    sample = sample_vals(1)[0]\n",
        "    upper_triangle_indices = np.triu_indices(200, k=1)\n",
        "    lower_triangle_indices = upper_triangle_indices[1],upper_triangle_indices[0]\n",
        "    sample[lower_triangle_indices] = sample[upper_triangle_indices]\n",
        "    np.fill_diagonal(sample, 0)\n",
        "\n",
        "    graphs.append(sample)\n",
        "    G = nx.from_numpy_matrix(np.matrix(sample), create_using=nx.Graph)\n",
        "    val1 = np.array(list(nx.eigenvector_centrality_numpy(G, weight=\"weight\").values()))\n",
        "    val2 = np.array(list(nx.katz_centrality_numpy(G, weight=\"weight\").values()))\n",
        "    val3 = np.array(list(nx.current_flow_closeness_centrality(G, weight=\"weight\").values()))\n",
        "    labels.append([val1, val2, val3])\n",
        "\n",
        "\n",
        "np.save(\"/content/drive/MyDrive/comp_bio/random_graphs.npy\", np.stack(graphs,axis=0))\n",
        "np.save(\"/content/drive/MyDrive/comp_bio/random_labels.npy\", np.stack(labels,axis=0))\n",
        "graphs = np.load(\"/content/drive/MyDrive/comp_bio/random_graphs.npy\")\n",
        "labels = np.load(\"/content/drive/MyDrive/comp_bio/random_labels.npy\")\n",
        "labels = (labels - labels.mean(axis=0)) / labels.std(axis=0)\n",
        "max_val = torch.Tensor(labels).quantile(.99).item()\n",
        "min_val = torch.Tensor(labels).quantile(.01).item()\n",
        "labels[labels>max_val] = max_val\n",
        "labels[labels<min_val] = min_val\n",
        "\n",
        "class CustomDataset(Dataset):\n",
        "    def __init__(self, graphs, labels):\n",
        "        super(CustomDataset, self).__init__()\n",
        "        self.graphs = graphs\n",
        "        self.labels = labels\n",
        "\n",
        "    def __len__(self):\n",
        "        return len(self.labels)\n",
        "\n",
        "    def __getitem__(self, idx):\n",
        "        adj = torch.Tensor(self.graphs[idx]).float()\n",
        "        y = torch.Tensor(self.labels[idx]).float()\n",
        "        num_nodes = 200\n",
        "        return adj,y\n",
        "\n",
        "num_test = int(len(labels) * 0.05)\n",
        "dataset1 = CustomDataset(graphs[num_test:], labels[num_test:])\n",
        "dataset2 = CustomDataset(graphs[:num_test], labels[:num_test])"
      ]
    },
    {
      "cell_type": "code",
      "execution_count": null,
      "metadata": {
        "id": "9h_CUSP4Yozc",
        "colab": {
          "base_uri": "https://localhost:8080/",
          "height": 332
        },
        "outputId": "07a675d0-98ca-4d98-abde-1a59733d2f10"
      },
      "outputs": [
        {
          "output_type": "error",
          "ename": "SecretNotFoundError",
          "evalue": "Secret NEPTUNE_SECRET does not exist.",
          "traceback": [
            "\u001b[0;31m---------------------------------------------------------------------------\u001b[0m",
            "\u001b[0;31mSecretNotFoundError\u001b[0m                       Traceback (most recent call last)",
            "\u001b[0;32m<ipython-input-47-b4229c49c71f>\u001b[0m in \u001b[0;36m<cell line: 67>\u001b[0;34m()\u001b[0m\n\u001b[1;32m     66\u001b[0m \u001b[0;34m\u001b[0m\u001b[0m\n\u001b[1;32m     67\u001b[0m run = neptune.init_run(project=\"LimitedSupervision/CompBio\",\n\u001b[0;32m---> 68\u001b[0;31m     api_token=userdata.get('NEPTUNE_SECRET'))\n\u001b[0m\u001b[1;32m     69\u001b[0m \u001b[0;34m\u001b[0m\u001b[0m\n\u001b[1;32m     70\u001b[0m \u001b[0mlr\u001b[0m \u001b[0;34m=\u001b[0m \u001b[0;36m5e-5\u001b[0m\u001b[0;34m\u001b[0m\u001b[0;34m\u001b[0m\u001b[0m\n",
            "\u001b[0;32m/usr/local/lib/python3.10/dist-packages/google/colab/userdata.py\u001b[0m in \u001b[0;36mget\u001b[0;34m(key)\u001b[0m\n\u001b[1;32m     51\u001b[0m     )\n\u001b[1;32m     52\u001b[0m   \u001b[0;32mif\u001b[0m \u001b[0;32mnot\u001b[0m \u001b[0mresp\u001b[0m\u001b[0;34m.\u001b[0m\u001b[0mget\u001b[0m\u001b[0;34m(\u001b[0m\u001b[0;34m'exists'\u001b[0m\u001b[0;34m,\u001b[0m \u001b[0;32mFalse\u001b[0m\u001b[0;34m)\u001b[0m\u001b[0;34m:\u001b[0m\u001b[0;34m\u001b[0m\u001b[0;34m\u001b[0m\u001b[0m\n\u001b[0;32m---> 53\u001b[0;31m     \u001b[0;32mraise\u001b[0m \u001b[0mSecretNotFoundError\u001b[0m\u001b[0;34m(\u001b[0m\u001b[0mkey\u001b[0m\u001b[0;34m)\u001b[0m\u001b[0;34m\u001b[0m\u001b[0;34m\u001b[0m\u001b[0m\n\u001b[0m\u001b[1;32m     54\u001b[0m   \u001b[0;32mif\u001b[0m \u001b[0;32mnot\u001b[0m \u001b[0mresp\u001b[0m\u001b[0;34m.\u001b[0m\u001b[0mget\u001b[0m\u001b[0;34m(\u001b[0m\u001b[0;34m'access'\u001b[0m\u001b[0;34m,\u001b[0m \u001b[0;32mFalse\u001b[0m\u001b[0;34m)\u001b[0m\u001b[0;34m:\u001b[0m\u001b[0;34m\u001b[0m\u001b[0;34m\u001b[0m\u001b[0m\n\u001b[1;32m     55\u001b[0m     \u001b[0;32mraise\u001b[0m \u001b[0mNotebookAccessError\u001b[0m\u001b[0;34m(\u001b[0m\u001b[0mkey\u001b[0m\u001b[0;34m)\u001b[0m\u001b[0;34m\u001b[0m\u001b[0;34m\u001b[0m\u001b[0m\n",
            "\u001b[0;31mSecretNotFoundError\u001b[0m: Secret NEPTUNE_SECRET does not exist."
          ]
        }
      ],
      "source": [
        "\n",
        "class CustomNetwork(torch.nn.Module):\n",
        "    def __init__(self, gnn, num_nodes=200, num_classes=2):\n",
        "        super(CustomNetwork, self).__init__()\n",
        "        self.gnn = gnn\n",
        "\n",
        "        d_token = 512\n",
        "        heads = 8\n",
        "        initialization = _TokenInitialization.from_str(\"uniform\")\n",
        "        self.transformer = nn.Sequential(\n",
        "            nn.Linear(200, d_token),\n",
        "            CLSToken(\n",
        "                d_token, initialization\n",
        "            ),\n",
        "            TransformerBlock(d_token, heads, 0, 0),\n",
        "            TransformerBlock(d_token, heads, 0, 0),\n",
        "            TransformerBlock(d_token, heads, 0, 0),\n",
        "            TransformerBlock(d_token, heads, 0, 0),\n",
        "            TransformerBlock(d_token, heads, 0, 0),\n",
        "            TransformerBlock(d_token, heads, 0, 0),\n",
        "            TransformerBlock(d_token, heads, 0, 0),\n",
        "            TransformerBlock(d_token, heads, 0, 0)\n",
        "        )\n",
        "\n",
        "        self.num_nodes = num_nodes\n",
        "\n",
        "        node_out_size = d_token\n",
        "        self.node_output = nn.ModuleList(\n",
        "            [nn.Sequential(\n",
        "                nn.Linear(node_out_size, node_out_size),\n",
        "                nn.ReLU(),\n",
        "                nn.Linear(node_out_size, node_out_size),\n",
        "                nn.ReLU(),\n",
        "                nn.Linear(node_out_size, 1)\n",
        "            ),\n",
        "            nn.Sequential(\n",
        "                nn.Linear(node_out_size, node_out_size),\n",
        "                nn.ReLU(),\n",
        "                nn.Linear(node_out_size, node_out_size),\n",
        "                nn.ReLU(),\n",
        "                nn.Linear(node_out_size, 1)\n",
        "            ),\n",
        "            nn.Sequential(\n",
        "                nn.Linear(node_out_size, node_out_size),\n",
        "                nn.ReLU(),\n",
        "                nn.Linear(node_out_size, node_out_size),\n",
        "                nn.ReLU(),\n",
        "                nn.Linear(node_out_size, 1)\n",
        "            )]\n",
        "        )\n",
        "\n",
        "        self.input_embed = nn.Sequential(\n",
        "            nn.Linear(200, 200),\n",
        "        )\n",
        "\n",
        "\n",
        "    def forward(self, x):\n",
        "        x = self.transformer(x)\n",
        "        node_tokens = x[:, :-1]\n",
        "        out_tensors = []\n",
        "        for out in self.node_output:\n",
        "            out_val = out(node_tokens)\n",
        "            out_tensors.append(out_val)\n",
        "\n",
        "        return out_tensors\n",
        "\n",
        "\n",
        "run = neptune.init_run(project=\"LimitedSupervision/CompBio\",\n",
        "    api_token=userdata.get('NEPTUNE_SECRET'))\n",
        "\n",
        "lr = 5e-5\n",
        "weight_decay = 0\n",
        "train_batch_size = 32\n",
        "test_batch_size = 32\n",
        "epochs = 100\n",
        "\n",
        "train_dataloader = torch_geometric.data.DataLoader(dataset1, batch_size=train_batch_size, shuffle=True)\n",
        "test_dataloader = torch_geometric.data.DataLoader(dataset2, batch_size=test_batch_size, shuffle=False)\n",
        "\n",
        "gcn = GCN(num_features, nodes_num, num_classes=2, pooling=\"sum\", num_layers = 8)\n",
        "model = CustomNetwork(gcn).to(device)\n",
        "optimizer = torch.optim.AdamW(model.parameters(), lr=lr, weight_decay=weight_decay)\n",
        "criterion = nn.MSELoss()\n",
        "\n",
        "device=\"cuda:0\"\n",
        "accs, aucs, macros = [], [], []\n",
        "epoch_num = epochs\n",
        "for i in range(epoch_num):\n",
        "    loss_all = 0\n",
        "    model.eval()\n",
        "    for j, (x, y) in enumerate(tqdm(train_dataloader)):\n",
        "        x = x.to(device)\n",
        "        y = y.to(device)\n",
        "        optimizer.zero_grad()\n",
        "        out = model(x)\n",
        "\n",
        "        loss = 0\n",
        "        for j in range(len(y[0])):\n",
        "            loss += criterion(out[j].reshape(-1), y[:, j].reshape(-1))/3\n",
        "\n",
        "        loss.backward()\n",
        "\n",
        "        optimizer.step()\n",
        "        loss_all += loss.item()\n",
        "\n",
        "        #if j>1:\n",
        "        #    break\n",
        "\n",
        "    epoch_loss = loss_all / len(train_dataloader.dataset)\n",
        "\n",
        "    print(f'(Train) | Epoch={i:03d}, loss={epoch_loss:.4f}')\n",
        "    run[\"train/loss\"].append(epoch_loss)\n",
        "\n",
        "    loss_all = 0\n",
        "    model.eval()\n",
        "    if (i + 1) % 1 == 0:\n",
        "        with torch.no_grad():\n",
        "            for j, (x, y) in enumerate(test_dataloader):\n",
        "                x = x.to(device)\n",
        "                y = y.to(device)\n",
        "                out = model(x)\n",
        "                loss = 0\n",
        "                for j in range(len(y[0])):\n",
        "                    loss += criterion(out[j].reshape(-1), y[:, j].reshape(-1))\n",
        "                    break\n",
        "                loss_all += loss.item()\n",
        "                #if j>1:\n",
        "                #    break\n",
        "        epoch_loss = loss_all / len(test_dataloader.dataset)\n",
        "\n",
        "        print(f'(Test) | Epoch={i:03d}, loss={epoch_loss:.4f}')\n",
        "        run[\"test/loss\"].append(epoch_loss)\n",
        "\n",
        "torch.save(model.state_dict(), \"model.pth\")\n",
        "stored_model = model"
      ]
    }
  ],
  "metadata": {
    "accelerator": "GPU",
    "colab": {
      "gpuType": "T4",
      "provenance": [],
      "collapsed_sections": [
        "5fUYHbjSRcOe",
        "3wCVSY6XVtx8",
        "yH7GeW9QVxYo",
        "LQIf4DsGWVCp",
        "edlvy1LYWg6u",
        "vmZcipeNsCTj",
        "rrKRQZE3eNYb",
        "lz63KqfCZqGq",
        "SCxJtjewYuCf"
      ]
    },
    "kernelspec": {
      "display_name": "Python 3",
      "name": "python3"
    },
    "language_info": {
      "name": "python"
    }
  },
  "nbformat": 4,
  "nbformat_minor": 0
}